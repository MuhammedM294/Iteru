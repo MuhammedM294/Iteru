{
 "cells": [
  {
   "cell_type": "code",
   "execution_count": 1,
   "id": "906c7aa4",
   "metadata": {},
   "outputs": [],
   "source": [
    "import ee\n",
    "ee.Initialize()\n",
    "from iteru import *\n",
    "from ipywidgets import *\n",
    "from ipyleaflet import GeoJSON\n",
    "import json"
   ]
  },
  {
   "cell_type": "code",
   "execution_count": 2,
   "id": "4dedaf7e",
   "metadata": {},
   "outputs": [
    {
     "data": {
      "application/vnd.jupyter.widget-view+json": {
       "model_id": "25eb528beee346b08d6308a88617e913",
       "version_major": 2,
       "version_minor": 0
      },
      "text/plain": [
       "Map(center=[27, 31], controls=(AttributionControl(options=['position', 'prefix'], position='bottomright'), Sea…"
      ]
     },
     "metadata": {},
     "output_type": "display_data"
    }
   ],
   "source": [
    "Map = Map()\n",
    "Map"
   ]
  },
  {
   "cell_type": "code",
   "execution_count": 3,
   "id": "4ad65386",
   "metadata": {},
   "outputs": [],
   "source": [
    "with open ('./examples/aoi.geojson') as file:\n",
    "    studyarea = json.load(file)\n",
    "aoi = ee.FeatureCollection(studyarea)"
   ]
  },
  {
   "cell_type": "code",
   "execution_count": 4,
   "id": "b8181ff6",
   "metadata": {},
   "outputs": [],
   "source": [
    "outDir = r\"D:/output\""
   ]
  },
  {
   "cell_type": "code",
   "execution_count": 5,
   "id": "6f09cac6",
   "metadata": {},
   "outputs": [],
   "source": [
    "startYear = 2016\n",
    "endYear = 2021\n",
    "startMonth = 1\n",
    "startDay = 1\n",
    "nDays = 150"
   ]
  },
  {
   "cell_type": "code",
   "execution_count": 6,
   "id": "1c9ee4e7",
   "metadata": {},
   "outputs": [],
   "source": [
    "import os \n",
    "if not os.path.exists(outDir):\n",
    "    os.makedirs(outDir)"
   ]
  },
  {
   "cell_type": "code",
   "execution_count": 7,
   "id": "4c913e78",
   "metadata": {},
   "outputs": [],
   "source": [
    "col = ee.ImageCollection(\"COPERNICUS/S2_SR\")"
   ]
  },
  {
   "cell_type": "code",
   "execution_count": null,
   "id": "01a2ab04",
   "metadata": {},
   "outputs": [],
   "source": []
  }
 ],
 "metadata": {
  "hide_input": false,
  "kernelspec": {
   "display_name": "Python 3 (ipykernel)",
   "language": "python",
   "name": "python3"
  },
  "language_info": {
   "codemirror_mode": {
    "name": "ipython",
    "version": 3
   },
   "file_extension": ".py",
   "mimetype": "text/x-python",
   "name": "python",
   "nbconvert_exporter": "python",
   "pygments_lexer": "ipython3",
   "version": "3.9.7"
  },
  "toc": {
   "base_numbering": 1,
   "nav_menu": {},
   "number_sections": true,
   "sideBar": true,
   "skip_h1_title": false,
   "title_cell": "Table of Contents",
   "title_sidebar": "Contents",
   "toc_cell": false,
   "toc_position": {},
   "toc_section_display": true,
   "toc_window_display": false
  }
 },
 "nbformat": 4,
 "nbformat_minor": 5
}
