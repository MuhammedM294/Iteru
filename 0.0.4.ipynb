{
 "cells": [
  {
   "cell_type": "code",
   "execution_count": 1,
   "id": "e829d462",
   "metadata": {},
   "outputs": [],
   "source": [
    "from iteru import *\n",
    "from ipywidgets import *\n",
    "ee.Initialize()"
   ]
  },
  {
   "cell_type": "code",
   "execution_count": 2,
   "id": "623615f6",
   "metadata": {},
   "outputs": [],
   "source": [
    "map = Map()"
   ]
  },
  {
   "cell_type": "code",
   "execution_count": 3,
   "id": "ecda3baa",
   "metadata": {},
   "outputs": [],
   "source": [
    "basemaps = Dropdown(\n",
    "                     options = basemaps,\n",
    "                     value = None,\n",
    "                     description = '',\n",
    "                     description_tooltip = 'Select Basemap',\n",
    "                     layout=Layout(width='200px'),\n",
    "                     style = {'description_width': 'initial'}\n",
    "               )\n",
    "\n",
    "terrain = Dropdown(\n",
    "                     options = terrain,\n",
    "                     value = None,\n",
    "                     description = '',\n",
    "                     description_tooltip = 'GEE Terrain Dataset',\n",
    "                     layout=Layout(width='200px'),\n",
    "                     style = {'description_width': 'initial'}\n",
    "             )"
   ]
  },
  {
   "cell_type": "code",
   "execution_count": 4,
   "id": "5852286c",
   "metadata": {},
   "outputs": [],
   "source": [
    "basemaps_button = ToggleButton(\n",
    "                               value = False, \n",
    "                               tooltip = 'Basemaps',\n",
    "                               icon = 'map',\n",
    "                               layout = Layout(width = '32px', height = '28px'),\n",
    "        )\n",
    "terrain_dataset_button = ToggleButton(\n",
    "                               value = False, \n",
    "                               tooltip = 'GEE Terrain Dataset',\n",
    "                               icon = 'server',\n",
    "                               layout = Layout(width = '32px', height = '28px'),\n",
    "        )\n",
    "TOC = ToggleButton(\n",
    "                               value = False, \n",
    "                               tooltip = 'Table of Contents',\n",
    "                               icon = 'archive',\n",
    "                               layout = Layout(width = '32px', height = '28px'),\n",
    "       )"
   ]
  },
  {
   "cell_type": "code",
   "execution_count": 5,
   "id": "72d71104",
   "metadata": {},
   "outputs": [],
   "source": [
    "basemap_tool = HBox([basemaps_button])\n",
    "terrain_dataset_tool = HBox([terrain_dataset_button])\n",
    "TOC_container = HBox([TOC])\n",
    "TOC_out = Output(layout={'border': '1px solid blue'})"
   ]
  },
  {
   "cell_type": "code",
   "execution_count": 6,
   "id": "8da6c0ae",
   "metadata": {},
   "outputs": [],
   "source": [
    "def basemap_tool_click(change):\n",
    "    if change.new:\n",
    "        basemap_tool.children = [basemaps_button,basemaps]\n",
    "    else:\n",
    "        basemap_tool.children = [basemaps_button]\n",
    "        \n",
    "        \n",
    "def terrain_tool_click(change):\n",
    "    if change.new:\n",
    "        terrain_dataset_tool.children = [terrain_dataset_button, terrain]\n",
    "    else:\n",
    "        terrain_dataset_tool.children = [terrain_dataset_button]\n",
    "        \n",
    "        \n",
    "def TOC_container_click(change):\n",
    "    if change.new:\n",
    "        TOC_container.children = [TOC,TOC_out]\n",
    "    else:\n",
    "        TOC_container.children = [TOC]      "
   ]
  },
  {
   "cell_type": "code",
   "execution_count": 7,
   "id": "a5a9288d",
   "metadata": {},
   "outputs": [],
   "source": [
    "TOC.observe(TOC_container_click, names = 'value')\n",
    "basemaps_button.observe(basemap_tool_click, names = 'value')\n",
    "terrain_dataset_button.observe(terrain_tool_click, names = 'value')"
   ]
  },
  {
   "cell_type": "code",
   "execution_count": 8,
   "id": "fa76429e",
   "metadata": {},
   "outputs": [],
   "source": [
    "basemap_tool_widget = AddWidget(widget = basemap_tool, position = 'topleft')\n",
    "terrain_dataset_tool_widget = AddWidget(widget = terrain_dataset_tool, position = 'topleft')\n",
    "TOC_widget = AddWidget(widget = TOC_container, position = 'topleft')"
   ]
  },
  {
   "cell_type": "code",
   "execution_count": 9,
   "id": "81c66d85",
   "metadata": {},
   "outputs": [],
   "source": [
    "map.add_control(basemap_tool_widget)\n",
    "map.add_control(terrain_dataset_tool_widget)\n",
    "map.add_control(TOC_widget )"
   ]
  },
  {
   "cell_type": "code",
   "execution_count": 10,
   "id": "ee139124",
   "metadata": {},
   "outputs": [],
   "source": [
    "def map_basemaps_widgets(change):\n",
    "        if change.new:\n",
    "            if change.new in map.layers:\n",
    "                pass\n",
    "            else:\n",
    "                layer = change.new\n",
    "                map.add_layer(layer)\n",
    "                       \n",
    "                close_button = Button(  \n",
    "                      value = False, \n",
    "                      tooltip = 'Remove This Layer',\n",
    "                      icon = 'window-close',\n",
    "                      layout = Layout(width = '32px', height = '28px'),   \n",
    "                )\n",
    "\n",
    "                layer_visibility = Checkbox(\n",
    "                      value = True, \n",
    "                      indent=False,\n",
    "                      layout = Layout(width = '15px')\n",
    "                )\n",
    "                \n",
    "                layer_name = Label(\n",
    "                                   value= change.new.name,\n",
    "                                   layout = Layout(width = '110px', height = '28px'),\n",
    "                                   tooltip = change.new.name\n",
    "                              )\n",
    "\n",
    "                opacity = FloatSlider(\n",
    "                                      value = 1,\n",
    "                                      min = 0,  \n",
    "                                      max = 1,\n",
    "                                      step = 0.1,\n",
    "                                      indent=False,            \n",
    "                               )\n",
    "                def change_layer_visibility(show_hide):\n",
    "                    change.new.visible = show_hide \n",
    "                    \n",
    "                def change_layer_opacity(Opacity):\n",
    "                    change.new.opacity = Opacity\n",
    "                        \n",
    "                def remove_layer(b):\n",
    "                    map.remove_layer(layer)\n",
    "                    close_button.close()\n",
    "                    opacity.close()\n",
    "                    layer_name.close()\n",
    "                    layer_visibility.close()\n",
    "                    \n",
    "                opacity_slider = interactive(change_layer_opacity,Opacity = opacity)\n",
    "                \n",
    "                visibility_checkbox = interactive(change_layer_visibility,show_hide = layer_visibility)\n",
    "                \n",
    "                with TOC_out:\n",
    "                    display(HBox([layer_visibility,layer_name,opacity, close_button]))\n",
    "                \n",
    "                \n",
    "                close_button.on_click(remove_layer)\n",
    "basemaps.observe(map_basemaps_widgets, names = 'value') "
   ]
  },
  {
   "cell_type": "code",
   "execution_count": 11,
   "id": "890ba5aa",
   "metadata": {},
   "outputs": [],
   "source": [
    "def add_terrain(change):\n",
    "    \n",
    "    if change.new:\n",
    "        if ee_tilelayer(change.new) in map.layers:\n",
    "            pass\n",
    "        \n",
    "        else:\n",
    "            \n",
    "            layer = ee_tilelayer(change.new, name = change.new.getInfo()['id'])\n",
    "        \n",
    "            map.add_layer(layer)\n",
    "            \n",
    "            close_button = Button(  \n",
    "                                value = False, \n",
    "                                tooltip = 'Remove This Layer',\n",
    "                                icon = 'window-close',\n",
    "                                layout = Layout(width = '32px', height = '28px'),   \n",
    "                               )\n",
    "\n",
    "            layer_visibility = Checkbox(\n",
    "                               value = True, \n",
    "                               indent=False,\n",
    "                               layout = Layout(width = '15px')\n",
    "                )\n",
    "                \n",
    "            layer_name = Label(\n",
    "                                   value= change.new.getInfo()['id'],\n",
    "                                   layout = Layout(width = '110px', height = '28px'),\n",
    "                                   tooltip = change.new.getInfo()['id']\n",
    "                              )\n",
    "                \n",
    "            \n",
    "            opacity = FloatSlider(\n",
    "                                      value = 1,\n",
    "                                      min = 0,  \n",
    "                                      max = 1,\n",
    "                                      step = 0.1,\n",
    "                                      indent=False,   \n",
    "                               )\n",
    "            terrain_close_button = close_button\n",
    "            terrain_visibility  = layer_visibility \n",
    "            def change_layer_visibility(show_hide):\n",
    "                \n",
    "                layer.visible = show_hide \n",
    "                    \n",
    "            def change_layer_opacity(Opacity):\n",
    "                layer.opacity = Opacity\n",
    "                        \n",
    "            def remove_layer(b):\n",
    "                map.remove_layer(layer)\n",
    "                close_button.close()\n",
    "                opacity.close()\n",
    "                layer_name.close()\n",
    "                layer_visibility.close()\n",
    "                \n",
    "            opacity_slider = interactive(change_layer_opacity,Opacity = opacity)\n",
    "                \n",
    "            visibility_checkbox = interactive(change_layer_visibility,show_hide = layer_visibility)\n",
    "                \n",
    "            with TOC_out:\n",
    "                \n",
    "                display(HBox([layer_visibility,layer_name,opacity, close_button]))\n",
    "                   \n",
    "            close_button.on_click(remove_layer)\n",
    "terrain.observe(add_terrain , names= 'value')"
   ]
  },
  {
   "cell_type": "code",
   "execution_count": 12,
   "id": "aca911e7",
   "metadata": {},
   "outputs": [
    {
     "data": {
      "application/vnd.jupyter.widget-view+json": {
       "model_id": "d2b8df2c85c4482f9e7e87d5261859f2",
       "version_major": 2,
       "version_minor": 0
      },
      "text/plain": [
       "Map(center=[37.501, -122.1899], controls=(AttributionControl(options=['position', 'prefix'], position='bottomr…"
      ]
     },
     "metadata": {},
     "output_type": "display_data"
    }
   ],
   "source": [
    "map.center = (37.5010, -122.1899)\n",
    "map"
   ]
  },
  {
   "cell_type": "code",
   "execution_count": 24,
   "id": "32be8216",
   "metadata": {},
   "outputs": [
    {
     "name": "stdout",
     "output_type": "stream",
     "text": [
      "Default extent: https://earthengine.googleapis.com/v1alpha/projects/earthengine-legacy/thumbnails/feac16a29d13a7cedba9d8822b6cb6a9-e69ab5d50da5c9c23d2dddf56e0a5372:getPixels\n"
     ]
    }
   ],
   "source": [
    "image = ee.Image('CGIAR/SRTM90_V4')\n",
    "thumbnail_1 = image.unmask(1000).getThumbURL({\n",
    "    'min': 0,\n",
    "    'max': 3000,\n",
    "    'dimensions': 5000,\n",
    "})\n",
    "print('Default extent:', thumbnail_1)\n",
    "\n"
   ]
  },
  {
   "cell_type": "code",
   "execution_count": 15,
   "id": "3a9dda25",
   "metadata": {},
   "outputs": [
    {
     "name": "stdout",
     "output_type": "stream",
     "text": [
      "Rectangle region and palette: https://earthengine.googleapis.com/v1alpha/projects/earthengine-legacy/thumbnails/8448f89c2d47ebae094eee7dab831526-b0584869acf873239e77687acdf2c9e6:getPixels\n"
     ]
    }
   ],
   "source": [
    "thumbnail_2 = image.getThumbURL({\n",
    "    'min': 0,\n",
    "    'max': 3000,\n",
    "    'palette': [\n",
    "        '00A600', '63C600', 'E6E600', 'E9BD3A', 'ECB176', 'EFC2B3', 'F2F2F2'\n",
    "    ],\n",
    "    'dimensions': 500,\n",
    "    'region': ee.Geometry.Rectangle([-84.6, -55.9, -32.9, 15.7]),\n",
    "})\n",
    "print('Rectangle region and palette:', thumbnail_2)"
   ]
  },
  {
   "cell_type": "code",
   "execution_count": 16,
   "id": "49ab07c7",
   "metadata": {},
   "outputs": [
    {
     "name": "stdout",
     "output_type": "stream",
     "text": [
      "Linear ring region and specified crs: https://earthengine.googleapis.com/v1alpha/projects/earthengine-legacy/thumbnails/2ae0abe54b49b74c936d54fb1d3692ad-6c78abafd51088a163baba89f29a6a66:getPixels\n"
     ]
    }
   ],
   "source": [
    "thumbnail_3 = image.getThumbURL({\n",
    "    'min': 0,\n",
    "    'max': 3000,\n",
    "    'palette': [\n",
    "        '00A600', '63C600', 'E6E600', 'E9BD3A', 'ECB176', 'EFC2B3', 'F2F2F2'\n",
    "    ],\n",
    "    'region':\n",
    "        ee.Geometry.LinearRing([[-84.6, 15.7], [-84.6, -55.9], [-32.9, -55.9]]),\n",
    "    'dimensions': 500,\n",
    "    'crs': 'EPSG:3857'\n",
    "})\n",
    "print('Linear ring region and specified crs:', thumbnail_3)"
   ]
  },
  {
   "cell_type": "code",
   "execution_count": null,
   "id": "353d1e22",
   "metadata": {},
   "outputs": [],
   "source": []
  }
 ],
 "metadata": {
  "hide_input": false,
  "kernelspec": {
   "display_name": "Python 3 (ipykernel)",
   "language": "python",
   "name": "python3"
  },
  "language_info": {
   "codemirror_mode": {
    "name": "ipython",
    "version": 3
   },
   "file_extension": ".py",
   "mimetype": "text/x-python",
   "name": "python",
   "nbconvert_exporter": "python",
   "pygments_lexer": "ipython3",
   "version": "3.9.7"
  },
  "toc": {
   "base_numbering": 1,
   "nav_menu": {},
   "number_sections": true,
   "sideBar": true,
   "skip_h1_title": false,
   "title_cell": "Table of Contents",
   "title_sidebar": "Contents",
   "toc_cell": false,
   "toc_position": {},
   "toc_section_display": true,
   "toc_window_display": false
  }
 },
 "nbformat": 4,
 "nbformat_minor": 5
}
