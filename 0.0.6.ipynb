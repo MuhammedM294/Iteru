{
 "cells": [
  {
   "cell_type": "code",
   "execution_count": 1,
   "id": "c361a08c",
   "metadata": {},
   "outputs": [],
   "source": [
    "import ee\n",
    "ee.Initialize()\n",
    "from iteru import *\n",
    "from ipywidgets import *\n",
    "from ipyleaflet import GeoJSON\n"
   ]
  },
  {
   "cell_type": "code",
   "execution_count": 2,
   "id": "bbad274e",
   "metadata": {},
   "outputs": [
    {
     "data": {
      "application/vnd.jupyter.widget-view+json": {
       "model_id": "be03683851b44d61aebdd63c6a89841b",
       "version_major": 2,
       "version_minor": 0
      },
      "text/plain": [
       "Map(center=[27, 31], controls=(AttributionControl(options=['position', 'prefix'], position='bottomright'), Sea…"
      ]
     },
     "metadata": {},
     "output_type": "display_data"
    }
   ],
   "source": [
    "Map = Map()\n",
    "Map"
   ]
  },
  {
   "cell_type": "code",
   "execution_count": 12,
   "id": "4b3c3834",
   "metadata": {},
   "outputs": [
    {
     "data": {
      "text/plain": [
       "{'type': 'Point', 'coordinates': [31.28364950000006, 30.013583312120794]}"
      ]
     },
     "execution_count": 12,
     "metadata": {},
     "output_type": "execute_result"
    }
   ],
   "source": [
    "Map.aoi.centroid().getInfo()"
   ]
  },
  {
   "cell_type": "code",
   "execution_count": null,
   "id": "0239e237",
   "metadata": {},
   "outputs": [],
   "source": [
    "Map.zoom_to()"
   ]
  }
 ],
 "metadata": {
  "hide_input": false,
  "kernelspec": {
   "display_name": "Python 3",
   "language": "python",
   "name": "python3"
  },
  "language_info": {
   "codemirror_mode": {
    "name": "ipython",
    "version": 3
   },
   "file_extension": ".py",
   "mimetype": "text/x-python",
   "name": "python",
   "nbconvert_exporter": "python",
   "pygments_lexer": "ipython3",
   "version": "3.8.8"
  },
  "toc": {
   "base_numbering": 1,
   "nav_menu": {},
   "number_sections": true,
   "sideBar": true,
   "skip_h1_title": false,
   "title_cell": "Table of Contents",
   "title_sidebar": "Contents",
   "toc_cell": false,
   "toc_position": {},
   "toc_section_display": true,
   "toc_window_display": false
  }
 },
 "nbformat": 4,
 "nbformat_minor": 5
}
