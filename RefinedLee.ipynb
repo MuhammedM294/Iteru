{
 "cells": [
  {
   "cell_type": "code",
   "execution_count": 1,
   "id": "2a5f7ef1",
   "metadata": {},
   "outputs": [],
   "source": [
    "import ee\n",
    "ee.Initialize()"
   ]
  },
  {
   "cell_type": "code",
   "execution_count": 2,
   "id": "48f54d2a",
   "metadata": {},
   "outputs": [],
   "source": [
    "from iteru import *"
   ]
  },
  {
   "cell_type": "code",
   "execution_count": 3,
   "id": "4d9226a6",
   "metadata": {},
   "outputs": [
    {
     "data": {
      "application/vnd.jupyter.widget-view+json": {
       "model_id": "e4bbb9b4c1fd4e96b7afaddf0bf4a6d0",
       "version_major": 2,
       "version_minor": 0
      },
      "text/plain": [
       "Map(center=[27, 31], controls=(AttributionControl(options=['position', 'prefix'], position='bottomright'), Sea…"
      ]
     },
     "metadata": {},
     "output_type": "display_data"
    }
   ],
   "source": [
    "Map = Map()\n",
    "Map"
   ]
  },
  {
   "cell_type": "code",
   "execution_count": 4,
   "id": "2ee53921",
   "metadata": {},
   "outputs": [],
   "source": [
    "aoi = GERD_aoi"
   ]
  },
  {
   "cell_type": "code",
   "execution_count": 5,
   "id": "54114ace",
   "metadata": {},
   "outputs": [],
   "source": [
    "SAR = SAR = ee.ImageCollection('COPERNICUS/S1_GRD')\\\n",
    "    .filter(ee.Filter.equals('relativeOrbitNumber_start', 50))\\\n",
    "    .filter(ee.Filter.eq('instrumentMode', 'IW'))\\\n",
    "    .filter(ee.Filter.eq('orbitProperties_pass', 'DESCENDING'))\\\n",
    "    .filter(ee.Filter.listContains('transmitterReceiverPolarisation', 'VH'))\\\n",
    "    .filter(ee.Filter.listContains('transmitterReceiverPolarisation', 'VV'))\\\n",
    "    .filter(ee.Filter.eq('resolution_meters',10))\\\n",
    "    .filterBounds(aoi)\\\n",
    "    .filterDate('2022-01-01','2022-03-10')\\\n",
    "    .select(['VV','VH']).median()"
   ]
  },
  {
   "cell_type": "code",
   "execution_count": 6,
   "id": "6af9f701",
   "metadata": {},
   "outputs": [],
   "source": [
    "Map.add_layer_widgets(SAR,{'min':-31,'max':5,'bands':['VH']},'SAR')"
   ]
  },
  {
   "cell_type": "code",
   "execution_count": null,
   "id": "a889611f",
   "metadata": {},
   "outputs": [],
   "source": [
    "# def toDB (img):\n",
    "#     return ee.Image(img).log10().multiply(10.0)"
   ]
  },
  {
   "cell_type": "code",
   "execution_count": null,
   "id": "5a19757e",
   "metadata": {},
   "outputs": [],
   "source": [
    "# def toNatural(img):\n",
    "#     return ee.Image(10.0).pow(img.select(0).divide(10.0))"
   ]
  },
  {
   "cell_type": "code",
   "execution_count": null,
   "id": "a0c7e811",
   "metadata": {},
   "outputs": [],
   "source": [
    "# def RefinedLee(img):\n",
    "    \n",
    "#     weights3 = ee.List.repeat(ee.List.repeat(1,3),3)\n",
    "#     kernel3 = ee.Kernel.fixed(3,3, weights3, 1, 1, False)\n",
    "    \n",
    "    \n",
    "#     mean3 = img.reduceNeighborhood(ee.Reducer.mean(), kernel3)\n",
    "#     variance3 = img.reduceNeighborhood(ee.Reducer.variance(), kernel3)\n",
    "    \n",
    "    \n",
    "#     sample_weights = ee.List([[0,0,0,0,0,0,0], [0,1,0,1,0,1,0],[0,0,0,0,0,0,0],\n",
    "#                               [0,1,0,1,0,1,0], [0,0,0,0,0,0,0], [0,1,0,1,0,1,0],\n",
    "#                               [0,0,0,0,0,0,0]])\n",
    "#     sample_kernel = ee.Kernel.fixed(7,7, sample_weights, 3,3, False)\n",
    "    \n",
    "    \n",
    "#     sample_mean = mean3.neighborhoodToBands(sample_kernel)\n",
    "#     sample_var = variance3.neighborhoodToBands(sample_kernel)\n",
    "    \n",
    "#     gradients = sample_mean.select(1).subtract(sample_mean.select(7)).abs()\n",
    "#     gradients = gradients.addBands(sample_mean.select(6).subtract(sample_mean.select(2)).abs())\n",
    "#     gradients = gradients.addBands(sample_mean.select(3).subtract(sample_mean.select(5)).abs())\n",
    "#     gradients = gradients.addBands(sample_mean.select(0).subtract(sample_mean.select(8)).abs())\n",
    "    \n",
    "    \n",
    "#     max_gradient = gradients.reduce(ee.Reducer.max())\n",
    "#     gradmask = gradients.eq(max_gradient)\n",
    "#     gradmask = gradmask.addBands(gradmask)\n",
    "    \n",
    "#     directions = sample_mean.select(1).subtract(sample_mean.select(4)).gt(sample_mean.select(4).subtract(sample_mean.select(7))).multiply(1)\n",
    "#     directions = directions.addBands(sample_mean.select(6).subtract(sample_mean.select(4)).gt(sample_mean.select(4).subtract(sample_mean.select(2))).multiply(2))\n",
    "#     directions = directions.addBands(sample_mean.select(3).subtract(sample_mean.select(4)).gt(sample_mean.select(4).subtract(sample_mean.select(5))).multiply(3))\n",
    "#     directions = directions.addBands(sample_mean.select(0).subtract(sample_mean.select(4)).gt(sample_mean.select(4).subtract(sample_mean.select(8))).multiply(4))\n",
    "    \n",
    "#     directions = directions.addBands(directions.select(0).Not().multiply(5))\n",
    "#     directions = directions.addBands(directions.select(1).Not().multiply(6))\n",
    "#     directions = directions.addBands(directions.select(2).Not().multiply(7))\n",
    "#     directions = directions.addBands(directions.select(3).Not().multiply(8))\n",
    "    \n",
    "    \n",
    "#     directions = directions.updateMask(gradmask)\n",
    "#     directions = directions.reduce(ee.Reducer.sum())\n",
    "    \n",
    "    \n",
    "#     sample_stats = sample_var.divide(sample_mean.multiply(sample_mean))\n",
    "#     sigmaV = sample_stats.toArray().arraySort().arraySlice(0,0,5).arrayReduce(ee.Reducer.mean(), [0])\n",
    "    \n",
    "#     rect_weights = ee.List.repeat(ee.List.repeat(0,7),3).cat(ee.List.repeat(ee.List.repeat(1,7),4))\n",
    "    \n",
    "#     diag_weights = ee.List([[1,0,0,0,0,0,0], [1,1,0,0,0,0,0], [1,1,1,0,0,0,0], \n",
    "#     [1,1,1,1,0,0,0], [1,1,1,1,1,0,0], [1,1,1,1,1,1,0], [1,1,1,1,1,1,1]])\n",
    "    \n",
    "#     rect_kernel = ee.Kernel.fixed(7,7, rect_weights, 3, 3, False)\n",
    "#     diag_kernel = ee.Kernel.fixed(7,7, diag_weights, 3, 3, False)\n",
    "    \n",
    "#     dir_mean = img.reduceNeighborhood(ee.Reducer.mean(), rect_kernel).updateMask(directions.eq(1))\n",
    "#     dir_var = img.reduceNeighborhood(ee.Reducer.variance(), rect_kernel).updateMask(directions.eq(1))\n",
    "    \n",
    "#     dir_mean = dir_mean.addBands(img.reduceNeighborhood(ee.Reducer.mean(), diag_kernel).updateMask(directions.eq(2)))\n",
    "#     dir_var = dir_var.addBands(img.reduceNeighborhood(ee.Reducer.variance(), diag_kernel).updateMask(directions.eq(2)))\n",
    "    \n",
    "    \n",
    "#     for i in range(1,4): \n",
    "#         dir_mean = dir_mean.addBands(img.reduceNeighborhood(ee.Reducer.mean(), rect_kernel.rotate(i)).updateMask(directions.eq(2*i+1)))\n",
    "#         dir_var = dir_var.addBands(img.reduceNeighborhood(ee.Reducer.variance(), rect_kernel.rotate(i)).updateMask(directions.eq(2*i+1)))\n",
    "#         dir_mean = dir_mean.addBands(img.reduceNeighborhood(ee.Reducer.mean(), diag_kernel.rotate(i)).updateMask(directions.eq(2*i+2)))\n",
    "#         dir_var = dir_var.addBands(img.reduceNeighborhood(ee.Reducer.variance(), diag_kernel.rotate(i)).updateMask(directions.eq(2*i+2)))\n",
    "    \n",
    "#     dir_mean = dir_mean.reduce(ee.Reducer.sum())\n",
    "#     dir_var = dir_var.reduce(ee.Reducer.sum())\n",
    "    \n",
    "#     varX = dir_var.subtract(dir_mean.multiply(dir_mean).multiply(sigmaV)).divide(sigmaV.add(1.0))\n",
    "#     b = varX.divide(dir_var)\n",
    "    \n",
    "#     result = dir_mean.add(b.multiply(img.subtract(dir_mean)))\n",
    "    \n",
    "#     return(result.arrayFlatten([['sum']]))"
   ]
  },
  {
   "cell_type": "code",
   "execution_count": 7,
   "id": "0fd60fea",
   "metadata": {},
   "outputs": [],
   "source": [
    "SS = ee.Image(toDB(RefinedLee(toNatural(SAR))))"
   ]
  },
  {
   "cell_type": "code",
   "execution_count": 8,
   "id": "b45456d7",
   "metadata": {},
   "outputs": [],
   "source": [
    "Map.add_layer_widgets(SS,{'min':-31,'max':5,'bands':['sum']},'SAR')"
   ]
  },
  {
   "cell_type": "code",
   "execution_count": null,
   "id": "ba2970ad",
   "metadata": {},
   "outputs": [],
   "source": []
  }
 ],
 "metadata": {
  "hide_input": false,
  "kernelspec": {
   "display_name": "Python 3 (ipykernel)",
   "language": "python",
   "name": "python3"
  },
  "language_info": {
   "codemirror_mode": {
    "name": "ipython",
    "version": 3
   },
   "file_extension": ".py",
   "mimetype": "text/x-python",
   "name": "python",
   "nbconvert_exporter": "python",
   "pygments_lexer": "ipython3",
   "version": "3.9.10"
  },
  "toc": {
   "base_numbering": 1,
   "nav_menu": {},
   "number_sections": true,
   "sideBar": true,
   "skip_h1_title": false,
   "title_cell": "Table of Contents",
   "title_sidebar": "Contents",
   "toc_cell": false,
   "toc_position": {},
   "toc_section_display": true,
   "toc_window_display": false
  }
 },
 "nbformat": 4,
 "nbformat_minor": 5
}
