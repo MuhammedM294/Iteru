{
 "cells": [
  {
   "cell_type": "code",
   "execution_count": null,
   "id": "ed6c67d9",
   "metadata": {},
   "outputs": [],
   "source": [
    "import ee\n",
    "ee.Initialize ()"
   ]
  },
  {
   "cell_type": "code",
   "execution_count": null,
   "id": "28ab0d59",
   "metadata": {},
   "outputs": [],
   "source": [
    "from iteru import *\n",
    "from IPython.display import display\n",
    "import ipywidgets\n",
    "import datetime"
   ]
  },
  {
   "cell_type": "code",
   "execution_count": null,
   "id": "cbdca43a",
   "metadata": {},
   "outputs": [],
   "source": [
    "Map = Map()\n",
    "Map"
   ]
  },
  {
   "cell_type": "code",
   "execution_count": null,
   "id": "97bb90bc",
   "metadata": {},
   "outputs": [],
   "source": [
    "aoi = GERD_aoi_dam"
   ]
  },
  {
   "cell_type": "code",
   "execution_count": null,
   "id": "d6b070d0",
   "metadata": {},
   "outputs": [],
   "source": [
    "start_year = 2022\n",
    "start_month = 4\n",
    "start_day = 1\n",
    "end_year = 2022\n",
    "end_month = 4\n",
    "end_day = 30\n",
    "time_delta = 30\n",
    "water_threshold = -25.5"
   ]
  },
  {
   "cell_type": "code",
   "execution_count": null,
   "id": "74e6457a",
   "metadata": {},
   "outputs": [],
   "source": [
    "start_date = datetime.date(start_year,start_month,start_day)\n",
    "end_date = datetime.date(end_year,end_month,end_day)\n",
    "ee_start_date = f'{start_year}-{start_month}-{start_day}'\n",
    "ee_end_date = f'{end_year}-{end_month}-{end_day}'"
   ]
  },
  {
   "cell_type": "code",
   "execution_count": null,
   "id": "32a5cce4",
   "metadata": {},
   "outputs": [],
   "source": [
    "dates_list = get_dates_sequence(start_date ,end_date, time_delta)"
   ]
  },
  {
   "cell_type": "code",
   "execution_count": null,
   "id": "64b786ac",
   "metadata": {},
   "outputs": [],
   "source": [
    "SAR = ee.ImageCollection('COPERNICUS/S1_GRD')\\\n",
    "    .filter(ee.Filter.equals('relativeOrbitNumber_start', 50))\\\n",
    "    .filter(ee.Filter.eq('instrumentMode', 'IW'))\\\n",
    "    .filter(ee.Filter.eq('orbitProperties_pass', 'DESCENDING'))\\\n",
    "    .filter(ee.Filter.listContains('transmitterReceiverPolarisation', 'VH'))\\\n",
    "    .filter(ee.Filter.listContains('transmitterReceiverPolarisation', 'VV'))\\\n",
    "    .filter(ee.Filter.eq('resolution_meters',10))\\\n",
    "    .filterBounds(aoi)\\\n",
    "    .filterDate(ee_start_date,ee_end_date)\\\n",
    "    .select(['VV','VH'])"
   ]
  },
  {
   "cell_type": "code",
   "execution_count": null,
   "id": "728aafbe",
   "metadata": {},
   "outputs": [],
   "source": [
    "SAR = SAR.map(addRatioBand)"
   ]
  },
  {
   "cell_type": "code",
   "execution_count": null,
   "id": "52c4b64b",
   "metadata": {},
   "outputs": [],
   "source": [
    "def filterSpeckles(img):\n",
    "    \n",
    "    VV_smooth = img.select('VH').focal_median(100,'circle','meters').rename('VH_Filtered')\n",
    "    \n",
    "    return img.addBands(VV_smooth)"
   ]
  },
  {
   "cell_type": "code",
   "execution_count": null,
   "id": "34e3da55",
   "metadata": {},
   "outputs": [],
   "source": [
    "# def apply_RefinedLee(img):\n",
    "    \n",
    "#     VH_Filtered = ee.Image(toDB(RefinedLee(toNatural(img.select(['VH']))))).rename('VH_Filtered')\n",
    "    \n",
    "#     return img.addBands(VH_Filtered)"
   ]
  },
  {
   "cell_type": "code",
   "execution_count": null,
   "id": "bb85f39f",
   "metadata": {},
   "outputs": [],
   "source": [
    "SAR = SAR.map(filterSpeckles)"
   ]
  },
  {
   "cell_type": "code",
   "execution_count": null,
   "id": "eb7b2896",
   "metadata": {},
   "outputs": [],
   "source": [
    "# SAR = SAR.map(apply_RefinedLee)"
   ]
  },
  {
   "cell_type": "code",
   "execution_count": null,
   "id": "ec057a49",
   "metadata": {},
   "outputs": [],
   "source": [
    "def addOtsuThreshold(img):\n",
    "    \n",
    "    histogram = img.select('VH_Filtered').reduceRegion(               \n",
    "            reducer = ee.Reducer.histogram().combine('mean', None, True).combine('variance', None, True),\n",
    "            geometry = aoi, \n",
    "            scale = 10,\n",
    "            bestEffort = True  \n",
    "                              )\n",
    "    otsu_threshold = otsu(histogram.get('VH_Filtered_histogram'))\n",
    "    \n",
    "    water_mask = img.select('VH_Filtered').lt(otsu_threshold).selfMask().rename('water_mask')\n",
    "    \n",
    "    \n",
    "    return img.addBands(water_mask).set({\"otsu_threshold\": otsu_threshold})\n",
    "      "
   ]
  },
  {
   "cell_type": "code",
   "execution_count": null,
   "id": "db1017f8",
   "metadata": {},
   "outputs": [],
   "source": [
    "SAR = SAR.map(addOtsuThreshold)"
   ]
  },
  {
   "cell_type": "code",
   "execution_count": null,
   "id": "36a024ea",
   "metadata": {},
   "outputs": [],
   "source": [
    "SAR.aggregate_array('otsu_threshold').getInfo()"
   ]
  },
  {
   "cell_type": "code",
   "execution_count": null,
   "id": "0fd086f9",
   "metadata": {},
   "outputs": [],
   "source": [
    "def water_classify_threshold(col, threshold):\n",
    "    \n",
    "    \n",
    "    def water_classify(img):\n",
    "        \n",
    "        VH_Filtered  = img.select('VH_Filtered')\n",
    "        water = VH_Filtered.lt(threshold).rename('Water')\n",
    "        water_mask = water.updateMask(water).rename('water_mask')\n",
    "        \n",
    "        return img.addBands([water,water_mask])\n",
    "    \n",
    "    return col.map(water_classify)\n",
    "    "
   ]
  },
  {
   "cell_type": "code",
   "execution_count": null,
   "id": "8033c018",
   "metadata": {},
   "outputs": [],
   "source": [
    "SAR = water_classify_threshold(SAR, threshold = -24)"
   ]
  },
  {
   "cell_type": "code",
   "execution_count": null,
   "id": "6a9a2fa0",
   "metadata": {},
   "outputs": [],
   "source": [
    "# def rgb_w_water_mask(img):\n",
    "    \n",
    "#     img_rgb = img.visualize(**{'min':[-25,-25,0],'max':[0,0,2],'bands':['VV','VH','VV/VH']})\n",
    "    \n",
    "#     water_vis = img.select('Water_mask').visualize(**{'min': 0.5,'max': 1,'palette': ['00FFFF', '0000FF']})\n",
    "                  \n",
    "#     mosaic = ee.ImageCollection([img_rgb,water_vis]).mosaic()\n",
    " \n",
    "#     return mosaic.copyProperties(img, img.propertyNames())\n"
   ]
  },
  {
   "cell_type": "code",
   "execution_count": null,
   "id": "b0618690",
   "metadata": {},
   "outputs": [],
   "source": [
    "# SAR = SAR.map(rgb_w_water_mask)"
   ]
  },
  {
   "cell_type": "code",
   "execution_count": null,
   "id": "5401b862",
   "metadata": {},
   "outputs": [],
   "source": [
    "# Map.add_layer_widgets(SAR,{'bands':'VV_Filtered_median','min':-25,'max':5},'TEST_SAR')"
   ]
  },
  {
   "cell_type": "code",
   "execution_count": null,
   "id": "7cd66bcc",
   "metadata": {},
   "outputs": [],
   "source": [
    "# Map.add_layer_widgets(z,{'bands':'Water_mask_median','palette': ['00FFFF', '0000FF']},'TEST_SAR_WATER_MASK')"
   ]
  },
  {
   "cell_type": "code",
   "execution_count": null,
   "id": "4d749966",
   "metadata": {},
   "outputs": [],
   "source": [
    "# Map.add_layer_widgets(SAR,{'min':[-25,-25,0],'max':[0,0,2],'bands':['VV','VH','VV/VH']},'SAR')"
   ]
  },
  {
   "cell_type": "code",
   "execution_count": null,
   "id": "97368e4a",
   "metadata": {},
   "outputs": [],
   "source": [
    "def get_images(day_date):\n",
    "    \n",
    "    start_day = ee.Date(day_date)\n",
    "    end_day = start_day.advance(time_delta,'day')\n",
    "    \n",
    "    return SAR.filterDate(start_day,end_day).median()\\\n",
    "          .set({'start_day':start_day.format('YYYY-MM-dd')})\\\n",
    "          .set({'end_day':end_day.format('YYYY-MM-dd')})"
   ]
  },
  {
   "cell_type": "code",
   "execution_count": null,
   "id": "03c863fd",
   "metadata": {},
   "outputs": [],
   "source": [
    "images = ee.List(dates_list).map(get_images)"
   ]
  },
  {
   "cell_type": "code",
   "execution_count": null,
   "id": "f77afd78",
   "metadata": {},
   "outputs": [],
   "source": [
    "collection = ee.ImageCollection.fromImages(images)"
   ]
  },
  {
   "cell_type": "code",
   "execution_count": null,
   "id": "5499f262",
   "metadata": {},
   "outputs": [],
   "source": [
    "# z = collection.filter(ee.Filter.eq('start_day','2021-08-25'))"
   ]
  },
  {
   "cell_type": "code",
   "execution_count": null,
   "id": "dbf289f2",
   "metadata": {},
   "outputs": [],
   "source": [
    "videoArgs = {\n",
    "  'dimensions': 900 ,\n",
    "  'region': aoi,\n",
    "  'framesPerSecond':2,\n",
    "  'crs': 'EPSG:3857',\n",
    "#   'min':[-25,-25,0],\n",
    "#   'max':[0,0,5],\n",
    "#   'bands':['VV','VH','VV/VH']\n",
    "#   'min':[-25],\n",
    "#   'max':[0],\n",
    "#   'bands':['VV']\n",
    "  'bands':['water_mask'],\n",
    "  'palette': ['00FFFF', '0000FF'],\n",
    "#   'palette':None,\n",
    "#   'min':[0.5],\n",
    "#     'max':[1],\n",
    "#   'bands':['vis-red','vis-green','vis-blue'],\n",
    "#    'min':0,\n",
    "#    'max':255\n",
    "   \n",
    "     }"
   ]
  },
  {
   "cell_type": "code",
   "execution_count": null,
   "id": "e1dbc7cf",
   "metadata": {},
   "outputs": [],
   "source": [
    "url = collection.getVideoThumbURL(videoArgs)"
   ]
  },
  {
   "cell_type": "code",
   "execution_count": null,
   "id": "e6548dce",
   "metadata": {},
   "outputs": [],
   "source": [
    "out_gif = get_gif(url)"
   ]
  },
  {
   "cell_type": "code",
   "execution_count": null,
   "id": "18f12bd8",
   "metadata": {},
   "outputs": [],
   "source": [
    "add_text_to_gif(out_gif,dates_list, dates_font_size = 25, dates_font_color = 'white', framesPerSecond = 2 )"
   ]
  },
  {
   "cell_type": "code",
   "execution_count": null,
   "id": "a487b915",
   "metadata": {},
   "outputs": [],
   "source": [
    "display_gif(out_gif)"
   ]
  },
  {
   "cell_type": "code",
   "execution_count": null,
   "id": "202a6e3c",
   "metadata": {},
   "outputs": [],
   "source": [
    "def calc_area(feature):\n",
    "    \n",
    "    area = feature.geometry().area(maxError = 1)\n",
    "    \n",
    "    return feature.set({'Area':area})"
   ]
  },
  {
   "cell_type": "code",
   "execution_count": null,
   "id": "f96ea01e",
   "metadata": {},
   "outputs": [],
   "source": [
    "def water_to_vector(img):\n",
    "    \n",
    "    water_mask = img.select('water_mask').clip(aoi)\n",
    "    \n",
    "    feature = ee.Image(1).updateMask(water_mask).reduceToVectors(\n",
    "           geometry = water_mask.geometry(),\n",
    "           crs ='EPSG:32636',\n",
    "           scale = 10 , \n",
    "           geometryType = 'polygon',\n",
    "           eightConnected = False,\n",
    "           labelProperty =  'water_cover',\n",
    "           bestEffort = True\n",
    "          )\n",
    "    feature = feature.map(calc_area)\n",
    "    \n",
    "    lake_feature = feature.sort('Area', False).first()\n",
    "    \n",
    "    lake_area = lake_feature.geometry().area(maxError = 1) \n",
    "    \n",
    "    return ee.FeatureCollection(lake_feature).set({'Area':lake_area})\\\n",
    "           .copyProperties(img, img.propertyNames())\\\n",
    "           .copyProperties(lake_feature, lake_feature.propertyNames())\n",
    "    "
   ]
  },
  {
   "cell_type": "code",
   "execution_count": null,
   "id": "6952f2cf",
   "metadata": {},
   "outputs": [],
   "source": [
    "water_vectors = collection.map(water_to_vector)"
   ]
  },
  {
   "cell_type": "code",
   "execution_count": null,
   "id": "6a754212",
   "metadata": {},
   "outputs": [],
   "source": [
    "# water_vectors = SAR.map(water_to_vector)"
   ]
  },
  {
   "cell_type": "code",
   "execution_count": null,
   "id": "34449464",
   "metadata": {},
   "outputs": [],
   "source": [
    "water_area = [area /(1e6) for area in water_vectors.aggregate_array('Area').getInfo()]"
   ]
  },
  {
   "cell_type": "code",
   "execution_count": null,
   "id": "13313cb6",
   "metadata": {},
   "outputs": [],
   "source": [
    "import matplotlib.pyplot as plt"
   ]
  },
  {
   "cell_type": "code",
   "execution_count": null,
   "id": "a2ffd2a5",
   "metadata": {},
   "outputs": [],
   "source": [
    "plt.style.use('fivethirtyeight')\n",
    "f = plt.figure()\n",
    "f.set_figwidth(10)\n",
    "f.set_figheight(7)\n",
    "plt.xlabel('Sentinel-1 Image date',fontsize=18)\n",
    "plt.ylabel('Water Surface Area (km^2)',fontsize=20)\n",
    "plt.grid(True)\n",
    "plt.xticks(rotation=45)\n",
    "plt.plot(dates_list,water_area,label ='Water Surface Area')\n",
    "plt.legend()\n",
    "plt.gcf().set_size_inches(18.5,10.5)"
   ]
  },
  {
   "cell_type": "code",
   "execution_count": null,
   "id": "b29546b8",
   "metadata": {},
   "outputs": [],
   "source": [
    "elevation_dataset = ee.ImageCollection('JAXA/ALOS/AW3D30/V3_2')\\\n",
    "           .filter(ee.Filter.bounds(aoi))\\\n",
    "           .select('DSM')\\\n",
    "           .median()\\\n",
    "           .clip(aoi)\\\n",
    "           .reproject(crs = 'EPSG:32636', scale = 30 )"
   ]
  },
  {
   "cell_type": "code",
   "execution_count": null,
   "id": "7ee993a4",
   "metadata": {},
   "outputs": [],
   "source": [
    "def max_water_ele(feature):\n",
    "    \n",
    "    lake_dem = elevation_dataset.clip(feature)\n",
    "    \n",
    "    max_ele = lake_dem.reduceRegion(\n",
    "                         reducer = ee.Reducer.max(),\n",
    "                         geometry = lake_dem.geometry(), \n",
    "                         scale = 30, \n",
    "                         crs = 'EPSG:32636',\n",
    "                        maxPixels = 1e11).get('DSM')\n",
    "    return lake_dem.set({'Maximum_water_elevation':max_ele,'Image_date':feature.get('start_day')})\n",
    "    "
   ]
  },
  {
   "cell_type": "code",
   "execution_count": null,
   "id": "9c65a91c",
   "metadata": {},
   "outputs": [],
   "source": [
    "dems = water_vectors.map(max_water_ele)"
   ]
  },
  {
   "cell_type": "code",
   "execution_count": null,
   "id": "f3fc7725",
   "metadata": {},
   "outputs": [],
   "source": [
    "max_elev = [elev for elev in dems.aggregate_array('Maximum_water_elevation').getInfo()]"
   ]
  },
  {
   "cell_type": "code",
   "execution_count": null,
   "id": "7d054046",
   "metadata": {},
   "outputs": [],
   "source": [
    "plt.style.use('fivethirtyeight')\n",
    "f = plt.figure()\n",
    "f.set_figwidth(10)\n",
    "f.set_figheight(7)\n",
    "plt.xlabel('Sentinel-1 Image date',fontsize=18)\n",
    "plt.ylabel('Maximum Water Elevation (m)',fontsize=20)\n",
    "plt.grid(True)\n",
    "plt.xticks(rotation=45)\n",
    "plt.plot(dates_list,max_elev, label = 'Water Level (MSL)')\n",
    "plt.legend()\n",
    "plt.gcf().set_size_inches(18.5,10.5)"
   ]
  },
  {
   "cell_type": "code",
   "execution_count": null,
   "id": "2c46b5d9",
   "metadata": {},
   "outputs": [],
   "source": [
    "def water_vol(lake_dem):\n",
    "    \n",
    "    elevations = lake_dem.reduceRegion(\n",
    "        reducer=ee.Reducer.toList(), \n",
    "        geometry=lake_dem.geometry(),\n",
    "        maxPixels=1e11,\n",
    "        scale=30,\n",
    "        crs = 'EPSG:32636',\n",
    "        bestEffort = True\n",
    "    ).get('DSM')\n",
    "    \n",
    "    elev_pixles_num = ee.List(elevations).length()\n",
    "    \n",
    "    elev_sum = ee.List(elevations).reduce(ee.Reducer.sum())\n",
    "    \n",
    "    stats = {'Pixels_number':elev_pixles_num,\n",
    "             'Elevation_sum': elev_sum\n",
    "            }\n",
    "    \n",
    "    return ee.Feature(None,stats)"
   ]
  },
  {
   "cell_type": "code",
   "execution_count": null,
   "id": "a6db1899",
   "metadata": {},
   "outputs": [],
   "source": [
    "volume_stats = dems.map(water_vol)"
   ]
  },
  {
   "cell_type": "code",
   "execution_count": null,
   "id": "b62e36c3",
   "metadata": {},
   "outputs": [],
   "source": [
    "ele_sum = volume_stats.aggregate_array('Elevation_sum').getInfo()"
   ]
  },
  {
   "cell_type": "code",
   "execution_count": null,
   "id": "3b3780a6",
   "metadata": {},
   "outputs": [],
   "source": [
    "pixel_num  = volume_stats.aggregate_array('Pixels_number').getInfo()"
   ]
  },
  {
   "cell_type": "code",
   "execution_count": null,
   "id": "11556627",
   "metadata": {},
   "outputs": [],
   "source": [
    "volume = [((water_level*pixles_count-elevations_sum)*900)/(1e9) for water_level,elevations_sum , pixles_count in zip(max_elev,ele_sum,pixel_num)]\n",
    "    "
   ]
  },
  {
   "cell_type": "code",
   "execution_count": null,
   "id": "0f9a496c",
   "metadata": {},
   "outputs": [],
   "source": [
    "plt.style.use('fivethirtyeight')\n",
    "f = plt.figure()\n",
    "f.set_figwidth(10)\n",
    "f.set_figheight(7)\n",
    "plt.xlabel('Sentinel-1 Image date',fontsize=18)\n",
    "plt.ylabel('GRED Reservoir Volume (bcm)',fontsize=20)\n",
    "plt.grid(True)\n",
    "plt.xticks(rotation=45)\n",
    "plt.plot(dates_list,volume,label = 'Water Volume  (bcm)')\n",
    "plt.legend()\n",
    "plt.gcf().set_size_inches(18.5,10.5)"
   ]
  },
  {
   "cell_type": "code",
   "execution_count": null,
   "id": "9ab4cbd3",
   "metadata": {},
   "outputs": [],
   "source": []
  }
 ],
 "metadata": {
  "hide_input": false,
  "kernelspec": {
   "display_name": "Python 3 (ipykernel)",
   "language": "python",
   "name": "python3"
  },
  "language_info": {
   "codemirror_mode": {
    "name": "ipython",
    "version": 3
   },
   "file_extension": ".py",
   "mimetype": "text/x-python",
   "name": "python",
   "nbconvert_exporter": "python",
   "pygments_lexer": "ipython3",
   "version": "3.9.7"
  },
  "toc": {
   "base_numbering": 1,
   "nav_menu": {},
   "number_sections": true,
   "sideBar": true,
   "skip_h1_title": false,
   "title_cell": "Table of Contents",
   "title_sidebar": "Contents",
   "toc_cell": false,
   "toc_position": {},
   "toc_section_display": true,
   "toc_window_display": false
  }
 },
 "nbformat": 4,
 "nbformat_minor": 5
}
