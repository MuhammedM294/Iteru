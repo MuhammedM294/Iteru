{
 "cells": [
  {
   "cell_type": "code",
   "execution_count": 1,
   "id": "1403cfd8",
   "metadata": {},
   "outputs": [],
   "source": [
    "import ee\n",
    "ee.Initialize()"
   ]
  },
  {
   "cell_type": "code",
   "execution_count": 2,
   "id": "5ddf620f",
   "metadata": {},
   "outputs": [],
   "source": [
    "from iteru import *"
   ]
  },
  {
   "cell_type": "code",
   "execution_count": 3,
   "id": "6937d29b",
   "metadata": {},
   "outputs": [
    {
     "data": {
      "application/vnd.jupyter.widget-view+json": {
       "model_id": "41f393489ce942a49666f3f2834af178",
       "version_major": 2,
       "version_minor": 0
      },
      "text/plain": [
       "Map(center=[27, 31], controls=(AttributionControl(options=['position', 'prefix'], position='bottomright'), Sea…"
      ]
     },
     "metadata": {},
     "output_type": "display_data"
    }
   ],
   "source": [
    "Map = Map()\n",
    "Map"
   ]
  },
  {
   "cell_type": "code",
   "execution_count": 4,
   "id": "1788e317",
   "metadata": {},
   "outputs": [],
   "source": [
    "startYear = 2020\n",
    "startMonth =1\n",
    "startDay = 1\n",
    "endYear = 2022\n",
    "endMonth = 3\n",
    "endDay = 1"
   ]
  },
  {
   "cell_type": "code",
   "execution_count": 12,
   "id": "754daf2e",
   "metadata": {},
   "outputs": [],
   "source": [
    " aoi = ee.Geometry.Polygon([[[\n",
    "            35.008243,\n",
    "            10.522199\n",
    "        ],\n",
    "            [\n",
    "            35.008243,\n",
    "            11.266588\n",
    "        ],\n",
    "            [\n",
    "            35.387092,\n",
    "            11.266588\n",
    "        ],\n",
    "            [\n",
    "            35.387092,\n",
    "            10.522199\n",
    "        ],\n",
    "            [\n",
    "            35.008243,\n",
    "            10.522199\n",
    "        ]]])"
   ]
  },
  {
   "cell_type": "code",
   "execution_count": 22,
   "id": "5657351f",
   "metadata": {},
   "outputs": [],
   "source": [
    "SAR = S1_SAR_col(startYear,startMonth,startDay,endYear,endMonth,endDay)"
   ]
  },
  {
   "cell_type": "code",
   "execution_count": 27,
   "id": "fe14736e",
   "metadata": {},
   "outputs": [],
   "source": [
    "url = SAR_timeseries_url(SAR,aoi)"
   ]
  },
  {
   "cell_type": "code",
   "execution_count": 28,
   "id": "50fd2a68",
   "metadata": {},
   "outputs": [
    {
     "name": "stdout",
     "output_type": "stream",
     "text": [
      "https://earthengine.googleapis.com/v1alpha/projects/earthengine-legacy/videoThumbnails/bb8572c6be0e469d7cd0df876b9ab2de-afd38c7651bf944d592c32443d39ce01:getPixels\n"
     ]
    }
   ],
   "source": [
    "print(url)"
   ]
  },
  {
   "cell_type": "code",
   "execution_count": null,
   "id": "d3cb586d",
   "metadata": {},
   "outputs": [],
   "source": []
  }
 ],
 "metadata": {
  "hide_input": false,
  "kernelspec": {
   "display_name": "Python 3",
   "language": "python",
   "name": "python3"
  },
  "language_info": {
   "codemirror_mode": {
    "name": "ipython",
    "version": 3
   },
   "file_extension": ".py",
   "mimetype": "text/x-python",
   "name": "python",
   "nbconvert_exporter": "python",
   "pygments_lexer": "ipython3",
   "version": "3.8.8"
  },
  "toc": {
   "base_numbering": 1,
   "nav_menu": {},
   "number_sections": true,
   "sideBar": true,
   "skip_h1_title": false,
   "title_cell": "Table of Contents",
   "title_sidebar": "Contents",
   "toc_cell": false,
   "toc_position": {},
   "toc_section_display": true,
   "toc_window_display": false
  }
 },
 "nbformat": 4,
 "nbformat_minor": 5
}
