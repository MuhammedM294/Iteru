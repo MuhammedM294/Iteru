{
 "cells": [
  {
   "cell_type": "code",
   "execution_count": 1,
   "id": "94efba41",
   "metadata": {},
   "outputs": [],
   "source": [
    "import ee\n",
    "ee.Initialize()\n",
    "from iteru import *\n",
    "from IPython.display import display\n",
    "import ipywidgets\n",
    "import datetime"
   ]
  },
  {
   "cell_type": "code",
   "execution_count": 2,
   "id": "299f4687",
   "metadata": {},
   "outputs": [
    {
     "data": {
      "application/vnd.jupyter.widget-view+json": {
       "model_id": "217c3021292a43b982397da6fd35045d",
       "version_major": 2,
       "version_minor": 0
      },
      "text/plain": [
       "Map(center=[27, 31], controls=(AttributionControl(options=['position', 'prefix'], position='bottomright'), Sea…"
      ]
     },
     "metadata": {},
     "output_type": "display_data"
    }
   ],
   "source": [
    "Map = Map()\n",
    "Map"
   ]
  },
  {
   "cell_type": "code",
   "execution_count": 270,
   "id": "89dc34ed",
   "metadata": {},
   "outputs": [],
   "source": [
    "aoi = Map.aoi"
   ]
  },
  {
   "cell_type": "code",
   "execution_count": 134,
   "id": "31b5a895",
   "metadata": {},
   "outputs": [],
   "source": [
    "vis_param = get_vis_params(S2)"
   ]
  },
  {
   "cell_type": "code",
   "execution_count": 35,
   "id": "d6dafd6a",
   "metadata": {},
   "outputs": [],
   "source": [
    "demvis = {'min':488,'max':1863,'palette':['0000ff', '00ffff', 'ffff00', 'ff0000', 'ffffff']\n",
    "}"
   ]
  },
  {
   "cell_type": "code",
   "execution_count": 434,
   "id": "3e038715",
   "metadata": {},
   "outputs": [],
   "source": [
    "dataset = ee.ImageCollection('JAXA/ALOS/AW3D30/V3_2')\\\n",
    "           .filter(ee.Filter.bounds(aoi))\\\n",
    "           .select('DSM')\\\n",
    "           .median()\\\n",
    "           .clip(aoi)"
   ]
  },
  {
   "cell_type": "code",
   "execution_count": 435,
   "id": "3c97eadc",
   "metadata": {},
   "outputs": [],
   "source": [
    "#Map.add_layer_widgets(dataset,demvis,'GRED_DEM')"
   ]
  },
  {
   "cell_type": "code",
   "execution_count": 899,
   "id": "91d1a28e",
   "metadata": {},
   "outputs": [],
   "source": [
    "S2 = ee.ImageCollection(\"COPERNICUS/S2_SR\")\\\n",
    "     .filter(ee.Filter.bounds(aoi))\\\n",
    "     .filter(ee.Filter.date('2022-1-01','2022-2-1'))\\\n",
    "     .filter(ee.Filter.lt('CLOUDY_PIXEL_PERCENTAGE',2))"
   ]
  },
  {
   "cell_type": "code",
   "execution_count": 900,
   "id": "1fc9d552",
   "metadata": {},
   "outputs": [],
   "source": [
    "S2_median = S2.median().clip(aoi)"
   ]
  },
  {
   "cell_type": "code",
   "execution_count": 901,
   "id": "3a27b91c",
   "metadata": {},
   "outputs": [
    {
     "data": {
      "text/plain": [
       "6"
      ]
     },
     "execution_count": 901,
     "metadata": {},
     "output_type": "execute_result"
    }
   ],
   "source": [
    "S2.size().getInfo()"
   ]
  },
  {
   "cell_type": "code",
   "execution_count": 902,
   "id": "6c2cb268",
   "metadata": {},
   "outputs": [],
   "source": [
    "#Map.add_layer_widgets(S2_median,vis_param,'S2_Median')"
   ]
  },
  {
   "cell_type": "code",
   "execution_count": 903,
   "id": "733935cf",
   "metadata": {},
   "outputs": [],
   "source": [
    "ndwi = S2_median.normalizedDifference(['B3', 'B8'])"
   ]
  },
  {
   "cell_type": "code",
   "execution_count": 904,
   "id": "f854cb38",
   "metadata": {},
   "outputs": [],
   "source": [
    "ndwiMasked = ndwi.updateMask(ndwi.gte(0))"
   ]
  },
  {
   "cell_type": "code",
   "execution_count": 905,
   "id": "020e090b",
   "metadata": {},
   "outputs": [],
   "source": [
    "#Map.add_layer_widgets(ndwiMasked,{'min':0,'max':0.5,'palette': ['00FFFF', '0000FF']},'NDWI')"
   ]
  },
  {
   "cell_type": "code",
   "execution_count": 906,
   "id": "b6daa216",
   "metadata": {},
   "outputs": [],
   "source": [
    "v = ee.Image(1).updateMask(ndwiMasked).reduceToVectors(\n",
    "           geometry = ndwiMasked.geometry(),\n",
    "           crs =  ndwiMasked.projection(),\n",
    "           scale = 10 , \n",
    "           geometryType = 'polygon',\n",
    "           eightConnected = False,\n",
    "           labelProperty =  'water_cover',\n",
    "           bestEffort = True\n",
    ")"
   ]
  },
  {
   "cell_type": "code",
   "execution_count": 907,
   "id": "eadf00d8",
   "metadata": {},
   "outputs": [],
   "source": [
    "def calc_area(feature):\n",
    "    area = feature.geometry().area(maxError = 1)\n",
    "    \n",
    "    return feature.set({'Area':area})"
   ]
  },
  {
   "cell_type": "code",
   "execution_count": 908,
   "id": "0e920e57",
   "metadata": {},
   "outputs": [],
   "source": [
    "v = v.map(calc_area)"
   ]
  },
  {
   "cell_type": "code",
   "execution_count": 909,
   "id": "7503deca",
   "metadata": {},
   "outputs": [],
   "source": [
    "v = ee.Feature(v.sort('Area', False).first())"
   ]
  },
  {
   "cell_type": "code",
   "execution_count": 910,
   "id": "2e1a4009",
   "metadata": {},
   "outputs": [],
   "source": [
    "#Map.add_layer_widgets(v,{'color':'red'},'Vector')"
   ]
  },
  {
   "cell_type": "code",
   "execution_count": 911,
   "id": "990f1d4e",
   "metadata": {},
   "outputs": [],
   "source": [
    "lake_dem = dataset.clip(v)"
   ]
  },
  {
   "cell_type": "code",
   "execution_count": 912,
   "id": "8ed433ca",
   "metadata": {},
   "outputs": [],
   "source": [
    "Map.add_layer_widgets(lake_dem,demvis,'Lake DEM')"
   ]
  },
  {
   "cell_type": "code",
   "execution_count": 913,
   "id": "32e207b5",
   "metadata": {},
   "outputs": [],
   "source": [
    "ele = lake_dem.reduceRegion(\n",
    "                         reducer = ee.Reducer.max(),\n",
    "                         geometry = lake_dem.geometry(), \n",
    "                         scale = 10, \n",
    "                        maxPixels = 1e10)"
   ]
  },
  {
   "cell_type": "code",
   "execution_count": 914,
   "id": "55a85d1e",
   "metadata": {},
   "outputs": [],
   "source": [
    "water_level = ele.getInfo()['DSM']"
   ]
  },
  {
   "cell_type": "code",
   "execution_count": 915,
   "id": "4a44a8c9",
   "metadata": {},
   "outputs": [
    {
     "data": {
      "text/plain": [
       "601"
      ]
     },
     "execution_count": 915,
     "metadata": {},
     "output_type": "execute_result"
    }
   ],
   "source": [
    "water_level"
   ]
  },
  {
   "cell_type": "code",
   "execution_count": 916,
   "id": "97ed1c46",
   "metadata": {},
   "outputs": [],
   "source": [
    "import numpy as np"
   ]
  },
  {
   "cell_type": "code",
   "execution_count": 917,
   "id": "c1852a4a",
   "metadata": {},
   "outputs": [],
   "source": [
    "#latlng = ee.Image.pixelLonLat().addBands(lake_dem)\n",
    "latlng = lake_dem.reduceRegion(reducer=ee.Reducer.toList(), geometry=v.geometry(), maxPixels=1e11, scale=30)"
   ]
  },
  {
   "cell_type": "code",
   "execution_count": 918,
   "id": "174c46b4",
   "metadata": {},
   "outputs": [],
   "source": [
    "elev_values = np.array((ee.Array(latlng.get(\"DSM\")).getInfo()),dtype=np.int64)"
   ]
  },
  {
   "cell_type": "code",
   "execution_count": 919,
   "id": "a855db67",
   "metadata": {},
   "outputs": [
    {
     "data": {
      "text/plain": [
       "392253"
      ]
     },
     "execution_count": 919,
     "metadata": {},
     "output_type": "execute_result"
    }
   ],
   "source": [
    "elev_values.size"
   ]
  },
  {
   "cell_type": "code",
   "execution_count": 920,
   "id": "4cb060ce",
   "metadata": {},
   "outputs": [],
   "source": [
    "volume = water_level - elev_values[elev_values < water_level]"
   ]
  },
  {
   "cell_type": "code",
   "execution_count": 921,
   "id": "ff7737f1",
   "metadata": {},
   "outputs": [
    {
     "data": {
      "text/plain": [
       "15.8324976"
      ]
     },
     "execution_count": 921,
     "metadata": {},
     "output_type": "execute_result"
    }
   ],
   "source": [
    "(volume.sum()*900)/1e9"
   ]
  },
  {
   "cell_type": "code",
   "execution_count": null,
   "id": "14b2e1ec",
   "metadata": {},
   "outputs": [],
   "source": []
  },
  {
   "cell_type": "code",
   "execution_count": null,
   "id": "5c21a680",
   "metadata": {},
   "outputs": [],
   "source": []
  }
 ],
 "metadata": {
  "hide_input": false,
  "kernelspec": {
   "display_name": "Python 3 (ipykernel)",
   "language": "python",
   "name": "python3"
  },
  "language_info": {
   "codemirror_mode": {
    "name": "ipython",
    "version": 3
   },
   "file_extension": ".py",
   "mimetype": "text/x-python",
   "name": "python",
   "nbconvert_exporter": "python",
   "pygments_lexer": "ipython3",
   "version": "3.9.10"
  },
  "toc": {
   "base_numbering": 1,
   "nav_menu": {},
   "number_sections": true,
   "sideBar": true,
   "skip_h1_title": false,
   "title_cell": "Table of Contents",
   "title_sidebar": "Contents",
   "toc_cell": false,
   "toc_position": {},
   "toc_section_display": true,
   "toc_window_display": false
  }
 },
 "nbformat": 4,
 "nbformat_minor": 5
}
