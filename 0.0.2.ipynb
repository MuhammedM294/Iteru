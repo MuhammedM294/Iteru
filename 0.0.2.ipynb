{
 "cells": [
  {
   "cell_type": "code",
   "execution_count": 1,
   "id": "e829d462",
   "metadata": {},
   "outputs": [],
   "source": [
    "from iteru import *\n",
    "from ipywidgets import *"
   ]
  },
  {
   "cell_type": "code",
   "execution_count": 2,
   "id": "623615f6",
   "metadata": {},
   "outputs": [],
   "source": [
    "map = Map()"
   ]
  },
  {
   "cell_type": "code",
   "execution_count": 3,
   "id": "ecda3baa",
   "metadata": {},
   "outputs": [],
   "source": [
    "basemaps = Dropdown(\n",
    "    options = basemaps,\n",
    "    value = None,\n",
    "    description = 'Basemaps',\n",
    "    description_tooltip = 'Select Basemap',\n",
    "    layout=Layout(width='230px')\n",
    ")"
   ]
  },
  {
   "cell_type": "code",
   "execution_count": 4,
   "id": "5852286c",
   "metadata": {},
   "outputs": [],
   "source": [
    "padding = \"0px 0px 0px 0px\" \n",
    "basemaps_button = ToggleButton(\n",
    "                               value = False, \n",
    "                               tooltip = 'Select A Basemap',\n",
    "                               icon = 'map',\n",
    "                               layout = Layout(width = '32px', height = '28px'),\n",
    "                               padding = padding\n",
    " )\n",
    "TOC = ToggleButton(\n",
    "                   value = False, \n",
    "                   tooltip = 'Table of Contents',\n",
    "                   icon = 'align-justify',\n",
    "                   layout = Layout(width = '32px', height = '28px'),\n",
    "                   padding = padding\n",
    "       )\n",
    "basemap_tool = HBox([basemaps_button])\n",
    "TOC_container = VBox([TOC])\n",
    "TOC_out = Output(layout={'border': '1px solid blue'})"
   ]
  },
  {
   "cell_type": "code",
   "execution_count": 5,
   "id": "8da6c0ae",
   "metadata": {},
   "outputs": [],
   "source": [
    "def basemap_tool_click(change):\n",
    "    if change.new:\n",
    "        basemap_tool.children = [basemaps_button,basemaps]\n",
    "    else:\n",
    "        basemap_tool.children = [basemaps_button]\n",
    "\n",
    "def TOC_container_click(change):\n",
    "    if change.new:\n",
    "        TOC_container.children = [TOC,TOC_out]\n",
    "    else:\n",
    "        TOC_container.children = [TOC]      \n",
    "\n",
    "TOC.observe(TOC_container_click, names = 'value')\n",
    "basemaps_button.observe(basemap_tool_click, names = 'value')\n",
    "\n",
    "basemap_tool_widget = AddWidget(widget = basemap_tool, position = 'topleft')\n",
    "TOC_widget = AddWidget(widget = TOC_container, position = 'topleft')\n",
    "map.add_control(basemap_tool_widget)\n",
    "map.add_control(TOC_widget )"
   ]
  },
  {
   "cell_type": "code",
   "execution_count": 6,
   "id": "2732b63b",
   "metadata": {},
   "outputs": [],
   "source": [
    "close_button = ToggleButton(   value = False, \n",
    "                               tooltip = 'Remove This Basemap',\n",
    "                               icon = 'window-close',\n",
    "                               layout = Layout(width = '32px', height = '28px'),\n",
    "                               button_style=\"primary\",)"
   ]
  },
  {
   "cell_type": "code",
   "execution_count": 7,
   "id": "ee139124",
   "metadata": {},
   "outputs": [],
   "source": [
    "def basemap_widgets(change):\n",
    "    if change.new:\n",
    "            if change.new in map.layers:\n",
    "                pass\n",
    "            else:\n",
    "                map.add_layer(change.new)\n",
    "                \n",
    "                basemap_visibility = Checkbox(\n",
    "                                              value = True, \n",
    "                                              indent=False,\n",
    "                                              layout = Layout(width = '15px')\n",
    "                             )\n",
    "                \n",
    "                basemap_name = Label(\n",
    "                                   value= change.new.name,\n",
    "                                   layout = Layout(width = '110px', height = '28px'),\n",
    "                                   tooltip = change.new.name\n",
    "                              )\n",
    "                \n",
    "        \n",
    "                close_button = Button(  \n",
    "                                      value = False, \n",
    "                                      tooltip = 'Remove This Basemap',\n",
    "                                      icon = 'window-close',\n",
    "                                      layout = Layout(width = '32px', height = '28px'),\n",
    "                                    \n",
    "                               )\n",
    "            \n",
    "                opacity = FloatSlider(\n",
    "                                      value = 1,\n",
    "                                      min = 0,  \n",
    "                                      max = 1,\n",
    "                                      step = 0.1,\n",
    "                                      indent=False,\n",
    "                                    \n",
    "                               )\n",
    "                \n",
    "                def change_basemap_visibility(show_hide):\n",
    "                    change.new.visible = show_hide \n",
    "                    \n",
    "                def change_basemap_opacity(Opacity):\n",
    "                    change.new.opacity = Opacity\n",
    "                        \n",
    "                def remove_basemap(b):\n",
    "                    map.remove_layer(change.new)\n",
    "                    close_button.close()\n",
    "                    opacity.close()\n",
    "                    basemap_name.close()\n",
    "                    basemap_visibility.close()\n",
    "                    \n",
    "                opacity_slider = interactive(change_basemap_opacity,Opacity = opacity)\n",
    "                \n",
    "                visibility_checkbox = interactive(change_basemap_visibility,show_hide = basemap_visibility)\n",
    "                \n",
    "                with TOC_out:\n",
    "                    display(HBox([basemap_visibility,basemap_name,opacity, close_button]))\n",
    "                \n",
    "                \n",
    "                close_button.on_click(remove_basemap)\n",
    "                \n",
    "                           \n",
    "basemaps.observe(basemap_widgets, names = 'value') "
   ]
  },
  {
   "cell_type": "code",
   "execution_count": 8,
   "id": "dc20cb55",
   "metadata": {},
   "outputs": [
    {
     "data": {
      "application/vnd.jupyter.widget-view+json": {
       "model_id": "cf971e19e620412c80c8b2f02ccf97f0",
       "version_major": 2,
       "version_minor": 0
      },
      "text/plain": [
       "Map(center=[27, 31], controls=(AttributionControl(options=['position', 'prefix'], position='bottomright'), Sea…"
      ]
     },
     "metadata": {},
     "output_type": "display_data"
    }
   ],
   "source": [
    "map"
   ]
  }
 ],
 "metadata": {
  "hide_input": false,
  "kernelspec": {
   "display_name": "Python 3 (ipykernel)",
   "language": "python",
   "name": "python3"
  },
  "language_info": {
   "codemirror_mode": {
    "name": "ipython",
    "version": 3
   },
   "file_extension": ".py",
   "mimetype": "text/x-python",
   "name": "python",
   "nbconvert_exporter": "python",
   "pygments_lexer": "ipython3",
   "version": "3.9.7"
  },
  "toc": {
   "base_numbering": 1,
   "nav_menu": {},
   "number_sections": true,
   "sideBar": true,
   "skip_h1_title": false,
   "title_cell": "Table of Contents",
   "title_sidebar": "Contents",
   "toc_cell": false,
   "toc_position": {},
   "toc_section_display": true,
   "toc_window_display": false
  }
 },
 "nbformat": 4,
 "nbformat_minor": 5
}
