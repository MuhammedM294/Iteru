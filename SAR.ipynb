{
 "cells": [
  {
   "cell_type": "code",
   "execution_count": 1,
   "id": "ed6c67d9",
   "metadata": {},
   "outputs": [],
   "source": [
    "import ee\n",
    "ee.Initialize ()"
   ]
  },
  {
   "cell_type": "code",
   "execution_count": 2,
   "id": "28ab0d59",
   "metadata": {},
   "outputs": [],
   "source": [
    "from iteru import *\n",
    "from IPython.display import display\n",
    "import ipywidgets\n",
    "import datetime"
   ]
  },
  {
   "cell_type": "code",
   "execution_count": 3,
   "id": "cbdca43a",
   "metadata": {},
   "outputs": [
    {
     "data": {
      "application/vnd.jupyter.widget-view+json": {
       "model_id": "654e1ec7df5d41c8b9b27a7a9d178b9d",
       "version_major": 2,
       "version_minor": 0
      },
      "text/plain": [
       "Map(center=[27, 31], controls=(AttributionControl(options=['position', 'prefix'], position='bottomright'), Sea…"
      ]
     },
     "metadata": {},
     "output_type": "display_data"
    }
   ],
   "source": [
    "Map = Map()\n",
    "Map"
   ]
  },
  {
   "cell_type": "code",
   "execution_count": 4,
   "id": "97bb90bc",
   "metadata": {},
   "outputs": [],
   "source": [
    "aoi = ee.Geometry.Polygon ([[[\n",
    "              35.008243,\n",
    "              10.522199\n",
    "            ],\n",
    "            [\n",
    "              35.008243,\n",
    "              11.266588\n",
    "            ],\n",
    "            [\n",
    "              35.387092,\n",
    "              11.266588\n",
    "            ],\n",
    "            [\n",
    "              35.387092,\n",
    "              10.522199\n",
    "            ],\n",
    "            [\n",
    "              35.008243,\n",
    "              10.522199\n",
    "            ]]])"
   ]
  },
  {
   "cell_type": "code",
   "execution_count": 5,
   "id": "d6b070d0",
   "metadata": {},
   "outputs": [],
   "source": [
    "start_year = 2020\n",
    "start_month =6\n",
    "start_day = 1\n",
    "end_year = 2022\n",
    "end_month = 3\n",
    "end_day = 10\n",
    "time_delta = 30\n",
    "water_threshold = -25"
   ]
  },
  {
   "cell_type": "code",
   "execution_count": 6,
   "id": "74e6457a",
   "metadata": {},
   "outputs": [],
   "source": [
    "start_date = datetime.date(start_year,start_month,start_day)\n",
    "end_date = datetime.date(end_year,end_month,end_day)\n",
    "ee_start_date = f'{start_year}-{start_month}-{start_day}'\n",
    "ee_end_date = f'{end_year}-{end_month}-{end_day}'"
   ]
  },
  {
   "cell_type": "code",
   "execution_count": 7,
   "id": "32a5cce4",
   "metadata": {},
   "outputs": [],
   "source": [
    "dates_list = get_dates_sequence(start_date ,end_date, time_delta)"
   ]
  },
  {
   "cell_type": "code",
   "execution_count": 8,
   "id": "64b786ac",
   "metadata": {},
   "outputs": [],
   "source": [
    "SAR = ee.ImageCollection('COPERNICUS/S1_GRD')\\\n",
    "    .filter(ee.Filter.equals('relativeOrbitNumber_start', 50))\\\n",
    "    .filter(ee.Filter.eq('instrumentMode', 'IW'))\\\n",
    "    .filter(ee.Filter.eq('orbitProperties_pass', 'DESCENDING'))\\\n",
    "    .filter(ee.Filter.listContains('transmitterReceiverPolarisation', 'VH'))\\\n",
    "    .filter(ee.Filter.listContains('transmitterReceiverPolarisation', 'VV'))\\\n",
    "    .filter(ee.Filter.eq('resolution_meters',10))\\\n",
    "    .filterBounds(aoi)\\\n",
    "    .filterDate(ee_start_date,ee_end_date)\\\n",
    "    .select(['VV','VH'])"
   ]
  },
  {
   "cell_type": "code",
   "execution_count": 9,
   "id": "728aafbe",
   "metadata": {},
   "outputs": [],
   "source": [
    "SAR = SAR.map(addRatioBand)"
   ]
  },
  {
   "cell_type": "code",
   "execution_count": null,
   "id": "52c4b64b",
   "metadata": {},
   "outputs": [],
   "source": [
    "def filterSpeckles(img):\n",
    "    \n",
    "    VV_smooth = img.select('VH').focal_median(100,'circle','meters').rename('VH_Filtered')\n",
    "    \n",
    "    return img.addBands(VV_smooth)"
   ]
  },
  {
   "cell_type": "code",
   "execution_count": 10,
   "id": "9c702231",
   "metadata": {},
   "outputs": [],
   "source": [
    "def toNatural(img):\n",
    "    return ee.Image(10.0).pow(img.select(0).divide(10.0))\n"
   ]
  },
  {
   "cell_type": "code",
   "execution_count": 11,
   "id": "b57d667c",
   "metadata": {},
   "outputs": [],
   "source": [
    "def toDB (img):\n",
    "    return ee.Image(img).log10().multiply(10.0)"
   ]
  },
  {
   "cell_type": "code",
   "execution_count": null,
   "id": "eb7b2896",
   "metadata": {},
   "outputs": [],
   "source": [
    "SAR = SAR.map(filterSpeckles)"
   ]
  },
  {
   "cell_type": "code",
   "execution_count": null,
   "id": "4adc8ccd",
   "metadata": {},
   "outputs": [],
   "source": [
    "def water_classify(img):\n",
    "    vv  = img.select('VH_Filtered')\n",
    "    water = vv.lt(water_threshold).rename('Water')\n",
    "    water_mask = water.updateMask(water).rename('Water_mask')\n",
    "    return img.addBands([water,water_mask])"
   ]
  },
  {
   "cell_type": "code",
   "execution_count": null,
   "id": "8033c018",
   "metadata": {},
   "outputs": [],
   "source": [
    "SAR = SAR.map(water_classify)"
   ]
  },
  {
   "cell_type": "code",
   "execution_count": null,
   "id": "6a9a2fa0",
   "metadata": {},
   "outputs": [],
   "source": [
    "# def rgb_w_water_mask(img):\n",
    "    \n",
    "#     img_rgb = img.visualize(**{'min':[-25,-25,0],'max':[0,0,2],'bands':['VV','VH','VV/VH']})\n",
    "    \n",
    "#     water_vis = img.select('Water_mask').visualize(**{'min': 0.5,'max': 1,'palette': ['00FFFF', '0000FF']})\n",
    "                  \n",
    "#     mosaic = ee.ImageCollection([img_rgb,water_vis]).mosaic()\n",
    " \n",
    "#     return mosaic.copyProperties(img, img.propertyNames())\n"
   ]
  },
  {
   "cell_type": "code",
   "execution_count": null,
   "id": "b0618690",
   "metadata": {},
   "outputs": [],
   "source": [
    "# SAR = SAR.map(rgb_w_water_mask)"
   ]
  },
  {
   "cell_type": "code",
   "execution_count": null,
   "id": "5401b862",
   "metadata": {},
   "outputs": [],
   "source": [
    "# Map.add_layer_widgets(SAR,{'bands':'VV_Filtered_median','min':-25,'max':5},'TEST_SAR')"
   ]
  },
  {
   "cell_type": "code",
   "execution_count": null,
   "id": "7cd66bcc",
   "metadata": {},
   "outputs": [],
   "source": [
    "# Map.add_layer_widgets(z,{'bands':'Water_mask_median','palette': ['00FFFF', '0000FF']},'TEST_SAR_WATER_MASK')"
   ]
  },
  {
   "cell_type": "code",
   "execution_count": null,
   "id": "4d749966",
   "metadata": {},
   "outputs": [],
   "source": [
    "# Map.add_layer_widgets(SAR,{'min':[-25,-25,0],'max':[0,0,2],'bands':['VV','VH','VV/VH']},'SAR')"
   ]
  },
  {
   "cell_type": "code",
   "execution_count": null,
   "id": "97368e4a",
   "metadata": {},
   "outputs": [],
   "source": [
    "def get_images(day_date):\n",
    "    \n",
    "    start_day = ee.Date(day_date)\n",
    "    end_day = start_day.advance(time_delta,'day')\n",
    "    \n",
    "    return SAR.filterDate(start_day,end_day).median()\\\n",
    "          .set({'start_day':start_day.format('YYYY-MM-dd')})\\\n",
    "          .set({'end_day':end_day.format('YYYY-MM-dd')})"
   ]
  },
  {
   "cell_type": "code",
   "execution_count": null,
   "id": "03c863fd",
   "metadata": {},
   "outputs": [],
   "source": [
    "images = ee.List(dates_list).map(get_images)"
   ]
  },
  {
   "cell_type": "code",
   "execution_count": null,
   "id": "f77afd78",
   "metadata": {},
   "outputs": [],
   "source": [
    "collection = ee.ImageCollection.fromImages(images)"
   ]
  },
  {
   "cell_type": "code",
   "execution_count": null,
   "id": "5499f262",
   "metadata": {},
   "outputs": [],
   "source": [
    "# z = collection.filter(ee.Filter.eq('start_day','2021-08-25'))"
   ]
  },
  {
   "cell_type": "code",
   "execution_count": null,
   "id": "dbf289f2",
   "metadata": {},
   "outputs": [],
   "source": [
    "videoArgs = {\n",
    "  'dimensions': 900 ,\n",
    "  'region': aoi,\n",
    "  'framesPerSecond':2,\n",
    "  'crs': 'EPSG:3857',\n",
    "#   'min':[-25,-25,0],\n",
    "#   'max':[0,0,5],\n",
    "#   'bands':['VV','VH','VV/VH']\n",
    "#   'min':[-25],\n",
    "#   'max':[0],\n",
    "#   'bands':['VV']\n",
    "  'bands':['Water_mask'],\n",
    "  'palette': ['00FFFF', '0000FF'],\n",
    "#   'palette':None,\n",
    "#   'min':[0.5],\n",
    "#     'max':[1],\n",
    "#   'bands':['vis-red','vis-green','vis-blue'],\n",
    "#    'min':0,\n",
    "#    'max':255\n",
    "   \n",
    "     }"
   ]
  },
  {
   "cell_type": "code",
   "execution_count": null,
   "id": "e1dbc7cf",
   "metadata": {},
   "outputs": [],
   "source": [
    "url = collection.getVideoThumbURL(videoArgs)"
   ]
  },
  {
   "cell_type": "code",
   "execution_count": null,
   "id": "e6548dce",
   "metadata": {},
   "outputs": [],
   "source": [
    "out_gif = get_gif(url)"
   ]
  },
  {
   "cell_type": "code",
   "execution_count": null,
   "id": "18f12bd8",
   "metadata": {},
   "outputs": [],
   "source": [
    "add_text_to_gif(out_gif,dates_list, dates_font_size = 25, dates_font_color = 'white', framesPerSecond = 2 )"
   ]
  },
  {
   "cell_type": "code",
   "execution_count": null,
   "id": "a487b915",
   "metadata": {},
   "outputs": [],
   "source": [
    "display_gif(out_gif)"
   ]
  },
  {
   "cell_type": "code",
   "execution_count": null,
   "id": "202a6e3c",
   "metadata": {},
   "outputs": [],
   "source": [
    "def calc_area(feature):\n",
    "    \n",
    "    area = feature.geometry().area(maxError = 1)\n",
    "    \n",
    "    return feature.set({'Area':area})"
   ]
  },
  {
   "cell_type": "code",
   "execution_count": null,
   "id": "f96ea01e",
   "metadata": {},
   "outputs": [],
   "source": [
    "def water_to_vector(img):\n",
    "    \n",
    "    water_mask = img.select('Water_mask').clip(aoi)\n",
    "    \n",
    "    feature = ee.Image(1).updateMask(water_mask).reduceToVectors(\n",
    "           geometry = water_mask.geometry(),\n",
    "           crs ='EPSG:32636',\n",
    "           scale = 10 , \n",
    "           geometryType = 'polygon',\n",
    "           eightConnected = False,\n",
    "           labelProperty =  'water_cover',\n",
    "           bestEffort = True\n",
    "          )\n",
    "    feature = feature.map(calc_area)\n",
    "    \n",
    "    lake_feature = feature.sort('Area', False).first()\n",
    "    \n",
    "    lake_area = lake_feature.geometry().area(maxError = 1) \n",
    "    \n",
    "    return ee.FeatureCollection(lake_feature).set({'Area':lake_area})\\\n",
    "           .copyProperties(img, img.propertyNames())\\\n",
    "           .copyProperties(lake_feature, lake_feature.propertyNames())\n",
    "    "
   ]
  },
  {
   "cell_type": "code",
   "execution_count": null,
   "id": "6952f2cf",
   "metadata": {},
   "outputs": [],
   "source": [
    "water_vectors = collection.map(water_to_vector)"
   ]
  },
  {
   "cell_type": "code",
   "execution_count": null,
   "id": "34449464",
   "metadata": {},
   "outputs": [],
   "source": [
    "water_area = [area /(1e6) for area in water_vectors.aggregate_array('Area').getInfo()]"
   ]
  },
  {
   "cell_type": "code",
   "execution_count": null,
   "id": "13313cb6",
   "metadata": {},
   "outputs": [],
   "source": [
    "import matplotlib.pyplot as plt"
   ]
  },
  {
   "cell_type": "code",
   "execution_count": null,
   "id": "a2ffd2a5",
   "metadata": {},
   "outputs": [],
   "source": [
    "plt.style.use('fivethirtyeight')\n",
    "f = plt.figure()\n",
    "f.set_figwidth(10)\n",
    "f.set_figheight(7)\n",
    "plt.xlabel('Sentinel-1 Image date',fontsize=18)\n",
    "plt.ylabel('Water Surface Area (km^2)',fontsize=20)\n",
    "plt.grid(True)\n",
    "plt.xticks(rotation=45)\n",
    "plt.plot(dates_list,water_area,label ='Water Surface Area')\n",
    "plt.legend()\n",
    "plt.gcf().set_size_inches(18.5,10.5)"
   ]
  },
  {
   "cell_type": "code",
   "execution_count": null,
   "id": "b29546b8",
   "metadata": {},
   "outputs": [],
   "source": [
    "elevation_dataset = ee.ImageCollection('JAXA/ALOS/AW3D30/V3_2')\\\n",
    "           .filter(ee.Filter.bounds(aoi))\\\n",
    "           .select('DSM')\\\n",
    "           .median()\\\n",
    "           .clip(aoi)\\\n",
    "           .reproject(crs = 'EPSG:32636', scale = 30 )"
   ]
  },
  {
   "cell_type": "code",
   "execution_count": null,
   "id": "7ee993a4",
   "metadata": {},
   "outputs": [],
   "source": [
    "def max_water_ele(feature):\n",
    "    \n",
    "    lake_dem = elevation_dataset.clip(feature)\n",
    "    \n",
    "    max_ele = lake_dem.reduceRegion(\n",
    "                         reducer = ee.Reducer.max(),\n",
    "                         geometry = lake_dem.geometry(), \n",
    "                         scale = 30, \n",
    "                         crs = 'EPSG:32636',\n",
    "                        maxPixels = 1e11).get('DSM')\n",
    "    return lake_dem.set({'Maximum_water_elevation':max_ele,'Image_date':feature.get('start_day')})\n",
    "    "
   ]
  },
  {
   "cell_type": "code",
   "execution_count": null,
   "id": "9c65a91c",
   "metadata": {},
   "outputs": [],
   "source": [
    "dems = water_vectors.map(max_water_ele)"
   ]
  },
  {
   "cell_type": "code",
   "execution_count": null,
   "id": "f3fc7725",
   "metadata": {},
   "outputs": [],
   "source": [
    "max_elev = [elev for elev in dems.aggregate_array('Maximum_water_elevation').getInfo()]"
   ]
  },
  {
   "cell_type": "code",
   "execution_count": null,
   "id": "7d054046",
   "metadata": {},
   "outputs": [],
   "source": [
    "plt.style.use('fivethirtyeight')\n",
    "f = plt.figure()\n",
    "f.set_figwidth(10)\n",
    "f.set_figheight(7)\n",
    "plt.xlabel('Sentinel-1 Image date',fontsize=18)\n",
    "plt.ylabel('Maximum Water Elevation (m)',fontsize=20)\n",
    "plt.grid(True)\n",
    "plt.xticks(rotation=45)\n",
    "plt.plot(dates_list,max_elev, label = 'Water Level (MSL)')\n",
    "plt.legend()\n",
    "plt.gcf().set_size_inches(18.5,10.5)"
   ]
  },
  {
   "cell_type": "code",
   "execution_count": null,
   "id": "2c46b5d9",
   "metadata": {},
   "outputs": [],
   "source": [
    "def water_vol(lake_dem):\n",
    "    \n",
    "    elevations = lake_dem.reduceRegion(\n",
    "        reducer=ee.Reducer.toList(), \n",
    "        geometry=lake_dem.geometry(),\n",
    "        maxPixels=1e11,\n",
    "        scale=30,\n",
    "        crs = 'EPSG:32636',\n",
    "        bestEffort = True\n",
    "    ).get('DSM')\n",
    "    \n",
    "    elev_pixles_num = ee.List(elevations).length()\n",
    "    \n",
    "    elev_sum = ee.List(elevations).reduce(ee.Reducer.sum())\n",
    "    \n",
    "    stats = {'Pixels_number':elev_pixles_num,\n",
    "             'Elevation_sum': elev_sum\n",
    "            }\n",
    "    \n",
    "    return ee.Feature(None,stats)"
   ]
  },
  {
   "cell_type": "code",
   "execution_count": null,
   "id": "a6db1899",
   "metadata": {},
   "outputs": [],
   "source": [
    "volume_stats = dems.map(water_vol)"
   ]
  },
  {
   "cell_type": "code",
   "execution_count": null,
   "id": "b62e36c3",
   "metadata": {},
   "outputs": [],
   "source": [
    "ele_sum = volume_stats.aggregate_array('Elevation_sum').getInfo()"
   ]
  },
  {
   "cell_type": "code",
   "execution_count": null,
   "id": "3b3780a6",
   "metadata": {},
   "outputs": [],
   "source": [
    "pixel_num  = volume_stats.aggregate_array('Pixels_number').getInfo()"
   ]
  },
  {
   "cell_type": "code",
   "execution_count": null,
   "id": "11556627",
   "metadata": {},
   "outputs": [],
   "source": [
    "volume = [((water_level*pixles_count-elevations_sum)*900)/(1e9) for water_level,elevations_sum , pixles_count in zip(max_elev,ele_sum,pixel_num)]\n",
    "    "
   ]
  },
  {
   "cell_type": "code",
   "execution_count": null,
   "id": "0f9a496c",
   "metadata": {},
   "outputs": [],
   "source": [
    "plt.style.use('fivethirtyeight')\n",
    "f = plt.figure()\n",
    "f.set_figwidth(10)\n",
    "f.set_figheight(7)\n",
    "plt.xlabel('Sentinel-1 Image date',fontsize=18)\n",
    "plt.ylabel('GRED Reservoir Volume (bcm)',fontsize=20)\n",
    "plt.grid(True)\n",
    "plt.xticks(rotation=45)\n",
    "plt.plot(dates_list,volume,label = 'Water Volume  (bcm)')\n",
    "plt.legend()\n",
    "plt.gcf().set_size_inches(18.5,10.5)"
   ]
  },
  {
   "cell_type": "code",
   "execution_count": null,
   "id": "9ab4cbd3",
   "metadata": {},
   "outputs": [],
   "source": []
  }
 ],
 "metadata": {
  "hide_input": false,
  "kernelspec": {
   "display_name": "Python 3 (ipykernel)",
   "language": "python",
   "name": "python3"
  },
  "language_info": {
   "codemirror_mode": {
    "name": "ipython",
    "version": 3
   },
   "file_extension": ".py",
   "mimetype": "text/x-python",
   "name": "python",
   "nbconvert_exporter": "python",
   "pygments_lexer": "ipython3",
   "version": "3.9.10"
  },
  "toc": {
   "base_numbering": 1,
   "nav_menu": {},
   "number_sections": true,
   "sideBar": true,
   "skip_h1_title": false,
   "title_cell": "Table of Contents",
   "title_sidebar": "Contents",
   "toc_cell": false,
   "toc_position": {},
   "toc_section_display": true,
   "toc_window_display": false
  }
 },
 "nbformat": 4,
 "nbformat_minor": 5
}
