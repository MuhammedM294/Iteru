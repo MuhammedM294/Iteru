{
 "cells": [
  {
   "cell_type": "code",
   "execution_count": 1,
   "id": "906c7aa4",
   "metadata": {},
   "outputs": [],
   "source": [
    "import ee\n",
    "ee.Initialize()\n",
    "from iteru import *\n",
    "from IPython.display import display\n",
    "import ipywidgets\n",
    "import datetime"
   ]
  },
  {
   "cell_type": "code",
   "execution_count": 2,
   "id": "4dedaf7e",
   "metadata": {},
   "outputs": [
    {
     "data": {
      "application/vnd.jupyter.widget-view+json": {
       "model_id": "9288551000994b1ab4c417e75fab48b8",
       "version_major": 2,
       "version_minor": 0
      },
      "text/plain": [
       "Map(center=[27, 31], controls=(AttributionControl(options=['position', 'prefix'], position='bottomright'), Sea…"
      ]
     },
     "metadata": {},
     "output_type": "display_data"
    }
   ],
   "source": [
    "Map = Map()\n",
    "Map"
   ]
  },
  {
   "cell_type": "code",
   "execution_count": 81,
   "id": "7adab668",
   "metadata": {},
   "outputs": [],
   "source": [
    "aoi = Map.aoi"
   ]
  },
  {
   "cell_type": "code",
   "execution_count": 96,
   "id": "c3b0ee5d",
   "metadata": {},
   "outputs": [],
   "source": [
    "start_year = 2022\n",
    "start_month = 1\n",
    "start_day = 1\n",
    "end_year = 2022\n",
    "end_month = 2\n",
    "end_day = 22\n",
    "time_delta = 50"
   ]
  },
  {
   "cell_type": "code",
   "execution_count": 97,
   "id": "e548e0a4",
   "metadata": {},
   "outputs": [],
   "source": [
    "CLOUD_FILTER = 5\n",
    "CLD_PRB_THRESH = 50\n",
    "NIR_DRK_THRESH = 0.15\n",
    "CLD_PRJ_DIST = 1\n",
    "BUFFER = 50"
   ]
  },
  {
   "cell_type": "code",
   "execution_count": 98,
   "id": "6919640b",
   "metadata": {},
   "outputs": [],
   "source": [
    "start_date = datetime.date(start_year,start_month,start_day)\n",
    "end_date = datetime.date(end_year,end_month,end_day)\n",
    "ee_start_date = f'{start_year}-{start_month}-{start_day}'\n",
    "ee_end_date = f'{end_year}-{end_month}-{end_day}'"
   ]
  },
  {
   "cell_type": "code",
   "execution_count": 99,
   "id": "657b2587",
   "metadata": {},
   "outputs": [],
   "source": [
    "dates_list = get_dates_list(start_date ,end_date, time_delta)"
   ]
  },
  {
   "cell_type": "code",
   "execution_count": 100,
   "id": "b712901b",
   "metadata": {},
   "outputs": [],
   "source": [
    "s2_sr_cld_col_eval = get_s2_sr_cld_col(aoi, ee_start_date, ee_end_date, CLOUD_FILTER)"
   ]
  },
  {
   "cell_type": "code",
   "execution_count": 101,
   "id": "327ea72e",
   "metadata": {},
   "outputs": [],
   "source": [
    "def add_cloud_bands(img,CLD_PRB_THRESH):\n",
    "    cld_prb = ee.Image(img.get('s2cloudless')).select('probability')\n",
    "    is_cloud = cld_prb.gt(CLD_PRB_THRESH).rename('clouds')\n",
    "    return img.addBands(ee.Image([cld_prb, is_cloud])) "
   ]
  },
  {
   "cell_type": "code",
   "execution_count": 102,
   "id": "f0778a00",
   "metadata": {},
   "outputs": [],
   "source": [
    "def add_shadow_bands(img):\n",
    "    \n",
    "    not_water = img.select('SCL').neq(6)\n",
    "\n",
    "    SR_BAND_SCALE = 1e4\n",
    "    dark_pixels = img.select('B8').lt(NIR_DRK_THRESH*SR_BAND_SCALE).multiply(not_water).rename('dark_pixels')\n",
    "\n",
    "    shadow_azimuth = ee.Number(90).subtract(ee.Number(img.get('MEAN_SOLAR_AZIMUTH_ANGLE')));\n",
    "\n",
    "    cld_proj = (img.select('clouds').directionalDistanceTransform(shadow_azimuth, CLD_PRJ_DIST*10)\n",
    "        .reproject(**{'crs': img.select(0).projection(), 'scale': 100})\n",
    "        .select('distance')\n",
    "        .mask()\n",
    "        .rename('cloud_transform'))\n",
    "\n",
    "    shadows = cld_proj.multiply(dark_pixels).rename('shadows')\n",
    "\n",
    "    return img.addBands(ee.Image([dark_pixels, cld_proj, shadows]))\n",
    "\n",
    "def add_cld_shdw_mask(img):\n",
    "    img_cloud = add_cloud_bands(img,CLD_PRB_THRESH)\n",
    "\n",
    "    img_cloud_shadow = add_shadow_bands(img_cloud)\n",
    "\n",
    "    is_cld_shdw = img_cloud_shadow.select('clouds').add(img_cloud_shadow.select('shadows')).gt(0)\n",
    "\n",
    "    is_cld_shdw = (is_cld_shdw.focalMin(2).focalMax(BUFFER*2/20)\n",
    "        .reproject(**{'crs': img.select([0]).projection(), 'scale': 20})\n",
    "        .rename('cloudmask'))\n",
    "\n",
    "    return img_cloud_shadow.addBands(is_cld_shdw)\n",
    "\n",
    "def apply_cld_shdw_mask(img):\n",
    "    not_cld_shdw = img.select('cloudmask').Not()\n",
    "\n",
    "    return img.select('B.*').updateMask(not_cld_shdw).clip(aoi)\n",
    "\n",
    "s2_sr_cld_col_eval = s2_sr_cld_col_eval.map(add_cld_shdw_mask).map(apply_cld_shdw_mask)"
   ]
  },
  {
   "cell_type": "code",
   "execution_count": 103,
   "id": "3af5b465",
   "metadata": {},
   "outputs": [],
   "source": [
    "def get_images(day_date):\n",
    "    \n",
    "    start_day = ee.Date(day_date)\n",
    "    end_day = start_day.advance(time_delta,'day')\n",
    "    \n",
    "    return s2_sr_cld_col_eval.filterDate(start_day,end_day).reduce(ee.Reducer.median())\\\n",
    "          .set({'start_day':start_day.format('YYYY-MM-dd')})\\\n",
    "          .set({'end_day':end_day.format('YYYY-MM-dd')})"
   ]
  },
  {
   "cell_type": "code",
   "execution_count": 104,
   "id": "8ef94407",
   "metadata": {},
   "outputs": [],
   "source": [
    "images = ee.List(dates_list).map(get_images)"
   ]
  },
  {
   "cell_type": "code",
   "execution_count": 105,
   "id": "9efd8d28",
   "metadata": {},
   "outputs": [],
   "source": [
    "collection = ee.ImageCollection.fromImages(images)"
   ]
  },
  {
   "cell_type": "code",
   "execution_count": 106,
   "id": "23ccb0ce",
   "metadata": {},
   "outputs": [],
   "source": [
    "def add_ndwi(img):\n",
    "    \n",
    "    ndwi = img.normalizedDifference(['B3_median', 'B8_median'])\n",
    "    ndwiMasked = ndwi.updateMask(ndwi.gte(0)).rename('NDWI')\n",
    "    areaImage = ndwiMasked.multiply(ee.Image.pixelArea()).rename('NDWI_AREA')\n",
    "    \n",
    "    return img.addBands(ee.Image([ndwiMasked,areaImage]))"
   ]
  },
  {
   "cell_type": "code",
   "execution_count": 107,
   "id": "f29ec25f",
   "metadata": {},
   "outputs": [],
   "source": [
    "def ndwi_area(img):\n",
    "    \n",
    "    ndwi_area = img.select('NDWI_AREA').reduceRegion(reducer = ee.Reducer.sum(),geometry = aoi, crs =  'EPSG:4326',scale = 100)\n",
    "\n",
    "    return img.set({'NDWI_Area':ndwi_area })\n",
    "\n"
   ]
  },
  {
   "cell_type": "code",
   "execution_count": 108,
   "id": "d753e710",
   "metadata": {},
   "outputs": [],
   "source": [
    "collection = collection.map(add_ndwi).map(ndwi_area)"
   ]
  },
  {
   "cell_type": "code",
   "execution_count": 109,
   "id": "2e0a0430",
   "metadata": {},
   "outputs": [],
   "source": [
    "l = collection.aggregate_array('NDWI_Area').getInfo()"
   ]
  },
  {
   "cell_type": "code",
   "execution_count": 111,
   "id": "6692f757",
   "metadata": {},
   "outputs": [
    {
     "data": {
      "text/plain": [
       "[{'NDWI_AREA': 23502995.96314478}]"
      ]
     },
     "execution_count": 111,
     "metadata": {},
     "output_type": "execute_result"
    }
   ],
   "source": [
    "l"
   ]
  },
  {
   "cell_type": "code",
   "execution_count": 19,
   "id": "195966e3",
   "metadata": {},
   "outputs": [],
   "source": [
    "areas = [item['NDWI_AREA']/(1e6) for item in l]"
   ]
  },
  {
   "cell_type": "code",
   "execution_count": 20,
   "id": "44fde67a",
   "metadata": {},
   "outputs": [],
   "source": [
    "videoArgs = {\n",
    "  'dimensions': 900 ,\n",
    "  'region': aoi,\n",
    "  'framesPerSecond':3,\n",
    "  'crs': 'EPSG:3857',\n",
    "  'min':0,\n",
    "  'max':5000,\n",
    "  'bands':['B4_median','B3_median','B2_median']\n",
    "  \n",
    "        }\n",
    "    "
   ]
  },
  {
   "cell_type": "code",
   "execution_count": 21,
   "id": "d3c3daf8",
   "metadata": {},
   "outputs": [],
   "source": [
    "url = collection.getVideoThumbURL(videoArgs)"
   ]
  },
  {
   "cell_type": "code",
   "execution_count": 22,
   "id": "81e61a75",
   "metadata": {},
   "outputs": [],
   "source": [
    "out_gif = get_gif(url)"
   ]
  },
  {
   "cell_type": "code",
   "execution_count": 23,
   "id": "88901518",
   "metadata": {},
   "outputs": [],
   "source": [
    "add_text_to_gif(out_gif,dates_list, dates_font_size = 25, dates_font_color = 'white', framesPerSecond = 2 )"
   ]
  },
  {
   "cell_type": "code",
   "execution_count": 24,
   "id": "979acb3c",
   "metadata": {},
   "outputs": [
    {
     "data": {
      "application/vnd.jupyter.widget-view+json": {
       "model_id": "bed8f7074f1744ce9abd78d7c141e9ad",
       "version_major": 2,
       "version_minor": 0
      },
      "text/plain": [
       "Output()"
      ]
     },
     "metadata": {},
     "output_type": "display_data"
    }
   ],
   "source": [
    "display_gif(out_gif)"
   ]
  },
  {
   "cell_type": "code",
   "execution_count": 25,
   "id": "752c5eab",
   "metadata": {},
   "outputs": [],
   "source": [
    "videoArgs = {\n",
    "  'dimensions': 900 ,\n",
    "  'region': aoi,\n",
    "  'framesPerSecond':3,\n",
    "  'crs': 'EPSG:3857',\n",
    "  'min': 0.5,\n",
    "  'max': 1,\n",
    "  'palette': ['00FFFF', '0000FF'],\n",
    "  'bands':['NDWI']\n",
    "        }\n",
    "url = collection.getVideoThumbURL(videoArgs)\n",
    "out_gif = get_gif(url)\n",
    "add_text_to_gif(out_gif,dates_list, dates_font_size = 25, dates_font_color = 'white', framesPerSecond = 2 )"
   ]
  },
  {
   "cell_type": "code",
   "execution_count": 26,
   "id": "f1a79287",
   "metadata": {},
   "outputs": [
    {
     "data": {
      "application/vnd.jupyter.widget-view+json": {
       "model_id": "cabe417c15e146e7a96262e765a5981e",
       "version_major": 2,
       "version_minor": 0
      },
      "text/plain": [
       "Output()"
      ]
     },
     "metadata": {},
     "output_type": "display_data"
    }
   ],
   "source": [
    "display_gif(out_gif)"
   ]
  },
  {
   "cell_type": "code",
   "execution_count": 27,
   "id": "23367700",
   "metadata": {},
   "outputs": [],
   "source": [
    "import matplotlib.pyplot as plt"
   ]
  },
  {
   "cell_type": "code",
   "execution_count": 28,
   "id": "1ff6b181",
   "metadata": {},
   "outputs": [
    {
     "data": {
      "text/plain": [
       "[<matplotlib.lines.Line2D at 0x2a58bc33a00>]"
      ]
     },
     "execution_count": 28,
     "metadata": {},
     "output_type": "execute_result"
    },
    {
     "data": {
      "image/png": "[encoded data removed]",
      "text/plain": [
       "<Figure size 720x504 with 1 Axes>"
      ]
     },
     "metadata": {
      "needs_background": "light"
     },
     "output_type": "display_data"
    }
   ],
   "source": [
    "f = plt.figure()\n",
    "f.set_figwidth(10)\n",
    "f.set_figheight(7)\n",
    "plt.xlabel('Sentinel-2 Image date',fontsize=18)\n",
    "plt.ylabel('Water Surface Area (km^2)',fontsize=20)\n",
    "plt.grid(True)\n",
    "plt.xticks(rotation=45)\n",
    "plt.plot(dates_list,areas)"
   ]
  },
  {
   "cell_type": "code",
   "execution_count": null,
   "id": "3c0743d2",
   "metadata": {},
   "outputs": [],
   "source": []
  }
 ],
 "metadata": {
  "hide_input": false,
  "kernelspec": {
   "display_name": "Python 3 (ipykernel)",
   "language": "python",
   "name": "python3"
  },
  "language_info": {
   "codemirror_mode": {
    "name": "ipython",
    "version": 3
   },
   "file_extension": ".py",
   "mimetype": "text/x-python",
   "name": "python",
   "nbconvert_exporter": "python",
   "pygments_lexer": "ipython3",
   "version": "3.9.10"
  },
  "toc": {
   "base_numbering": 1,
   "nav_menu": {},
   "number_sections": true,
   "sideBar": true,
   "skip_h1_title": false,
   "title_cell": "Table of Contents",
   "title_sidebar": "Contents",
   "toc_cell": false,
   "toc_position": {},
   "toc_section_display": true,
   "toc_window_display": false
  }
 },
 "nbformat": 4,
 "nbformat_minor": 5
}
