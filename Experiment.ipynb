{
 "cells": [
  {
   "cell_type": "code",
   "execution_count": 1,
   "id": "ddcef16c",
   "metadata": {},
   "outputs": [],
   "source": [
    "from iteru import *"
   ]
  },
  {
   "cell_type": "code",
   "execution_count": 2,
   "id": "8c8931ff",
   "metadata": {},
   "outputs": [],
   "source": [
    "aoi = GERD_aoi_dam"
   ]
  },
  {
   "cell_type": "code",
   "execution_count": 3,
   "id": "69befa89",
   "metadata": {},
   "outputs": [
    {
     "data": {
      "application/vnd.jupyter.widget-view+json": {
       "model_id": "d3b7ed22b67446f79553af8c764ccb4f",
       "version_major": 2,
       "version_minor": 0
      },
      "text/plain": [
       "Map(center=[10.9, 35.2], controls=(SearchControl(found_style={'fillColor': '#3f0', 'color': '#0f0'}, marker=Ma…"
      ]
     },
     "metadata": {},
     "output_type": "display_data"
    }
   ],
   "source": [
    "Map = Map(zoom=10, center=(10.90, 35.2))\n",
    "Map"
   ]
  },
  {
   "cell_type": "code",
   "execution_count": 4,
   "id": "f96c6b7a",
   "metadata": {},
   "outputs": [],
   "source": [
    "# Map.add_layer_widgets(ee.FeatureCollection(aoi),{'color':'blue'},'AOI')"
   ]
  },
  {
   "cell_type": "code",
   "execution_count": 43,
   "id": "96e26198",
   "metadata": {},
   "outputs": [],
   "source": [
    "dates_dict = {'2020-06-03': 1591154715000,\n",
    " '2020-06-15': 1592191515000,\n",
    " '2020-06-27': 1593228316000,\n",
    " '2020-07-09': 1594265117000,\n",
    " '2020-07-21': 1595301918000,\n",
    " '2020-08-02': 1596338718000,\n",
    " '2020-08-14': 1597375519000,\n",
    " '2020-08-26': 1598412320000,\n",
    " '2020-09-07': 1599449120000,\n",
    " '2020-09-19': 1600485921000,\n",
    " '2020-10-01': 1601522721000,\n",
    " '2020-10-13': 1602559521000,\n",
    " '2020-10-25': 1603596321000,\n",
    " '2020-11-06': 1604633121000,\n",
    " '2020-11-18': 1605669921000,\n",
    " '2020-11-30': 1606706720000,\n",
    " '2020-12-12': 1607743520000,\n",
    " '2021-01-05': 1609817119000,\n",
    " '2021-01-17': 1610853918000,\n",
    " '2021-01-29': 1611890718000,\n",
    " '2021-02-10': 1612927518000,\n",
    " '2021-02-22': 1613964317000,\n",
    " '2021-03-06': 1615001117000,\n",
    " '2021-03-18': 1616037917000,\n",
    " '2021-03-30': 1617074717000,\n",
    " '2021-04-11': 1618111518000,\n",
    " '2021-04-23': 1619148318000,\n",
    " '2021-05-05': 1620185119000,\n",
    " '2021-05-17': 1621221919000,\n",
    " '2021-05-29': 1622258720000,\n",
    " '2021-06-10': 1623295521000,\n",
    " '2021-06-22': 1624332322000,\n",
    " '2021-07-04': 1625369122000,\n",
    " '2021-07-16': 1626405923000,\n",
    " '2021-07-28': 1627442724000,\n",
    " '2021-08-09': 1628479525000,\n",
    " '2021-08-21': 1629516325000,\n",
    " '2021-09-02': 1630553126000,\n",
    " '2021-09-14': 1631589926000,\n",
    " '2021-09-26': 1632626727000,\n",
    " '2021-10-08': 1633663527000,\n",
    " '2021-10-20': 1634700327000,\n",
    " '2021-11-01': 1635737127000,\n",
    " '2021-11-13': 1636773927000,\n",
    " '2021-11-25': 1637810726000,\n",
    " '2021-12-07': 1638847526000,\n",
    " '2021-12-19': 1639884325000,\n",
    " '2021-12-31': 1640921125000,\n",
    " '2022-01-12': 1641957924000,\n",
    " '2022-01-24': 1642994724000,\n",
    " '2022-02-05': 1644031523000,\n",
    " '2022-03-01': 1646105123000,\n",
    " '2022-03-13': 1647141923000,\n",
    " '2022-03-25': 1648178723000,\n",
    " '2022-04-06': 1649215523000,\n",
    " '2022-04-18': 1650252324000,\n",
    " '2022-04-30': 1651289124000}"
   ]
  },
  {
   "cell_type": "code",
   "execution_count": 113,
   "id": "374c1b5c",
   "metadata": {},
   "outputs": [],
   "source": [
    "SAR = ee.ImageCollection('COPERNICUS/S1_GRD')\\\n",
    "    .filter(ee.Filter.equals('relativeOrbitNumber_start', 50))\\\n",
    "    .filter(ee.Filter.eq('instrumentMode', 'IW'))\\\n",
    "    .filter(ee.Filter.eq('orbitProperties_pass', 'DESCENDING'))\\\n",
    "    .filter(ee.Filter.listContains('transmitterReceiverPolarisation', 'VH'))\\\n",
    "    .filter(ee.Filter.listContains('transmitterReceiverPolarisation', 'VV'))\\\n",
    "    .filter(ee.Filter.eq('resolution_meters',10))\\\n",
    "    .filterBounds(aoi)\\\n",
    "    .filter(ee.Filter.eq('system:time_start',1651289124000))\\\n",
    "    .select(['VV','VH'])\\\n",
    "    .median()"
   ]
  },
  {
   "cell_type": "code",
   "execution_count": 206,
   "id": "630526f8",
   "metadata": {},
   "outputs": [],
   "source": [
    "img = ee.ImageCollection(\"COPERNICUS/S2_SR\")\\\n",
    "      .filterBounds(aoi)\\\n",
    "      .filterDate('2022-05-09','2022-05-12')\n",
    "       "
   ]
  },
  {
   "cell_type": "code",
   "execution_count": 202,
   "id": "25754a93",
   "metadata": {},
   "outputs": [],
   "source": [
    "Map.add_layer_widgets(img,get_vis_params(img),'RGB')"
   ]
  },
  {
   "cell_type": "code",
   "execution_count": 114,
   "id": "07fdab41",
   "metadata": {},
   "outputs": [],
   "source": [
    "# VV_smooth = SAR.select('VV').focal_median(50,'circle','meters').rename('VV_Filtered')"
   ]
  },
  {
   "cell_type": "code",
   "execution_count": 179,
   "id": "bae76e2a",
   "metadata": {},
   "outputs": [],
   "source": [
    "VV_smooth = ee.Image(toDB(RefinedLee(toNatural(SAR.select(['VV']))))).rename('VV_Filtered')"
   ]
  },
  {
   "cell_type": "code",
   "execution_count": 180,
   "id": "c55935ab",
   "metadata": {},
   "outputs": [],
   "source": [
    "Map.add_layer_widgets(VV_smooth,{'min':-30,'max':5,'bands':['VV_Filtered']},'SAR')"
   ]
  },
  {
   "cell_type": "code",
   "execution_count": 181,
   "id": "9187d6f6",
   "metadata": {},
   "outputs": [],
   "source": [
    "histogram = VV_smooth.select('VV_Filtered').reduceRegion(               \n",
    "            reducer = ee.Reducer.histogram().combine('mean', None, True).combine('variance', None, True),\n",
    "            geometry = aoi, \n",
    "            scale = 10,\n",
    "            bestEffort = True   )"
   ]
  },
  {
   "cell_type": "code",
   "execution_count": 182,
   "id": "68c1d831",
   "metadata": {},
   "outputs": [],
   "source": [
    "otsu_threshold = otsu(histogram.get('VV_Filtered_histogram'))"
   ]
  },
  {
   "cell_type": "code",
   "execution_count": 183,
   "id": "069743e7",
   "metadata": {},
   "outputs": [
    {
     "data": {
      "text/plain": [
       "-15.871371974233012"
      ]
     },
     "execution_count": 183,
     "metadata": {},
     "output_type": "execute_result"
    }
   ],
   "source": [
    "otsu_threshold.getInfo()"
   ]
  },
  {
   "cell_type": "code",
   "execution_count": 184,
   "id": "7686ba8a",
   "metadata": {},
   "outputs": [],
   "source": [
    "water_mask = VV_smooth.select('VV_Filtered').lt(otsu_threshold).selfMask().rename('water_mask')"
   ]
  },
  {
   "cell_type": "code",
   "execution_count": 185,
   "id": "d73a815b",
   "metadata": {},
   "outputs": [],
   "source": [
    "water_mask = water_mask.select('water_mask').clip(aoi)"
   ]
  },
  {
   "cell_type": "code",
   "execution_count": 186,
   "id": "78c5ad63",
   "metadata": {},
   "outputs": [],
   "source": [
    "# Map.add_layer_widgets(water_mask,{'palette': ['00FFFF', '0000FF'], 'bands':['water_mask']},'Water')"
   ]
  },
  {
   "cell_type": "code",
   "execution_count": 187,
   "id": "56c82cb7",
   "metadata": {},
   "outputs": [],
   "source": [
    "feature = ee.Image(1).updateMask(water_mask).reduceToVectors(\n",
    "           geometry = water_mask.geometry(),\n",
    "           crs ='EPSG:32636',\n",
    "           scale = 10 , \n",
    "           geometryType = 'polygon',\n",
    "           eightConnected = False,\n",
    "           labelProperty =  'water_cover',\n",
    "           bestEffort = True\n",
    "          )"
   ]
  },
  {
   "cell_type": "code",
   "execution_count": 188,
   "id": "9f74b1ef",
   "metadata": {},
   "outputs": [],
   "source": [
    "def calc_area(feature):\n",
    "    \n",
    "    area = feature.geometry().area(maxError = 1)\n",
    "    \n",
    "    return feature.set({'Area':area})"
   ]
  },
  {
   "cell_type": "code",
   "execution_count": 189,
   "id": "33cead70",
   "metadata": {},
   "outputs": [],
   "source": [
    "feature = feature.map(calc_area)"
   ]
  },
  {
   "cell_type": "code",
   "execution_count": 190,
   "id": "4ee2945b",
   "metadata": {},
   "outputs": [],
   "source": [
    "lake_feature = feature.sort('Area', False).first()"
   ]
  },
  {
   "cell_type": "code",
   "execution_count": 191,
   "id": "f7fdb3a5",
   "metadata": {},
   "outputs": [],
   "source": [
    "Map.add_layer_widgets(ee.FeatureCollection(lake_feature.geometry()),{'color':'blue'},'test')"
   ]
  },
  {
   "cell_type": "code",
   "execution_count": 128,
   "id": "5d319766",
   "metadata": {},
   "outputs": [],
   "source": [
    "lake_area = lake_feature.geometry().area(maxError = 1) "
   ]
  },
  {
   "cell_type": "code",
   "execution_count": 129,
   "id": "767150e6",
   "metadata": {},
   "outputs": [
    {
     "data": {
      "text/plain": [
       "311.95478570405083"
      ]
     },
     "execution_count": 129,
     "metadata": {},
     "output_type": "execute_result"
    }
   ],
   "source": [
    "lake_area.getInfo()/1e6"
   ]
  },
  {
   "cell_type": "code",
   "execution_count": 130,
   "id": "1014c808",
   "metadata": {},
   "outputs": [],
   "source": [
    "lake_dem = elevation_dataset.clip(lake_feature)"
   ]
  },
  {
   "cell_type": "code",
   "execution_count": 131,
   "id": "3af59991",
   "metadata": {},
   "outputs": [],
   "source": [
    "elevations = lake_dem.reduceRegion(\n",
    "        reducer=ee.Reducer.toList(), \n",
    "        geometry=lake_dem.geometry(),\n",
    "        maxPixels=1e11,\n",
    "        scale=30,\n",
    "        crs = 'EPSG:32636',\n",
    "        bestEffort = True\n",
    "    ).get('DSM')"
   ]
  },
  {
   "cell_type": "code",
   "execution_count": 132,
   "id": "8985eddf",
   "metadata": {},
   "outputs": [],
   "source": [
    "elevations_list = ee.List(elevations).getInfo()"
   ]
  },
  {
   "cell_type": "code",
   "execution_count": 133,
   "id": "cb564674",
   "metadata": {},
   "outputs": [],
   "source": [
    "elevations_desc = sorted(elevations_list,reverse=True)"
   ]
  },
  {
   "cell_type": "code",
   "execution_count": 160,
   "id": "f3115e4b",
   "metadata": {},
   "outputs": [
    {
     "data": {
      "text/plain": [
       "[623,\n",
       " 623,\n",
       " 622,\n",
       " 621,\n",
       " 621,\n",
       " 621,\n",
       " 620,\n",
       " 620,\n",
       " 620,\n",
       " 620,\n",
       " 620,\n",
       " 620,\n",
       " 619,\n",
       " 619,\n",
       " 619,\n",
       " 619,\n",
       " 619,\n",
       " 618,\n",
       " 618,\n",
       " 618,\n",
       " 618,\n",
       " 618,\n",
       " 618,\n",
       " 618,\n",
       " 618,\n",
       " 617,\n",
       " 617,\n",
       " 617,\n",
       " 617,\n",
       " 617,\n",
       " 617,\n",
       " 617,\n",
       " 617,\n",
       " 617,\n",
       " 616,\n",
       " 616,\n",
       " 616,\n",
       " 616,\n",
       " 616,\n",
       " 616,\n",
       " 616,\n",
       " 616,\n",
       " 616,\n",
       " 616,\n",
       " 616,\n",
       " 616,\n",
       " 615,\n",
       " 615,\n",
       " 615,\n",
       " 615,\n",
       " 615,\n",
       " 615,\n",
       " 615,\n",
       " 615,\n",
       " 615,\n",
       " 615,\n",
       " 615,\n",
       " 615,\n",
       " 615,\n",
       " 615,\n",
       " 615,\n",
       " 615,\n",
       " 615,\n",
       " 615,\n",
       " 615,\n",
       " 615,\n",
       " 615,\n",
       " 614,\n",
       " 614,\n",
       " 614,\n",
       " 614,\n",
       " 614,\n",
       " 614,\n",
       " 614,\n",
       " 614,\n",
       " 614,\n",
       " 614,\n",
       " 614,\n",
       " 614,\n",
       " 614,\n",
       " 614,\n",
       " 614,\n",
       " 614,\n",
       " 614,\n",
       " 614,\n",
       " 614,\n",
       " 614,\n",
       " 614,\n",
       " 614,\n",
       " 614,\n",
       " 614,\n",
       " 614,\n",
       " 614,\n",
       " 613,\n",
       " 613,\n",
       " 613,\n",
       " 613,\n",
       " 613,\n",
       " 613,\n",
       " 613]"
      ]
     },
     "execution_count": 160,
     "metadata": {},
     "output_type": "execute_result"
    }
   ],
   "source": [
    "elevations_desc[0:100]"
   ]
  },
  {
   "cell_type": "code",
   "execution_count": 157,
   "id": "91535a33",
   "metadata": {},
   "outputs": [],
   "source": [
    "water_level= sum(elevations_desc[5:50])/45"
   ]
  },
  {
   "cell_type": "code",
   "execution_count": 158,
   "id": "697cd3c8",
   "metadata": {},
   "outputs": [
    {
     "data": {
      "text/plain": [
       "617.4444444444445"
      ]
     },
     "execution_count": 158,
     "metadata": {},
     "output_type": "execute_result"
    }
   ],
   "source": [
    "water_level"
   ]
  },
  {
   "cell_type": "code",
   "execution_count": 159,
   "id": "2b6ce29b",
   "metadata": {},
   "outputs": [
    {
     "data": {
      "text/plain": [
       "19.557064300000004"
      ]
     },
     "execution_count": 159,
     "metadata": {},
     "output_type": "execute_result"
    }
   ],
   "source": [
    "((water_level*len(elevations_desc)-sum(elevations_desc))*900)/1e9"
   ]
  },
  {
   "cell_type": "code",
   "execution_count": null,
   "id": "d0200955",
   "metadata": {},
   "outputs": [],
   "source": []
  },
  {
   "cell_type": "code",
   "execution_count": null,
   "id": "78ac277e",
   "metadata": {},
   "outputs": [],
   "source": []
  },
  {
   "cell_type": "code",
   "execution_count": null,
   "id": "2d196afb",
   "metadata": {},
   "outputs": [],
   "source": []
  },
  {
   "cell_type": "code",
   "execution_count": null,
   "id": "8fabc714",
   "metadata": {},
   "outputs": [],
   "source": []
  },
  {
   "cell_type": "code",
   "execution_count": null,
   "id": "dd7d7d46",
   "metadata": {},
   "outputs": [],
   "source": []
  },
  {
   "cell_type": "code",
   "execution_count": null,
   "id": "b900cf94",
   "metadata": {},
   "outputs": [],
   "source": []
  },
  {
   "cell_type": "code",
   "execution_count": null,
   "id": "b8f54f81",
   "metadata": {},
   "outputs": [],
   "source": []
  },
  {
   "cell_type": "code",
   "execution_count": 138,
   "id": "6d0fce69",
   "metadata": {},
   "outputs": [],
   "source": [
    "dates = ['2020-06-03',\n",
    "         '2020-06-15',\n",
    "         '2020-06-27',\n",
    "         '2020-07-09',\n",
    "         '2020-07-21',\n",
    "         '2020-08-02',\n",
    "         '2020-08-14',\n",
    "         '2020-08-26',\n",
    "         '2020-09-07',\n",
    "         '2020-09-19',\n",
    "         '2020-10-01',\n",
    "         '2020-10-13',\n",
    "         '2020-10-25',\n",
    "         '2020-11-06',\n",
    "         '2020-11-18',\n",
    "         '2020-11-30',\n",
    "         '2020-12-12',\n",
    "         '2021-01-05',\n",
    "         '2021-01-17',\n",
    "         '2021-01-29',\n",
    "         '2021-02-10',\n",
    "         '2021-02-22',\n",
    "         '2021-03-06',\n",
    "         '2021-03-18',\n",
    "         '2021-03-30',\n",
    "         '2021-04-11',\n",
    "         '2021-04-23',\n",
    "         '2021-05-05',\n",
    "         '2021-05-17',\n",
    "         '2021-05-29',\n",
    "         '2021-06-10',\n",
    "         '2021-06-22',\n",
    "         '2021-07-04',\n",
    "         '2021-07-16',\n",
    "         '2021-07-28',\n",
    "         '2021-08-09',\n",
    "         '2021-08-21',\n",
    "         '2021-09-02',\n",
    "         '2021-09-14',\n",
    "         '2021-09-26',\n",
    "         '2021-10-08',\n",
    "         '2021-10-20',\n",
    "         '2021-11-01',\n",
    "         '2021-11-13',\n",
    "         '2021-11-25',\n",
    "         '2021-12-07',\n",
    "         '2021-12-19',\n",
    "         '2021-12-31',\n",
    "         '2022-01-12',\n",
    "         '2022-01-24',\n",
    "         '2022-02-05',\n",
    "         '2022-03-01',\n",
    "         '2022-03-13',\n",
    "         '2022-03-25',\n",
    "         '2022-04-06',\n",
    "         '2022-04-18',\n",
    "         '2022-04-30'       ]"
   ]
  },
  {
   "cell_type": "code",
   "execution_count": 139,
   "id": "0d6b6473",
   "metadata": {},
   "outputs": [],
   "source": [
    "area = [1.4059533823468258, \n",
    "        1.3092648591408815,\n",
    "        4.089814860824349,\n",
    "        35.45327379977961,\n",
    "        164.35816819309844,\n",
    "        189.77740718269564,\n",
    "        196.40853083558454,\n",
    "        202.39123215378402,\n",
    "        203.523554334184,\n",
    "        189.53771996241093,\n",
    "        189.28488791741248,\n",
    "        176.95780015366395,\n",
    "        174.61886310791974,\n",
    "        168.85974566428175,\n",
    "        165.66604838008865,\n",
    "        165.7250458032984,\n",
    "        165.59976974259482,\n",
    "        164.8396803411305,\n",
    "        165.99755672579104,\n",
    "        93.8793604665423,\n",
    "        165.56881891971852,\n",
    "        165.07898539829688,\n",
    "        165.03871482093427,\n",
    "        164.42640445435802,\n",
    "        165.27437342244127,\n",
    "        164.4474745820135,\n",
    "        146.68979948818443,\n",
    "        79.88630437641581,\n",
    "        146.96696500476466,\n",
    "        160.6680030299982,\n",
    "        148.52494981096328,\n",
    "        163.15544720448597,\n",
    "        176.2540502817411,\n",
    "        235.07805473025874,\n",
    "        328.2007999738251,\n",
    "        344.70344417990566,\n",
    "        338.8554248933449,\n",
    "        340.21834769774614,\n",
    "        347.70020666359324,\n",
    "        336.8797750371678,\n",
    "        283.20250166097503,\n",
    "        323.7673571733698,\n",
    "        314.7612508283281,\n",
    "        310.48020940622155,\n",
    "        308.51955850905426,\n",
    "        307.06320139583335,\n",
    "        304.9742423852767,\n",
    "        303.3029520921586,\n",
    "        307.163230726144,\n",
    "        301.9979937442847,\n",
    "        290.2551696543628,\n",
    "        302.44173942452807,\n",
    "        296.0578490896608,\n",
    "        271.2531198602065,\n",
    "        258.9104369435108,\n",
    "        252.94807243571785,\n",
    "        236.89518025369952 ]\n"
   ]
  },
  {
   "cell_type": "code",
   "execution_count": 140,
   "id": "58101c8e",
   "metadata": {},
   "outputs": [],
   "source": [
    "water_level = [538,\n",
    "               542,\n",
    "               527,\n",
    "               541,\n",
    "               579,\n",
    "               579,\n",
    "               579,\n",
    "               587,\n",
    "               583,\n",
    "               579,\n",
    "               579,\n",
    "               579,\n",
    "               579,\n",
    "               579,\n",
    "               579,\n",
    "               579,\n",
    "               581,\n",
    "               579,\n",
    "               579,\n",
    "               579,\n",
    "               579,\n",
    "               579,\n",
    "               579,\n",
    "               579,\n",
    "               579,\n",
    "               579,\n",
    "               579,\n",
    "               568,\n",
    "               579,\n",
    "               579,\n",
    "               579,\n",
    "               579,\n",
    "               579,\n",
    "               581,\n",
    "               594,\n",
    "               594,\n",
    "               594,\n",
    "               613,\n",
    "               594,\n",
    "               594,\n",
    "               590,\n",
    "               589,\n",
    "               593,\n",
    "               593,\n",
    "               613,\n",
    "               594,\n",
    "               594,\n",
    "               589,\n",
    "               593,\n",
    "               593,\n",
    "               594,\n",
    "               593,\n",
    "               587,\n",
    "               590,\n",
    "               594,\n",
    "               590,\n",
    "               593,]\n"
   ]
  },
  {
   "cell_type": "code",
   "execution_count": 141,
   "id": "f6dae08e",
   "metadata": {},
   "outputs": [],
   "source": [
    "volume = [0.0123237,\n",
    "          0.01539,\n",
    "          0.0709875,\n",
    "          0.6283809,\n",
    "          5.9219208,\n",
    "          6.4411542,\n",
    "          6.53715,\n",
    "          8.2414476,\n",
    "          7.4768265,\n",
    "          6.3805725,\n",
    "          6.4235412,\n",
    "          6.2126901,\n",
    "          6.1687656,\n",
    "          6.035148,\n",
    "          5.9746986,\n",
    "          6.0095394,\n",
    "          6.3389061,\n",
    "          5.9972868,\n",
    "          6.0131547,\n",
    "          3.0654513,\n",
    "          6.0114618,\n",
    "          5.9967477,\n",
    "          6.0017409,\n",
    "          5.9911092,\n",
    "          5.9998428,\n",
    "          5.976495,\n",
    "          5.5968498,\n",
    "          1.9974285,\n",
    "          5.2671636,\n",
    "          5.9109993,\n",
    "          5.5911636,\n",
    "          5.9575527,\n",
    "          6.1664454,\n",
    "          7.5543867,\n",
    "          12.6935667,\n",
    "          12.9778416,\n",
    "          12.852666,\n",
    "          19.35774,\n",
    "          13.0492584,\n",
    "          12.8430873,\n",
    "          10.170756,\n",
    "          10.954836,\n",
    "          12.1226508,\n",
    "          12.0646881,\n",
    "          18.1796814,\n",
    "          12.3077745,\n",
    "          12.2312277,\n",
    "          10.6249797,\n",
    "          12.018474,\n",
    "          11.7944388,\n",
    "          11.4739002,\n",
    "          11.9239137,\n",
    "          9.9836145,\n",
    "          10.3547115,\n",
    "          11.2307391,\n",
    "          10.0941012,\n",
    "          10.0561617]"
   ]
  },
  {
   "cell_type": "code",
   "execution_count": 142,
   "id": "f71810e5",
   "metadata": {},
   "outputs": [
    {
     "data": {
      "text/plain": [
       "{'2021-01-29': 1611890718000}"
      ]
     },
     "execution_count": 142,
     "metadata": {},
     "output_type": "execute_result"
    }
   ],
   "source": [
    "{'2021-01-29': 1611890718000}"
   ]
  },
  {
   "cell_type": "code",
   "execution_count": 143,
   "id": "c3bb082d",
   "metadata": {},
   "outputs": [
    {
     "data": {
      "text/plain": [
       "{'2021-05-05': 1620185119000}"
      ]
     },
     "execution_count": 143,
     "metadata": {},
     "output_type": "execute_result"
    }
   ],
   "source": [
    "{'2021-05-05': 1620185119000}"
   ]
  },
  {
   "cell_type": "code",
   "execution_count": 144,
   "id": "1f7a5b9a",
   "metadata": {},
   "outputs": [
    {
     "data": {
      "text/plain": [
       "{'2021-09-02': 1630553126000}"
      ]
     },
     "execution_count": 144,
     "metadata": {},
     "output_type": "execute_result"
    }
   ],
   "source": [
    "{'2021-09-02': 1630553126000}"
   ]
  },
  {
   "cell_type": "code",
   "execution_count": 145,
   "id": "f80e8845",
   "metadata": {},
   "outputs": [
    {
     "data": {
      "text/plain": [
       "{'2021-11-25': 1637810726000}"
      ]
     },
     "execution_count": 145,
     "metadata": {},
     "output_type": "execute_result"
    }
   ],
   "source": [
    "{'2021-11-25': 1637810726000}"
   ]
  },
  {
   "cell_type": "code",
   "execution_count": null,
   "id": "1dfd7799",
   "metadata": {},
   "outputs": [],
   "source": []
  },
  {
   "cell_type": "code",
   "execution_count": null,
   "id": "6d953f96",
   "metadata": {},
   "outputs": [],
   "source": []
  }
 ],
 "metadata": {
  "hide_input": false,
  "kernelspec": {
   "display_name": "Python 3 (ipykernel)",
   "language": "python",
   "name": "python3"
  },
  "language_info": {
   "codemirror_mode": {
    "name": "ipython",
    "version": 3
   },
   "file_extension": ".py",
   "mimetype": "text/x-python",
   "name": "python",
   "nbconvert_exporter": "python",
   "pygments_lexer": "ipython3",
   "version": "3.9.7"
  },
  "toc": {
   "base_numbering": 1,
   "nav_menu": {},
   "number_sections": true,
   "sideBar": true,
   "skip_h1_title": false,
   "title_cell": "Table of Contents",
   "title_sidebar": "Contents",
   "toc_cell": false,
   "toc_position": {},
   "toc_section_display": true,
   "toc_window_display": false
  }
 },
 "nbformat": 4,
 "nbformat_minor": 5
}
