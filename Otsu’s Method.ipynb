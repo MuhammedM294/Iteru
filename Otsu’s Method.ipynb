{
 "cells": [
  {
   "cell_type": "code",
   "execution_count": 1,
   "id": "48f54d2a",
   "metadata": {},
   "outputs": [],
   "source": [
    "from iteru import *"
   ]
  },
  {
   "cell_type": "code",
   "execution_count": 2,
   "id": "4d9226a6",
   "metadata": {},
   "outputs": [
    {
     "data": {
      "application/vnd.jupyter.widget-view+json": {
       "model_id": "da7a4eb8fea947c59b6a87767e807f57",
       "version_major": 2,
       "version_minor": 0
      },
      "text/plain": [
       "Map(center=[27, 31], controls=(SearchControl(found_style={'fillColor': '#3f0', 'color': '#0f0'}, marker=Marker…"
      ]
     },
     "metadata": {},
     "output_type": "display_data"
    }
   ],
   "source": [
    "Map = Map()\n",
    "Map"
   ]
  },
  {
   "cell_type": "code",
   "execution_count": 3,
   "id": "2ee53921",
   "metadata": {},
   "outputs": [],
   "source": [
    "aoi = GERD_aoi"
   ]
  },
  {
   "cell_type": "code",
   "execution_count": 4,
   "id": "54114ace",
   "metadata": {},
   "outputs": [],
   "source": [
    "SAR = SAR = ee.ImageCollection('COPERNICUS/S1_GRD')\\\n",
    "    .filter(ee.Filter.equals('relativeOrbitNumber_start', 50))\\\n",
    "    .filter(ee.Filter.eq('instrumentMode', 'IW'))\\\n",
    "    .filter(ee.Filter.eq('orbitProperties_pass', 'DESCENDING'))\\\n",
    "    .filter(ee.Filter.listContains('transmitterReceiverPolarisation', 'VH'))\\\n",
    "    .filter(ee.Filter.listContains('transmitterReceiverPolarisation', 'VV'))\\\n",
    "    .filter(ee.Filter.eq('resolution_meters',10))\\\n",
    "    .filter(ee.Filter.gte('system:time_start',1593228316000))\\\n",
    "    .filterBounds(aoi)\\\n",
    "    .select(['VV','VH'])"
   ]
  },
  {
   "cell_type": "code",
   "execution_count": 5,
   "id": "efe1d986",
   "metadata": {},
   "outputs": [],
   "source": [
    "SAR = SAR.filter(ee.Filter.eq('system:time_start',1648178723000)).median().clip(aoi)"
   ]
  },
  {
   "cell_type": "code",
   "execution_count": 6,
   "id": "6af9f701",
   "metadata": {},
   "outputs": [],
   "source": [
    "Map.add_layer_widgets(SAR,{'min':-35,'max':5,'bands':['VH']},'RAW')"
   ]
  },
  {
   "cell_type": "code",
   "execution_count": null,
   "id": "9f7216a8",
   "metadata": {},
   "outputs": [],
   "source": [
    "SAR = ee.Image(toDB(RefinedLee(toNatural(SAR)))).rename('VH_Filtered')"
   ]
  },
  {
   "cell_type": "code",
   "execution_count": null,
   "id": "d0411e50",
   "metadata": {},
   "outputs": [],
   "source": [
    "# Map.add_layer_widgets(SAR,{'min':-35,'max':5,'bands':['VH_Filtered']},'Median Filter')"
   ]
  },
  {
   "cell_type": "code",
   "execution_count": null,
   "id": "36e4c970",
   "metadata": {},
   "outputs": [],
   "source": [
    "histogram =  SAR.select('VH_Filtered').reduceRegion(\n",
    "                                \n",
    "            reducer = ee.Reducer.histogram().combine('mean', None, True).combine('variance', None, True),\n",
    "            geometry = aoi, \n",
    "            scale = 10,\n",
    "            bestEffort = True  \n",
    ")"
   ]
  },
  {
   "cell_type": "code",
   "execution_count": null,
   "id": "87f12a2e",
   "metadata": {},
   "outputs": [],
   "source": [
    "threshold = otsu(histogram.get('VH_Filtered_histogram'))"
   ]
  },
  {
   "cell_type": "code",
   "execution_count": null,
   "id": "d7473d1f",
   "metadata": {},
   "outputs": [],
   "source": [
    "threshold.getInfo()"
   ]
  },
  {
   "cell_type": "code",
   "execution_count": null,
   "id": "59debbaf",
   "metadata": {},
   "outputs": [],
   "source": [
    "water = SAR.select('VH_Filtered').lt(threshold).selfMask().clip(aoi).rename('water_mask')"
   ]
  },
  {
   "cell_type": "code",
   "execution_count": null,
   "id": "27302e19",
   "metadata": {},
   "outputs": [],
   "source": [
    " Map.add_layer_widgets(test,{'palette': ['00FFFF', '0000FF']},'test')"
   ]
  },
  {
   "cell_type": "code",
   "execution_count": null,
   "id": "ac382639",
   "metadata": {},
   "outputs": [],
   "source": [
    "water_mask = water.select('water_mask').clip(GERD_aoi)"
   ]
  },
  {
   "cell_type": "code",
   "execution_count": null,
   "id": "55f185d0",
   "metadata": {},
   "outputs": [],
   "source": [
    "feature = ee.Image(1).updateMask(water_mask).reduceToVectors(\n",
    "        geometry=water_mask.geometry(),\n",
    "        crs='EPSG:32636',\n",
    "        scale=10,\n",
    "        geometryType='polygon',\n",
    "        eightConnected=False,\n",
    "        labelProperty='water_cover',\n",
    "        bestEffort=True\n",
    "    )"
   ]
  },
  {
   "cell_type": "code",
   "execution_count": null,
   "id": "017bdb15",
   "metadata": {},
   "outputs": [],
   "source": [
    "# Map.add_layer_widgets(feature,{'color':'red'},'Filter Water Vector')"
   ]
  },
  {
   "cell_type": "code",
   "execution_count": null,
   "id": "6070f0c9",
   "metadata": {},
   "outputs": [],
   "source": [
    "feature = feature.map(calc_area)"
   ]
  },
  {
   "cell_type": "code",
   "execution_count": null,
   "id": "d26f70fc",
   "metadata": {},
   "outputs": [],
   "source": [
    "lake_feature = feature.sort('Area', False).first()"
   ]
  },
  {
   "cell_type": "code",
   "execution_count": null,
   "id": "9c17fccd",
   "metadata": {},
   "outputs": [],
   "source": [
    "# Map.add_ee_layer(ee.Feature(lake_feature),{'color':'black'},'Lake')"
   ]
  },
  {
   "cell_type": "code",
   "execution_count": null,
   "id": "e11ea71d",
   "metadata": {},
   "outputs": [],
   "source": [
    "# Map.add_layer_widgets(ee.Feature(lake_feature),{'color':'black'},'Lake')"
   ]
  },
  {
   "cell_type": "code",
   "execution_count": null,
   "id": "020508ae",
   "metadata": {},
   "outputs": [],
   "source": [
    "lake_dem = elevation_dataset.clip(lake_feature)"
   ]
  },
  {
   "cell_type": "code",
   "execution_count": null,
   "id": "55544281",
   "metadata": {},
   "outputs": [],
   "source": [
    "max_ele = lake_dem.reduceRegion(\n",
    "        reducer=ee.Reducer.max(),\n",
    "        geometry=lake_dem.geometry(),\n",
    "        scale=30,\n",
    "        crs='EPSG:32636',\n",
    "        maxPixels=1e11).get('DSM')"
   ]
  },
  {
   "cell_type": "code",
   "execution_count": null,
   "id": "d390797d",
   "metadata": {},
   "outputs": [],
   "source": [
    "water_level = max_ele.getInfo()"
   ]
  },
  {
   "cell_type": "code",
   "execution_count": null,
   "id": "d8f1d6fc",
   "metadata": {},
   "outputs": [],
   "source": [
    "elevations = lake_dem.reduceRegion(\n",
    "        reducer=ee.Reducer.toList(),\n",
    "        geometry=lake_dem.geometry(),\n",
    "        maxPixels=1e11,\n",
    "        scale=30,\n",
    "        crs='EPSG:32636',\n",
    "        bestEffort=True\n",
    "    ).get('DSM')"
   ]
  },
  {
   "cell_type": "code",
   "execution_count": null,
   "id": "86a28361",
   "metadata": {},
   "outputs": [],
   "source": [
    "elev_pixles_num = ee.List(elevations).length()"
   ]
  },
  {
   "cell_type": "code",
   "execution_count": null,
   "id": "59ef26cf",
   "metadata": {},
   "outputs": [],
   "source": [
    "elev_sum = ee.List(elevations).reduce(ee.Reducer.sum())"
   ]
  },
  {
   "cell_type": "code",
   "execution_count": null,
   "id": "7889396e",
   "metadata": {},
   "outputs": [],
   "source": [
    "elevations_sum = elev_sum.getInfo()"
   ]
  },
  {
   "cell_type": "code",
   "execution_count": null,
   "id": "8f90c56f",
   "metadata": {},
   "outputs": [],
   "source": [
    "pixles_count = elev_pixles_num.getInfo()"
   ]
  },
  {
   "cell_type": "code",
   "execution_count": null,
   "id": "0726af55",
   "metadata": {},
   "outputs": [],
   "source": [
    "((water_level*pixles_count-elevations_sum)*900)/(1e9)"
   ]
  },
  {
   "cell_type": "code",
   "execution_count": null,
   "id": "ef4c3486",
   "metadata": {},
   "outputs": [],
   "source": []
  },
  {
   "cell_type": "code",
   "execution_count": null,
   "id": "d83be0a6",
   "metadata": {},
   "outputs": [],
   "source": []
  },
  {
   "cell_type": "code",
   "execution_count": null,
   "id": "d2437836",
   "metadata": {},
   "outputs": [],
   "source": []
  }
 ],
 "metadata": {
  "hide_input": false,
  "kernelspec": {
   "display_name": "Python 3 (ipykernel)",
   "language": "python",
   "name": "python3"
  },
  "language_info": {
   "codemirror_mode": {
    "name": "ipython",
    "version": 3
   },
   "file_extension": ".py",
   "mimetype": "text/x-python",
   "name": "python",
   "nbconvert_exporter": "python",
   "pygments_lexer": "ipython3",
   "version": "3.9.7"
  },
  "toc": {
   "base_numbering": 1,
   "nav_menu": {},
   "number_sections": true,
   "sideBar": true,
   "skip_h1_title": false,
   "title_cell": "Table of Contents",
   "title_sidebar": "Contents",
   "toc_cell": false,
   "toc_position": {},
   "toc_section_display": true,
   "toc_window_display": false
  }
 },
 "nbformat": 4,
 "nbformat_minor": 5
}
