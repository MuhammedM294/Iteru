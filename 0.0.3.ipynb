{
 "cells": [
  {
   "cell_type": "code",
   "execution_count": 1,
   "id": "e829d462",
   "metadata": {},
   "outputs": [],
   "source": [
    "from iteru import *\n",
    "from ipywidgets import *\n",
    "ee.Initialize()"
   ]
  },
  {
   "cell_type": "code",
   "execution_count": 2,
   "id": "623615f6",
   "metadata": {},
   "outputs": [],
   "source": [
    "map = Map()"
   ]
  },
  {
   "cell_type": "code",
   "execution_count": 3,
   "id": "ecda3baa",
   "metadata": {},
   "outputs": [],
   "source": [
    "basemaps = Dropdown(\n",
    "    options = basemaps,\n",
    "    value = None,\n",
    "    description = 'Basemaps',\n",
    "    description_tooltip = 'Select Basemap',\n",
    "    layout=Layout(width='210px'),\n",
    "    indent=False\n",
    ")"
   ]
  },
  {
   "cell_type": "code",
   "execution_count": 4,
   "id": "5852286c",
   "metadata": {},
   "outputs": [],
   "source": [
    "padding = \"0px 0px 0px 0px\" \n",
    "basemaps_button = ToggleButton(\n",
    "                               value = False, \n",
    "                               tooltip = 'Select A Basemap',\n",
    "                               icon = 'map',\n",
    "                               layout = Layout(width = '32px', height = '28px'),\n",
    "                               padding = padding\n",
    " )\n",
    "TOC = ToggleButton(\n",
    "                   value = False, \n",
    "                   tooltip = 'Table of Contents',\n",
    "                   icon = 'align-justify',\n",
    "                   layout = Layout(width = '32px', height = '28px'),\n",
    "                   padding = padding\n",
    "       )\n",
    "basemap_tool = HBox([basemaps_button])\n",
    "TOC_container = VBox([TOC])\n",
    "TOC_out = Output(layout={'border': '1px solid blue'})"
   ]
  },
  {
   "cell_type": "code",
   "execution_count": 5,
   "id": "8da6c0ae",
   "metadata": {},
   "outputs": [],
   "source": [
    "def basemap_tool_click(change):\n",
    "    if change.new:\n",
    "        basemap_tool.children = [basemaps_button,basemaps]\n",
    "    else:\n",
    "        basemap_tool.children = [basemaps_button]\n",
    "\n",
    "def TOC_container_click(change):\n",
    "    if change.new:\n",
    "        TOC_container.children = [TOC,TOC_out]\n",
    "    else:\n",
    "        TOC_container.children = [TOC]      \n",
    "\n",
    "TOC.observe(TOC_container_click, names = 'value')\n",
    "basemaps_button.observe(basemap_tool_click, names = 'value')\n",
    "\n",
    "basemap_tool_widget = AddWidget(widget = basemap_tool, position = 'topleft')\n",
    "TOC_widget = AddWidget(widget = TOC_container, position = 'topleft')\n",
    "map.add_control(basemap_tool_widget)\n",
    "map.add_control(TOC_widget )"
   ]
  },
  {
   "cell_type": "code",
   "execution_count": 6,
   "id": "2732b63b",
   "metadata": {},
   "outputs": [],
   "source": [
    "close_button = ToggleButton(   value = False, \n",
    "                               tooltip = 'Remove This Basemap',\n",
    "                               icon = 'window-close',\n",
    "                               layout = Layout(width = '32px', height = '28px'),\n",
    "                               button_style=\"primary\",)"
   ]
  },
  {
   "cell_type": "code",
   "execution_count": 7,
   "id": "ee139124",
   "metadata": {},
   "outputs": [],
   "source": [
    "def basemap_widgets(change):\n",
    "    if change.new:\n",
    "            if change.new in map.layers:\n",
    "                pass\n",
    "            else:\n",
    "                map.add_layer(change.new)\n",
    "                \n",
    "                basemap_visibility = Checkbox(\n",
    "                                              value = True, \n",
    "                                              indent=False,\n",
    "                                              layout = Layout(width = '15px')\n",
    "                             )\n",
    "                \n",
    "                basemap_name = Label(\n",
    "                                   value= change.new.name,\n",
    "                                   layout = Layout(width = '110px', height = '28px'),\n",
    "                                   tooltip = change.new.name\n",
    "                              )\n",
    "                \n",
    "        \n",
    "                close_button = Button(  \n",
    "                                      value = False, \n",
    "                                      tooltip = 'Remove This Basemap',\n",
    "                                      icon = 'window-close',\n",
    "                                      layout = Layout(width = '32px', height = '28px'),\n",
    "                                    \n",
    "                               )\n",
    "            \n",
    "                opacity = FloatSlider(\n",
    "                                      value = 1,\n",
    "                                      min = 0,  \n",
    "                                      max = 1,\n",
    "                                      step = 0.1,\n",
    "                                      indent=False,\n",
    "                                    \n",
    "                               )\n",
    "                \n",
    "                def change_basemap_visibility(show_hide):\n",
    "                    change.new.visible = show_hide \n",
    "                    \n",
    "                def change_basemap_opacity(Opacity):\n",
    "                    change.new.opacity = Opacity\n",
    "                        \n",
    "                def remove_basemap(b):\n",
    "                    map.remove_layer(change.new)\n",
    "                    close_button.close()\n",
    "                    opacity.close()\n",
    "                    basemap_name.close()\n",
    "                    basemap_visibility.close()\n",
    "                    \n",
    "                opacity_slider = interactive(change_basemap_opacity,Opacity = opacity)\n",
    "                \n",
    "                visibility_checkbox = interactive(change_basemap_visibility,show_hide = basemap_visibility)\n",
    "                \n",
    "                with TOC_out:\n",
    "                    display(HBox([basemap_visibility,basemap_name,opacity, close_button]))\n",
    "                \n",
    "                \n",
    "                close_button.on_click(remove_basemap)\n",
    "                \n",
    "                           \n",
    "basemaps.observe(basemap_widgets, names = 'value') "
   ]
  },
  {
   "cell_type": "code",
   "execution_count": 8,
   "id": "dc20cb55",
   "metadata": {},
   "outputs": [
    {
     "data": {
      "application/vnd.jupyter.widget-view+json": {
       "model_id": "951ba088f099405a83f43a3d2df22d3b",
       "version_major": 2,
       "version_minor": 0
      },
      "text/plain": [
       "Map(center=[27, 31], controls=(AttributionControl(options=['position', 'prefix'], position='bottomright'), Sea…"
      ]
     },
     "metadata": {},
     "output_type": "display_data"
    }
   ],
   "source": [
    "map"
   ]
  },
  {
   "cell_type": "code",
   "execution_count": 19,
   "id": "7fa28095",
   "metadata": {},
   "outputs": [
    {
     "name": "stdout",
     "output_type": "stream",
     "text": [
      "ee.Image({\n",
      "  \"functionInvocationValue\": {\n",
      "    \"functionName\": \"Image.load\",\n",
      "    \"arguments\": {\n",
      "      \"id\": {\n",
      "        \"constantValue\": \"CGIAR/SRTM90_V4\"\n",
      "      }\n",
      "    }\n",
      "  }\n",
      "})\n",
      "{'mapid': 'projects/earthengine-legacy/maps/586c191ed438700a520c14644f87a3fd-0f1b4f7f75be401f870151496a3b18fb', 'token': '', 'tile_fetcher': <ee.data.TileFetcher object at 0x000001C9793AFDC0>, 'image': <ee.image.Image object at 0x000001C97963ABB0>}\n"
     ]
    }
   ],
   "source": [
    "dem = ee.Image('CGIAR/SRTM90_V4')\n",
    "vis_params = {\n",
    "  'min': 0,\n",
    "  'max': 4000,\n",
    "  'palette': ['006633', 'E5FFCC', '662A00', 'D8D8D8', 'F5F5F5']}\n",
    "\n",
    "print(dem)\n",
    "print(dem.getMapId())"
   ]
  },
  {
   "cell_type": "code",
   "execution_count": 10,
   "id": "5cf5ce57",
   "metadata": {},
   "outputs": [],
   "source": [
    "dem_id = dem.getMapId(vis_params)"
   ]
  },
  {
   "cell_type": "code",
   "execution_count": 11,
   "id": "1c72da01",
   "metadata": {},
   "outputs": [],
   "source": [
    "dem_url = dem_id['tile_fetcher'].url_format"
   ]
  },
  {
   "cell_type": "code",
   "execution_count": 12,
   "id": "c84257aa",
   "metadata": {},
   "outputs": [],
   "source": [
    "dem_lyr = TileLayer(\n",
    "    url =dem_url, \n",
    "    attribution = 'Map Data &copy; <a href=\"https://earthengine.google.com/\">Google Earth Engine</a>',\n",
    "    name = 'DEM',\n",
    "    overlay=True,\n",
    "    control=True\n",
    ")"
   ]
  },
  {
   "cell_type": "code",
   "execution_count": 27,
   "id": "946d594d",
   "metadata": {},
   "outputs": [],
   "source": [
    "dem2 = ee.Image('CGIAR/SRTM90_V4')\n"
   ]
  },
  {
   "cell_type": "code",
   "execution_count": 34,
   "id": "74f88df4",
   "metadata": {},
   "outputs": [],
   "source": [
    "def add_ee_layer( ee_object, vis_params = None, name ='ee layer'):\n",
    "        \n",
    "        ee_object_id =ee_object.getMapId(vis_params)\n",
    "\n",
    "        ee_object_tile = TileLayer(\n",
    "        \n",
    "              url = ee_object_id['tile_fetcher'].url_format,\n",
    "              attribution = 'Map Data &copy; <a href=\"https://earthengine.google.com/\">Google Earth Engine</a>',\n",
    "              name = name, \n",
    "              overlay = True,\n",
    "              control = True\n",
    "        )\n",
    "        map.add_layer(ee_object_tile)"
   ]
  },
  {
   "cell_type": "code",
   "execution_count": 36,
   "id": "630f06a9",
   "metadata": {},
   "outputs": [],
   "source": [
    "add_ee_layer(dem2, vis_params = vis_params, name = 'DEM3' )"
   ]
  },
  {
   "cell_type": "code",
   "execution_count": null,
   "id": "ffe6b8a9",
   "metadata": {},
   "outputs": [],
   "source": []
  }
 ],
 "metadata": {
  "hide_input": false,
  "kernelspec": {
   "display_name": "Python 3 (ipykernel)",
   "language": "python",
   "name": "python3"
  },
  "language_info": {
   "codemirror_mode": {
    "name": "ipython",
    "version": 3
   },
   "file_extension": ".py",
   "mimetype": "text/x-python",
   "name": "python",
   "nbconvert_exporter": "python",
   "pygments_lexer": "ipython3",
   "version": "3.9.7"
  },
  "toc": {
   "base_numbering": 1,
   "nav_menu": {},
   "number_sections": true,
   "sideBar": true,
   "skip_h1_title": false,
   "title_cell": "Table of Contents",
   "title_sidebar": "Contents",
   "toc_cell": false,
   "toc_position": {},
   "toc_section_display": true,
   "toc_window_display": false
  }
 },
 "nbformat": 4,
 "nbformat_minor": 5
}
