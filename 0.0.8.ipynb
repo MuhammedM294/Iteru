{
 "cells": [
  {
   "cell_type": "code",
   "execution_count": null,
   "id": "906c7aa4",
   "metadata": {},
   "outputs": [],
   "source": [
    "import ee\n",
    "ee.Initialize()\n",
    "from iteru import *\n",
    "from IPython.display import display\n",
    "import ipywidgets\n",
    "import datetime"
   ]
  },
  {
   "cell_type": "code",
   "execution_count": null,
   "id": "4dedaf7e",
   "metadata": {},
   "outputs": [],
   "source": [
    "Map = Map()\n",
    "Map"
   ]
  },
  {
   "cell_type": "code",
   "execution_count": 62,
   "id": "7adab668",
   "metadata": {},
   "outputs": [],
   "source": [
    "aoi = Map.aoi"
   ]
  },
  {
   "cell_type": "code",
   "execution_count": 71,
   "id": "7261ef5f",
   "metadata": {},
   "outputs": [],
   "source": [
    "image = ee.ImageCollection(\"COPERNICUS/S2_SR\")\\\n",
    "               .filterBounds(aoi)\\\n",
    "                .filterDate('2020-01-01','2021-01-01')\\\n",
    "                .sort('CLOUD_COVER')\\\n",
    "                .limit(30)\\\n",
    "                 .median()\\\n",
    "                .clip(aoi)\n"
   ]
  },
  {
   "cell_type": "code",
   "execution_count": 72,
   "id": "163a5e1d",
   "metadata": {},
   "outputs": [],
   "source": [
    "Map.add_layer_widgets(image, {'min':0,'max':5000,'bands':['B4','B3','B2']},'Sentinel-2')"
   ]
  },
  {
   "cell_type": "code",
   "execution_count": 73,
   "id": "3b91f2ab",
   "metadata": {},
   "outputs": [],
   "source": [
    "ndwi = image.normalizedDifference(['B3', 'B8'])"
   ]
  },
  {
   "cell_type": "code",
   "execution_count": 74,
   "id": "306e08aa",
   "metadata": {},
   "outputs": [],
   "source": [
    "ndwiMasked = ndwi.updateMask(ndwi.gte(0))"
   ]
  },
  {
   "cell_type": "code",
   "execution_count": 75,
   "id": "a7e8198c",
   "metadata": {},
   "outputs": [],
   "source": [
    "ndwiViz = {'min': 0.5, 'max': 1, 'palette': ['00FFFF', '0000FF']}"
   ]
  },
  {
   "cell_type": "code",
   "execution_count": 76,
   "id": "e1528959",
   "metadata": {},
   "outputs": [],
   "source": [
    "Map.add_layer_widgets(ndwiMasked ,ndwiViz,'ndwiMasked_B11')"
   ]
  },
  {
   "cell_type": "code",
   "execution_count": 77,
   "id": "33ef5094",
   "metadata": {},
   "outputs": [],
   "source": [
    "areaImage = ndwiMasked.multiply(ee.Image.pixelArea()).rename('NDWI_AREA')"
   ]
  },
  {
   "cell_type": "code",
   "execution_count": 78,
   "id": "8d8f10ed",
   "metadata": {},
   "outputs": [],
   "source": [
    "area = areaImage.reduceRegion(\n",
    "    reducer = ee.Reducer.sum(), \n",
    "    crs =  'EPSG:4326',\n",
    "    scale = 50\n",
    ")"
   ]
  },
  {
   "cell_type": "code",
   "execution_count": 83,
   "id": "9f3bbc7a",
   "metadata": {},
   "outputs": [
    {
     "data": {
      "text/plain": [
       "<ee.dictionary.Dictionary at 0x29babcb5c40>"
      ]
     },
     "execution_count": 83,
     "metadata": {},
     "output_type": "execute_result"
    }
   ],
   "source": [
    "area"
   ]
  },
  {
   "cell_type": "code",
   "execution_count": 84,
   "id": "69a1e7c9",
   "metadata": {},
   "outputs": [],
   "source": [
    "x = area.getInfo()['NDWI_AREA']"
   ]
  },
  {
   "cell_type": "code",
   "execution_count": 85,
   "id": "67eaebbf",
   "metadata": {},
   "outputs": [
    {
     "data": {
      "text/plain": [
       "23892.593621567656"
      ]
     },
     "execution_count": 85,
     "metadata": {},
     "output_type": "execute_result"
    }
   ],
   "source": [
    "x"
   ]
  },
  {
   "cell_type": "code",
   "execution_count": 86,
   "id": "a2289ae4",
   "metadata": {},
   "outputs": [],
   "source": [
    "y = x/(1e6)"
   ]
  },
  {
   "cell_type": "code",
   "execution_count": 87,
   "id": "3f1eb07e",
   "metadata": {},
   "outputs": [],
   "source": [
    "ximage = image.set('area',area)"
   ]
  },
  {
   "cell_type": "code",
   "execution_count": 88,
   "id": "32c5f57d",
   "metadata": {},
   "outputs": [
    {
     "data": {
      "text/plain": [
       "{'type': 'Image',\n",
       " 'bands': [{'id': 'B1',\n",
       "   'data_type': {'type': 'PixelType',\n",
       "    'precision': 'double',\n",
       "    'min': 0,\n",
       "    'max': 65535},\n",
       "   'dimensions': [2, 1],\n",
       "   'origin': [29, 31],\n",
       "   'crs': 'EPSG:4326',\n",
       "   'crs_transform': [1, 0, 0, 0, 1, 0]},\n",
       "  {'id': 'B2',\n",
       "   'data_type': {'type': 'PixelType',\n",
       "    'precision': 'double',\n",
       "    'min': 0,\n",
       "    'max': 65535},\n",
       "   'dimensions': [2, 1],\n",
       "   'origin': [29, 31],\n",
       "   'crs': 'EPSG:4326',\n",
       "   'crs_transform': [1, 0, 0, 0, 1, 0]},\n",
       "  {'id': 'B3',\n",
       "   'data_type': {'type': 'PixelType',\n",
       "    'precision': 'double',\n",
       "    'min': 0,\n",
       "    'max': 65535},\n",
       "   'dimensions': [2, 1],\n",
       "   'origin': [29, 31],\n",
       "   'crs': 'EPSG:4326',\n",
       "   'crs_transform': [1, 0, 0, 0, 1, 0]},\n",
       "  {'id': 'B4',\n",
       "   'data_type': {'type': 'PixelType',\n",
       "    'precision': 'double',\n",
       "    'min': 0,\n",
       "    'max': 65535},\n",
       "   'dimensions': [2, 1],\n",
       "   'origin': [29, 31],\n",
       "   'crs': 'EPSG:4326',\n",
       "   'crs_transform': [1, 0, 0, 0, 1, 0]},\n",
       "  {'id': 'B5',\n",
       "   'data_type': {'type': 'PixelType',\n",
       "    'precision': 'double',\n",
       "    'min': 0,\n",
       "    'max': 65535},\n",
       "   'dimensions': [2, 1],\n",
       "   'origin': [29, 31],\n",
       "   'crs': 'EPSG:4326',\n",
       "   'crs_transform': [1, 0, 0, 0, 1, 0]},\n",
       "  {'id': 'B6',\n",
       "   'data_type': {'type': 'PixelType',\n",
       "    'precision': 'double',\n",
       "    'min': 0,\n",
       "    'max': 65535},\n",
       "   'dimensions': [2, 1],\n",
       "   'origin': [29, 31],\n",
       "   'crs': 'EPSG:4326',\n",
       "   'crs_transform': [1, 0, 0, 0, 1, 0]},\n",
       "  {'id': 'B7',\n",
       "   'data_type': {'type': 'PixelType',\n",
       "    'precision': 'double',\n",
       "    'min': 0,\n",
       "    'max': 65535},\n",
       "   'dimensions': [2, 1],\n",
       "   'origin': [29, 31],\n",
       "   'crs': 'EPSG:4326',\n",
       "   'crs_transform': [1, 0, 0, 0, 1, 0]},\n",
       "  {'id': 'B8',\n",
       "   'data_type': {'type': 'PixelType',\n",
       "    'precision': 'double',\n",
       "    'min': 0,\n",
       "    'max': 65535},\n",
       "   'dimensions': [2, 1],\n",
       "   'origin': [29, 31],\n",
       "   'crs': 'EPSG:4326',\n",
       "   'crs_transform': [1, 0, 0, 0, 1, 0]},\n",
       "  {'id': 'B8A',\n",
       "   'data_type': {'type': 'PixelType',\n",
       "    'precision': 'double',\n",
       "    'min': 0,\n",
       "    'max': 65535},\n",
       "   'dimensions': [2, 1],\n",
       "   'origin': [29, 31],\n",
       "   'crs': 'EPSG:4326',\n",
       "   'crs_transform': [1, 0, 0, 0, 1, 0]},\n",
       "  {'id': 'B9',\n",
       "   'data_type': {'type': 'PixelType',\n",
       "    'precision': 'double',\n",
       "    'min': 0,\n",
       "    'max': 65535},\n",
       "   'dimensions': [2, 1],\n",
       "   'origin': [29, 31],\n",
       "   'crs': 'EPSG:4326',\n",
       "   'crs_transform': [1, 0, 0, 0, 1, 0]},\n",
       "  {'id': 'B11',\n",
       "   'data_type': {'type': 'PixelType',\n",
       "    'precision': 'double',\n",
       "    'min': 0,\n",
       "    'max': 65535},\n",
       "   'dimensions': [2, 1],\n",
       "   'origin': [29, 31],\n",
       "   'crs': 'EPSG:4326',\n",
       "   'crs_transform': [1, 0, 0, 0, 1, 0]},\n",
       "  {'id': 'B12',\n",
       "   'data_type': {'type': 'PixelType',\n",
       "    'precision': 'double',\n",
       "    'min': 0,\n",
       "    'max': 65535},\n",
       "   'dimensions': [2, 1],\n",
       "   'origin': [29, 31],\n",
       "   'crs': 'EPSG:4326',\n",
       "   'crs_transform': [1, 0, 0, 0, 1, 0]},\n",
       "  {'id': 'AOT',\n",
       "   'data_type': {'type': 'PixelType',\n",
       "    'precision': 'double',\n",
       "    'min': 0,\n",
       "    'max': 65535},\n",
       "   'dimensions': [2, 1],\n",
       "   'origin': [29, 31],\n",
       "   'crs': 'EPSG:4326',\n",
       "   'crs_transform': [1, 0, 0, 0, 1, 0]},\n",
       "  {'id': 'WVP',\n",
       "   'data_type': {'type': 'PixelType',\n",
       "    'precision': 'double',\n",
       "    'min': 0,\n",
       "    'max': 65535},\n",
       "   'dimensions': [2, 1],\n",
       "   'origin': [29, 31],\n",
       "   'crs': 'EPSG:4326',\n",
       "   'crs_transform': [1, 0, 0, 0, 1, 0]},\n",
       "  {'id': 'SCL',\n",
       "   'data_type': {'type': 'PixelType',\n",
       "    'precision': 'double',\n",
       "    'min': 0,\n",
       "    'max': 255},\n",
       "   'dimensions': [2, 1],\n",
       "   'origin': [29, 31],\n",
       "   'crs': 'EPSG:4326',\n",
       "   'crs_transform': [1, 0, 0, 0, 1, 0]},\n",
       "  {'id': 'TCI_R',\n",
       "   'data_type': {'type': 'PixelType',\n",
       "    'precision': 'double',\n",
       "    'min': 0,\n",
       "    'max': 255},\n",
       "   'dimensions': [2, 1],\n",
       "   'origin': [29, 31],\n",
       "   'crs': 'EPSG:4326',\n",
       "   'crs_transform': [1, 0, 0, 0, 1, 0]},\n",
       "  {'id': 'TCI_G',\n",
       "   'data_type': {'type': 'PixelType',\n",
       "    'precision': 'double',\n",
       "    'min': 0,\n",
       "    'max': 255},\n",
       "   'dimensions': [2, 1],\n",
       "   'origin': [29, 31],\n",
       "   'crs': 'EPSG:4326',\n",
       "   'crs_transform': [1, 0, 0, 0, 1, 0]},\n",
       "  {'id': 'TCI_B',\n",
       "   'data_type': {'type': 'PixelType',\n",
       "    'precision': 'double',\n",
       "    'min': 0,\n",
       "    'max': 255},\n",
       "   'dimensions': [2, 1],\n",
       "   'origin': [29, 31],\n",
       "   'crs': 'EPSG:4326',\n",
       "   'crs_transform': [1, 0, 0, 0, 1, 0]},\n",
       "  {'id': 'MSK_CLDPRB',\n",
       "   'data_type': {'type': 'PixelType',\n",
       "    'precision': 'double',\n",
       "    'min': 0,\n",
       "    'max': 255},\n",
       "   'dimensions': [2, 1],\n",
       "   'origin': [29, 31],\n",
       "   'crs': 'EPSG:4326',\n",
       "   'crs_transform': [1, 0, 0, 0, 1, 0]},\n",
       "  {'id': 'MSK_SNWPRB',\n",
       "   'data_type': {'type': 'PixelType',\n",
       "    'precision': 'double',\n",
       "    'min': 0,\n",
       "    'max': 255},\n",
       "   'dimensions': [2, 1],\n",
       "   'origin': [29, 31],\n",
       "   'crs': 'EPSG:4326',\n",
       "   'crs_transform': [1, 0, 0, 0, 1, 0]},\n",
       "  {'id': 'QA10',\n",
       "   'data_type': {'type': 'PixelType',\n",
       "    'precision': 'double',\n",
       "    'min': 0,\n",
       "    'max': 65535},\n",
       "   'dimensions': [2, 1],\n",
       "   'origin': [29, 31],\n",
       "   'crs': 'EPSG:4326',\n",
       "   'crs_transform': [1, 0, 0, 0, 1, 0]},\n",
       "  {'id': 'QA20',\n",
       "   'data_type': {'type': 'PixelType',\n",
       "    'precision': 'double',\n",
       "    'min': 0,\n",
       "    'max': 4294967295},\n",
       "   'dimensions': [2, 1],\n",
       "   'origin': [29, 31],\n",
       "   'crs': 'EPSG:4326',\n",
       "   'crs_transform': [1, 0, 0, 0, 1, 0]},\n",
       "  {'id': 'QA60',\n",
       "   'data_type': {'type': 'PixelType',\n",
       "    'precision': 'double',\n",
       "    'min': 0,\n",
       "    'max': 65535},\n",
       "   'dimensions': [2, 1],\n",
       "   'origin': [29, 31],\n",
       "   'crs': 'EPSG:4326',\n",
       "   'crs_transform': [1, 0, 0, 0, 1, 0]}],\n",
       " 'properties': {'area': {'NDWI_AREA': 23892.593621567656},\n",
       "  'system:footprint': {'type': 'Polygon',\n",
       "   'coordinates': [[[29.938472, 31.159914],\n",
       "     [30.017055, 31.159914],\n",
       "     [30.017055, 31.21748],\n",
       "     [29.938472, 31.21748],\n",
       "     [29.938472, 31.159914]]]}}}"
      ]
     },
     "execution_count": 88,
     "metadata": {},
     "output_type": "execute_result"
    }
   ],
   "source": [
    "ximage.getInfo()"
   ]
  },
  {
   "cell_type": "code",
   "execution_count": null,
   "id": "e8567dae",
   "metadata": {},
   "outputs": [],
   "source": []
  }
 ],
 "metadata": {
  "hide_input": false,
  "kernelspec": {
   "display_name": "Python 3",
   "language": "python",
   "name": "python3"
  },
  "language_info": {
   "codemirror_mode": {
    "name": "ipython",
    "version": 3
   },
   "file_extension": ".py",
   "mimetype": "text/x-python",
   "name": "python",
   "nbconvert_exporter": "python",
   "pygments_lexer": "ipython3",
   "version": "3.8.8"
  },
  "toc": {
   "base_numbering": 1,
   "nav_menu": {},
   "number_sections": true,
   "sideBar": true,
   "skip_h1_title": false,
   "title_cell": "Table of Contents",
   "title_sidebar": "Contents",
   "toc_cell": false,
   "toc_position": {},
   "toc_section_display": true,
   "toc_window_display": false
  }
 },
 "nbformat": 4,
 "nbformat_minor": 5
}
