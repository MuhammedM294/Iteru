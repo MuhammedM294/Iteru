{
 "cells": [
  {
   "cell_type": "code",
   "execution_count": 1,
   "id": "4ff8bc5d",
   "metadata": {},
   "outputs": [],
   "source": [
    "from iteru import *"
   ]
  },
  {
   "cell_type": "code",
   "execution_count": 2,
   "id": "256d8aa0",
   "metadata": {},
   "outputs": [],
   "source": [
    "from statistics import mode"
   ]
  },
  {
   "cell_type": "code",
   "execution_count": 3,
   "id": "ae939e3b",
   "metadata": {},
   "outputs": [],
   "source": [
    "from ipywidgets import *"
   ]
  },
  {
   "cell_type": "code",
   "execution_count": 4,
   "id": "f0f1c83e",
   "metadata": {},
   "outputs": [],
   "source": [
    "aoi = GERD_aoi_dam"
   ]
  },
  {
   "cell_type": "code",
   "execution_count": 5,
   "id": "7b968ab1",
   "metadata": {},
   "outputs": [],
   "source": [
    "dates_dict = {'2020-07-09': 1594265117000,\n",
    " '2020-07-21': 1595301918000,\n",
    " '2020-08-02': 1596338718000,\n",
    " '2020-08-14': 1597375519000,\n",
    " '2020-08-26': 1598412320000,\n",
    " '2020-09-07': 1599449120000,\n",
    " '2020-09-19': 1600485921000,\n",
    " '2020-10-01': 1601522721000,\n",
    " '2020-10-13': 1602559521000,\n",
    " '2020-10-25': 1603596321000,\n",
    " '2020-11-06': 1604633121000,\n",
    " '2020-11-18': 1605669921000,\n",
    " '2020-11-30': 1606706720000,\n",
    " '2020-12-12': 1607743520000,\n",
    " '2021-01-05': 1609817119000,\n",
    " '2021-01-17': 1610853918000,\n",
    " '2021-01-29': 1611890718000,\n",
    " '2021-02-10': 1612927518000,\n",
    " '2021-02-22': 1613964317000,\n",
    " '2021-03-06': 1615001117000,\n",
    " '2021-03-18': 1616037917000,\n",
    " '2021-03-30': 1617074717000,\n",
    " '2021-04-11': 1618111518000,\n",
    " '2021-04-23': 1619148318000,\n",
    " '2021-05-05': 1620185119000,\n",
    " '2021-05-17': 1621221919000,\n",
    " '2021-05-29': 1622258720000,\n",
    " '2021-06-10': 1623295521000,\n",
    " '2021-06-22': 1624332322000,\n",
    " '2021-07-04': 1625369122000,\n",
    " '2021-07-16': 1626405923000,\n",
    " '2021-07-28': 1627442724000,\n",
    " '2021-08-09': 1628479525000,\n",
    " '2021-08-21': 1629516325000,\n",
    " '2021-09-02': 1630553126000,\n",
    " '2021-09-14': 1631589926000,\n",
    " '2021-09-26': 1632626727000,\n",
    " '2021-10-08': 1633663527000,\n",
    " '2021-10-20': 1634700327000,\n",
    " '2021-11-01': 1635737127000,\n",
    " '2021-11-13': 1636773927000,\n",
    " '2021-11-25': 1637810726000,\n",
    " '2021-12-07': 1638847526000,\n",
    " '2021-12-19': 1639884325000,\n",
    " '2021-12-31': 1640921125000,\n",
    " '2022-01-12': 1641957924000,\n",
    " '2022-01-24': 1642994724000,\n",
    " '2022-02-05': 1644031523000,\n",
    " '2022-03-01': 1646105123000,\n",
    " '2022-03-13': 1647141923000,\n",
    " '2022-03-25': 1648178723000,\n",
    " '2022-04-06': 1649215523000,\n",
    " '2022-04-18': 1650252324000,\n",
    " '2022-04-30': 1651289124000}"
   ]
  },
  {
   "cell_type": "code",
   "execution_count": 6,
   "id": "4f24f32e",
   "metadata": {},
   "outputs": [
    {
     "data": {
      "application/vnd.jupyter.widget-view+json": {
       "model_id": "0c514d3167494a5a8991e6f645cd5153",
       "version_major": 2,
       "version_minor": 0
      },
      "text/plain": [
       "Dropdown(options={'2020-07-09': 1594265117000, '2020-07-21': 1595301918000, '2020-08-02': 1596338718000, '2020…"
      ]
     },
     "metadata": {},
     "output_type": "display_data"
    }
   ],
   "source": [
    "date_number = Dropdown(options=dates_dict)\n",
    "date_number"
   ]
  },
  {
   "cell_type": "code",
   "execution_count": 187,
   "id": "9ed28620",
   "metadata": {},
   "outputs": [],
   "source": [
    "SAR = ee.ImageCollection('COPERNICUS/S1_GRD')\\\n",
    "    .filter(ee.Filter.equals('relativeOrbitNumber_start', 50))\\\n",
    "    .filter(ee.Filter.eq('instrumentMode', 'IW'))\\\n",
    "    .filter(ee.Filter.eq('orbitProperties_pass', 'DESCENDING'))\\\n",
    "    .filter(ee.Filter.listContains('transmitterReceiverPolarisation', 'VH'))\\\n",
    "    .filter(ee.Filter.listContains('transmitterReceiverPolarisation', 'VV'))\\\n",
    "    .filter(ee.Filter.eq('resolution_meters',10))\\\n",
    "    .filterBounds(aoi)\\\n",
    "    .filter(ee.Filter.eq('system:time_start',date_number.value))\\\n",
    "    .select(['VV','VH'])\\\n",
    "    .median()"
   ]
  },
  {
   "cell_type": "code",
   "execution_count": 188,
   "id": "687e466c",
   "metadata": {},
   "outputs": [],
   "source": [
    "VV_smooth = ee.Image(toDB(RefinedLee(toNatural(SAR.select(['VV']))))).rename('VV_Filtered')\n",
    "VH_smooth = ee.Image(toDB(RefinedLee(toNatural(SAR.select(['VH']))))).rename('VH_Filtered')"
   ]
  },
  {
   "cell_type": "code",
   "execution_count": 189,
   "id": "d4557226",
   "metadata": {},
   "outputs": [],
   "source": [
    "histogram_VV = VV_smooth.select('VV_Filtered').reduceRegion(               \n",
    "            reducer = ee.Reducer.histogram().combine('mean', None, True).combine('variance', None, True),\n",
    "            geometry = aoi, \n",
    "            scale = 10,\n",
    "            bestEffort = True   )\n",
    "histogram_VH = VH_smooth.select('VH_Filtered').reduceRegion(               \n",
    "            reducer = ee.Reducer.histogram().combine('mean', None, True).combine('variance', None, True),\n",
    "            geometry = aoi, \n",
    "            scale = 10,\n",
    "            bestEffort = True   )"
   ]
  },
  {
   "cell_type": "code",
   "execution_count": 190,
   "id": "b7b0cb37",
   "metadata": {},
   "outputs": [],
   "source": [
    "otsu_threshold_VV = otsu(histogram_VV.get('VV_Filtered_histogram'))\n",
    "otsu_threshold_VH = otsu(histogram_VH.get('VH_Filtered_histogram'))"
   ]
  },
  {
   "cell_type": "code",
   "execution_count": 191,
   "id": "7417936f",
   "metadata": {},
   "outputs": [],
   "source": [
    "water_mask_VV = VV_smooth.select('VV_Filtered').lt(otsu_threshold_VV).selfMask().rename('water_mask')\n",
    "water_mask_VH = VH_smooth.select('VH_Filtered').lt(otsu_threshold_VH).selfMask().rename('water_mask')"
   ]
  },
  {
   "cell_type": "code",
   "execution_count": 192,
   "id": "9e171086",
   "metadata": {},
   "outputs": [],
   "source": [
    "water_mask_VV = water_mask_VV.select('water_mask').clip(aoi)\n",
    "water_mask_VH = water_mask_VH.select('water_mask').clip(aoi)"
   ]
  },
  {
   "cell_type": "code",
   "execution_count": 193,
   "id": "9dcf7787",
   "metadata": {},
   "outputs": [],
   "source": [
    "feature_VV = ee.Image(1).updateMask(water_mask_VV).reduceToVectors(\n",
    "           geometry = water_mask_VV.geometry(),\n",
    "           crs ='EPSG:32636',\n",
    "           scale = 10 , \n",
    "           geometryType = 'polygon',\n",
    "           eightConnected = False,\n",
    "           labelProperty =  'water_cover',\n",
    "           bestEffort = True\n",
    "          )\n",
    "feature_VH = ee.Image(1).updateMask(water_mask_VH).reduceToVectors(\n",
    "           geometry = water_mask_VH.geometry(),\n",
    "           crs ='EPSG:32636',\n",
    "           scale = 10 , \n",
    "           geometryType = 'polygon',\n",
    "           eightConnected = False,\n",
    "           labelProperty =  'water_cover',\n",
    "           bestEffort = True\n",
    "          )"
   ]
  },
  {
   "cell_type": "code",
   "execution_count": 194,
   "id": "ad59be57",
   "metadata": {},
   "outputs": [],
   "source": [
    "def calc_area(feature):\n",
    "    \n",
    "    area = feature.geometry().area(maxError = 1)\n",
    "    \n",
    "    return feature.set({'Area':area})"
   ]
  },
  {
   "cell_type": "code",
   "execution_count": 195,
   "id": "805c3688",
   "metadata": {},
   "outputs": [],
   "source": [
    "feature_VV = feature_VV.map(calc_area)\n",
    "feature_VH = feature_VH.map(calc_area)"
   ]
  },
  {
   "cell_type": "code",
   "execution_count": 196,
   "id": "01961042",
   "metadata": {},
   "outputs": [],
   "source": [
    "lake_feature_VV = feature_VV.sort('Area', False).first()\n",
    "lake_feature_VH = feature_VH.sort('Area', False).first()"
   ]
  },
  {
   "cell_type": "code",
   "execution_count": 197,
   "id": "4f85abc1",
   "metadata": {},
   "outputs": [],
   "source": [
    "lake_area_VV = lake_feature_VV.geometry().area(maxError = 1) \n",
    "lake_area_VH = lake_feature_VH.geometry().area(maxError = 1) "
   ]
  },
  {
   "cell_type": "code",
   "execution_count": 198,
   "id": "f3d8e192",
   "metadata": {},
   "outputs": [],
   "source": [
    "fabdem = ee.ImageCollection(\"projects/sat-io/open-datasets/FABDEM\").median()"
   ]
  },
  {
   "cell_type": "code",
   "execution_count": 199,
   "id": "f4deb5c9",
   "metadata": {},
   "outputs": [],
   "source": [
    "# lake_dem_VV = elevation_dataset.clip(lake_feature_VV)\n",
    "# lake_dem_VH = elevation_dataset.clip(lake_feature_VH)"
   ]
  },
  {
   "cell_type": "code",
   "execution_count": 200,
   "id": "1817dc18",
   "metadata": {},
   "outputs": [],
   "source": [
    "lake_dem_VV = fabdem.clip(lake_feature_VV)\n",
    "lake_dem_VH = fabdem.clip(lake_feature_VH)"
   ]
  },
  {
   "cell_type": "code",
   "execution_count": 201,
   "id": "e0959e40",
   "metadata": {},
   "outputs": [],
   "source": [
    "elevations_VV = lake_dem_VV.reduceRegion(\n",
    "        reducer=ee.Reducer.toList(), \n",
    "        geometry=lake_dem_VV.geometry(),\n",
    "        maxPixels=1e11,\n",
    "        scale=30,\n",
    "        crs = 'EPSG:32636',\n",
    "        bestEffort = True\n",
    "    ).get('b1')\n",
    "elevations_VH = lake_dem_VH.reduceRegion(\n",
    "        reducer=ee.Reducer.toList(), \n",
    "        geometry=lake_dem_VH.geometry(),\n",
    "        maxPixels=1e11,\n",
    "        scale=30,\n",
    "        crs = 'EPSG:32636',\n",
    "        bestEffort = True\n",
    "    ).get('b1')"
   ]
  },
  {
   "cell_type": "code",
   "execution_count": 202,
   "id": "36099d2a",
   "metadata": {},
   "outputs": [],
   "source": [
    "elevations_list_VV = ee.List(elevations_VV).getInfo()\n",
    "elevations_list_VH = ee.List(elevations_VH).getInfo()"
   ]
  },
  {
   "cell_type": "code",
   "execution_count": 203,
   "id": "a59e1b4b",
   "metadata": {},
   "outputs": [],
   "source": [
    "elevations_desc_VV = sorted(elevations_list_VV,reverse=True)\n",
    "elevations_desc_VH = sorted(elevations_list_VH,reverse=True)"
   ]
  },
  {
   "cell_type": "code",
   "execution_count": 204,
   "id": "7cf32b43",
   "metadata": {},
   "outputs": [],
   "source": [
    "water_level_VV= mode(elevations_desc_VV[:1000])\n",
    "water_level_VH= mode(elevations_desc_VH[:1000])"
   ]
  },
  {
   "cell_type": "code",
   "execution_count": 205,
   "id": "efb6d240",
   "metadata": {},
   "outputs": [],
   "source": [
    "volume_VV = ((water_level_VV*len(elevations_desc_VV)-sum(elevations_desc_VV))*900)/1e9\n",
    "volume_VH = ((water_level_VH*len(elevations_desc_VH)-sum(elevations_desc_VH))*900)/1e9"
   ]
  },
  {
   "cell_type": "code",
   "execution_count": 206,
   "id": "e07f47e5",
   "metadata": {},
   "outputs": [
    {
     "name": "stdout",
     "output_type": "stream",
     "text": [
      "VV Band\n",
      "\n",
      "-15.87, 267.04, 578.12, 7.30\n",
      "-22.62, 311.95, 605.76, 16.04 \n"
     ]
    }
   ],
   "source": [
    "print('VV Band\\n\\n'\n",
    "      f'{otsu_threshold_VV.getInfo():0.2f}, {lake_area_VV.getInfo()/1e6:0.2f}, {water_level_VV:0.2f}, {volume_VV:0.2f}'\n",
    "       '\\n'\n",
    "      f'{otsu_threshold_VH.getInfo():0.2f}, {lake_area_VH.getInfo()/1e6:0.2f}, {water_level_VH:0.2f}, {volume_VH:0.2f} '\n",
    "      )"
   ]
  },
  {
   "cell_type": "code",
   "execution_count": null,
   "id": "a9af0e29",
   "metadata": {},
   "outputs": [],
   "source": []
  }
 ],
 "metadata": {
  "hide_input": false,
  "kernelspec": {
   "display_name": "Python 3 (ipykernel)",
   "language": "python",
   "name": "python3"
  },
  "language_info": {
   "codemirror_mode": {
    "name": "ipython",
    "version": 3
   },
   "file_extension": ".py",
   "mimetype": "text/x-python",
   "name": "python",
   "nbconvert_exporter": "python",
   "pygments_lexer": "ipython3",
   "version": "3.9.7"
  },
  "toc": {
   "base_numbering": 1,
   "nav_menu": {},
   "number_sections": true,
   "sideBar": true,
   "skip_h1_title": false,
   "title_cell": "Table of Contents",
   "title_sidebar": "Contents",
   "toc_cell": false,
   "toc_position": {},
   "toc_section_display": true,
   "toc_window_display": false
  }
 },
 "nbformat": 4,
 "nbformat_minor": 5
}
