{
 "cells": [
  {
   "cell_type": "code",
   "execution_count": 1,
   "id": "906c7aa4",
   "metadata": {},
   "outputs": [],
   "source": [
    "import ee\n",
    "ee.Initialize()\n",
    "from iteru import *\n",
    "from IPython.display import display\n",
    "import ipywidgets\n",
    "import requests\n",
    "import os"
   ]
  },
  {
   "cell_type": "code",
   "execution_count": 2,
   "id": "4dedaf7e",
   "metadata": {},
   "outputs": [
    {
     "data": {
      "application/vnd.jupyter.widget-view+json": {
       "model_id": "aaa1f0c0fb1741008cc8f55d7785ec9f",
       "version_major": 2,
       "version_minor": 0
      },
      "text/plain": [
       "Map(center=[27, 31], controls=(AttributionControl(options=['position', 'prefix'], position='bottomright'), Sea…"
      ]
     },
     "metadata": {},
     "output_type": "display_data"
    }
   ],
   "source": [
    "Map = Map()\n",
    "Map"
   ]
  },
  {
   "cell_type": "code",
   "execution_count": 136,
   "id": "c3b0ee5d",
   "metadata": {},
   "outputs": [],
   "source": [
    "start_year = 2018\n",
    "start_month = 5\n",
    "start_day = 1\n",
    "end_year = 2022\n",
    "end_month = 1\n",
    "end_day =  1\n",
    "time_delta = 30"
   ]
  },
  {
   "cell_type": "code",
   "execution_count": 137,
   "id": "6919640b",
   "metadata": {},
   "outputs": [],
   "source": [
    "start_date = datetime.date(start_year,start_month,start_day)\n",
    "end_date = datetime.date(end_year,end_month,end_day)"
   ]
  },
  {
   "cell_type": "code",
   "execution_count": 138,
   "id": "657b2587",
   "metadata": {},
   "outputs": [],
   "source": [
    "dates_list = get_dates_list(start_date ,end_date, time_delta)"
   ]
  },
  {
   "cell_type": "code",
   "execution_count": 139,
   "id": "7adab668",
   "metadata": {},
   "outputs": [],
   "source": [
    "aoi = Map.aoi"
   ]
  },
  {
   "cell_type": "code",
   "execution_count": 140,
   "id": "04984608",
   "metadata": {},
   "outputs": [],
   "source": [
    "col1 = ee.ImageCollection(\"COPERNICUS/S2\")\n",
    "col2 = ee.ImageCollection(\"COPERNICUS/S2_SR\")"
   ]
  },
  {
   "cell_type": "code",
   "execution_count": 141,
   "id": "8a2f8294",
   "metadata": {},
   "outputs": [],
   "source": [
    "def rename_bands(img):\n",
    "    return img.select([\"B2\", \"B3\", \"B4\", \"B5\", \"B6\", \"B7\", \"B8\", \"B8A\", \"B11\", \"B12\", \"QA60\"],\n",
    "                      [\"Blue\",\"Green\",\"Red\",\"Red Edge 1\",\n",
    "                       \"Red Edge 2\",\"Red Edge 3\",\"NIR\",\"Red Edge 4\",\"SWIR1\",\"SWIR2\",\"QA60\",])"
   ]
  },
  {
   "cell_type": "code",
   "execution_count": 142,
   "id": "8332d1ea",
   "metadata": {},
   "outputs": [],
   "source": [
    " def fmask(img):\n",
    "        cloudOpaqueBitMask = 1 << 10\n",
    "        cloudCirrusBitMask = 1 << 11\n",
    "        qa = img.select(\"QA60\")\n",
    "        mask = (\n",
    "            qa.bitwiseAnd(cloudOpaqueBitMask)\n",
    "            .eq(0)\n",
    "            .And(qa.bitwiseAnd(cloudCirrusBitMask).eq(0))\n",
    "        )\n",
    "        return img.updateMask(mask)"
   ]
  },
  {
   "cell_type": "code",
   "execution_count": 143,
   "id": "9302df93",
   "metadata": {},
   "outputs": [],
   "source": [
    "def prepare_images(img):\n",
    "    img = rename_bands(img)\n",
    "    if fmask:\n",
    "        pass\n",
    "        #img = fmask(img)\n",
    "    return ee.Image(img)"
   ]
  },
  {
   "cell_type": "code",
   "execution_count": 144,
   "id": "cae3fc5f",
   "metadata": {},
   "outputs": [],
   "source": [
    "col1 = col1.filterBounds(aoi).map(prepare_images)\n",
    "col2 = col2.filterBounds(aoi).map(prepare_images)\n",
    "col = col1.merge(col2)"
   ]
  },
  {
   "cell_type": "code",
   "execution_count": 145,
   "id": "3af5b465",
   "metadata": {},
   "outputs": [],
   "source": [
    "def get_images(day_date):\n",
    "    \n",
    "    start_day = ee.Date(day_date)\n",
    "    end_day = start_day.advance(time_delta,'day')\n",
    "    \n",
    "    return col.filterDate(start_day,end_day).reduce(ee.Reducer.median())"
   ]
  },
  {
   "cell_type": "code",
   "execution_count": 146,
   "id": "8ef94407",
   "metadata": {},
   "outputs": [],
   "source": [
    "images = ee.List(dates_list).map(get_images)"
   ]
  },
  {
   "cell_type": "code",
   "execution_count": 147,
   "id": "9efd8d28",
   "metadata": {},
   "outputs": [],
   "source": [
    "collection = ee.ImageCollection.fromImages(images)"
   ]
  },
  {
   "cell_type": "code",
   "execution_count": 148,
   "id": "1bd037c5",
   "metadata": {},
   "outputs": [],
   "source": [
    "videoArgs = {\n",
    "  'dimensions': 800,\n",
    "  'region': aoi,\n",
    "  'framesPerSecond': 3,\n",
    "  'crs': 'EPSG:3857',\n",
    "  'min': 0,\n",
    "  'max': 3500,\n",
    "  'bands':['Red_median','Green_median','Blue_median']\n",
    "}"
   ]
  },
  {
   "cell_type": "code",
   "execution_count": 149,
   "id": "d3c3daf8",
   "metadata": {},
   "outputs": [],
   "source": [
    "url = collection.getVideoThumbURL(videoArgs)"
   ]
  },
  {
   "cell_type": "code",
   "execution_count": 150,
   "id": "81e61a75",
   "metadata": {},
   "outputs": [],
   "source": [
    "r = requests.get(url, stream=True)"
   ]
  },
  {
   "cell_type": "code",
   "execution_count": 151,
   "id": "0b02fe1e",
   "metadata": {},
   "outputs": [],
   "source": [
    "def random_string(string_length=4):\n",
    "    import random\n",
    "    import string\n",
    "    letters = string.ascii_uppercase\n",
    "    return \"\".join(random.choice(letters) for i in range(string_length))"
   ]
  },
  {
   "cell_type": "code",
   "execution_count": 152,
   "id": "4e8c1d1d",
   "metadata": {},
   "outputs": [],
   "source": [
    "out_dir = os.path.join(os.path.expanduser(\"~\"), \"Downloads\")\n",
    "filename = \"TimeSeries_\" + random_string() + \".gif\"\n",
    "out_gif = os.path.join(out_dir, filename)"
   ]
  },
  {
   "cell_type": "code",
   "execution_count": 153,
   "id": "b26b22ac",
   "metadata": {},
   "outputs": [],
   "source": [
    "with open (out_gif,'wb') as file:\n",
    "    for chunk in r.iter_content(chunk_size=1024):\n",
    "        file.write(chunk)"
   ]
  },
  {
   "cell_type": "code",
   "execution_count": 154,
   "id": "cfdbd0de",
   "metadata": {},
   "outputs": [],
   "source": [
    "from PIL import Image, ImageDraw, ImageFont, ImageSequence\n",
    "import io"
   ]
  },
  {
   "cell_type": "code",
   "execution_count": 155,
   "id": "83c86c60",
   "metadata": {},
   "outputs": [],
   "source": [
    "ximage = Image.open(out_gif)"
   ]
  },
  {
   "cell_type": "code",
   "execution_count": 156,
   "id": "4175bd6b",
   "metadata": {},
   "outputs": [],
   "source": [
    "count = ximage.n_frames"
   ]
  },
  {
   "cell_type": "code",
   "execution_count": 157,
   "id": "89b3f4fe",
   "metadata": {},
   "outputs": [],
   "source": [
    "W, H = ximage.size"
   ]
  },
  {
   "cell_type": "code",
   "execution_count": 158,
   "id": "dc48d64a",
   "metadata": {},
   "outputs": [],
   "source": [
    "xy = (int(0.05 * W), int(0.05 * H))"
   ]
  },
  {
   "cell_type": "code",
   "execution_count": 159,
   "id": "7ca60962",
   "metadata": {},
   "outputs": [],
   "source": [
    "text = dates_list"
   ]
  },
  {
   "cell_type": "code",
   "execution_count": 160,
   "id": "7dfc31f7",
   "metadata": {},
   "outputs": [],
   "source": [
    "frames = []"
   ]
  },
  {
   "cell_type": "code",
   "execution_count": 161,
   "id": "64f34832",
   "metadata": {},
   "outputs": [],
   "source": [
    "font = ImageFont.truetype(r'C:\\Users\\muham\\Downloads\\News 705 Italic BT\\News 705 Italic BT.ttf', 30)"
   ]
  },
  {
   "cell_type": "code",
   "execution_count": 162,
   "id": "fb871d74",
   "metadata": {},
   "outputs": [],
   "source": [
    "for index, frame in enumerate(ImageSequence.Iterator(ximage)):\n",
    "    frame = frame.convert(\"RGB\")\n",
    "    draw = ImageDraw.Draw(frame)\n",
    "    draw.text(xy, text[index],fill =\"blue\",font = font)\n",
    "    b = io.BytesIO()\n",
    "    frame.save(b, format=\"GIF\")\n",
    "    frame = Image.open(b)\n",
    "    frames.append(frame)\n",
    "    "
   ]
  },
  {
   "cell_type": "code",
   "execution_count": 163,
   "id": "cd7a41bf",
   "metadata": {},
   "outputs": [],
   "source": [
    "frames[0].save(\n",
    "            out_gif,\n",
    "            save_all=True,\n",
    "            append_images=frames[1:],\n",
    "            duration=int(1000/videoArgs['framesPerSecond']),\n",
    "            loop=0,\n",
    "            optimize=True,\n",
    "        )"
   ]
  },
  {
   "cell_type": "code",
   "execution_count": 164,
   "id": "979acb3c",
   "metadata": {},
   "outputs": [
    {
     "data": {
      "application/vnd.jupyter.widget-view+json": {
       "model_id": "544dbf22b99d42038b804807c6ac4462",
       "version_major": 2,
       "version_minor": 0
      },
      "text/plain": [
       "Output()"
      ]
     },
     "metadata": {},
     "output_type": "display_data"
    }
   ],
   "source": [
    "out = Output()\n",
    "out.clear_output(wait=True)\n",
    "display(out)\n",
    "with out:\n",
    "    with open(out_gif,'rb') as file:\n",
    "        image = file.read()\n",
    "    display(ipywidgets.Image(value=image))    "
   ]
  },
  {
   "cell_type": "code",
   "execution_count": null,
   "id": "7b23b8e4",
   "metadata": {},
   "outputs": [],
   "source": []
  }
 ],
 "metadata": {
  "hide_input": false,
  "kernelspec": {
   "display_name": "Python 3 (ipykernel)",
   "language": "python",
   "name": "python3"
  },
  "language_info": {
   "codemirror_mode": {
    "name": "ipython",
    "version": 3
   },
   "file_extension": ".py",
   "mimetype": "text/x-python",
   "name": "python",
   "nbconvert_exporter": "python",
   "pygments_lexer": "ipython3",
   "version": "3.9.7"
  },
  "toc": {
   "base_numbering": 1,
   "nav_menu": {},
   "number_sections": true,
   "sideBar": true,
   "skip_h1_title": false,
   "title_cell": "Table of Contents",
   "title_sidebar": "Contents",
   "toc_cell": false,
   "toc_position": {},
   "toc_section_display": true,
   "toc_window_display": false
  }
 },
 "nbformat": 4,
 "nbformat_minor": 5
}
