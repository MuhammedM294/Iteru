{
 "cells": [
  {
   "cell_type": "code",
   "execution_count": 1,
   "id": "2a5f7ef1",
   "metadata": {},
   "outputs": [],
   "source": [
    "import ee\n",
    "ee.Initialize()"
   ]
  },
  {
   "cell_type": "code",
   "execution_count": 2,
   "id": "48f54d2a",
   "metadata": {},
   "outputs": [],
   "source": [
    "from iteru import *"
   ]
  },
  {
   "cell_type": "code",
   "execution_count": 3,
   "id": "f5b3b9e6",
   "metadata": {},
   "outputs": [],
   "source": [
    "from matplotlib import pyplot as plt"
   ]
  },
  {
   "cell_type": "code",
   "execution_count": 4,
   "id": "4d9226a6",
   "metadata": {},
   "outputs": [
    {
     "data": {
      "application/vnd.jupyter.widget-view+json": {
       "model_id": "1e9edbd9d530406bb58e2d94636617ed",
       "version_major": 2,
       "version_minor": 0
      },
      "text/plain": [
       "Map(center=[27, 31], controls=(AttributionControl(options=['position', 'prefix'], position='bottomright'), Sea…"
      ]
     },
     "metadata": {},
     "output_type": "display_data"
    }
   ],
   "source": [
    "Map = Map()\n",
    "Map"
   ]
  },
  {
   "cell_type": "code",
   "execution_count": 6,
   "id": "2ee53921",
   "metadata": {},
   "outputs": [],
   "source": [
    "aoi = Map.aoi"
   ]
  },
  {
   "cell_type": "code",
   "execution_count": 31,
   "id": "54114ace",
   "metadata": {},
   "outputs": [],
   "source": [
    "SAR = SAR = ee.ImageCollection('COPERNICUS/S1_GRD')\\\n",
    "    .filter(ee.Filter.equals('relativeOrbitNumber_start', 50))\\\n",
    "    .filter(ee.Filter.eq('instrumentMode', 'IW'))\\\n",
    "    .filter(ee.Filter.eq('orbitProperties_pass', 'DESCENDING'))\\\n",
    "    .filter(ee.Filter.listContains('transmitterReceiverPolarisation', 'VH'))\\\n",
    "    .filter(ee.Filter.listContains('transmitterReceiverPolarisation', 'VV'))\\\n",
    "    .filter(ee.Filter.eq('resolution_meters',10))\\\n",
    "    .filterBounds(aoi)\\\n",
    "    .filterDate('2021-01-01','2021-03-05')\\\n",
    "    .select(['VV','VH']).median()"
   ]
  },
  {
   "cell_type": "code",
   "execution_count": 32,
   "id": "6af9f701",
   "metadata": {},
   "outputs": [],
   "source": [
    "# Map.add_layer_widgets(SAR,{'min':-25,'max':5,'bands':['VH']},'SAR2')"
   ]
  },
  {
   "cell_type": "code",
   "execution_count": 33,
   "id": "afd38458",
   "metadata": {},
   "outputs": [],
   "source": [
    " VV_smooth = SAR.select('VH').focal_median(100,'circle','meters').rename('VV_Filtered')"
   ]
  },
  {
   "cell_type": "code",
   "execution_count": 34,
   "id": "9204bffb",
   "metadata": {},
   "outputs": [],
   "source": [
    "histogram =  VV_smooth.reduceRegion(\n",
    "                                \n",
    "            reducer = ee.Reducer.histogram().combine('mean', None, True).combine('variance', None, True),\n",
    "             geometry = aoi, \n",
    "             scale = 10,\n",
    "             bestEffort = True  \n",
    ")"
   ]
  },
  {
   "cell_type": "code",
   "execution_count": 35,
   "id": "d7530852",
   "metadata": {},
   "outputs": [],
   "source": [
    "x = histogram.getInfo()['VV_Filtered_histogram']['bucketMeans']"
   ]
  },
  {
   "cell_type": "code",
   "execution_count": 36,
   "id": "8cae9976",
   "metadata": {},
   "outputs": [],
   "source": [
    "y = histogram.getInfo()['VV_Filtered_histogram']['histogram']"
   ]
  },
  {
   "cell_type": "code",
   "execution_count": 37,
   "id": "f1146fdd",
   "metadata": {},
   "outputs": [
    {
     "data": {
      "image/png": "[encoded data removed]",
      "text/plain": [
       "<Figure size 1332x756 with 1 Axes>"
      ]
     },
     "metadata": {
      "needs_background": "light"
     },
     "output_type": "display_data"
    }
   ],
   "source": [
    "plt.style.use('seaborn-bright')\n",
    "plt.bar(x,y,width = 0.25)\n",
    "# plt.legend()\n",
    "plt.gcf().set_size_inches(18.5,10.5)"
   ]
  },
  {
   "cell_type": "code",
   "execution_count": null,
   "id": "a889611f",
   "metadata": {},
   "outputs": [],
   "source": []
  }
 ],
 "metadata": {
  "hide_input": false,
  "kernelspec": {
   "display_name": "Python 3 (ipykernel)",
   "language": "python",
   "name": "python3"
  },
  "language_info": {
   "codemirror_mode": {
    "name": "ipython",
    "version": 3
   },
   "file_extension": ".py",
   "mimetype": "text/x-python",
   "name": "python",
   "nbconvert_exporter": "python",
   "pygments_lexer": "ipython3",
   "version": "3.9.10"
  },
  "toc": {
   "base_numbering": 1,
   "nav_menu": {},
   "number_sections": true,
   "sideBar": true,
   "skip_h1_title": false,
   "title_cell": "Table of Contents",
   "title_sidebar": "Contents",
   "toc_cell": false,
   "toc_position": {},
   "toc_section_display": true,
   "toc_window_display": false
  }
 },
 "nbformat": 4,
 "nbformat_minor": 5
}
