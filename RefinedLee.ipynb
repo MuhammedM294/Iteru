{
 "cells": [
  {
   "cell_type": "code",
   "execution_count": 1,
   "id": "2a5f7ef1",
   "metadata": {},
   "outputs": [],
   "source": [
    "import ee\n",
    "ee.Initialize()"
   ]
  },
  {
   "cell_type": "code",
   "execution_count": 2,
   "id": "48f54d2a",
   "metadata": {},
   "outputs": [],
   "source": [
    "from iteru import *"
   ]
  },
  {
   "cell_type": "code",
   "execution_count": 3,
   "id": "87fe8047",
   "metadata": {},
   "outputs": [],
   "source": [
    "from matplotlib import pyplot as plt"
   ]
  },
  {
   "cell_type": "code",
   "execution_count": 4,
   "id": "4d9226a6",
   "metadata": {},
   "outputs": [
    {
     "data": {
      "application/vnd.jupyter.widget-view+json": {
       "model_id": "c4383223aa414dccbce86fdb6bf8dd5d",
       "version_major": 2,
       "version_minor": 0
      },
      "text/plain": [
       "Map(center=[27, 31], controls=(AttributionControl(options=['position', 'prefix'], position='bottomright'), Sea…"
      ]
     },
     "metadata": {},
     "output_type": "display_data"
    }
   ],
   "source": [
    "Map = Map()\n",
    "Map"
   ]
  },
  {
   "cell_type": "code",
   "execution_count": 5,
   "id": "2ee53921",
   "metadata": {},
   "outputs": [],
   "source": [
    "aoi = GERD_aoi"
   ]
  },
  {
   "cell_type": "code",
   "execution_count": 6,
   "id": "54114ace",
   "metadata": {},
   "outputs": [],
   "source": [
    "SAR = SAR = ee.ImageCollection('COPERNICUS/S1_GRD')\\\n",
    "    .filter(ee.Filter.equals('relativeOrbitNumber_start', 50))\\\n",
    "    .filter(ee.Filter.eq('instrumentMode', 'IW'))\\\n",
    "    .filter(ee.Filter.eq('orbitProperties_pass', 'DESCENDING'))\\\n",
    "    .filter(ee.Filter.listContains('transmitterReceiverPolarisation', 'VH'))\\\n",
    "    .filter(ee.Filter.listContains('transmitterReceiverPolarisation', 'VV'))\\\n",
    "    .filter(ee.Filter.eq('resolution_meters',10))\\\n",
    "    .filterBounds(aoi)\\\n",
    "    .filterDate('2022-01-01','2022-03-10')\\\n",
    "    .select(['VV','VH']).median()"
   ]
  },
  {
   "cell_type": "code",
   "execution_count": 7,
   "id": "6af9f701",
   "metadata": {},
   "outputs": [],
   "source": [
    "Map.add_layer_widgets(SAR,{'min':-38.45,'max':5.07,'bands':['VH']},'SAR')"
   ]
  },
  {
   "cell_type": "code",
   "execution_count": 8,
   "id": "a886c956",
   "metadata": {},
   "outputs": [],
   "source": [
    "SARF = ee.Image(toDB(RefinedLee(toNatural(SAR))))"
   ]
  },
  {
   "cell_type": "code",
   "execution_count": 9,
   "id": "4c42475b",
   "metadata": {},
   "outputs": [],
   "source": [
    "Map.add_layer_widgets(SARF,{'min':-31,'max':5,'bands':['sum']},'SARF')"
   ]
  },
  {
   "cell_type": "code",
   "execution_count": 10,
   "id": "50e8bb60",
   "metadata": {},
   "outputs": [],
   "source": [
    "histogram = SAR.select('VH').reduceRegion(\n",
    "        reducer = ee.Reducer.histogram(255, 2).combine('mean', None, True).combine('variance', None, True),\n",
    "        geometry = aoi,\n",
    "        scale =10,\n",
    "        bestEffort = True,\n",
    ")"
   ]
  },
  {
   "cell_type": "code",
   "execution_count": 11,
   "id": "62b68a99",
   "metadata": {},
   "outputs": [],
   "source": [
    "hist_dict = histogram.getInfo()"
   ]
  },
  {
   "cell_type": "code",
   "execution_count": 15,
   "id": "6f5e54d7",
   "metadata": {},
   "outputs": [],
   "source": [
    "x = hist_dict['VH_histogram']['bucketMeans']\n",
    "y = hist_dict['VH_histogram']['histogram']"
   ]
  },
  {
   "cell_type": "code",
   "execution_count": 16,
   "id": "ff6152cd",
   "metadata": {},
   "outputs": [
    {
     "data": {
      "image/png": "[encoded data removed]",
      "text/plain": [
       "<Figure size 1332x756 with 1 Axes>"
      ]
     },
     "metadata": {
      "needs_background": "light"
     },
     "output_type": "display_data"
    }
   ],
   "source": [
    "plt.bar(x,y)\n",
    "plt.gcf().set_size_inches(18.5,10.5)"
   ]
  },
  {
   "cell_type": "code",
   "execution_count": 14,
   "id": "b3c83d36",
   "metadata": {},
   "outputs": [
    {
     "data": {
      "text/plain": [
       "{'VH_histogram': {'bucketMeans': [-38.45357531737168,\n",
       "   -36.53030474951714,\n",
       "   -34.57180263790291,\n",
       "   -32.64102563698643,\n",
       "   -30.955995822815563,\n",
       "   -29.230367842460282,\n",
       "   -27.047583186068664,\n",
       "   -24.877427580136175,\n",
       "   -22.840215790807957,\n",
       "   -20.841951071197336,\n",
       "   -18.865255832346307,\n",
       "   -16.970949001281003,\n",
       "   -15.168078415985262,\n",
       "   -13.235623357444974,\n",
       "   -11.162155329878845,\n",
       "   -9.197762282470789,\n",
       "   -7.243508355164159,\n",
       "   -5.309388304761836,\n",
       "   -3.2570940624377958,\n",
       "   -1.3306928706862495,\n",
       "   0.9185195469578507,\n",
       "   2.588979706015654,\n",
       "   5.075892687126142],\n",
       "  'bucketMin': -40,\n",
       "  'bucketWidth': 2,\n",
       "  'histogram': [18,\n",
       "   462,\n",
       "   9650,\n",
       "   136199.25098039216,\n",
       "   493620.85882352944,\n",
       "   233897.22352941177,\n",
       "   82861.1294117647,\n",
       "   116285.82352941176,\n",
       "   282462.7529411764,\n",
       "   749609.7137254904,\n",
       "   1845384.098039215,\n",
       "   3128368.431372544,\n",
       "   2118701.4941176474,\n",
       "   559222.439215686,\n",
       "   166786.168627451,\n",
       "   58396.882352941204,\n",
       "   15099.439215686274,\n",
       "   2602.992156862745,\n",
       "   342.49411764705883,\n",
       "   51,\n",
       "   11,\n",
       "   4,\n",
       "   1]},\n",
       " 'VH_mean': -18.40889960474527,\n",
       " 'VH_variance': 21.96514923547884}"
      ]
     },
     "execution_count": 14,
     "metadata": {},
     "output_type": "execute_result"
    }
   ],
   "source": [
    "hist_dict"
   ]
  },
  {
   "cell_type": "code",
   "execution_count": null,
   "id": "1b985956",
   "metadata": {},
   "outputs": [],
   "source": []
  }
 ],
 "metadata": {
  "hide_input": false,
  "kernelspec": {
   "display_name": "Python 3 (ipykernel)",
   "language": "python",
   "name": "python3"
  },
  "language_info": {
   "codemirror_mode": {
    "name": "ipython",
    "version": 3
   },
   "file_extension": ".py",
   "mimetype": "text/x-python",
   "name": "python",
   "nbconvert_exporter": "python",
   "pygments_lexer": "ipython3",
   "version": "3.9.10"
  },
  "toc": {
   "base_numbering": 1,
   "nav_menu": {},
   "number_sections": true,
   "sideBar": true,
   "skip_h1_title": false,
   "title_cell": "Table of Contents",
   "title_sidebar": "Contents",
   "toc_cell": false,
   "toc_position": {},
   "toc_section_display": true,
   "toc_window_display": false
  }
 },
 "nbformat": 4,
 "nbformat_minor": 5
}
