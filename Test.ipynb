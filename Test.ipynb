{
 "cells": [
  {
   "cell_type": "code",
   "execution_count": 1,
   "id": "a1c99641",
   "metadata": {},
   "outputs": [],
   "source": [
    "import ee\n",
    "ee.Initialize()"
   ]
  },
  {
   "cell_type": "code",
   "execution_count": 2,
   "id": "94efba41",
   "metadata": {},
   "outputs": [],
   "source": [
    "from iteru import *\n",
    "from IPython.display import display\n",
    "import ipywidgets\n",
    "import datetime"
   ]
  },
  {
   "cell_type": "code",
   "execution_count": 3,
   "id": "299f4687",
   "metadata": {},
   "outputs": [
    {
     "data": {
      "application/vnd.jupyter.widget-view+json": {
       "model_id": "18783c1060154d348a2264e45f3bb290",
       "version_major": 2,
       "version_minor": 0
      },
      "text/plain": [
       "Map(center=[27, 31], controls=(AttributionControl(options=['position', 'prefix'], position='bottomright'), Sea…"
      ]
     },
     "metadata": {},
     "output_type": "display_data"
    }
   ],
   "source": [
    "Map = Map()\n",
    "Map"
   ]
  },
  {
   "cell_type": "code",
   "execution_count": 49,
   "id": "89dc34ed",
   "metadata": {},
   "outputs": [],
   "source": [
    "aoi = Map.aoi"
   ]
  },
  {
   "cell_type": "code",
   "execution_count": 50,
   "id": "d6dafd6a",
   "metadata": {},
   "outputs": [],
   "source": [
    "demvis = {'min':488,'max':1863,'palette':['0000ff', '00ffff', 'ffff00', 'ff0000', 'ffffff']\n",
    "}"
   ]
  },
  {
   "cell_type": "code",
   "execution_count": 51,
   "id": "3e038715",
   "metadata": {},
   "outputs": [],
   "source": [
    "dataset = ee.ImageCollection('JAXA/ALOS/AW3D30/V3_2')\\\n",
    "           .filter(ee.Filter.bounds(aoi))\\\n",
    "           .select('DSM')\\\n",
    "           .median()\\\n",
    "           .clip(aoi)"
   ]
  },
  {
   "cell_type": "code",
   "execution_count": 52,
   "id": "3c97eadc",
   "metadata": {},
   "outputs": [],
   "source": [
    "#Map.add_layer_widgets(dataset,demvis,'GRED_DEM')"
   ]
  },
  {
   "cell_type": "code",
   "execution_count": 53,
   "id": "91d1a28e",
   "metadata": {},
   "outputs": [],
   "source": [
    "S2 = ee.ImageCollection(\"COPERNICUS/S2_SR\")\\\n",
    "     .filter(ee.Filter.bounds(aoi))\\\n",
    "     .filter(ee.Filter.date('2022-01-01','2022-02-01'))\\\n",
    "     .filter(ee.Filter.lt('CLOUDY_PIXEL_PERCENTAGE',5))"
   ]
  },
  {
   "cell_type": "code",
   "execution_count": 54,
   "id": "3a27b91c",
   "metadata": {},
   "outputs": [
    {
     "data": {
      "text/plain": [
       "10"
      ]
     },
     "execution_count": 54,
     "metadata": {},
     "output_type": "execute_result"
    }
   ],
   "source": [
    "S2.size().getInfo()"
   ]
  },
  {
   "cell_type": "code",
   "execution_count": 55,
   "id": "31b5a895",
   "metadata": {},
   "outputs": [],
   "source": [
    "vis_param = get_vis_params(S2)"
   ]
  },
  {
   "cell_type": "code",
   "execution_count": 56,
   "id": "1fc9d552",
   "metadata": {},
   "outputs": [],
   "source": [
    "S2_median = S2.median().clip(aoi)"
   ]
  },
  {
   "cell_type": "code",
   "execution_count": 57,
   "id": "6c2cb268",
   "metadata": {},
   "outputs": [],
   "source": [
    "# Map.add_layer_widgets(S2_median,vis_param,'S2_Median')"
   ]
  },
  {
   "cell_type": "code",
   "execution_count": 58,
   "id": "733935cf",
   "metadata": {},
   "outputs": [],
   "source": [
    "ndwi = S2_median.normalizedDifference(['B3', 'B8'])"
   ]
  },
  {
   "cell_type": "code",
   "execution_count": 59,
   "id": "f854cb38",
   "metadata": {},
   "outputs": [],
   "source": [
    "ndwiMasked = ndwi.updateMask(ndwi.gte(0))"
   ]
  },
  {
   "cell_type": "code",
   "execution_count": 60,
   "id": "020e090b",
   "metadata": {},
   "outputs": [],
   "source": [
    "#Map.add_layer_widgets(ndwiMasked,{'min':0,'max':0.5,'palette': ['00FFFF', '0000FF']},'NDWI')"
   ]
  },
  {
   "cell_type": "code",
   "execution_count": 61,
   "id": "b6daa216",
   "metadata": {},
   "outputs": [],
   "source": [
    "v = ee.Image(1).updateMask(ndwiMasked).reduceToVectors(\n",
    "           geometry = ndwiMasked.geometry(),\n",
    "           crs =  ndwiMasked.projection(),\n",
    "           scale = 10 , \n",
    "           geometryType = 'polygon',\n",
    "           eightConnected = False,\n",
    "           labelProperty =  'water_cover',\n",
    "           bestEffort = True\n",
    ")"
   ]
  },
  {
   "cell_type": "code",
   "execution_count": 62,
   "id": "0213102b",
   "metadata": {},
   "outputs": [
    {
     "data": {
      "text/plain": [
       "<ee.featurecollection.FeatureCollection at 0x20f48ebc7c0>"
      ]
     },
     "execution_count": 62,
     "metadata": {},
     "output_type": "execute_result"
    }
   ],
   "source": [
    "v"
   ]
  },
  {
   "cell_type": "code",
   "execution_count": 63,
   "id": "eadf00d8",
   "metadata": {},
   "outputs": [],
   "source": [
    "def calc_area(feature):\n",
    "    area = feature.geometry().area(maxError = 1)\n",
    "    \n",
    "    return feature.set({'Area':area})"
   ]
  },
  {
   "cell_type": "code",
   "execution_count": 64,
   "id": "0e920e57",
   "metadata": {},
   "outputs": [],
   "source": [
    "v = v.map(calc_area)"
   ]
  },
  {
   "cell_type": "code",
   "execution_count": 65,
   "id": "a0c59652",
   "metadata": {},
   "outputs": [
    {
     "data": {
      "text/plain": [
       "<ee.featurecollection.FeatureCollection at 0x20f48ebc4c0>"
      ]
     },
     "execution_count": 65,
     "metadata": {},
     "output_type": "execute_result"
    }
   ],
   "source": [
    "v"
   ]
  },
  {
   "cell_type": "code",
   "execution_count": 66,
   "id": "01fff159",
   "metadata": {},
   "outputs": [],
   "source": [
    "x = v.sort('Area', False).first()"
   ]
  },
  {
   "cell_type": "code",
   "execution_count": 68,
   "id": "4a5ab9f8",
   "metadata": {},
   "outputs": [
    {
     "data": {
      "text/plain": [
       "377202209.09674734"
      ]
     },
     "execution_count": 68,
     "metadata": {},
     "output_type": "execute_result"
    }
   ],
   "source": [
    "x.geometry().area(maxError = 1).getInfo()"
   ]
  },
  {
   "cell_type": "code",
   "execution_count": 69,
   "id": "7503deca",
   "metadata": {},
   "outputs": [],
   "source": [
    "v = ee.Feature(v.sort('Area', False).first())"
   ]
  },
  {
   "cell_type": "code",
   "execution_count": 70,
   "id": "2e1a4009",
   "metadata": {},
   "outputs": [],
   "source": [
    "Map.add_layer_widgets(v,{'color':'red'},'Vector')"
   ]
  },
  {
   "cell_type": "code",
   "execution_count": 71,
   "id": "990f1d4e",
   "metadata": {},
   "outputs": [],
   "source": [
    "lake_dem = dataset.clip(v)"
   ]
  },
  {
   "cell_type": "code",
   "execution_count": 72,
   "id": "385fdf11",
   "metadata": {},
   "outputs": [],
   "source": [
    "x = lake_dem.updateMask(lake_dem.gte(170))"
   ]
  },
  {
   "cell_type": "code",
   "execution_count": 73,
   "id": "8ed433ca",
   "metadata": {},
   "outputs": [],
   "source": [
    "Map.add_layer_widgets(x,demvis,'X')"
   ]
  },
  {
   "cell_type": "code",
   "execution_count": 74,
   "id": "32e207b5",
   "metadata": {},
   "outputs": [],
   "source": [
    "ele = lake_dem.reduceRegion(\n",
    "                         reducer = ee.Reducer.max(),\n",
    "                         geometry = lake_dem.geometry(), \n",
    "                         scale = 10, \n",
    "                        maxPixels = 1e10)"
   ]
  },
  {
   "cell_type": "code",
   "execution_count": 75,
   "id": "55a85d1e",
   "metadata": {},
   "outputs": [],
   "source": [
    "water_level = ele.getInfo()['DSM']"
   ]
  },
  {
   "cell_type": "code",
   "execution_count": 76,
   "id": "4a44a8c9",
   "metadata": {},
   "outputs": [
    {
     "data": {
      "text/plain": [
       "604"
      ]
     },
     "execution_count": 76,
     "metadata": {},
     "output_type": "execute_result"
    }
   ],
   "source": [
    "water_level"
   ]
  },
  {
   "cell_type": "code",
   "execution_count": 77,
   "id": "97ed1c46",
   "metadata": {},
   "outputs": [],
   "source": [
    "import numpy as np"
   ]
  },
  {
   "cell_type": "code",
   "execution_count": 78,
   "id": "c1852a4a",
   "metadata": {},
   "outputs": [],
   "source": [
    "#latlng = ee.Image.pixelLonLat().addBands(lake_dem)\n",
    "latlng = lake_dem.reduceRegion(reducer=ee.Reducer.toList(), geometry=v.geometry(), maxPixels=1e11, scale=30)"
   ]
  },
  {
   "cell_type": "code",
   "execution_count": 96,
   "id": "ede9cab9",
   "metadata": {},
   "outputs": [],
   "source": [
    "elev_list = latlng.getInfo()['DSM']"
   ]
  },
  {
   "cell_type": "code",
   "execution_count": 79,
   "id": "174c46b4",
   "metadata": {},
   "outputs": [],
   "source": [
    "elev_values = np.array((ee.Array(latlng.get(\"DSM\")).getInfo()),dtype=np.int64)"
   ]
  },
  {
   "cell_type": "code",
   "execution_count": 80,
   "id": "a855db67",
   "metadata": {},
   "outputs": [
    {
     "data": {
      "text/plain": [
       "427491"
      ]
     },
     "execution_count": 80,
     "metadata": {},
     "output_type": "execute_result"
    }
   ],
   "source": [
    "elev_values.size"
   ]
  },
  {
   "cell_type": "code",
   "execution_count": 81,
   "id": "4cb060ce",
   "metadata": {},
   "outputs": [],
   "source": [
    "volume = water_level - elev_values[elev_values < water_level]"
   ]
  },
  {
   "cell_type": "code",
   "execution_count": 82,
   "id": "ff7737f1",
   "metadata": {},
   "outputs": [
    {
     "data": {
      "text/plain": [
       "18.6895017"
      ]
     },
     "execution_count": 82,
     "metadata": {},
     "output_type": "execute_result"
    }
   ],
   "source": [
    "(volume.sum()*900)/1e9"
   ]
  },
  {
   "cell_type": "code",
   "execution_count": 83,
   "id": "55a6acb8",
   "metadata": {},
   "outputs": [],
   "source": [
    "url = ee.FeatureCollection(v).getDownloadURL('geojson')"
   ]
  },
  {
   "cell_type": "code",
   "execution_count": 84,
   "id": "6d4ba872",
   "metadata": {},
   "outputs": [
    {
     "name": "stdout",
     "output_type": "stream",
     "text": [
      "https://earthengine.googleapis.com/v1alpha/projects/earthengine-legacy/tables/f471fb9b4de8d4729c69450eb1cb7565-ce036634f5dd90889c4e5ab1a6c2ec6a:getFeatures\n"
     ]
    }
   ],
   "source": [
    "print(url)"
   ]
  },
  {
   "cell_type": "code",
   "execution_count": 85,
   "id": "dddf8a6c",
   "metadata": {},
   "outputs": [],
   "source": [
    "url2 = lake_dem.getDownloadURL({'name': 'MyPieceOfDEM', 'crs': 'EPSG:32636', 'scale': 35})"
   ]
  },
  {
   "cell_type": "code",
   "execution_count": 86,
   "id": "692ca6d4",
   "metadata": {},
   "outputs": [
    {
     "name": "stdout",
     "output_type": "stream",
     "text": [
      "https://earthengine.googleapis.com/v1alpha/projects/earthengine-legacy/thumbnails/b93679b5aebef6f784774c029644d1d3-11e663dc39429e209632888f63be3174:getPixels\n"
     ]
    }
   ],
   "source": [
    "print(url2)"
   ]
  },
  {
   "cell_type": "code",
   "execution_count": 87,
   "id": "979a7f1b",
   "metadata": {},
   "outputs": [],
   "source": [
    "SAR = ee.ImageCollection('COPERNICUS/S1_GRD')\\\n",
    "    .filter(ee.Filter.eq('instrumentMode', 'IW'))\\\n",
    "    .filter(ee.Filter.eq('orbitProperties_pass', 'DESCENDING'))\\\n",
    "    .filterBounds(aoi)\\\n",
    "    .filterDate('2022-01-01','2022-02-01')\\\n",
    "    .select(['VV','VH'])"
   ]
  },
  {
   "cell_type": "code",
   "execution_count": 88,
   "id": "2545f1cb",
   "metadata": {},
   "outputs": [],
   "source": [
    "sar = SAR.median().clip(aoi)"
   ]
  },
  {
   "cell_type": "code",
   "execution_count": 89,
   "id": "9057f44e",
   "metadata": {},
   "outputs": [],
   "source": [
    "Map.add_layer_widgets(sar.select(['VV']),{'min': -20, 'max': -7},'SAR_TEST_1')"
   ]
  },
  {
   "cell_type": "code",
   "execution_count": 100,
   "id": "9ecf14d9",
   "metadata": {},
   "outputs": [],
   "source": [
    "x = ee.List([1,2,3,4]).map(lambda num: ee.Number(num).add(ee.Number(5)))"
   ]
  },
  {
   "cell_type": "code",
   "execution_count": 109,
   "id": "42331c8c",
   "metadata": {},
   "outputs": [],
   "source": [
    "y = x.reduce(ee.Reducer.sum())"
   ]
  },
  {
   "cell_type": "code",
   "execution_count": 112,
   "id": "29495dc5",
   "metadata": {},
   "outputs": [
    {
     "data": {
      "text/plain": [
       "300"
      ]
     },
     "execution_count": 112,
     "metadata": {},
     "output_type": "execute_result"
    }
   ],
   "source": [
    "ee.Number(y).multiply(ee.Number(10)).getInfo()"
   ]
  },
  {
   "cell_type": "code",
   "execution_count": 107,
   "id": "035372b1",
   "metadata": {},
   "outputs": [
    {
     "data": {
      "text/plain": [
       "100000"
      ]
     },
     "execution_count": 107,
     "metadata": {},
     "output_type": "execute_result"
    }
   ],
   "source": [
    "ee.Number(1e5).getInfo()"
   ]
  },
  {
   "cell_type": "code",
   "execution_count": null,
   "id": "6aa0309d",
   "metadata": {},
   "outputs": [],
   "source": []
  }
 ],
 "metadata": {
  "hide_input": false,
  "kernelspec": {
   "display_name": "Python 3 (ipykernel)",
   "language": "python",
   "name": "python3"
  },
  "language_info": {
   "codemirror_mode": {
    "name": "ipython",
    "version": 3
   },
   "file_extension": ".py",
   "mimetype": "text/x-python",
   "name": "python",
   "nbconvert_exporter": "python",
   "pygments_lexer": "ipython3",
   "version": "3.9.10"
  },
  "toc": {
   "base_numbering": 1,
   "nav_menu": {},
   "number_sections": true,
   "sideBar": true,
   "skip_h1_title": false,
   "title_cell": "Table of Contents",
   "title_sidebar": "Contents",
   "toc_cell": false,
   "toc_position": {},
   "toc_section_display": true,
   "toc_window_display": false
  }
 },
 "nbformat": 4,
 "nbformat_minor": 5
}
