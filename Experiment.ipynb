{
 "cells": [
  {
   "cell_type": "code",
   "execution_count": 1,
   "id": "ddcef16c",
   "metadata": {},
   "outputs": [],
   "source": [
    "from iteru import *"
   ]
  },
  {
   "cell_type": "code",
   "execution_count": 2,
   "id": "a87d435f",
   "metadata": {},
   "outputs": [
    {
     "data": {
      "application/vnd.jupyter.widget-view+json": {
       "model_id": "017c19d1172c4fad9e27542576eed061",
       "version_major": 2,
       "version_minor": 0
      },
      "text/plain": [
       "Map(center=[27, 31], controls=(SearchControl(found_style={'fillColor': '#3f0', 'color': '#0f0'}, marker=Marker…"
      ]
     },
     "metadata": {},
     "output_type": "display_data"
    }
   ],
   "source": [
    "Map = Map()\n",
    "Map"
   ]
  },
  {
   "cell_type": "code",
   "execution_count": 60,
   "id": "8c8931ff",
   "metadata": {},
   "outputs": [],
   "source": [
    "aoi = GERD_aoi_dam"
   ]
  },
  {
   "cell_type": "code",
   "execution_count": 61,
   "id": "f96c6b7a",
   "metadata": {},
   "outputs": [],
   "source": [
    "# Map.add_layer_widgets(ee.FeatureCollection(aoi),{'color':'blue'},'AOI')"
   ]
  },
  {
   "cell_type": "code",
   "execution_count": 91,
   "id": "374c1b5c",
   "metadata": {},
   "outputs": [],
   "source": [
    "SAR = ee.ImageCollection('COPERNICUS/S1_GRD')\\\n",
    "    .filter(ee.Filter.equals('relativeOrbitNumber_start', 50))\\\n",
    "    .filter(ee.Filter.eq('instrumentMode', 'IW'))\\\n",
    "    .filter(ee.Filter.eq('orbitProperties_pass', 'DESCENDING'))\\\n",
    "    .filter(ee.Filter.listContains('transmitterReceiverPolarisation', 'VH'))\\\n",
    "    .filter(ee.Filter.listContains('transmitterReceiverPolarisation', 'VV'))\\\n",
    "    .filter(ee.Filter.eq('resolution_meters',10))\\\n",
    "    .filterBounds(aoi)\\\n",
    "    .filter(ee.Filter.eq('system:time_start',1651289124000))\\\n",
    "    .select(['VV','VH'])\\\n",
    "    .median()"
   ]
  },
  {
   "cell_type": "code",
   "execution_count": 92,
   "id": "07fdab41",
   "metadata": {},
   "outputs": [],
   "source": [
    "VV_smooth = SAR.select('VV').focal_median(50,'circle','meters').rename('VV_Filtered')"
   ]
  },
  {
   "cell_type": "code",
   "execution_count": 93,
   "id": "bae76e2a",
   "metadata": {},
   "outputs": [],
   "source": [
    "#VV_Filtered = ee.Image(toDB(RefinedLee(toNatural(SAR.select(['VV']))))).rename('VV_Filtered')"
   ]
  },
  {
   "cell_type": "code",
   "execution_count": 94,
   "id": "9187d6f6",
   "metadata": {},
   "outputs": [],
   "source": [
    "histogram = VV_smooth.select('VV_Filtered').reduceRegion(               \n",
    "            reducer = ee.Reducer.histogram().combine('mean', None, True).combine('variance', None, True),\n",
    "            geometry = aoi, \n",
    "            scale = 10,\n",
    "            bestEffort = True   )"
   ]
  },
  {
   "cell_type": "code",
   "execution_count": 95,
   "id": "68c1d831",
   "metadata": {},
   "outputs": [],
   "source": [
    "otsu_threshold = otsu(histogram.get('VV_Filtered_histogram'))"
   ]
  },
  {
   "cell_type": "code",
   "execution_count": 96,
   "id": "069743e7",
   "metadata": {},
   "outputs": [],
   "source": [
    "threshold = otsu_threshold.getInfo()"
   ]
  },
  {
   "cell_type": "code",
   "execution_count": 97,
   "id": "124b3b04",
   "metadata": {},
   "outputs": [],
   "source": [
    "x = threshold -1.5"
   ]
  },
  {
   "cell_type": "code",
   "execution_count": 98,
   "id": "54b9404b",
   "metadata": {},
   "outputs": [
    {
     "data": {
      "text/plain": [
       "-16.12053153482008"
      ]
     },
     "execution_count": 98,
     "metadata": {},
     "output_type": "execute_result"
    }
   ],
   "source": [
    "threshold"
   ]
  },
  {
   "cell_type": "code",
   "execution_count": 99,
   "id": "82127dfd",
   "metadata": {},
   "outputs": [
    {
     "data": {
      "text/plain": [
       "-17.62053153482008"
      ]
     },
     "execution_count": 99,
     "metadata": {},
     "output_type": "execute_result"
    }
   ],
   "source": [
    "x "
   ]
  },
  {
   "cell_type": "code",
   "execution_count": 100,
   "id": "7686ba8a",
   "metadata": {},
   "outputs": [],
   "source": [
    "water_mask = VV_smooth.select('VV_Filtered').lt(x).selfMask().rename('water_mask')"
   ]
  },
  {
   "cell_type": "code",
   "execution_count": 101,
   "id": "d73a815b",
   "metadata": {},
   "outputs": [],
   "source": [
    "water_mask = water_mask.select('water_mask').clip(aoi)"
   ]
  },
  {
   "cell_type": "code",
   "execution_count": 102,
   "id": "5244a392",
   "metadata": {},
   "outputs": [],
   "source": [
    "# Map.add_ee_layer(water_mask,{'palette': ['00FFFF', '0000FF'], 'bands':['water_mask']},'SARF')"
   ]
  },
  {
   "cell_type": "code",
   "execution_count": 103,
   "id": "56c82cb7",
   "metadata": {},
   "outputs": [],
   "source": [
    "feature = ee.Image(1).updateMask(water_mask).reduceToVectors(\n",
    "           geometry = water_mask.geometry(),\n",
    "           crs ='EPSG:32636',\n",
    "           scale = 10 , \n",
    "           geometryType = 'polygon',\n",
    "           eightConnected = False,\n",
    "           labelProperty =  'water_cover',\n",
    "           bestEffort = True\n",
    "          )"
   ]
  },
  {
   "cell_type": "code",
   "execution_count": 104,
   "id": "9f74b1ef",
   "metadata": {},
   "outputs": [],
   "source": [
    "def calc_area(feature):\n",
    "    \n",
    "    area = feature.geometry().area(maxError = 1)\n",
    "    \n",
    "    return feature.set({'Area':area})"
   ]
  },
  {
   "cell_type": "code",
   "execution_count": 105,
   "id": "33cead70",
   "metadata": {},
   "outputs": [],
   "source": [
    "feature = feature.map(calc_area)"
   ]
  },
  {
   "cell_type": "code",
   "execution_count": 106,
   "id": "4ee2945b",
   "metadata": {},
   "outputs": [],
   "source": [
    "lake_feature = feature.sort('Area', False).first()"
   ]
  },
  {
   "cell_type": "code",
   "execution_count": 107,
   "id": "f7fdb3a5",
   "metadata": {},
   "outputs": [],
   "source": [
    "# Map.add_layer_widgets(ee.FeatureCollection(lake_feature.geometry()),{'color':'blue'},'Reservoir')"
   ]
  },
  {
   "cell_type": "code",
   "execution_count": 108,
   "id": "5d319766",
   "metadata": {},
   "outputs": [],
   "source": [
    "lake_area = lake_feature.geometry().area(maxError = 1) "
   ]
  },
  {
   "cell_type": "code",
   "execution_count": 109,
   "id": "767150e6",
   "metadata": {},
   "outputs": [
    {
     "data": {
      "text/plain": [
       "257.16250961384105"
      ]
     },
     "execution_count": 109,
     "metadata": {},
     "output_type": "execute_result"
    }
   ],
   "source": [
    "lake_area.getInfo()/1e6"
   ]
  },
  {
   "cell_type": "code",
   "execution_count": 110,
   "id": "1014c808",
   "metadata": {},
   "outputs": [],
   "source": [
    "lake_dem = elevation_dataset.clip(lake_feature)"
   ]
  },
  {
   "cell_type": "code",
   "execution_count": 111,
   "id": "7f667d72",
   "metadata": {},
   "outputs": [],
   "source": [
    "max_ele = lake_dem.reduceRegion(\n",
    "                         reducer = ee.Reducer.max(),\n",
    "                         geometry = lake_dem.geometry(), \n",
    "                         scale = 30, \n",
    "                         crs = 'EPSG:32636',\n",
    "                        maxPixels = 1e11).get('DSM')"
   ]
  },
  {
   "cell_type": "code",
   "execution_count": 112,
   "id": "69f3b274",
   "metadata": {},
   "outputs": [],
   "source": [
    "water_level = max_ele.getInfo()"
   ]
  },
  {
   "cell_type": "code",
   "execution_count": 113,
   "id": "33ee197e",
   "metadata": {},
   "outputs": [
    {
     "data": {
      "text/plain": [
       "587"
      ]
     },
     "execution_count": 113,
     "metadata": {},
     "output_type": "execute_result"
    }
   ],
   "source": [
    "water_level"
   ]
  },
  {
   "cell_type": "code",
   "execution_count": 114,
   "id": "3af59991",
   "metadata": {},
   "outputs": [],
   "source": [
    "elevations = lake_dem.reduceRegion(\n",
    "        reducer=ee.Reducer.toList(), \n",
    "        geometry=lake_dem.geometry(),\n",
    "        maxPixels=1e11,\n",
    "        scale=30,\n",
    "        crs = 'EPSG:32636',\n",
    "        bestEffort = True\n",
    "    ).get('DSM')"
   ]
  },
  {
   "cell_type": "code",
   "execution_count": 115,
   "id": "6d36962a",
   "metadata": {},
   "outputs": [],
   "source": [
    "elev_pixles_num = ee.List(elevations).length()"
   ]
  },
  {
   "cell_type": "code",
   "execution_count": 116,
   "id": "c85c6499",
   "metadata": {},
   "outputs": [],
   "source": [
    "elev_sum = ee.List(elevations).reduce(ee.Reducer.sum())"
   ]
  },
  {
   "cell_type": "code",
   "execution_count": 117,
   "id": "a489eb2d",
   "metadata": {},
   "outputs": [
    {
     "data": {
      "text/plain": [
       "9.3151269"
      ]
     },
     "execution_count": 117,
     "metadata": {},
     "output_type": "execute_result"
    }
   ],
   "source": [
    "((water_level*elev_pixles_num.getInfo()-elev_sum.getInfo())*900)/(1e9)"
   ]
  },
  {
   "cell_type": "code",
   "execution_count": 118,
   "id": "a7aae99d",
   "metadata": {},
   "outputs": [],
   "source": [
    "test = ee.ImageCollection('COPERNICUS/S1_GRD')\\\n",
    "    .filter(ee.Filter.equals('relativeOrbitNumber_start', 50))\\\n",
    "    .filter(ee.Filter.eq('instrumentMode', 'IW'))\\\n",
    "    .filter(ee.Filter.eq('orbitProperties_pass', 'DESCENDING'))\\\n",
    "    .filter(ee.Filter.listContains('transmitterReceiverPolarisation', 'VH'))\\\n",
    "    .filter(ee.Filter.listContains('transmitterReceiverPolarisation', 'VV'))\\\n",
    "    .filter(ee.Filter.eq('resolution_meters',10))\\\n",
    "    .filterBounds(aoi)\\\n",
    "    .filterDate('2022-01-01','2022-05-05')\\\n",
    "    .select(['VV','VH'])\\\n",
    "    "
   ]
  },
  {
   "cell_type": "code",
   "execution_count": 119,
   "id": "1129edd8",
   "metadata": {},
   "outputs": [
    {
     "data": {
      "text/plain": [
       "{'2022-01-12': 1641957924000,\n",
       " '2022-01-24': 1642994724000,\n",
       " '2022-02-05': 1644031523000,\n",
       " '2022-03-01': 1646105123000,\n",
       " '2022-03-13': 1647141923000,\n",
       " '2022-03-25': 1648178723000,\n",
       " '2022-04-06': 1649215523000,\n",
       " '2022-04-18': 1650252324000,\n",
       " '2022-04-30': 1651289124000}"
      ]
     },
     "execution_count": 119,
     "metadata": {},
     "output_type": "execute_result"
    }
   ],
   "source": [
    "get_imgCol_dates_dict(test)"
   ]
  },
  {
   "cell_type": "code",
   "execution_count": null,
   "id": "8f8982d9",
   "metadata": {},
   "outputs": [],
   "source": []
  }
 ],
 "metadata": {
  "hide_input": false,
  "kernelspec": {
   "display_name": "Python 3 (ipykernel)",
   "language": "python",
   "name": "python3"
  },
  "language_info": {
   "codemirror_mode": {
    "name": "ipython",
    "version": 3
   },
   "file_extension": ".py",
   "mimetype": "text/x-python",
   "name": "python",
   "nbconvert_exporter": "python",
   "pygments_lexer": "ipython3",
   "version": "3.9.7"
  },
  "toc": {
   "base_numbering": 1,
   "nav_menu": {},
   "number_sections": true,
   "sideBar": true,
   "skip_h1_title": false,
   "title_cell": "Table of Contents",
   "title_sidebar": "Contents",
   "toc_cell": false,
   "toc_position": {},
   "toc_section_display": true,
   "toc_window_display": false
  }
 },
 "nbformat": 4,
 "nbformat_minor": 5
}
