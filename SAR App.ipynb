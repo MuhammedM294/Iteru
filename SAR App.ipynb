{
 "cells": [
  {
   "cell_type": "code",
   "execution_count": 1,
   "id": "1403cfd8",
   "metadata": {},
   "outputs": [],
   "source": [
    "import ee\n",
    "ee.Initialize()"
   ]
  },
  {
   "cell_type": "code",
   "execution_count": 2,
   "id": "5ddf620f",
   "metadata": {},
   "outputs": [],
   "source": [
    "from iteru import *"
   ]
  },
  {
   "cell_type": "code",
   "execution_count": 3,
   "id": "6937d29b",
   "metadata": {},
   "outputs": [
    {
     "data": {
      "application/vnd.jupyter.widget-view+json": {
       "model_id": "4859797e3cb24c88be71c1ffe315d195",
       "version_major": 2,
       "version_minor": 0
      },
      "text/plain": [
       "Map(center=[27, 31], controls=(AttributionControl(options=['position', 'prefix'], position='bottomright'), Sea…"
      ]
     },
     "metadata": {},
     "output_type": "display_data"
    }
   ],
   "source": [
    "Map = Map()\n",
    "Map"
   ]
  },
  {
   "cell_type": "code",
   "execution_count": 4,
   "id": "1788e317",
   "metadata": {},
   "outputs": [],
   "source": [
    "startYear = 2020\n",
    "startMonth =1\n",
    "startDay = 1\n",
    "endYear = 2022\n",
    "endMonth = 3\n",
    "endDay = 1"
   ]
  },
  {
   "cell_type": "code",
   "execution_count": 5,
   "id": "1350e092",
   "metadata": {},
   "outputs": [],
   "source": [
    "SAR,dates_sequences = S1_SAR_col(GERD_aoi,startYear,startMonth,startDay,endYear,endMonth,endDay)"
   ]
  },
  {
   "cell_type": "code",
   "execution_count": 6,
   "id": "3a349429",
   "metadata": {},
   "outputs": [],
   "source": [
    "def SAR_timeseries_url(col, aoi, vis_method='rgb', frame_per_second=2, crs='EPSG:3857', dimensions=900):\n",
    "\n",
    "    try:\n",
    "        if isinstance(col, ee.ImageCollection):\n",
    "            pass\n",
    "        else:\n",
    "            raise Exception('The input should be ee.ImageCollection')\n",
    "\n",
    "    except Exception as e:\n",
    "        print(e)\n",
    "\n",
    "    try:\n",
    "        if isinstance(aoi, ee.Geometry):\n",
    "            pass\n",
    "        else:\n",
    "            raise Exception('The input should be ee.Geometry')\n",
    "\n",
    "    except Exception as e:\n",
    "        print(e)\n",
    "\n",
    "    palette = None\n",
    "    vis_min = -25,\n",
    "    vis_max = 5,\n",
    "    \n",
    "    try: \n",
    "        if vis_method == 'rgb':\n",
    "\n",
    "            vis_min = [-25, -25, 0]\n",
    "            vis_max = [0, 0, 5]\n",
    "            bands = ['VV', 'VH', 'VV/VH']\n",
    "\n",
    "        elif vis_method == 'single_band_VV':\n",
    "            bands = ['VV']\n",
    "\n",
    "        elif vis_method == 'single_band_VH':\n",
    "\n",
    "            bands = ['VH']\n",
    "\n",
    "        elif vis_method == 'water_mask_only':\n",
    "\n",
    "            col = col.map(filterSpeckles).map(water_classify)\n",
    "            bands = ['Water_mask']\n",
    "            palette = ['00FFFF', '0000FF']\n",
    "\n",
    "        elif vis_method == 'rgb_water_mosaic'  :\n",
    "\n",
    "            col = col.map(filterSpeckles).map(water_classify).map(rgb_water_mosaic)\n",
    "\n",
    "            bands = ['vis-red','vis-green','vis-blue']\n",
    "            vis_min = 0\n",
    "            vis_max = 255\n",
    "        else:\n",
    "            raise Exception('Invalid visualization method input')\n",
    "            \n",
    "    except Exception as e:\n",
    "        print(e)\n",
    "        return \n",
    "    else:\n",
    "        \n",
    "        videoArgs = {\n",
    "            'dimensions': dimensions,\n",
    "            'region': aoi,\n",
    "            'framesPerSecond': frame_per_second,\n",
    "            'crs': crs,\n",
    "            'min': vis_min,\n",
    "            'max': vis_max,\n",
    "            'bands': bands,\n",
    "            'palette' : palette\n",
    "\n",
    "        }\n",
    "#         url = col.getVideoThumbURL(videoArgs)\n",
    "#         return url\n",
    "        try:\n",
    "\n",
    "            url = col.getVideoThumbURL(videoArgs)\n",
    "\n",
    "            return url\n",
    "\n",
    "        except Exception:\n",
    "\n",
    "            print('The number of requested images exceeded the memory limit. Please, redcue the time interval')\n",
    "\n",
    "            return\n"
   ]
  },
  {
   "cell_type": "code",
   "execution_count": 7,
   "id": "294fcd02",
   "metadata": {},
   "outputs": [],
   "source": [
    "url = SAR_timeseries_url(SAR,GERD_aoi,vis_method='rgb_water_mosaic')"
   ]
  },
  {
   "cell_type": "code",
   "execution_count": 8,
   "id": "81e0390b",
   "metadata": {},
   "outputs": [
    {
     "name": "stdout",
     "output_type": "stream",
     "text": [
      "https://earthengine.googleapis.com/v1alpha/projects/earthengine-legacy/videoThumbnails/0fc1934dca9877c2cdcb91b0a2a91464-789a14f77281c91cd628baa99d16c335:getPixels\n"
     ]
    }
   ],
   "source": [
    "print(url)"
   ]
  },
  {
   "cell_type": "code",
   "execution_count": 9,
   "id": "a85622e1",
   "metadata": {},
   "outputs": [],
   "source": [
    "SAR = SAR.map(filterSpeckles).map(water_classify).map(rgb_water_mosaic)"
   ]
  },
  {
   "cell_type": "code",
   "execution_count": null,
   "id": "afdbbec1",
   "metadata": {},
   "outputs": [],
   "source": []
  }
 ],
 "metadata": {
  "hide_input": false,
  "kernelspec": {
   "display_name": "Python 3 (ipykernel)",
   "language": "python",
   "name": "python3"
  },
  "language_info": {
   "codemirror_mode": {
    "name": "ipython",
    "version": 3
   },
   "file_extension": ".py",
   "mimetype": "text/x-python",
   "name": "python",
   "nbconvert_exporter": "python",
   "pygments_lexer": "ipython3",
   "version": "3.9.10"
  },
  "toc": {
   "base_numbering": 1,
   "nav_menu": {},
   "number_sections": true,
   "sideBar": true,
   "skip_h1_title": false,
   "title_cell": "Table of Contents",
   "title_sidebar": "Contents",
   "toc_cell": false,
   "toc_position": {},
   "toc_section_display": true,
   "toc_window_display": false
  }
 },
 "nbformat": 4,
 "nbformat_minor": 5
}
