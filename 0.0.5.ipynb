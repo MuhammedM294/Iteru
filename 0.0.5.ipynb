{
 "cells": [
  {
   "cell_type": "code",
   "execution_count": 1,
   "id": "e829d462",
   "metadata": {},
   "outputs": [],
   "source": [
    "import ee\n",
    "ee.Initialize()\n",
    "from iteru import *\n",
    "from ipywidgets import *\n"
   ]
  },
  {
   "cell_type": "code",
   "execution_count": 2,
   "id": "623615f6",
   "metadata": {},
   "outputs": [],
   "source": [
    "map = Map()"
   ]
  },
  {
   "cell_type": "code",
   "execution_count": 3,
   "id": "72d71104",
   "metadata": {},
   "outputs": [
    {
     "ename": "NameError",
     "evalue": "name 'basemaps_button' is not defined",
     "output_type": "error",
     "traceback": [
      "\u001b[1;31m---------------------------------------------------------------------------\u001b[0m",
      "\u001b[1;31mNameError\u001b[0m                                 Traceback (most recent call last)",
      "\u001b[1;32m~\\AppData\\Local\\Temp/ipykernel_13744/1781697274.py\u001b[0m in \u001b[0;36m<module>\u001b[1;34m\u001b[0m\n\u001b[1;32m----> 1\u001b[1;33m \u001b[0mbasemap_tool\u001b[0m \u001b[1;33m=\u001b[0m \u001b[0mHBox\u001b[0m\u001b[1;33m(\u001b[0m\u001b[1;33m[\u001b[0m\u001b[0mbasemaps_button\u001b[0m\u001b[1;33m]\u001b[0m\u001b[1;33m)\u001b[0m\u001b[1;33m\u001b[0m\u001b[1;33m\u001b[0m\u001b[0m\n\u001b[0m\u001b[0;32m      2\u001b[0m \u001b[0mterrain_dataset_tool\u001b[0m \u001b[1;33m=\u001b[0m \u001b[0mHBox\u001b[0m\u001b[1;33m(\u001b[0m\u001b[1;33m[\u001b[0m\u001b[0mterrain_dataset_button\u001b[0m\u001b[1;33m]\u001b[0m\u001b[1;33m)\u001b[0m\u001b[1;33m\u001b[0m\u001b[1;33m\u001b[0m\u001b[0m\n\u001b[0;32m      3\u001b[0m \u001b[0mTOC_container\u001b[0m \u001b[1;33m=\u001b[0m \u001b[0mHBox\u001b[0m\u001b[1;33m(\u001b[0m\u001b[1;33m[\u001b[0m\u001b[0mTOC\u001b[0m\u001b[1;33m]\u001b[0m\u001b[1;33m)\u001b[0m\u001b[1;33m\u001b[0m\u001b[1;33m\u001b[0m\u001b[0m\n\u001b[0;32m      4\u001b[0m \u001b[0mTOC_out\u001b[0m \u001b[1;33m=\u001b[0m \u001b[0mOutput\u001b[0m\u001b[1;33m(\u001b[0m\u001b[0mlayout\u001b[0m\u001b[1;33m=\u001b[0m\u001b[1;33m{\u001b[0m\u001b[1;34m'border'\u001b[0m\u001b[1;33m:\u001b[0m \u001b[1;34m'1px solid blue'\u001b[0m\u001b[1;33m}\u001b[0m\u001b[1;33m)\u001b[0m\u001b[1;33m\u001b[0m\u001b[1;33m\u001b[0m\u001b[0m\n",
      "\u001b[1;31mNameError\u001b[0m: name 'basemaps_button' is not defined"
     ]
    }
   ],
   "source": [
    "basemap_tool = HBox([basemaps_button])\n",
    "terrain_dataset_tool = HBox([terrain_dataset_button])\n",
    "TOC_container = HBox([TOC])\n",
    "TOC_out = Output(layout={'border': '1px solid blue'})"
   ]
  },
  {
   "cell_type": "code",
   "execution_count": null,
   "id": "8da6c0ae",
   "metadata": {},
   "outputs": [],
   "source": [
    "def basemap_tool_click(change):\n",
    "    if change.new:\n",
    "        basemap_tool.children = [basemaps_button,basemaps]\n",
    "    else:\n",
    "        basemap_tool.children = [basemaps_button]\n",
    "        \n",
    "        \n",
    "def terrain_tool_click(change):\n",
    "    if change.new:\n",
    "        terrain_dataset_tool.children = [terrain_dataset_button, terrain]\n",
    "    else:\n",
    "        terrain_dataset_tool.children = [terrain_dataset_button]\n",
    "        \n",
    "        \n",
    "def TOC_container_click(change):\n",
    "    if change.new:\n",
    "        TOC_container.children = [TOC,TOC_out]\n",
    "    else:\n",
    "        TOC_container.children = [TOC]      "
   ]
  },
  {
   "cell_type": "code",
   "execution_count": null,
   "id": "a5a9288d",
   "metadata": {},
   "outputs": [],
   "source": [
    "TOC.observe(TOC_container_click, names = 'value')\n",
    "basemaps_button.observe(basemap_tool_click, names = 'value')\n",
    "terrain_dataset_button.observe(terrain_tool_click, names = 'value')"
   ]
  },
  {
   "cell_type": "code",
   "execution_count": null,
   "id": "fa76429e",
   "metadata": {},
   "outputs": [],
   "source": [
    "basemap_tool_widget = AddWidget(widget = basemap_tool, position = 'topleft')\n",
    "terrain_dataset_tool_widget = AddWidget(widget = terrain_dataset_tool, position = 'topleft')\n",
    "TOC_widget = AddWidget(widget = TOC_container, position = 'topleft')"
   ]
  },
  {
   "cell_type": "code",
   "execution_count": null,
   "id": "81c66d85",
   "metadata": {},
   "outputs": [],
   "source": [
    "map.add_control(basemap_tool_widget)\n",
    "map.add_control(terrain_dataset_tool_widget)\n",
    "map.add_control(TOC_widget )"
   ]
  },
  {
   "cell_type": "code",
   "execution_count": null,
   "id": "ee139124",
   "metadata": {},
   "outputs": [],
   "source": [
    "def map_basemaps_widgets(change):\n",
    "        if change.new:\n",
    "            if change.new in map.layers:\n",
    "                pass\n",
    "            else:\n",
    "                layer = change.new\n",
    "                map.add_layer(layer)\n",
    "                       \n",
    "                close_button = Button(  \n",
    "                      value = False, \n",
    "                      tooltip = 'Remove This Layer',\n",
    "                      icon = 'window-close',\n",
    "                      layout = Layout(width = '32px', height = '28px'),   \n",
    "                )\n",
    "\n",
    "                layer_visibility = Checkbox(\n",
    "                      value = True, \n",
    "                      indent=False,\n",
    "                      layout = Layout(width = '15px')\n",
    "                )\n",
    "                \n",
    "                layer_name = Label(\n",
    "                                   value= change.new.name,\n",
    "                                   layout = Layout(width = '110px', height = '28px'),\n",
    "                                   tooltip = change.new.name\n",
    "                              )\n",
    "\n",
    "                opacity = FloatSlider(\n",
    "                                      value = 1,\n",
    "                                      min = 0,  \n",
    "                                      max = 1,\n",
    "                                      step = 0.1,\n",
    "                                      indent=False,            \n",
    "                               )\n",
    "                def change_layer_visibility(show_hide):\n",
    "                    change.new.visible = show_hide \n",
    "                    \n",
    "                def change_layer_opacity(Opacity):\n",
    "                    change.new.opacity = Opacity\n",
    "                        \n",
    "                def remove_layer(b):\n",
    "                    map.remove_layer(layer)\n",
    "                    close_button.close()\n",
    "                    opacity.close()\n",
    "                    layer_name.close()\n",
    "                    layer_visibility.close()\n",
    "                    \n",
    "                opacity_slider = interactive(change_layer_opacity,Opacity = opacity)\n",
    "                \n",
    "                visibility_checkbox = interactive(change_layer_visibility,show_hide = layer_visibility)\n",
    "                \n",
    "                with TOC_out:\n",
    "                    display(HBox([layer_visibility,layer_name,opacity, close_button]))\n",
    "                \n",
    "                \n",
    "                close_button.on_click(remove_layer)\n",
    "basemaps.observe(map_basemaps_widgets, names = 'value') "
   ]
  },
  {
   "cell_type": "code",
   "execution_count": null,
   "id": "890ba5aa",
   "metadata": {},
   "outputs": [],
   "source": [
    "def add_terrain(change):\n",
    "    \n",
    "    if change.new:\n",
    "        if ee_tilelayer(change.new) in map.layers:\n",
    "            pass\n",
    "        \n",
    "        else:\n",
    "            \n",
    "            layer = ee_tilelayer(change.new, name = change.new.getInfo()['id'])\n",
    "        \n",
    "            map.add_layer(layer)\n",
    "            \n",
    "            close_button = Button(  \n",
    "                                value = False, \n",
    "                                tooltip = 'Remove This Layer',\n",
    "                                icon = 'window-close',\n",
    "                                layout = Layout(width = '32px', height = '28px'),   \n",
    "                               )\n",
    "\n",
    "            layer_visibility = Checkbox(\n",
    "                               value = True, \n",
    "                               indent=False,\n",
    "                               layout = Layout(width = '15px')\n",
    "                )\n",
    "                \n",
    "            layer_name = Label(\n",
    "                                   value= change.new.getInfo()['id'],\n",
    "                                   layout = Layout(width = '110px', height = '28px'),\n",
    "                                   tooltip = change.new.getInfo()['id']\n",
    "                              )\n",
    "                \n",
    "            \n",
    "            opacity = FloatSlider(\n",
    "                                      value = 1,\n",
    "                                      min = 0,  \n",
    "                                      max = 1,\n",
    "                                      step = 0.1,\n",
    "                                      indent=False,   \n",
    "                               )\n",
    "            terrain_close_button = close_button\n",
    "            terrain_visibility  = layer_visibility \n",
    "            def change_layer_visibility(show_hide):\n",
    "                \n",
    "                layer.visible = show_hide \n",
    "                    \n",
    "            def change_layer_opacity(Opacity):\n",
    "                layer.opacity = Opacity\n",
    "                        \n",
    "            def remove_layer(b):\n",
    "                map.remove_layer(layer)\n",
    "                close_button.close()\n",
    "                opacity.close()\n",
    "                layer_name.close()\n",
    "                layer_visibility.close()\n",
    "                \n",
    "            opacity_slider = interactive(change_layer_opacity,Opacity = opacity)\n",
    "                \n",
    "            visibility_checkbox = interactive(change_layer_visibility,show_hide = layer_visibility)\n",
    "                \n",
    "            with TOC_out:\n",
    "                \n",
    "                display(HBox([layer_visibility,layer_name,opacity, close_button]))\n",
    "                   \n",
    "            close_button.on_click(remove_layer)\n",
    "terrain.observe(add_terrain , names= 'value')"
   ]
  },
  {
   "cell_type": "code",
   "execution_count": null,
   "id": "aca911e7",
   "metadata": {},
   "outputs": [],
   "source": [
    "map"
   ]
  }
 ],
 "metadata": {
  "hide_input": false,
  "kernelspec": {
   "display_name": "Python 3 (ipykernel)",
   "language": "python",
   "name": "python3"
  },
  "language_info": {
   "codemirror_mode": {
    "name": "ipython",
    "version": 3
   },
   "file_extension": ".py",
   "mimetype": "text/x-python",
   "name": "python",
   "nbconvert_exporter": "python",
   "pygments_lexer": "ipython3",
   "version": "3.9.7"
  },
  "toc": {
   "base_numbering": 1,
   "nav_menu": {},
   "number_sections": true,
   "sideBar": true,
   "skip_h1_title": false,
   "title_cell": "Table of Contents",
   "title_sidebar": "Contents",
   "toc_cell": false,
   "toc_position": {},
   "toc_section_display": true,
   "toc_window_display": false
  }
 },
 "nbformat": 4,
 "nbformat_minor": 5
}
