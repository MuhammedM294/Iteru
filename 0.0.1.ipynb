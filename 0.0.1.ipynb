{
 "cells": [
  {
   "cell_type": "code",
   "execution_count": 1,
   "id": "dad1aa4a",
   "metadata": {},
   "outputs": [],
   "source": [
    "from iteru import *\n",
    "from ipywidgets import *"
   ]
  },
  {
   "cell_type": "code",
   "execution_count": 2,
   "id": "3613ce8c",
   "metadata": {},
   "outputs": [],
   "source": [
    "map = Map()"
   ]
  },
  {
   "cell_type": "code",
   "execution_count": 3,
   "id": "219ebe22",
   "metadata": {},
   "outputs": [],
   "source": [
    "basemaps = Dropdown(\n",
    "    options = basemaps,\n",
    "    value = None,\n",
    "    description = 'Basemaps',\n",
    "    description_tooltip = 'Select Basemap',\n",
    "    layout=Layout(width='230px')\n",
    ")\n",
    "def add_basemap(change):\n",
    "    try:\n",
    "        if len(map.layers) == 1:\n",
    "            map.add_layer(change.new)\n",
    "        else:\n",
    "            map.substitute_layer(map.layers[1], change.new)\n",
    "    except:\n",
    "        pass\n",
    "basemaps.observe(add_basemap, names = 'value')"
   ]
  },
  {
   "cell_type": "code",
   "execution_count": 4,
   "id": "75ebd3cc",
   "metadata": {},
   "outputs": [],
   "source": [
    "padding = \"0px 0px 0px 0px\" \n",
    "basemaps_button = ToggleButton(\n",
    "                               value = False, \n",
    "                               tooltip = 'Select Basemaps',\n",
    "                               icon = 'map',\n",
    "                               layout = Layout(width = '32px', height = '28px'),\n",
    "                               button_style=\"primary\",\n",
    "                               padding = padding\n",
    " )\n"
   ]
  },
  {
   "cell_type": "code",
   "execution_count": 5,
   "id": "0b627666",
   "metadata": {},
   "outputs": [],
   "source": [
    "basemap_tool = HBox([basemaps_button])\n",
    "\n",
    "def basemap_tool_click(change):\n",
    "    if change.new:\n",
    "        basemap_tool.children = [basemaps_button,basemaps]\n",
    "    else:\n",
    "        basemap_tool.children = [basemaps_button]\n",
    "\n",
    "basemaps_button.observe(basemap_tool_click, names = 'value')\n",
    "\n"
   ]
  },
  {
   "cell_type": "code",
   "execution_count": 6,
   "id": "19163163",
   "metadata": {},
   "outputs": [
    {
     "data": {
      "application/vnd.jupyter.widget-view+json": {
       "model_id": "dc6ebca6f29a4c35b39913175f8369a6",
       "version_major": 2,
       "version_minor": 0
      },
      "text/plain": [
       "Map(center=[27, 31], controls=(AttributionControl(options=['position', 'prefix'], position='bottomright'), Sea…"
      ]
     },
     "metadata": {},
     "output_type": "display_data"
    }
   ],
   "source": [
    "basemap_tool_widget = AddWidget(widget = basemap_tool, position = 'topleft')\n",
    "map.add_control(basemap_tool_widget )\n",
    "map"
   ]
  },
  {
   "cell_type": "code",
   "execution_count": 26,
   "id": "13a2ff53",
   "metadata": {},
   "outputs": [
    {
     "data": {
      "application/vnd.jupyter.widget-view+json": {
       "model_id": "d6e671649d3d4611b7f40f3c4c3bb57f",
       "version_major": 2,
       "version_minor": 0
      },
      "text/plain": [
       "interactive(children=(FloatSlider(value=1.0, description='Esri Topo World', max=1.0), Output()), _dom_classes=…"
      ]
     },
     "metadata": {},
     "output_type": "display_data"
    }
   ],
   "source": [
    "opacity_slider = FloatSlider(\n",
    "                           value = 1, \n",
    "                           min = 0, \n",
    "                           max = 1, \n",
    "                           step = 0.1, \n",
    "                           description=map.layers[1].name,\n",
    "                           layout = {'descrtiption_width':'max'}\n",
    "                          )\n",
    "@interact(value = opacity_slider)\n",
    "def opacity_value(value):\n",
    "    if len(map.layers) == 2:\n",
    "        map.layers[1].opacity = value\n",
    "    "
   ]
  },
  {
   "cell_type": "code",
   "execution_count": null,
   "id": "1547d057",
   "metadata": {},
   "outputs": [],
   "source": []
  },
  {
   "cell_type": "code",
   "execution_count": null,
   "id": "4db0e07d",
   "metadata": {},
   "outputs": [],
   "source": []
  }
 ],
 "metadata": {
  "hide_input": false,
  "kernelspec": {
   "display_name": "Python 3 (ipykernel)",
   "language": "python",
   "name": "python3"
  },
  "language_info": {
   "codemirror_mode": {
    "name": "ipython",
    "version": 3
   },
   "file_extension": ".py",
   "mimetype": "text/x-python",
   "name": "python",
   "nbconvert_exporter": "python",
   "pygments_lexer": "ipython3",
   "version": "3.9.7"
  },
  "toc": {
   "base_numbering": 1,
   "nav_menu": {},
   "number_sections": true,
   "sideBar": true,
   "skip_h1_title": false,
   "title_cell": "Table of Contents",
   "title_sidebar": "Contents",
   "toc_cell": false,
   "toc_position": {},
   "toc_section_display": true,
   "toc_window_display": false
  }
 },
 "nbformat": 4,
 "nbformat_minor": 5
}
