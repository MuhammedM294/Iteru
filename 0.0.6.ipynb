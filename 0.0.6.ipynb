{
 "cells": [
  {
   "cell_type": "code",
   "execution_count": 1,
   "id": "906c7aa4",
   "metadata": {},
   "outputs": [],
   "source": [
    "import ee\n",
    "ee.Initialize()\n",
    "from iteru import *\n",
    "from ipywidgets import *\n",
    "from ipyleaflet import GeoJSON\n",
    "import json"
   ]
  },
  {
   "cell_type": "code",
   "execution_count": 2,
   "id": "4dedaf7e",
   "metadata": {},
   "outputs": [
    {
     "data": {
      "application/vnd.jupyter.widget-view+json": {
       "model_id": "ba4e3b22b4de44329665d5b206158f20",
       "version_major": 2,
       "version_minor": 0
      },
      "text/plain": [
       "Map(center=[27, 31], controls=(AttributionControl(options=['position', 'prefix'], position='bottomright'), Sea…"
      ]
     },
     "metadata": {},
     "output_type": "display_data"
    }
   ],
   "source": [
    "Map = Map()\n",
    "Map"
   ]
  },
  {
   "cell_type": "code",
   "execution_count": 3,
   "id": "4ad65386",
   "metadata": {},
   "outputs": [],
   "source": [
    "with open ('./examples/aoi.geojson') as file:\n",
    "    studyarea = json.load(file)\n",
    "aoi = ee.FeatureCollection(studyarea)\n",
    "Map.add_ee_layer(aoi,{'color':'blue'},'Area of Interest')"
   ]
  },
  {
   "cell_type": "code",
   "execution_count": 79,
   "id": "123304bb",
   "metadata": {},
   "outputs": [],
   "source": [
    "collection= ee.ImageCollection('COPERNICUS/S2_SR')\\\n",
    ".filterBounds(aoi)\\\n",
    ".filterDate('2021-01-01','2021-02-01')"
   ]
  },
  {
   "cell_type": "code",
   "execution_count": 80,
   "id": "2737d7e7",
   "metadata": {},
   "outputs": [],
   "source": [
    "def collection_vis_params(collection):\n",
    "    min = float(collection.getInfo()['properties']['visualization_0_min'])\n",
    "    max = float(collection.getInfo()['properties']['visualization_0_max'])\n",
    "    bands = collection.getInfo()['properties']['visualization_0_bands'].split(',')\n",
    "    return {'min':min, 'max':max,'bands':bands}"
   ]
  },
  {
   "cell_type": "code",
   "execution_count": 134,
   "id": "4dffec76",
   "metadata": {},
   "outputs": [],
   "source": [
    "def best_image(year):\n",
    "    start_date = ee.Date.fromYMD(year,1,1)"
   ]
  },
  {
   "cell_type": "code",
   "execution_count": null,
   "id": "8102a6ac",
   "metadata": {},
   "outputs": [],
   "source": []
  }
 ],
 "metadata": {
  "hide_input": false,
  "kernelspec": {
   "display_name": "Python 3 (ipykernel)",
   "language": "python",
   "name": "python3"
  },
  "language_info": {
   "codemirror_mode": {
    "name": "ipython",
    "version": 3
   },
   "file_extension": ".py",
   "mimetype": "text/x-python",
   "name": "python",
   "nbconvert_exporter": "python",
   "pygments_lexer": "ipython3",
   "version": "3.9.7"
  },
  "toc": {
   "base_numbering": 1,
   "nav_menu": {},
   "number_sections": true,
   "sideBar": true,
   "skip_h1_title": false,
   "title_cell": "Table of Contents",
   "title_sidebar": "Contents",
   "toc_cell": false,
   "toc_position": {},
   "toc_section_display": true,
   "toc_window_display": false
  }
 },
 "nbformat": 4,
 "nbformat_minor": 5
}
