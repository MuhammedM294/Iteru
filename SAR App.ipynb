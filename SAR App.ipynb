{
 "cells": [
  {
   "cell_type": "code",
   "execution_count": 1,
   "id": "5ddf620f",
   "metadata": {},
   "outputs": [],
   "source": [
    "from iteru import *"
   ]
  },
  {
   "cell_type": "code",
   "execution_count": null,
   "id": "6937d29b",
   "metadata": {},
   "outputs": [],
   "source": [
    "# Map = Map()\n",
    "# Map"
   ]
  },
  {
   "cell_type": "code",
   "execution_count": null,
   "id": "1788e317",
   "metadata": {},
   "outputs": [],
   "source": [
    "# startYear = 2020\n",
    "# startMonth =1\n",
    "# startDay = 1\n",
    "# endYear = 2022\n",
    "# endMonth = 3\n",
    "# endDay = 17"
   ]
  },
  {
   "cell_type": "code",
   "execution_count": null,
   "id": "eaabcc70",
   "metadata": {},
   "outputs": [],
   "source": [
    "# SAR_col= S1_SAR_col(GERD_aoi,startYear,startMonth,startDay,endYear,endMonth,endDay,temp_freq=None)"
   ]
  },
  {
   "cell_type": "code",
   "execution_count": null,
   "id": "7c5d3355",
   "metadata": {},
   "outputs": [],
   "source": [
    "# SAR=SAR_col[0];dates_sequences = SAR_col[1]"
   ]
  },
  {
   "cell_type": "code",
   "execution_count": null,
   "id": "fe14c635",
   "metadata": {},
   "outputs": [],
   "source": [
    "# url = SAR_timeseries_url(SAR,GERD_aoi,vis_method='water_mask_only')"
   ]
  },
  {
   "cell_type": "code",
   "execution_count": null,
   "id": "c498d443",
   "metadata": {},
   "outputs": [],
   "source": [
    "# out_gif = get_gif(url)\n",
    "# add_text_to_gif(out_gif,dates_sequences, dates_font_size = 25, dates_font_color = 'white', framesPerSecond = 3)\n",
    "# display_gif(out_gif)"
   ]
  },
  {
   "cell_type": "code",
   "execution_count": null,
   "id": "33d6a24a",
   "metadata": {},
   "outputs": [],
   "source": [
    "# water_vectors = SAR.map(filterSpeckles).map(water_classify).map(water_to_vector)"
   ]
  },
  {
   "cell_type": "code",
   "execution_count": null,
   "id": "ba3c42ed",
   "metadata": {},
   "outputs": [],
   "source": [
    "#water_area = [area /(1e6) for area in water_vectors.aggregate_array('Area').getInfo()]"
   ]
  },
  {
   "cell_type": "code",
   "execution_count": null,
   "id": "c7142ae9",
   "metadata": {},
   "outputs": [],
   "source": [
    "# dems = water_vectors.map(max_water_ele)"
   ]
  },
  {
   "cell_type": "code",
   "execution_count": null,
   "id": "35bde773",
   "metadata": {},
   "outputs": [],
   "source": [
    "# max_elev = [elev for elev in dems.aggregate_array('Maximum_water_elevation').getInfo()]"
   ]
  },
  {
   "cell_type": "code",
   "execution_count": null,
   "id": "1b44dcad",
   "metadata": {},
   "outputs": [],
   "source": [
    "# volume_stats = dems.map(water_vol)"
   ]
  },
  {
   "cell_type": "code",
   "execution_count": null,
   "id": "a2af8cb2",
   "metadata": {},
   "outputs": [],
   "source": [
    "# ele_sum = volume_stats.aggregate_array('Elevation_sum').getInfo()"
   ]
  },
  {
   "cell_type": "code",
   "execution_count": null,
   "id": "fd20c594",
   "metadata": {},
   "outputs": [],
   "source": [
    "# pixel_num  = volume_stats.aggregate_array('Pixels_number').getInfo()"
   ]
  },
  {
   "cell_type": "code",
   "execution_count": null,
   "id": "42a44e0a",
   "metadata": {},
   "outputs": [],
   "source": [
    "# volume = [((water_level*pixles_count-elevations_sum)*900)/(1e9) for water_level,elevations_sum , pixles_count in zip(max_elev,ele_sum,pixel_num)]"
   ]
  },
  {
   "cell_type": "code",
   "execution_count": 2,
   "id": "3daa5c8b",
   "metadata": {},
   "outputs": [
    {
     "ename": "OSError",
     "evalue": "cannot open resource",
     "output_type": "error",
     "traceback": [
      "\u001b[1;31m---------------------------------------------------------------------------\u001b[0m",
      "\u001b[1;31mOSError\u001b[0m                                   Traceback (most recent call last)",
      "Input \u001b[1;32mIn [2]\u001b[0m, in \u001b[0;36m<cell line: 1>\u001b[1;34m()\u001b[0m\n\u001b[1;32m----> 1\u001b[0m \u001b[43mGERD_SAR_timelaspe\u001b[49m\u001b[43m(\u001b[49m\u001b[43m  \u001b[49m\u001b[43maoi\u001b[49m\u001b[43m \u001b[49m\u001b[38;5;241;43m=\u001b[39;49m\u001b[43m \u001b[49m\u001b[43mGERD_aoi\u001b[49m\u001b[43m,\u001b[49m\n\u001b[0;32m      2\u001b[0m \u001b[43m                     \u001b[49m\u001b[43mstartYear\u001b[49m\u001b[43m \u001b[49m\u001b[38;5;241;43m=\u001b[39;49m\u001b[43m \u001b[49m\u001b[38;5;241;43m2020\u001b[39;49m\u001b[43m,\u001b[49m\n\u001b[0;32m      3\u001b[0m \u001b[43m                     \u001b[49m\u001b[43mstartMonth\u001b[49m\u001b[43m \u001b[49m\u001b[38;5;241;43m=\u001b[39;49m\u001b[43m \u001b[49m\u001b[38;5;241;43m6\u001b[39;49m\u001b[43m,\u001b[49m\n\u001b[0;32m      4\u001b[0m \u001b[43m                     \u001b[49m\u001b[43mstartDay\u001b[49m\u001b[43m \u001b[49m\u001b[38;5;241;43m=\u001b[39;49m\u001b[43m \u001b[49m\u001b[38;5;241;43m1\u001b[39;49m\u001b[43m,\u001b[49m\n\u001b[0;32m      5\u001b[0m \u001b[43m                     \u001b[49m\u001b[43mendYear\u001b[49m\u001b[43m \u001b[49m\u001b[38;5;241;43m=\u001b[39;49m\u001b[43m \u001b[49m\u001b[38;5;241;43m2022\u001b[39;49m\u001b[43m,\u001b[49m\n\u001b[0;32m      6\u001b[0m \u001b[43m                     \u001b[49m\u001b[43mendMonth\u001b[49m\u001b[43m \u001b[49m\u001b[38;5;241;43m=\u001b[39;49m\u001b[43m \u001b[49m\u001b[38;5;241;43m3\u001b[39;49m\u001b[43m,\u001b[49m\n\u001b[0;32m      7\u001b[0m \u001b[43m                     \u001b[49m\u001b[43mendDay\u001b[49m\u001b[43m \u001b[49m\u001b[38;5;241;43m=\u001b[39;49m\u001b[43m \u001b[49m\u001b[38;5;241;43m10\u001b[39;49m\u001b[43m,\u001b[49m\n\u001b[0;32m      8\u001b[0m \u001b[43m                     \u001b[49m\u001b[43mtemp_freq\u001b[49m\u001b[38;5;241;43m=\u001b[39;49m\u001b[38;5;28;43;01mNone\u001b[39;49;00m\u001b[43m,\u001b[49m\u001b[43m \u001b[49m\n\u001b[0;32m      9\u001b[0m \u001b[43m                     \u001b[49m\u001b[43mvis_method\u001b[49m\u001b[43m \u001b[49m\u001b[38;5;241;43m=\u001b[39;49m\u001b[43m \u001b[49m\u001b[38;5;124;43m'\u001b[39;49m\u001b[38;5;124;43mrgb\u001b[39;49m\u001b[38;5;124;43m'\u001b[39;49m\u001b[43m,\u001b[49m\n\u001b[0;32m     10\u001b[0m \u001b[43m                     \u001b[49m\u001b[43mcrs\u001b[49m\u001b[38;5;241;43m=\u001b[39;49m\u001b[38;5;124;43m'\u001b[39;49m\u001b[38;5;124;43mEPSG:3857\u001b[39;49m\u001b[38;5;124;43m'\u001b[39;49m\u001b[43m,\u001b[49m\n\u001b[0;32m     11\u001b[0m \u001b[43m                     \u001b[49m\u001b[43mdimensions\u001b[49m\u001b[38;5;241;43m=\u001b[39;49m\u001b[38;5;241;43m900\u001b[39;49m\u001b[43m,\u001b[49m\n\u001b[0;32m     12\u001b[0m \u001b[43m                     \u001b[49m\u001b[43mdates_font_size\u001b[49m\u001b[43m \u001b[49m\u001b[38;5;241;43m=\u001b[39;49m\u001b[43m \u001b[49m\u001b[38;5;241;43m20\u001b[39;49m\u001b[43m,\u001b[49m\n\u001b[0;32m     13\u001b[0m \u001b[43m                     \u001b[49m\u001b[43mcopywrite_font_size\u001b[49m\u001b[43m \u001b[49m\u001b[38;5;241;43m=\u001b[39;49m\u001b[43m \u001b[49m\u001b[38;5;241;43m12\u001b[39;49m\u001b[43m,\u001b[49m\n\u001b[0;32m     14\u001b[0m \u001b[43m                     \u001b[49m\u001b[43mdates_font_color\u001b[49m\u001b[43m \u001b[49m\u001b[38;5;241;43m=\u001b[39;49m\u001b[43m \u001b[49m\u001b[38;5;124;43m'\u001b[39;49m\u001b[38;5;124;43mblack\u001b[39;49m\u001b[38;5;124;43m'\u001b[39;49m\u001b[43m,\u001b[49m\n\u001b[0;32m     15\u001b[0m \u001b[43m                     \u001b[49m\u001b[43mcopywrite_font_color\u001b[49m\u001b[43m \u001b[49m\u001b[38;5;241;43m=\u001b[39;49m\u001b[43m \u001b[49m\u001b[38;5;124;43m'\u001b[39;49m\u001b[38;5;124;43mblack\u001b[39;49m\u001b[38;5;124;43m'\u001b[39;49m\u001b[43m,\u001b[49m\n\u001b[0;32m     16\u001b[0m \u001b[43m                     \u001b[49m\u001b[43mframesPerSecond\u001b[49m\u001b[43m \u001b[49m\u001b[38;5;241;43m=\u001b[39;49m\u001b[43m \u001b[49m\u001b[38;5;241;43m3\u001b[39;49m\u001b[43m,\u001b[49m\u001b[43m                     \u001b[49m\n\u001b[0;32m     17\u001b[0m \u001b[43m                    \u001b[49m\u001b[43m)\u001b[49m\n",
      "File \u001b[1;32mD:\\Jupyter Notebook\\iteru\\iteru\\iteru.py:979\u001b[0m, in \u001b[0;36mGERD_SAR_timelaspe\u001b[1;34m(aoi, startYear, startMonth, startDay, endYear, endMonth, endDay, temp_freq, vis_method, crs, dimensions, dates_font_size, copywrite_font_size, dates_font_color, copywrite_font_color, framesPerSecond)\u001b[0m\n\u001b[0;32m    975\u001b[0m \u001b[38;5;28;01mif\u001b[39;00m url:\n\u001b[0;32m    977\u001b[0m     out_gif \u001b[38;5;241m=\u001b[39m get_gif(url)\n\u001b[1;32m--> 979\u001b[0m     \u001b[43madd_text_to_gif\u001b[49m\u001b[43m(\u001b[49m\u001b[43mout_gif\u001b[49m\u001b[43m,\u001b[49m\u001b[43m \u001b[49m\u001b[43mdates_sequences\u001b[49m\u001b[43m,\u001b[49m\n\u001b[0;32m    980\u001b[0m \u001b[43m                    \u001b[49m\u001b[43mdates_font_size\u001b[49m\u001b[43m,\u001b[49m\n\u001b[0;32m    981\u001b[0m \u001b[43m                    \u001b[49m\u001b[43mcopywrite_font_size\u001b[49m\u001b[43m,\u001b[49m\n\u001b[0;32m    982\u001b[0m \u001b[43m                    \u001b[49m\u001b[43mdates_font_color\u001b[49m\u001b[43m,\u001b[49m\n\u001b[0;32m    983\u001b[0m \u001b[43m                    \u001b[49m\u001b[43mcopywrite_font_color\u001b[49m\u001b[43m,\u001b[49m\n\u001b[0;32m    984\u001b[0m \u001b[43m                    \u001b[49m\u001b[43mframesPerSecond\u001b[49m\u001b[43m)\u001b[49m\n\u001b[0;32m    986\u001b[0m     display_gif(out_gif)\n",
      "File \u001b[1;32mD:\\Jupyter Notebook\\iteru\\iteru\\iteru.py:359\u001b[0m, in \u001b[0;36madd_text_to_gif\u001b[1;34m(out_gif, dates_list, dates_font_size, copywrite_font_size, dates_font_color, copywrite_font_color, framesPerSecond)\u001b[0m\n\u001b[0;32m    357\u001b[0m dates_text \u001b[38;5;241m=\u001b[39m dates_list\n\u001b[0;32m    358\u001b[0m copywrite \u001b[38;5;241m=\u001b[39m \u001b[38;5;124m'\u001b[39m\u001b[38;5;124m©Iteru, 2022\u001b[39m\u001b[38;5;124m'\u001b[39m\n\u001b[1;32m--> 359\u001b[0m dates_text_font \u001b[38;5;241m=\u001b[39m \u001b[43mImageFont\u001b[49m\u001b[38;5;241;43m.\u001b[39;49m\u001b[43mtruetype\u001b[49m\u001b[43m(\u001b[49m\n\u001b[0;32m    360\u001b[0m \u001b[43m    \u001b[49m\u001b[38;5;124;43m\"\u001b[39;49m\u001b[38;5;124;43mhttps://github.com/MuhammedM294/common_data/raw/main/Fonts/News_705_Italic_BT.ttf\u001b[39;49m\u001b[38;5;124;43m\"\u001b[39;49m\u001b[43m,\u001b[49m\u001b[43m \u001b[49m\u001b[43mdates_font_size\u001b[49m\u001b[43m)\u001b[49m\n\u001b[0;32m    361\u001b[0m copywrite_font \u001b[38;5;241m=\u001b[39m ImageFont\u001b[38;5;241m.\u001b[39mtruetype(\n\u001b[0;32m    362\u001b[0m     \u001b[38;5;124m\"\u001b[39m\u001b[38;5;124mhttps://github.com/MuhammedM294/common_data/raw/main/Fonts/News_705_Italic_BT.ttf\u001b[39m\u001b[38;5;124m\"\u001b[39m, copywrite_font_size)\n\u001b[0;32m    364\u001b[0m frames \u001b[38;5;241m=\u001b[39m []\n",
      "File \u001b[1;32m~\\anaconda3\\lib\\site-packages\\PIL\\ImageFont.py:844\u001b[0m, in \u001b[0;36mtruetype\u001b[1;34m(font, size, index, encoding, layout_engine)\u001b[0m\n\u001b[0;32m    841\u001b[0m     \u001b[38;5;28;01mreturn\u001b[39;00m FreeTypeFont(font, size, index, encoding, layout_engine)\n\u001b[0;32m    843\u001b[0m \u001b[38;5;28;01mtry\u001b[39;00m:\n\u001b[1;32m--> 844\u001b[0m     \u001b[38;5;28;01mreturn\u001b[39;00m \u001b[43mfreetype\u001b[49m\u001b[43m(\u001b[49m\u001b[43mfont\u001b[49m\u001b[43m)\u001b[49m\n\u001b[0;32m    845\u001b[0m \u001b[38;5;28;01mexcept\u001b[39;00m \u001b[38;5;167;01mOSError\u001b[39;00m:\n\u001b[0;32m    846\u001b[0m     \u001b[38;5;28;01mif\u001b[39;00m \u001b[38;5;129;01mnot\u001b[39;00m isPath(font):\n",
      "File \u001b[1;32m~\\anaconda3\\lib\\site-packages\\PIL\\ImageFont.py:841\u001b[0m, in \u001b[0;36mtruetype.<locals>.freetype\u001b[1;34m(font)\u001b[0m\n\u001b[0;32m    840\u001b[0m \u001b[38;5;28;01mdef\u001b[39;00m \u001b[38;5;21mfreetype\u001b[39m(font):\n\u001b[1;32m--> 841\u001b[0m     \u001b[38;5;28;01mreturn\u001b[39;00m \u001b[43mFreeTypeFont\u001b[49m\u001b[43m(\u001b[49m\u001b[43mfont\u001b[49m\u001b[43m,\u001b[49m\u001b[43m \u001b[49m\u001b[43msize\u001b[49m\u001b[43m,\u001b[49m\u001b[43m \u001b[49m\u001b[43mindex\u001b[49m\u001b[43m,\u001b[49m\u001b[43m \u001b[49m\u001b[43mencoding\u001b[49m\u001b[43m,\u001b[49m\u001b[43m \u001b[49m\u001b[43mlayout_engine\u001b[49m\u001b[43m)\u001b[49m\n",
      "File \u001b[1;32m~\\anaconda3\\lib\\site-packages\\PIL\\ImageFont.py:193\u001b[0m, in \u001b[0;36mFreeTypeFont.__init__\u001b[1;34m(self, font, size, index, encoding, layout_engine)\u001b[0m\n\u001b[0;32m    191\u001b[0m                 load_from_bytes(f)\n\u001b[0;32m    192\u001b[0m             \u001b[38;5;28;01mreturn\u001b[39;00m\n\u001b[1;32m--> 193\u001b[0m     \u001b[38;5;28mself\u001b[39m\u001b[38;5;241m.\u001b[39mfont \u001b[38;5;241m=\u001b[39m \u001b[43mcore\u001b[49m\u001b[38;5;241;43m.\u001b[39;49m\u001b[43mgetfont\u001b[49m\u001b[43m(\u001b[49m\n\u001b[0;32m    194\u001b[0m \u001b[43m        \u001b[49m\u001b[43mfont\u001b[49m\u001b[43m,\u001b[49m\u001b[43m \u001b[49m\u001b[43msize\u001b[49m\u001b[43m,\u001b[49m\u001b[43m \u001b[49m\u001b[43mindex\u001b[49m\u001b[43m,\u001b[49m\u001b[43m \u001b[49m\u001b[43mencoding\u001b[49m\u001b[43m,\u001b[49m\u001b[43m \u001b[49m\u001b[43mlayout_engine\u001b[49m\u001b[38;5;241;43m=\u001b[39;49m\u001b[43mlayout_engine\u001b[49m\n\u001b[0;32m    195\u001b[0m \u001b[43m    \u001b[49m\u001b[43m)\u001b[49m\n\u001b[0;32m    196\u001b[0m \u001b[38;5;28;01melse\u001b[39;00m:\n\u001b[0;32m    197\u001b[0m     load_from_bytes(font)\n",
      "\u001b[1;31mOSError\u001b[0m: cannot open resource"
     ]
    }
   ],
   "source": [
    "GERD_SAR_timelaspe(  aoi = GERD_aoi,\n",
    "                     startYear = 2020,\n",
    "                     startMonth = 6,\n",
    "                     startDay = 1,\n",
    "                     endYear = 2022,\n",
    "                     endMonth = 3,\n",
    "                     endDay = 10,\n",
    "                     temp_freq=None, \n",
    "                     vis_method = 'rgb',\n",
    "                     crs='EPSG:3857',\n",
    "                     dimensions=900,\n",
    "                     dates_font_size = 20,\n",
    "                     copywrite_font_size = 12,\n",
    "                     dates_font_color = 'black',\n",
    "                     copywrite_font_color = 'black',\n",
    "                     framesPerSecond = 3,                     \n",
    "                    )"
   ]
  },
  {
   "cell_type": "code",
   "execution_count": null,
   "id": "68fa6fc6",
   "metadata": {},
   "outputs": [],
   "source": [
    "# stats_dict = GERD_water_stats(  aoi=GERD_aoi,\n",
    "#                      startYear=2020,\n",
    "#                      startMonth=6,\n",
    "#                      startDay=1,\n",
    "#                      endYear=2022,\n",
    "#                      endMonth=3,\n",
    "#                      endDay=10,\n",
    "#                      temp_freq='monthly',\n",
    "#                      water_area=True,\n",
    "#                      water_level=True,\n",
    "#                      water_volume=True )"
   ]
  },
  {
   "cell_type": "code",
   "execution_count": null,
   "id": "d5676b07",
   "metadata": {},
   "outputs": [],
   "source": [
    "# stats_dict['Image_date']"
   ]
  },
  {
   "cell_type": "code",
   "execution_count": null,
   "id": "d3a41dc2",
   "metadata": {},
   "outputs": [],
   "source": []
  }
 ],
 "metadata": {
  "hide_input": false,
  "kernelspec": {
   "display_name": "Python 3 (ipykernel)",
   "language": "python",
   "name": "python3"
  },
  "language_info": {
   "codemirror_mode": {
    "name": "ipython",
    "version": 3
   },
   "file_extension": ".py",
   "mimetype": "text/x-python",
   "name": "python",
   "nbconvert_exporter": "python",
   "pygments_lexer": "ipython3",
   "version": "3.9.7"
  },
  "toc": {
   "base_numbering": 1,
   "nav_menu": {},
   "number_sections": true,
   "sideBar": true,
   "skip_h1_title": false,
   "title_cell": "Table of Contents",
   "title_sidebar": "Contents",
   "toc_cell": false,
   "toc_position": {},
   "toc_section_display": true,
   "toc_window_display": false
  }
 },
 "nbformat": 4,
 "nbformat_minor": 5
}
