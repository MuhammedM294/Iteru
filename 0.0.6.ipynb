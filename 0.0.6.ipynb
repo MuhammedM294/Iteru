{
 "cells": [
  {
   "cell_type": "code",
   "execution_count": 1,
   "id": "906c7aa4",
   "metadata": {},
   "outputs": [],
   "source": [
    "import ee\n",
    "ee.Initialize()\n",
    "from iteru import *"
   ]
  },
  {
   "cell_type": "code",
   "execution_count": 2,
   "id": "4dedaf7e",
   "metadata": {},
   "outputs": [
    {
     "data": {
      "application/vnd.jupyter.widget-view+json": {
       "model_id": "33277f1f5ad7495fbf5e36c326ee39f1",
       "version_major": 2,
       "version_minor": 0
      },
      "text/plain": [
       "Map(center=[27, 31], controls=(AttributionControl(options=['position', 'prefix'], position='bottomright'), Sea…"
      ]
     },
     "metadata": {},
     "output_type": "display_data"
    }
   ],
   "source": [
    "Map = Map()\n",
    "Map"
   ]
  },
  {
   "cell_type": "code",
   "execution_count": 224,
   "id": "13ff66ee",
   "metadata": {},
   "outputs": [],
   "source": [
    "start_date = '2015-08-03'\n",
    "end_date = '2022-01-01'\n",
    "frequency = 30\n",
    "aoi = Map.aoi\n",
    "days = ee.List.sequence(2015,2022,1)"
   ]
  },
  {
   "cell_type": "code",
   "execution_count": 215,
   "id": "ca9d4218",
   "metadata": {},
   "outputs": [],
   "source": [
    "col1 = ee.ImageCollection(\"COPERNICUS/S2_SR\")\n",
    "col2 = ee.ImageCollection(\"COPERNICUS/S2\")"
   ]
  },
  {
   "cell_type": "code",
   "execution_count": 216,
   "id": "e917a3d6",
   "metadata": {},
   "outputs": [],
   "source": [
    "def rename_bands(img):\n",
    "    return img.select([\"B2\", \"B3\", \"B4\", \"B5\", \"B6\", \"B7\", \"B8\", \"B8A\", \"B11\", \"B12\", \"QA60\"],\n",
    "                      [\"Blue\",\"Green\",\"Red\",\"Red Edge 1\",\"Red Edge 2\",\"Red Edge 3\",\"NIR\",\"Red Edge 4\",\"SWIR1\",\"SWIR2\",\"QA60\"])"
   ]
  },
  {
   "cell_type": "code",
   "execution_count": 217,
   "id": "b5a6ac30",
   "metadata": {},
   "outputs": [],
   "source": [
    "col1= col1.map(rename_bands)\n",
    "col2= col2.map(rename_bands)"
   ]
  },
  {
   "cell_type": "code",
   "execution_count": 218,
   "id": "5a60b620",
   "metadata": {},
   "outputs": [],
   "source": [
    "col = col1.merge(col2)"
   ]
  },
  {
   "cell_type": "code",
   "execution_count": 230,
   "id": "e5e5a3ed",
   "metadata": {},
   "outputs": [],
   "source": [
    "def get_days(day):\n",
    "    start_day = ee.Date(start_date)\n",
    "    end_day =  start_day.advance(1,'month')\n",
    "    return col.filterBounds(aoi).filterDate(start_day,end_day).reduce(ee.Reducer.median())"
   ]
  },
  {
   "cell_type": "code",
   "execution_count": 231,
   "id": "8beec364",
   "metadata": {},
   "outputs": [],
   "source": [
    "images = days.map(get_days)"
   ]
  },
  {
   "cell_type": "code",
   "execution_count": 232,
   "id": "129a9fa3",
   "metadata": {},
   "outputs": [
    {
     "data": {
      "text/plain": [
       "8"
      ]
     },
     "execution_count": 232,
     "metadata": {},
     "output_type": "execute_result"
    }
   ],
   "source": [
    "collection = ee.ImageCollection.fromImages(images)\n",
    "collection.size().getInfo()"
   ]
  },
  {
   "cell_type": "code",
   "execution_count": 202,
   "id": "733939b8",
   "metadata": {},
   "outputs": [],
   "source": [
    "videoArgs = {\n",
    "  'dimensions': 768,\n",
    "  'region': aoi,\n",
    "  'framesPerSecond': 5,\n",
    "  'crs': 'EPSG:3857',\n",
    "  'min': 0,\n",
    "  'max': 5000,\n",
    "  'bands':['Red_median','Green_median','Blue_median']\n",
    "}"
   ]
  },
  {
   "cell_type": "code",
   "execution_count": 233,
   "id": "38748940",
   "metadata": {},
   "outputs": [
    {
     "name": "stdout",
     "output_type": "stream",
     "text": [
      "https://earthengine.googleapis.com/v1alpha/projects/earthengine-legacy/videoThumbnails/f183a3efee482bd8b1cfc0da3961bfdb-ed9e878417a9513c29d3ad1b909a315e:getPixels\n"
     ]
    }
   ],
   "source": [
    "print(collection.getVideoThumbURL(videoArgs))"
   ]
  },
  {
   "cell_type": "code",
   "execution_count": null,
   "id": "0b1c5012",
   "metadata": {},
   "outputs": [],
   "source": []
  }
 ],
 "metadata": {
  "hide_input": false,
  "kernelspec": {
   "display_name": "Python 3 (ipykernel)",
   "language": "python",
   "name": "python3"
  },
  "language_info": {
   "codemirror_mode": {
    "name": "ipython",
    "version": 3
   },
   "file_extension": ".py",
   "mimetype": "text/x-python",
   "name": "python",
   "nbconvert_exporter": "python",
   "pygments_lexer": "ipython3",
   "version": "3.9.7"
  },
  "toc": {
   "base_numbering": 1,
   "nav_menu": {},
   "number_sections": true,
   "sideBar": true,
   "skip_h1_title": false,
   "title_cell": "Table of Contents",
   "title_sidebar": "Contents",
   "toc_cell": false,
   "toc_position": {},
   "toc_section_display": true,
   "toc_window_display": false
  }
 },
 "nbformat": 4,
 "nbformat_minor": 5
}
