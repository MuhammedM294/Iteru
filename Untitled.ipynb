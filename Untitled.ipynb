{
 "cells": [
  {
   "cell_type": "code",
   "execution_count": 1,
   "id": "0242a5f0",
   "metadata": {},
   "outputs": [],
   "source": [
    "from iteru import *"
   ]
  },
  {
   "cell_type": "code",
   "execution_count": 2,
   "id": "db4f8477",
   "metadata": {},
   "outputs": [],
   "source": [
    "Map = Map()"
   ]
  },
  {
   "cell_type": "code",
   "execution_count": 3,
   "id": "dedfc015",
   "metadata": {},
   "outputs": [
    {
     "data": {
      "application/vnd.jupyter.widget-view+json": {
       "model_id": "d5c1892dcc6b421da9c31764b725bca2",
       "version_major": 2,
       "version_minor": 0
      },
      "text/plain": [
       "Map(center=[27, 31], controls=(SearchControl(found_style={'fillColor': '#3f0', 'color': '#0f0'}, marker=Marker…"
      ]
     },
     "metadata": {},
     "output_type": "display_data"
    }
   ],
   "source": [
    "Map"
   ]
  },
  {
   "cell_type": "code",
   "execution_count": 13,
   "id": "2b74b7af",
   "metadata": {},
   "outputs": [],
   "source": [
    "image = ee.ImageCollection(\"COPERNICUS/S2_SR\")\\\n",
    "        .filterDate('2022-04-01','2022-04-17')\\\n",
    "        .filterBounds(aoi)\\\n",
    "        .sort('CLOUDY_PIXEL_PERCENTAGE')\\\n",
    "        .median()\\\n",
    "        .clip(GERD_aoi_dam)"
   ]
  },
  {
   "cell_type": "code",
   "execution_count": 14,
   "id": "5e3a744b",
   "metadata": {},
   "outputs": [],
   "source": [
    "Map.add_layer_widgets(image,{'min':0,'max':3000,'bands':['B4','B3','B2']},'NEW')"
   ]
  },
  {
   "cell_type": "code",
   "execution_count": 18,
   "id": "1b07ea7d",
   "metadata": {},
   "outputs": [],
   "source": [
    "imagergb = image.visualize(**{'min':0,'max':3000,'bands':['B4','B3','B2']})"
   ]
  },
  {
   "cell_type": "code",
   "execution_count": 21,
   "id": "974f7bb3",
   "metadata": {},
   "outputs": [],
   "source": [
    "x = imagergb.getDownloadUrl({'region':aoi,'scale':30,'name':'GERD'})"
   ]
  },
  {
   "cell_type": "code",
   "execution_count": 22,
   "id": "f6bfcb09",
   "metadata": {},
   "outputs": [
    {
     "name": "stdout",
     "output_type": "stream",
     "text": [
      "https://earthengine.googleapis.com/v1alpha/projects/earthengine-legacy/thumbnails/bad12293b01099b22a0167f29bcd9380-c9396a00b78bfaf623ab298248b23873:getPixels\n"
     ]
    }
   ],
   "source": [
    "print(x)"
   ]
  },
  {
   "cell_type": "code",
   "execution_count": null,
   "id": "56a1c725",
   "metadata": {},
   "outputs": [],
   "source": []
  }
 ],
 "metadata": {
  "hide_input": false,
  "kernelspec": {
   "display_name": "Python 3 (ipykernel)",
   "language": "python",
   "name": "python3"
  },
  "language_info": {
   "codemirror_mode": {
    "name": "ipython",
    "version": 3
   },
   "file_extension": ".py",
   "mimetype": "text/x-python",
   "name": "python",
   "nbconvert_exporter": "python",
   "pygments_lexer": "ipython3",
   "version": "3.9.7"
  },
  "toc": {
   "base_numbering": 1,
   "nav_menu": {},
   "number_sections": true,
   "sideBar": true,
   "skip_h1_title": false,
   "title_cell": "Table of Contents",
   "title_sidebar": "Contents",
   "toc_cell": false,
   "toc_position": {},
   "toc_section_display": true,
   "toc_window_display": false
  }
 },
 "nbformat": 4,
 "nbformat_minor": 5
}
