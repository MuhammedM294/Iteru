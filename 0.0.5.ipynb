{
 "cells": [
  {
   "cell_type": "code",
   "execution_count": 1,
   "id": "e829d462",
   "metadata": {},
   "outputs": [],
   "source": [
    "import ee\n",
    "ee.Initialize()\n",
    "from iteru import *\n",
    "from ipywidgets import *\n"
   ]
  },
  {
   "cell_type": "code",
   "execution_count": 2,
   "id": "623615f6",
   "metadata": {},
   "outputs": [],
   "source": [
    "map = Map()"
   ]
  },
  {
   "cell_type": "code",
   "execution_count": 3,
   "id": "162f37f7",
   "metadata": {},
   "outputs": [],
   "source": [
    "def layer_widgets(change):\n",
    "        if change.new:\n",
    "            if type(change.new) is ee.image.Image:\n",
    "                layer = ee_tilelayer(change.new)\n",
    "                name = change.new.getInfo()['id']\n",
    "                \n",
    "            elif type(change.new) is ipyleaflet.leaflet.TileLayer:\n",
    "                layer = change.new\n",
    "                name = change.new.name\n",
    "                \n",
    "            if layer in map.layers:\n",
    "                pass\n",
    "            else:  \n",
    "                map.add_layer(layer)\n",
    "            \n",
    "                close_button = Button(  \n",
    "                                value = False, \n",
    "                                tooltip = 'Remove This Layer',\n",
    "                                icon = 'window-close',\n",
    "                                layout = Layout(width = '32px', height = '28px'),   \n",
    "                )\n",
    "\n",
    "                layer_visibility = Checkbox(\n",
    "                               value = True, \n",
    "                               indent=False,\n",
    "                               layout = Layout(width = '15px')\n",
    "                )\n",
    "                \n",
    "                layer_name = Label(\n",
    "                                   value= name,\n",
    "                                   layout = Layout(width = '150px', height = '28px'),\n",
    "                                   tooltip = name\n",
    "               )\n",
    "                opacity = FloatSlider(\n",
    "                                      value = 1,\n",
    "                                      min = 0,  \n",
    "                                      max = 1,\n",
    "                                      step = 0.1,\n",
    "                                      indent=False,   \n",
    "               )\n",
    "            def change_layer_visibility(show_hide):\n",
    "                layer.visible = show_hide \n",
    "                    \n",
    "            def change_layer_opacity(Opacity):\n",
    "                layer.opacity = Opacity\n",
    "                        \n",
    "            def remove_layer(b):\n",
    "                map.remove_layer(layer)\n",
    "                close_button.close()\n",
    "                opacity.close()\n",
    "                layer_name.close()\n",
    "                layer_visibility.close()\n",
    "                \n",
    "            opacity_slider = interactive(change_layer_opacity,Opacity = opacity)\n",
    "                \n",
    "            visibility_checkbox = interactive(change_layer_visibility,show_hide = layer_visibility)\n",
    "                \n",
    "            with TOC_out:\n",
    "                \n",
    "                display(HBox([layer_visibility,layer_name,opacity, close_button]))\n",
    "                   \n",
    "            close_button.on_click(remove_layer) \n",
    "            \n",
    "basemaps.observe(layer_widgets, names = 'value')\n",
    "terrain.observe(layer_widgets, names= 'value')"
   ]
  },
  {
   "cell_type": "code",
   "execution_count": 4,
   "id": "3aaf5b32",
   "metadata": {},
   "outputs": [
    {
     "data": {
      "application/vnd.jupyter.widget-view+json": {
       "model_id": "4b7c9c0c6dc047f2b8e989d2f1b21d39",
       "version_major": 2,
       "version_minor": 0
      },
      "text/plain": [
       "Map(center=[27, 31], controls=(AttributionControl(options=['position', 'prefix'], position='bottomright'), Sea…"
      ]
     },
     "metadata": {},
     "output_type": "display_data"
    }
   ],
   "source": [
    "map"
   ]
  }
 ],
 "metadata": {
  "hide_input": false,
  "kernelspec": {
   "display_name": "Python 3 (ipykernel)",
   "language": "python",
   "name": "python3"
  },
  "language_info": {
   "codemirror_mode": {
    "name": "ipython",
    "version": 3
   },
   "file_extension": ".py",
   "mimetype": "text/x-python",
   "name": "python",
   "nbconvert_exporter": "python",
   "pygments_lexer": "ipython3",
   "version": "3.9.7"
  },
  "toc": {
   "base_numbering": 1,
   "nav_menu": {},
   "number_sections": true,
   "sideBar": true,
   "skip_h1_title": false,
   "title_cell": "Table of Contents",
   "title_sidebar": "Contents",
   "toc_cell": false,
   "toc_position": {},
   "toc_section_display": true,
   "toc_window_display": false
  }
 },
 "nbformat": 4,
 "nbformat_minor": 5
}
