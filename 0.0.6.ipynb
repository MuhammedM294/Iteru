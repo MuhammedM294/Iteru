{
 "cells": [
  {
   "cell_type": "code",
   "execution_count": 1,
   "id": "01ed0639",
   "metadata": {},
   "outputs": [],
   "source": [
    "import ee\n",
    "ee.Initialize()\n",
    "from iteru import *\n",
    "from ipywidgets import *\n",
    "from ipyleaflet import GeoJSON\n"
   ]
  },
  {
   "cell_type": "code",
   "execution_count": 2,
   "id": "a6b28011",
   "metadata": {},
   "outputs": [],
   "source": [
    "Map = Map()\n"
   ]
  },
  {
   "cell_type": "code",
   "execution_count": 3,
   "id": "c961b29d",
   "metadata": {},
   "outputs": [
    {
     "data": {
      "application/vnd.jupyter.widget-view+json": {
       "model_id": "7e98718a4ff643d5946f8697589beebc",
       "version_major": 2,
       "version_minor": 0
      },
      "text/plain": [
       "Map(center=[27, 31], controls=(AttributionControl(options=['position', 'prefix'], position='bottomright'), Sea…"
      ]
     },
     "metadata": {},
     "output_type": "display_data"
    },
    {
     "name": "stdout",
     "output_type": "stream",
     "text": [
      "DrawControl(circle={'shapeOptions': {'fillColor': '#efed69', 'color': '#efed69', 'fillOpacity': 0.1}}, circlemarker={'shapeOptions': {}}, data=[{'type': 'Feature', 'properties': {'style': {'stroke': True, 'color': '#6be5c3', 'weight': 4, 'opacity': 0.5, 'fill': True, 'fillColor': '#6be5c3', 'fillOpacity': 0.1, 'clickable': True}}, 'geometry': {'type': 'Polygon', 'coordinates': [[[31.300266, 30.274239], [31.306572, 30.273683], [31.30876, 30.271756], [31.309658, 30.268976], [31.307943, 30.265789], [31.305798, 30.264751], [31.303525, 30.264195], [31.300265, 30.263528], [31.297778, 30.26375], [31.295805, 30.264047], [31.292459, 30.265974], [31.291987, 30.267457], [31.291601, 30.268865], [31.29203, 30.269829], [31.294304, 30.271719], [31.295247, 30.272349], [31.298335, 30.273461], [31.300266, 30.274239]]]}}], options=['position'], polygon={'shapeOptions': {'fillColor': '#6be5c3', 'color': '#6be5c3', 'fillOpacity': 0.1}, 'drawError': {'color': '#dd253b', 'message': 'Oups!'}, 'allowIntersection': False}, polyline={'shapeOptions': {'color': '#6bc2e5', 'weight': 8, 'opacity': 0.5}}, position='topright', rectangle={'shapeOptions': {'fillColor': '#fca45d', 'color': '#fca45d', 'fillOpacity': 0.1}})\n"
     ]
    }
   ],
   "source": [
    "Map"
   ]
  },
  {
   "cell_type": "code",
   "execution_count": 19,
   "id": "788a9c24",
   "metadata": {},
   "outputs": [],
   "source": [
    "def handle_draw(target,action,geo_json):\n",
    "    print(target)\n",
    "    Map.last_draw = geo_json\n",
    "    Map.last_action = action "
   ]
  },
  {
   "cell_type": "code",
   "execution_count": 20,
   "id": "cfde4fef",
   "metadata": {},
   "outputs": [],
   "source": [
    "Map.draw_control.on_draw(handle_draw)"
   ]
  },
  {
   "cell_type": "code",
   "execution_count": 21,
   "id": "d487c843",
   "metadata": {},
   "outputs": [],
   "source": [
    "coor = Map.last_draw['geometry']['coordinates']"
   ]
  }
 ],
 "metadata": {
  "hide_input": false,
  "kernelspec": {
   "display_name": "Python 3",
   "language": "python",
   "name": "python3"
  },
  "language_info": {
   "codemirror_mode": {
    "name": "ipython",
    "version": 3
   },
   "file_extension": ".py",
   "mimetype": "text/x-python",
   "name": "python",
   "nbconvert_exporter": "python",
   "pygments_lexer": "ipython3",
   "version": "3.8.8"
  },
  "toc": {
   "base_numbering": 1,
   "nav_menu": {},
   "number_sections": true,
   "sideBar": true,
   "skip_h1_title": false,
   "title_cell": "Table of Contents",
   "title_sidebar": "Contents",
   "toc_cell": false,
   "toc_position": {},
   "toc_section_display": true,
   "toc_window_display": false
  }
 },
 "nbformat": 4,
 "nbformat_minor": 5
}
