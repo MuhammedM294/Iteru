{
 "cells": [
  {
   "cell_type": "code",
   "execution_count": 1,
   "id": "e829d462",
   "metadata": {},
   "outputs": [],
   "source": [
    "import ee\n",
    "ee.Initialize()\n",
    "from iteru import *\n",
    "from ipywidgets import *"
   ]
  },
  {
   "cell_type": "code",
   "execution_count": 2,
   "id": "6cbfbc51",
   "metadata": {},
   "outputs": [
    {
     "data": {
      "application/vnd.jupyter.widget-view+json": {
       "model_id": "605670a84ecc4290b3bd8f87261e0765",
       "version_major": 2,
       "version_minor": 0
      },
      "text/plain": [
       "Map(center=[27, 31], controls=(AttributionControl(options=['position', 'prefix'], position='bottomright'), Sea…"
      ]
     },
     "metadata": {},
     "output_type": "display_data"
    }
   ],
   "source": [
    "map = Map()\n",
    "\n",
    "map"
   ]
  },
  {
   "cell_type": "code",
   "execution_count": 8,
   "id": "577b651c",
   "metadata": {},
   "outputs": [],
   "source": [
    "dem = ee.Image(\"AHN/AHN2_05M_RUW\") \n",
    "layer = ipyleaflet.TileLayer(\n",
    "        url=\"https://mt1.google.com/vt/lyrs=p&x={x}&y={y}&z={z}\",\n",
    "        attribution=\"Google\",\n",
    "        name=\"Google Terrain\",\n",
    "    )"
   ]
  },
  {
   "cell_type": "code",
   "execution_count": 9,
   "id": "b7ec84e0",
   "metadata": {},
   "outputs": [],
   "source": [
    "map.add_layer_widgets(dem,name = 'DEM')"
   ]
  },
  {
   "cell_type": "code",
   "execution_count": 4,
   "id": "37511b14",
   "metadata": {},
   "outputs": [],
   "source": [
    "Vis_params = {'min':0, 'max':10, 'gamma':None}"
   ]
  },
  {
   "cell_type": "code",
   "execution_count": 5,
   "id": "bfe4051c",
   "metadata": {},
   "outputs": [],
   "source": [
    "vis_min = BoundedFloatText(value=0,\n",
    "    min=0,\n",
    "    max=1000,\n",
    "    step=0.1,\n",
    "    layout = Layout(width = '140px')\n",
    "                          )\n",
    "vis_max = BoundedFloatText(value=10,\n",
    "    min=0,\n",
    "    max=1000,\n",
    "    step=0.1,\n",
    "    layout = Layout(width = '140px')  \n",
    "                          )                   \n",
    "vis_gamma = BoundedFloatText(value=None,\n",
    "    min=0,\n",
    "    max=10,\n",
    "    step=0.1,\n",
    "    layout = Layout(width = '140px')  \n",
    "                            )"
   ]
  },
  {
   "cell_type": "code",
   "execution_count": 6,
   "id": "8fa048da",
   "metadata": {},
   "outputs": [
    {
     "data": {
      "application/vnd.jupyter.widget-view+json": {
       "model_id": "9232e0ce21b741a5a1f5fb514bd4b524",
       "version_major": 2,
       "version_minor": 0
      },
      "text/plain": [
       "HBox(children=(BoundedFloatText(value=0.0, description='min', layout=Layout(width='140px'), max=1000.0, step=0…"
      ]
     },
     "metadata": {},
     "output_type": "display_data"
    }
   ],
   "source": [
    " \n",
    "def vis_params(min,max,gamma):\n",
    "    Vis_params['min']= min \n",
    "    Vis_params['max'] = max\n",
    "    Vis_params ['gamma'] = gamma\n",
    "interactive(vis_params,min =vis_min, max =vis_max, gamma = vis_gamma ) \n",
    " \n",
    "HBox([vis_min,vis_max,vis_gamma] )   "
   ]
  },
  {
   "cell_type": "code",
   "execution_count": 7,
   "id": "1253ebd5",
   "metadata": {},
   "outputs": [
    {
     "name": "stdout",
     "output_type": "stream",
     "text": [
      "{'min': 0, 'max': 10, 'gamma': None}\n"
     ]
    }
   ],
   "source": [
    "print(Vis_params)\n"
   ]
  },
  {
   "cell_type": "code",
   "execution_count": null,
   "id": "b90c84df",
   "metadata": {},
   "outputs": [],
   "source": []
  }
 ],
 "metadata": {
  "hide_input": false,
  "kernelspec": {
   "display_name": "Python 3 (ipykernel)",
   "language": "python",
   "name": "python3"
  },
  "language_info": {
   "codemirror_mode": {
    "name": "ipython",
    "version": 3
   },
   "file_extension": ".py",
   "mimetype": "text/x-python",
   "name": "python",
   "nbconvert_exporter": "python",
   "pygments_lexer": "ipython3",
   "version": "3.9.7"
  },
  "toc": {
   "base_numbering": 1,
   "nav_menu": {},
   "number_sections": true,
   "sideBar": true,
   "skip_h1_title": false,
   "title_cell": "Table of Contents",
   "title_sidebar": "Contents",
   "toc_cell": false,
   "toc_position": {},
   "toc_section_display": true,
   "toc_window_display": false
  }
 },
 "nbformat": 4,
 "nbformat_minor": 5
}
