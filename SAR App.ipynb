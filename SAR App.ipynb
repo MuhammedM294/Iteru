{
 "cells": [
  {
   "cell_type": "code",
   "execution_count": 1,
   "id": "5ddf620f",
   "metadata": {},
   "outputs": [],
   "source": [
    "from iteru import *"
   ]
  },
  {
   "cell_type": "code",
   "execution_count": null,
   "id": "6937d29b",
   "metadata": {},
   "outputs": [],
   "source": [
    "# Map = Map()\n",
    "# Map"
   ]
  },
  {
   "cell_type": "code",
   "execution_count": 3,
   "id": "1788e317",
   "metadata": {},
   "outputs": [],
   "source": [
    "# startYear = 2020\n",
    "# startMonth =1\n",
    "# startDay = 1\n",
    "# endYear = 2022\n",
    "# endMonth = 3\n",
    "# endDay = 17"
   ]
  },
  {
   "cell_type": "code",
   "execution_count": 4,
   "id": "eaabcc70",
   "metadata": {},
   "outputs": [],
   "source": [
    "# SAR_col= S1_SAR_col(GERD_aoi,startYear,startMonth,startDay,endYear,endMonth,endDay,temp_freq=None)"
   ]
  },
  {
   "cell_type": "code",
   "execution_count": 5,
   "id": "7c5d3355",
   "metadata": {},
   "outputs": [],
   "source": [
    "# SAR=SAR_col[0];dates_sequences = SAR_col[1]"
   ]
  },
  {
   "cell_type": "code",
   "execution_count": 17,
   "id": "fe14c635",
   "metadata": {},
   "outputs": [],
   "source": [
    "# url = SAR_timeseries_url(SAR,GERD_aoi,vis_method='water_mask_only')"
   ]
  },
  {
   "cell_type": "code",
   "execution_count": 19,
   "id": "c498d443",
   "metadata": {},
   "outputs": [
    {
     "data": {
      "application/vnd.jupyter.widget-view+json": {
       "model_id": "4db6053904214a8bb57e26bcabe40c66",
       "version_major": 2,
       "version_minor": 0
      },
      "text/plain": [
       "Output()"
      ]
     },
     "metadata": {},
     "output_type": "display_data"
    }
   ],
   "source": [
    "# out_gif = get_gif(url)\n",
    "# add_text_to_gif(out_gif,dates_sequences, dates_font_size = 25, dates_font_color = 'white', framesPerSecond = 3)\n",
    "# display_gif(out_gif)"
   ]
  },
  {
   "cell_type": "code",
   "execution_count": null,
   "id": "33d6a24a",
   "metadata": {},
   "outputs": [],
   "source": [
    "# water_vectors = SAR.map(filterSpeckles).map(water_classify).map(water_to_vector)"
   ]
  },
  {
   "cell_type": "code",
   "execution_count": null,
   "id": "ba3c42ed",
   "metadata": {},
   "outputs": [],
   "source": [
    "#water_area = [area /(1e6) for area in water_vectors.aggregate_array('Area').getInfo()]"
   ]
  },
  {
   "cell_type": "code",
   "execution_count": null,
   "id": "c7142ae9",
   "metadata": {},
   "outputs": [],
   "source": [
    "# dems = water_vectors.map(max_water_ele)"
   ]
  },
  {
   "cell_type": "code",
   "execution_count": null,
   "id": "35bde773",
   "metadata": {},
   "outputs": [],
   "source": [
    "# max_elev = [elev for elev in dems.aggregate_array('Maximum_water_elevation').getInfo()]"
   ]
  },
  {
   "cell_type": "code",
   "execution_count": null,
   "id": "1b44dcad",
   "metadata": {},
   "outputs": [],
   "source": [
    "# volume_stats = dems.map(water_vol)"
   ]
  },
  {
   "cell_type": "code",
   "execution_count": null,
   "id": "a2af8cb2",
   "metadata": {},
   "outputs": [],
   "source": [
    "# ele_sum = volume_stats.aggregate_array('Elevation_sum').getInfo()"
   ]
  },
  {
   "cell_type": "code",
   "execution_count": null,
   "id": "fd20c594",
   "metadata": {},
   "outputs": [],
   "source": [
    "# pixel_num  = volume_stats.aggregate_array('Pixels_number').getInfo()"
   ]
  },
  {
   "cell_type": "code",
   "execution_count": null,
   "id": "42a44e0a",
   "metadata": {},
   "outputs": [],
   "source": [
    "# volume = [((water_level*pixles_count-elevations_sum)*900)/(1e9) for water_level,elevations_sum , pixles_count in zip(max_elev,ele_sum,pixel_num)]"
   ]
  },
  {
   "cell_type": "code",
   "execution_count": 21,
   "id": "3daa5c8b",
   "metadata": {},
   "outputs": [
    {
     "data": {
      "application/vnd.jupyter.widget-view+json": {
       "model_id": "af000b0b6bc34f6282e982a992990c5e",
       "version_major": 2,
       "version_minor": 0
      },
      "text/plain": [
       "Output()"
      ]
     },
     "metadata": {},
     "output_type": "display_data"
    }
   ],
   "source": [
    "GERD_SAR_timelaspe(  aoi = GERD_aoi,\n",
    "                     startYear = 2020,\n",
    "                     startMonth = 6,\n",
    "                     startDay = 1,\n",
    "                     endYear = 2022,\n",
    "                     endMonth = 3,\n",
    "                     endDay = 10,\n",
    "                     temp_freq=None, \n",
    "                     vis_method = 'water_mask_only',\n",
    "                     crs='EPSG:3857',\n",
    "                     dimensions=900,\n",
    "                     dates_font_size = 20,\n",
    "                     copywrite_font_size = 12,\n",
    "                     dates_font_color = 'white',\n",
    "                     copywrite_font_color = 'white',\n",
    "                     framesPerSecond = 3,                     \n",
    "                    )"
   ]
  },
  {
   "cell_type": "code",
   "execution_count": null,
   "id": "68fa6fc6",
   "metadata": {},
   "outputs": [],
   "source": [
    "# stats_dict = GERD_water_stats(  aoi=GERD_aoi,\n",
    "#                      startYear=2020,\n",
    "#                      startMonth=6,\n",
    "#                      startDay=1,\n",
    "#                      endYear=2022,\n",
    "#                      endMonth=3,\n",
    "#                      endDay=10,\n",
    "#                      temp_freq='monthly',\n",
    "#                      water_area=True,\n",
    "#                      water_level=True,\n",
    "#                      water_volume=True )"
   ]
  },
  {
   "cell_type": "code",
   "execution_count": null,
   "id": "d5676b07",
   "metadata": {},
   "outputs": [],
   "source": [
    "# stats_dict['Image_date']"
   ]
  },
  {
   "cell_type": "code",
   "execution_count": null,
   "id": "d3a41dc2",
   "metadata": {},
   "outputs": [],
   "source": []
  }
 ],
 "metadata": {
  "hide_input": false,
  "kernelspec": {
   "display_name": "Python 3 (ipykernel)",
   "language": "python",
   "name": "python3"
  },
  "language_info": {
   "codemirror_mode": {
    "name": "ipython",
    "version": 3
   },
   "file_extension": ".py",
   "mimetype": "text/x-python",
   "name": "python",
   "nbconvert_exporter": "python",
   "pygments_lexer": "ipython3",
   "version": "3.9.7"
  },
  "toc": {
   "base_numbering": 1,
   "nav_menu": {},
   "number_sections": true,
   "sideBar": true,
   "skip_h1_title": false,
   "title_cell": "Table of Contents",
   "title_sidebar": "Contents",
   "toc_cell": false,
   "toc_position": {},
   "toc_section_display": true,
   "toc_window_display": false
  }
 },
 "nbformat": 4,
 "nbformat_minor": 5
}
