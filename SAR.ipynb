{
 "cells": [
  {
   "cell_type": "code",
   "execution_count": 1,
   "id": "ed6c67d9",
   "metadata": {},
   "outputs": [],
   "source": [
    "import ee\n",
    "ee.Initialize ()"
   ]
  },
  {
   "cell_type": "code",
   "execution_count": 2,
   "id": "28ab0d59",
   "metadata": {},
   "outputs": [],
   "source": [
    "from iteru import *\n",
    "from IPython.display import display\n",
    "import ipywidgets\n",
    "import datetime"
   ]
  },
  {
   "cell_type": "code",
   "execution_count": 3,
   "id": "cbdca43a",
   "metadata": {},
   "outputs": [
    {
     "data": {
      "application/vnd.jupyter.widget-view+json": {
       "model_id": "b398c7ec69644136a07c7ff8569648fb",
       "version_major": 2,
       "version_minor": 0
      },
      "text/plain": [
       "Map(center=[27, 31], controls=(AttributionControl(options=['position', 'prefix'], position='bottomright'), Sea…"
      ]
     },
     "metadata": {},
     "output_type": "display_data"
    }
   ],
   "source": [
    "Map = Map()\n",
    "Map"
   ]
  },
  {
   "cell_type": "code",
   "execution_count": 4,
   "id": "135d2776",
   "metadata": {},
   "outputs": [],
   "source": [
    "aoi = Map.aoi"
   ]
  },
  {
   "cell_type": "code",
   "execution_count": 5,
   "id": "d6b070d0",
   "metadata": {},
   "outputs": [],
   "source": [
    "start_year = 2020\n",
    "start_month = 6\n",
    "start_day = 1\n",
    "end_year = 2022\n",
    "end_month = 2\n",
    "end_day = 23\n",
    "time_delta = 20"
   ]
  },
  {
   "cell_type": "code",
   "execution_count": 6,
   "id": "74e6457a",
   "metadata": {},
   "outputs": [],
   "source": [
    "start_date = datetime.date(start_year,start_month,start_day)\n",
    "end_date = datetime.date(end_year,end_month,end_day)\n",
    "ee_start_date = f'{start_year}-{start_month}-{start_day}'\n",
    "ee_end_date = f'{end_year}-{end_month}-{end_day}'"
   ]
  },
  {
   "cell_type": "code",
   "execution_count": 7,
   "id": "32a5cce4",
   "metadata": {},
   "outputs": [],
   "source": [
    "dates_list = get_dates_list(start_date ,end_date, time_delta)"
   ]
  },
  {
   "cell_type": "code",
   "execution_count": 8,
   "id": "64b786ac",
   "metadata": {},
   "outputs": [],
   "source": [
    "SAR = ee.ImageCollection('COPERNICUS/S1_GRD')\\\n",
    "    .filter(ee.Filter.eq('instrumentMode', 'IW'))\\\n",
    "    .filter(ee.Filter.eq('orbitProperties_pass', 'DESCENDING'))\\\n",
    "    .filter(ee.Filter.listContains('transmitterReceiverPolarisation', 'VH'))\\\n",
    "    .filter(ee.Filter.listContains('transmitterReceiverPolarisation', 'VV'))\\\n",
    "    .filter(ee.Filter.eq('resolution_meters',10))\\\n",
    "    .filterBounds(aoi)\\\n",
    "    .filterDate(ee_start_date,ee_end_date)\\\n",
    "    .select(['VV','VH'])"
   ]
  },
  {
   "cell_type": "code",
   "execution_count": 9,
   "id": "7d927528",
   "metadata": {},
   "outputs": [],
   "source": [
    "SAR = SAR.map(addRatioBand)"
   ]
  },
  {
   "cell_type": "code",
   "execution_count": 10,
   "id": "4d749966",
   "metadata": {},
   "outputs": [
    {
     "ename": "SyntaxError",
     "evalue": "invalid syntax (Temp/ipykernel_10896/2822300032.py, line 1)",
     "output_type": "error",
     "traceback": [
      "\u001b[1;36m  File \u001b[1;32m\"C:\\Users\\muham\\AppData\\Local\\Temp/ipykernel_10896/2822300032.py\"\u001b[1;36m, line \u001b[1;32m1\u001b[0m\n\u001b[1;33m    Map.add_layer_widgets(SAR,{'min':[-25,-25,0],'max':[0,0,2],,'bands':['VV','VH','VV/VH']},'SAR')\u001b[0m\n\u001b[1;37m                                                               ^\u001b[0m\n\u001b[1;31mSyntaxError\u001b[0m\u001b[1;31m:\u001b[0m invalid syntax\n"
     ]
    }
   ],
   "source": [
    "Map.add_layer_widgets(SAR,{'min':[-25,-25,0],'max':[0,0,2],'bands':['VV','VH','VV/VH']},'SAR')"
   ]
  },
  {
   "cell_type": "code",
   "execution_count": null,
   "id": "97368e4a",
   "metadata": {},
   "outputs": [],
   "source": [
    "def get_images(day_date):\n",
    "    \n",
    "    start_day = ee.Date(day_date)\n",
    "    end_day = start_day.advance(time_delta,'day')\n",
    "    \n",
    "    return SAR.filterDate(start_day,end_day).reduce(ee.Reducer.median())\\\n",
    "          .set({'start_day':start_day.format('YYYY-MM-dd')})\\\n",
    "          .set({'end_day':end_day.format('YYYY-MM-dd')})"
   ]
  },
  {
   "cell_type": "code",
   "execution_count": null,
   "id": "03c863fd",
   "metadata": {},
   "outputs": [],
   "source": [
    "images = ee.List(dates_list).map(get_images)"
   ]
  },
  {
   "cell_type": "code",
   "execution_count": null,
   "id": "f77afd78",
   "metadata": {},
   "outputs": [],
   "source": [
    "collection = ee.ImageCollection.fromImages(images)"
   ]
  },
  {
   "cell_type": "code",
   "execution_count": null,
   "id": "dbf289f2",
   "metadata": {},
   "outputs": [],
   "source": [
    "videoArgs = {\n",
    "  'dimensions': 900 ,\n",
    "  'region': aoi,\n",
    "  'framesPerSecond':1,\n",
    "  'crs': 'EPSG:3857',\n",
    "  'min':-25,\n",
    "  'max':5,\n",
    "  'bands':['VV_median','VH_median','VH_median']\n",
    "  \n",
    "        }"
   ]
  },
  {
   "cell_type": "code",
   "execution_count": null,
   "id": "e1dbc7cf",
   "metadata": {},
   "outputs": [],
   "source": [
    "url = collection.getVideoThumbURL(videoArgs)"
   ]
  },
  {
   "cell_type": "code",
   "execution_count": null,
   "id": "e6548dce",
   "metadata": {},
   "outputs": [],
   "source": [
    "out_gif = get_gif(url)"
   ]
  },
  {
   "cell_type": "code",
   "execution_count": null,
   "id": "18f12bd8",
   "metadata": {},
   "outputs": [],
   "source": [
    "add_text_to_gif(out_gif,dates_list, dates_font_size = 25, dates_font_color = 'black', framesPerSecond = 1 )"
   ]
  },
  {
   "cell_type": "code",
   "execution_count": null,
   "id": "3980a02f",
   "metadata": {},
   "outputs": [],
   "source": [
    "display_gif(out_gif)"
   ]
  },
  {
   "cell_type": "code",
   "execution_count": null,
   "id": "67881b44",
   "metadata": {},
   "outputs": [],
   "source": [
    "#x = [string_to_datetime(date) for date in images_dates [62:] ]"
   ]
  },
  {
   "cell_type": "code",
   "execution_count": null,
   "id": "7b69efaf",
   "metadata": {},
   "outputs": [],
   "source": [
    "# empty_date = '2020-12-14'"
   ]
  },
  {
   "cell_type": "code",
   "execution_count": null,
   "id": "9cd7e4d5",
   "metadata": {},
   "outputs": [],
   "source": [
    "# def string_to_datetime(string_date):\n",
    "#     year = int(string_date.split('-')[0])\n",
    "#     month = int(string_date.split('-')[1])\n",
    "#     day = int(string_date.split('-')[2])\n",
    "    \n",
    "#     d_date = datetime.date(year,month,day)\n",
    "    \n",
    "#     return d_date\n",
    "    \n",
    "    "
   ]
  },
  {
   "cell_type": "code",
   "execution_count": null,
   "id": "f54a1027",
   "metadata": {},
   "outputs": [],
   "source": [
    "# def nearest(items, pivot):\n",
    "#     return min(items, key=lambda x: abs(x - pivot))"
   ]
  },
  {
   "cell_type": "code",
   "execution_count": null,
   "id": "8db96e77",
   "metadata": {},
   "outputs": [],
   "source": [
    "#nearest(x,string_to_datetime(empty_date))"
   ]
  },
  {
   "cell_type": "code",
   "execution_count": null,
   "id": "46b8c4ea",
   "metadata": {},
   "outputs": [],
   "source": []
  }
 ],
 "metadata": {
  "hide_input": false,
  "kernelspec": {
   "display_name": "Python 3 (ipykernel)",
   "language": "python",
   "name": "python3"
  },
  "language_info": {
   "codemirror_mode": {
    "name": "ipython",
    "version": 3
   },
   "file_extension": ".py",
   "mimetype": "text/x-python",
   "name": "python",
   "nbconvert_exporter": "python",
   "pygments_lexer": "ipython3",
   "version": "3.9.10"
  },
  "toc": {
   "base_numbering": 1,
   "nav_menu": {},
   "number_sections": true,
   "sideBar": true,
   "skip_h1_title": false,
   "title_cell": "Table of Contents",
   "title_sidebar": "Contents",
   "toc_cell": false,
   "toc_position": {},
   "toc_section_display": true,
   "toc_window_display": false
  }
 },
 "nbformat": 4,
 "nbformat_minor": 5
}
