{
 "cells": [
  {
   "cell_type": "code",
   "execution_count": 1,
   "id": "94efba41",
   "metadata": {},
   "outputs": [],
   "source": [
    "import ee\n",
    "ee.Initialize()\n",
    "from iteru import *\n",
    "from IPython.display import display\n",
    "import ipywidgets\n",
    "import datetime"
   ]
  },
  {
   "cell_type": "code",
   "execution_count": 2,
   "id": "299f4687",
   "metadata": {},
   "outputs": [
    {
     "data": {
      "application/vnd.jupyter.widget-view+json": {
       "model_id": "d341209e786441d1abfdcf20b84dc0e7",
       "version_major": 2,
       "version_minor": 0
      },
      "text/plain": [
       "Map(center=[27, 31], controls=(AttributionControl(options=['position', 'prefix'], position='bottomright'), Sea…"
      ]
     },
     "metadata": {},
     "output_type": "display_data"
    }
   ],
   "source": [
    "Map = Map()\n",
    "Map"
   ]
  },
  {
   "cell_type": "code",
   "execution_count": null,
   "id": "89dc34ed",
   "metadata": {},
   "outputs": [],
   "source": [
    "aoi = Map.aoi"
   ]
  },
  {
   "cell_type": "code",
   "execution_count": null,
   "id": "3e038715",
   "metadata": {},
   "outputs": [],
   "source": [
    "dataset = ee.ImageCollection('JAXA/ALOS/AW3D30/V3_2')\\\n",
    "           .filter(ee.Filter.bounds(aoi))\\\n",
    "           .select('DSM')\\\n",
    "           .median()\\\n",
    "           .clip(aoi)"
   ]
  },
  {
   "cell_type": "code",
   "execution_count": null,
   "id": "d6dafd6a",
   "metadata": {},
   "outputs": [],
   "source": [
    "demvis = {'min':488,'max':1863,'palette':['0000ff', '00ffff', 'ffff00', 'ff0000', 'ffffff']\n",
    "}"
   ]
  },
  {
   "cell_type": "code",
   "execution_count": null,
   "id": "3c97eadc",
   "metadata": {},
   "outputs": [],
   "source": [
    "Map.add_layer_widgets(dataset,demvis,'GRED_DEM')"
   ]
  },
  {
   "cell_type": "code",
   "execution_count": null,
   "id": "91d1a28e",
   "metadata": {},
   "outputs": [],
   "source": [
    "S2 = ee.ImageCollection(\"COPERNICUS/S2_SR\")\\\n",
    "     .filter(ee.Filter.bounds(aoi))\\\n",
    "     .filter(ee.Filter.date('2020-01-01','2020-02-1'))\\\n",
    "     .filter(ee.Filter.lt('CLOUDY_PIXEL_PERCENTAGE',10))"
   ]
  },
  {
   "cell_type": "code",
   "execution_count": null,
   "id": "d0bd3b74",
   "metadata": {},
   "outputs": [],
   "source": [
    "S2.size().getInfo()"
   ]
  },
  {
   "cell_type": "code",
   "execution_count": null,
   "id": "31b5a895",
   "metadata": {},
   "outputs": [],
   "source": [
    "vis_param = get_vis_params(S2)"
   ]
  },
  {
   "cell_type": "code",
   "execution_count": null,
   "id": "1fc9d552",
   "metadata": {},
   "outputs": [],
   "source": [
    "S2_median = S2.median().clip(aoi)"
   ]
  },
  {
   "cell_type": "code",
   "execution_count": null,
   "id": "6c2cb268",
   "metadata": {},
   "outputs": [],
   "source": [
    "Map.add_layer_widgets(S2_median,vis_param,'S2_Median')"
   ]
  },
  {
   "cell_type": "code",
   "execution_count": null,
   "id": "35cd9a7f",
   "metadata": {},
   "outputs": [],
   "source": [
    "awei = S2_median.expression(\n",
    "    '4*(GREEN - SWIR1) - (0.25*NIR + 2.75*SWIR2)', {\n",
    "      'GREEN': S2_median.select('B3').multiply(0.0001),\n",
    "      'NIR': S2_median.select('B8').multiply(0.0001),\n",
    "      'SWIR1': S2_median.select('B11').multiply(0.0001),\n",
    "      'SWIR2': S2_median.select('B12').multiply(0.0001),\n",
    "\n",
    "}).rename('awei')"
   ]
  },
  {
   "cell_type": "code",
   "execution_count": null,
   "id": "20126d38",
   "metadata": {},
   "outputs": [],
   "source": [
    "aweimasked = awei.updateMask(awei.gte(-0.3))"
   ]
  },
  {
   "cell_type": "code",
   "execution_count": null,
   "id": "020e090b",
   "metadata": {},
   "outputs": [],
   "source": [
    "Map.add_layer_widgets(aweimasked,{'min':0,'max':0.5,'palette': ['00FFFF', '0000FF']},'AWEI')"
   ]
  },
  {
   "cell_type": "code",
   "execution_count": null,
   "id": "f1863af4",
   "metadata": {},
   "outputs": [],
   "source": [
    "lake_dem = dataset.updateMask(awei.gte(-0.3))"
   ]
  },
  {
   "cell_type": "code",
   "execution_count": null,
   "id": "2b252434",
   "metadata": {},
   "outputs": [],
   "source": [
    "Map.add_layer_widgets(lake_dem,demvis,'Lake DEM')"
   ]
  },
  {
   "cell_type": "code",
   "execution_count": null,
   "id": "9acb9116",
   "metadata": {},
   "outputs": [],
   "source": [
    "ele = lake_dem.reduceRegion(\n",
    "                         reducer = ee.Reducer.max(),\n",
    "                         geometry = aoi, \n",
    "                         scale = 10, \n",
    "                        maxPixels = 1e10)"
   ]
  },
  {
   "cell_type": "code",
   "execution_count": null,
   "id": "d64c7e50",
   "metadata": {},
   "outputs": [],
   "source": [
    "ele.getInfo()"
   ]
  }
 ],
 "metadata": {
  "hide_input": false,
  "kernelspec": {
   "display_name": "Python 3 (ipykernel)",
   "language": "python",
   "name": "python3"
  },
  "language_info": {
   "codemirror_mode": {
    "name": "ipython",
    "version": 3
   },
   "file_extension": ".py",
   "mimetype": "text/x-python",
   "name": "python",
   "nbconvert_exporter": "python",
   "pygments_lexer": "ipython3",
   "version": "3.9.7"
  },
  "toc": {
   "base_numbering": 1,
   "nav_menu": {},
   "number_sections": true,
   "sideBar": true,
   "skip_h1_title": false,
   "title_cell": "Table of Contents",
   "title_sidebar": "Contents",
   "toc_cell": false,
   "toc_position": {},
   "toc_section_display": true,
   "toc_window_display": false
  }
 },
 "nbformat": 4,
 "nbformat_minor": 5
}
