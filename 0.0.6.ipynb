{
 "cells": [
  {
   "cell_type": "markdown",
   "id": "523b4811",
   "metadata": {},
   "source": [
    "# Sentinel-2 Time-Series Visualization Using Google Earth Engine"
   ]
  },
  {
   "cell_type": "markdown",
   "id": "9109689c",
   "metadata": {},
   "source": [
    "## Introduction "
   ]
  },
  {
   "cell_type": "markdown",
   "id": "5d4b78ae",
   "metadata": {},
   "source": [
    "Google Earth Engine is a geospatial processing service. With Earth Engine, geospatial processing can be performed at  global scale, powered by Google Cloud Platform. The purpose of Earth Engine is to serve as cloud-based raster computing for remote sensing analysis which removes barriers and limitation related to data hosting and storage, imagery access and availability, and personal computing capabilities. Also, GEE provides an interactive platform for geospatial algorithm development at global scale, enables high-impact, data-driven science, and make substantive progress on global challenges that involve large geospatial datasets. "
   ]
  },
  {
   "cell_type": "markdown",
   "id": "3dd069e4",
   "metadata": {},
   "source": [
    "## Uses of GEE for satellite imagery analysis include:"
   ]
  },
  {
   "cell_type": "markdown",
   "id": "49234740",
   "metadata": {},
   "source": [
    "1. Automation of data processing and display\n",
    "2. Near real-time monitoring (limited by the availability of data in the catalog)\n",
    "3. Machine learning algorithm application\n",
    "4. Graphical User Interface implementation\n",
    "5. Investigating Time Series of Satellite Imagery\n"
   ]
  },
  {
   "cell_type": "markdown",
   "id": "d5d69968",
   "metadata": {},
   "source": [
    "## Google Earth Engine Objects "
   ]
  },
  {
   "cell_type": "markdown",
   "id": "381fd4f5",
   "metadata": {},
   "source": [
    "The Earth Engine API is composed of objects and methods. Objects represent data types such as raster images, vector features, numbers, and strings. Each of these objects belongs to a specific class, and each class has a strict set of functions available to it."
   ]
  },
  {
   "cell_type": "markdown",
   "id": "9aca72ea",
   "metadata": {},
   "source": [
    "1. Image ( raster data are represented as Image objects in Earth Engine. Images are composed of one or more bands and each band has its own name, data type, scale, mask and projection. Each image has metadata stored as a set of properties)\n",
    "\n",
    "\n",
    "2. ImageCollection (a stack or sequence of images) \n",
    "\n",
    "\n",
    "3. Geometry (Earth Engine handles vector data with the Geometry type  including Point (a list of coordinates in some projection), LineString (a list of points), LinearRing (a closed LineString), and Polygon (a list of LinearRings where the first is a shell and subsequent rings are holes). Earth Engine also supports MultiPoint, MultiLineString, and MultiPolygon) \n",
    "\n",
    "4. Feature (a Feature is an object with a geometry property storing a Geometry object (or null) and a properties property storing a dictionary of other properties)\n",
    "\n",
    "\n",
    "4. FeatureCollection (Groups of related features can be combined)\n",
    "\n",
    "\n",
    "5. Reducers (the way to aggregate data over time, space, bands, arrays and other data structures in Earth Engine)\n",
    "\n",
    "\n",
    "6. Join (used to combine elements from different collections (e.g. ImageCollection or FeatureCollection) based on a condition)"
   ]
  },
  {
   "cell_type": "markdown",
   "id": "4e6df6b9",
   "metadata": {},
   "source": [
    "## \tSatellite Time Series"
   ]
  },
  {
   "cell_type": "markdown",
   "id": "e2644760",
   "metadata": {},
   "source": [
    "The ability to identify changes over time has changed because of the availability of long-term satellite\n",
    "data sets such as Landsat (30+ years)  and MODIS (18 years), increased computing power and\n",
    "cloud computing, and improved processing methods.\n"
   ]
  },
  {
   "cell_type": "markdown",
   "id": "80d22732",
   "metadata": {},
   "source": [
    "### Types of Satellite Time Series"
   ]
  },
  {
   "cell_type": "markdown",
   "id": "b35541e6",
   "metadata": {},
   "source": [
    "1. Annual Trends (annual land cover/land use changes over long time periods )\n",
    "\n",
    "\n",
    "2. Seasonal Trends (which is driven by annual temperature and/or precipitation )\n",
    "\n",
    "\n",
    "3. Gradual Changes (land degradation and forest recovery)\n",
    "\n",
    "\n",
    "4. Abrupt Changes (as wildfire, deforestation, and urban development)\n",
    "\n",
    "\n",
    "5. Anomilies (which refers to relative difference from a long-term average such as FAO global NDVI anomalies)"
   ]
  },
  {
   "cell_type": "markdown",
   "id": "1eaa743d",
   "metadata": {},
   "source": [
    "## Sentinel Time-Series Visualization Workflow"
   ]
  },
  {
   "cell_type": "markdown",
   "id": "9f3a9551",
   "metadata": {},
   "source": [
    "### \tImportin Google Earth Engine Package (python API)"
   ]
  },
  {
   "cell_type": "code",
   "execution_count": 1,
   "id": "906c7aa4",
   "metadata": {},
   "outputs": [],
   "source": [
    "import ee\n",
    "ee.Initialize()\n",
    "from iteru import *\n",
    "from IPython.display import display\n",
    "import ipywidgets\n",
    "import requests\n",
    "import os"
   ]
  },
  {
   "cell_type": "markdown",
   "id": "8db93959",
   "metadata": {},
   "source": [
    "### Creating an interactive map using ipyleaflet"
   ]
  },
  {
   "cell_type": "code",
   "execution_count": 2,
   "id": "4dedaf7e",
   "metadata": {},
   "outputs": [
    {
     "data": {
      "application/vnd.jupyter.widget-view+json": {
<<<<<<< HEAD
       "model_id": "2d472b7d95dc4f8783b7c4c3d61ada65",
=======
       "model_id": "d7ddcb06e73a4a80b879b121f28438f1",
>>>>>>> 915c1f9ffd34c56ecb65c1ec0908638157effb80
       "version_major": 2,
       "version_minor": 0
      },
      "text/plain": [
       "Map(center=[27, 31], controls=(AttributionControl(options=['position', 'prefix'], position='bottomright'), Sea…"
      ]
     },
     "metadata": {},
     "output_type": "display_data"
    }
   ],
   "source": [
    "Map = Map()\n",
    "Map"
   ]
  },
  {
   "cell_type": "markdown",
   "id": "f95d6fb3",
   "metadata": {},
   "source": [
    "### Defining The variables to get the required image dates "
   ]
  },
  {
   "cell_type": "code",
<<<<<<< HEAD
   "execution_count": 42,
=======
   "execution_count": 259,
>>>>>>> 915c1f9ffd34c56ecb65c1ec0908638157effb80
   "id": "c3b0ee5d",
   "metadata": {},
   "outputs": [],
   "source": [
    "start_year = 2018\n",
    "start_month = 5\n",
    "start_day = 1\n",
    "end_year = 2022\n",
    "end_month = 1\n",
    "end_day =  1\n",
    "time_delta = 30"
   ]
  },
  {
   "cell_type": "code",
<<<<<<< HEAD
   "execution_count": 43,
=======
   "execution_count": 260,
>>>>>>> 915c1f9ffd34c56ecb65c1ec0908638157effb80
   "id": "6919640b",
   "metadata": {},
   "outputs": [],
   "source": [
    "start_date = datetime.date(start_year,start_month,start_day)\n",
    "end_date = datetime.date(end_year,end_month,end_day)"
   ]
  },
  {
   "cell_type": "code",
<<<<<<< HEAD
   "execution_count": 44,
=======
   "execution_count": 261,
>>>>>>> 915c1f9ffd34c56ecb65c1ec0908638157effb80
   "id": "657b2587",
   "metadata": {},
   "outputs": [],
   "source": [
    "dates_list = get_dates_list(start_date ,end_date, time_delta)"
   ]
  },
  {
   "cell_type": "markdown",
   "id": "4fb71001",
   "metadata": {},
   "source": [
    "### Defining the area of interest "
   ]
  },
  {
   "cell_type": "code",
<<<<<<< HEAD
   "execution_count": 45,
=======
   "execution_count": 262,
>>>>>>> 915c1f9ffd34c56ecb65c1ec0908638157effb80
   "id": "7adab668",
   "metadata": {},
   "outputs": [],
   "source": [
    "aoi = Map.aoi"
   ]
  },
  {
   "cell_type": "markdown",
   "id": "19e43d43",
   "metadata": {},
   "source": [
    "### \tDefining the Images Collection to The Time Series Analysis "
   ]
  },
  {
   "cell_type": "code",
<<<<<<< HEAD
   "execution_count": 46,
=======
   "execution_count": 263,
>>>>>>> 915c1f9ffd34c56ecb65c1ec0908638157effb80
   "id": "04984608",
   "metadata": {},
   "outputs": [],
   "source": [
    "col1 = ee.ImageCollection(\"COPERNICUS/S2\")\n",
    "col2 = ee.ImageCollection(\"COPERNICUS/S2_SR\")"
   ]
  },
  {
   "cell_type": "markdown",
   "id": "e621cbba",
   "metadata": {},
   "source": [
    "### \tSentinel Image collection preprocessing "
   ]
  },
  {
   "cell_type": "code",
<<<<<<< HEAD
   "execution_count": 47,
=======
   "execution_count": 264,
>>>>>>> 915c1f9ffd34c56ecb65c1ec0908638157effb80
   "id": "8a2f8294",
   "metadata": {},
   "outputs": [],
   "source": [
    "def rename_bands(img):\n",
    "    return img.select([\"B2\", \"B3\", \"B4\", \"B5\", \"B6\", \"B7\", \"B8\", \"B8A\", \"B11\", \"B12\", \"QA60\"],\n",
    "                      [\"Blue\",\"Green\",\"Red\",\"Red Edge 1\",\n",
    "                       \"Red Edge 2\",\"Red Edge 3\",\"NIR\",\"Red Edge 4\",\"SWIR1\",\"SWIR2\",\"QA60\",])"
   ]
  },
  {
   "cell_type": "code",
<<<<<<< HEAD
   "execution_count": 48,
=======
   "execution_count": 265,
>>>>>>> 915c1f9ffd34c56ecb65c1ec0908638157effb80
   "id": "8332d1ea",
   "metadata": {},
   "outputs": [],
   "source": [
    " def fmask(img):\n",
    "        cloudOpaqueBitMask = 1 << 10\n",
    "        cloudCirrusBitMask = 1 << 11\n",
    "        qa = img.select(\"QA60\")\n",
    "        mask = (\n",
    "            qa.bitwiseAnd(cloudOpaqueBitMask)\n",
    "            .eq(0)\n",
    "            .And(qa.bitwiseAnd(cloudCirrusBitMask).eq(0))\n",
    "        )\n",
    "        return img.updateMask(mask)"
   ]
  },
  {
   "cell_type": "code",
<<<<<<< HEAD
   "execution_count": 49,
=======
   "execution_count": 266,
>>>>>>> 915c1f9ffd34c56ecb65c1ec0908638157effb80
   "id": "9302df93",
   "metadata": {},
   "outputs": [],
   "source": [
    "def prepare_images(img):\n",
    "    img = rename_bands(img)\n",
    "    if fmask:\n",
    "        pass\n",
    "        #img = fmask(img)\n",
    "    return ee.Image(img)"
   ]
  },
  {
   "cell_type": "markdown",
   "id": "f2af6260",
   "metadata": {},
   "source": [
    "### Filter the images collection by the days’ dates calculated before "
   ]
  },
  {
   "cell_type": "code",
<<<<<<< HEAD
   "execution_count": 50,
=======
   "execution_count": 267,
>>>>>>> 915c1f9ffd34c56ecb65c1ec0908638157effb80
   "id": "cae3fc5f",
   "metadata": {},
   "outputs": [],
   "source": [
    "col1 = col1.filterBounds(aoi).map(prepare_images)\n",
    "col2 = col2.filterBounds(aoi).map(prepare_images)\n",
    "col = col1.merge(col2)"
   ]
  },
  {
   "cell_type": "code",
<<<<<<< HEAD
   "execution_count": 51,
=======
   "execution_count": 268,
>>>>>>> 915c1f9ffd34c56ecb65c1ec0908638157effb80
   "id": "3af5b465",
   "metadata": {},
   "outputs": [],
   "source": [
    "def get_images(day_date):\n",
    "    \n",
    "    start_day = ee.Date(day_date)\n",
    "    end_day = start_day.advance(time_delta,'day')\n",
    "    \n",
    "    return col.filterDate(start_day,end_day).reduce(ee.Reducer.median())"
   ]
  },
  {
   "cell_type": "code",
<<<<<<< HEAD
   "execution_count": 52,
=======
   "execution_count": 269,
>>>>>>> 915c1f9ffd34c56ecb65c1ec0908638157effb80
   "id": "8ef94407",
   "metadata": {},
   "outputs": [],
   "source": [
    "images = ee.List(dates_list).map(get_images)"
   ]
  },
  {
   "cell_type": "code",
<<<<<<< HEAD
   "execution_count": 53,
=======
   "execution_count": 270,
>>>>>>> 915c1f9ffd34c56ecb65c1ec0908638157effb80
   "id": "9efd8d28",
   "metadata": {},
   "outputs": [],
   "source": [
    "collection = ee.ImageCollection.fromImages(images)"
   ]
  },
  {
   "cell_type": "markdown",
   "id": "7edd2e05",
   "metadata": {},
   "source": [
    "### Set the visualization parameter for the gif/video will be generated  and requesting it"
   ]
  },
  {
   "cell_type": "code",
<<<<<<< HEAD
   "execution_count": 54,
=======
   "execution_count": 271,
>>>>>>> 915c1f9ffd34c56ecb65c1ec0908638157effb80
   "id": "1bd037c5",
   "metadata": {},
   "outputs": [],
   "source": [
    "videoArgs = {\n",
    "  'dimensions': 800,\n",
    "  'region': aoi,\n",
    "  'framesPerSecond': 3,\n",
    "  'crs': 'EPSG:3857',\n",
    "  'min': 0,\n",
    "  'max': 3500,\n",
    "  'bands':['Red_median','Green_median','Blue_median']\n",
    "}"
   ]
  },
  {
   "cell_type": "code",
<<<<<<< HEAD
   "execution_count": 55,
=======
   "execution_count": 272,
>>>>>>> 915c1f9ffd34c56ecb65c1ec0908638157effb80
   "id": "d3c3daf8",
   "metadata": {},
   "outputs": [],
   "source": [
    "url = collection.getVideoThumbURL(videoArgs)"
   ]
  },
  {
   "cell_type": "code",
<<<<<<< HEAD
   "execution_count": 56,
=======
   "execution_count": 273,
>>>>>>> 915c1f9ffd34c56ecb65c1ec0908638157effb80
   "id": "81e61a75",
   "metadata": {},
   "outputs": [],
   "source": [
    "r = requests.get(url, stream=True)"
   ]
  },
  {
   "cell_type": "markdown",
   "id": "2b3e84b3",
   "metadata": {},
   "source": [
    "### Generation random name for the file, set its location, writing it"
   ]
  },
  {
   "cell_type": "code",
<<<<<<< HEAD
   "execution_count": 57,
=======
   "execution_count": 274,
>>>>>>> 915c1f9ffd34c56ecb65c1ec0908638157effb80
   "id": "0b02fe1e",
   "metadata": {},
   "outputs": [],
   "source": [
    "def random_string(string_length=4):\n",
    "    import random\n",
    "    import string\n",
    "    letters = string.ascii_uppercase\n",
    "    return \"\".join(random.choice(letters) for i in range(string_length))"
   ]
  },
  {
   "cell_type": "code",
<<<<<<< HEAD
   "execution_count": 58,
=======
   "execution_count": 275,
>>>>>>> 915c1f9ffd34c56ecb65c1ec0908638157effb80
   "id": "4e8c1d1d",
   "metadata": {},
   "outputs": [],
   "source": [
    "out_dir = os.path.join(os.path.expanduser(\"~\"), \"Downloads\")\n",
    "filename = \"TimeSeries_\" + random_string() + \".gif\"\n",
    "out_gif = os.path.join(out_dir, filename)"
   ]
  },
  {
   "cell_type": "code",
<<<<<<< HEAD
   "execution_count": 59,
=======
   "execution_count": 276,
>>>>>>> 915c1f9ffd34c56ecb65c1ec0908638157effb80
   "id": "b26b22ac",
   "metadata": {},
   "outputs": [],
   "source": [
    "with open (out_gif,'wb') as file:\n",
    "    for chunk in r.iter_content(chunk_size=1024):\n",
    "        file.write(chunk)"
   ]
  },
  {
   "cell_type": "markdown",
   "id": "ea047f7c",
   "metadata": {},
   "source": [
    "### Add the dates text to the images "
   ]
  },
  {
   "cell_type": "code",
<<<<<<< HEAD
   "execution_count": 60,
=======
   "execution_count": 277,
>>>>>>> 915c1f9ffd34c56ecb65c1ec0908638157effb80
   "id": "cfdbd0de",
   "metadata": {},
   "outputs": [],
   "source": [
    "from PIL import Image, ImageDraw, ImageFont, ImageSequence\n",
    "import io"
   ]
  },
  {
   "cell_type": "code",
<<<<<<< HEAD
   "execution_count": 61,
=======
   "execution_count": 278,
>>>>>>> 915c1f9ffd34c56ecb65c1ec0908638157effb80
   "id": "83c86c60",
   "metadata": {},
   "outputs": [],
   "source": [
    "ximage = Image.open(out_gif)"
   ]
  },
  {
   "cell_type": "code",
<<<<<<< HEAD
   "execution_count": 62,
=======
   "execution_count": 279,
>>>>>>> 915c1f9ffd34c56ecb65c1ec0908638157effb80
   "id": "4175bd6b",
   "metadata": {},
   "outputs": [],
   "source": [
    "count = ximage.n_frames"
   ]
  },
  {
   "cell_type": "code",
<<<<<<< HEAD
   "execution_count": 63,
=======
   "execution_count": 280,
>>>>>>> 915c1f9ffd34c56ecb65c1ec0908638157effb80
   "id": "89b3f4fe",
   "metadata": {},
   "outputs": [],
   "source": [
    "W, H = ximage.size"
   ]
  },
  {
   "cell_type": "code",
<<<<<<< HEAD
   "execution_count": 64,
=======
   "execution_count": 281,
>>>>>>> 915c1f9ffd34c56ecb65c1ec0908638157effb80
   "id": "dc48d64a",
   "metadata": {},
   "outputs": [],
   "source": [
    "xy1 = (int(0.001 * W), int(0.001 * H))\n",
    "xy2 = (int(0.001 * W), int(0.95 * H))"
   ]
  },
  {
   "cell_type": "code",
<<<<<<< HEAD
   "execution_count": 65,
=======
   "execution_count": 282,
>>>>>>> 915c1f9ffd34c56ecb65c1ec0908638157effb80
   "id": "7ca60962",
   "metadata": {},
   "outputs": [],
   "source": [
    "text = dates_list\n",
    "copywrite = '©Muhammed Abdelaal, 2022'"
   ]
  },
  {
   "cell_type": "code",
<<<<<<< HEAD
   "execution_count": 66,
=======
   "execution_count": 283,
>>>>>>> 915c1f9ffd34c56ecb65c1ec0908638157effb80
   "id": "7dfc31f7",
   "metadata": {},
   "outputs": [],
   "source": [
    "frames = []"
   ]
  },
  {
   "cell_type": "code",
<<<<<<< HEAD
   "execution_count": 67,
=======
   "execution_count": 284,
>>>>>>> 915c1f9ffd34c56ecb65c1ec0908638157effb80
   "id": "64f34832",
   "metadata": {},
   "outputs": [],
   "source": [
    "font1 = ImageFont.truetype(r'C:\\Users\\muham\\Downloads\\News 705 Italic BT\\News 705 Italic BT.ttf', 25)\n",
    "font2 = ImageFont.truetype(r'C:\\Users\\muham\\Downloads\\News 705 Italic BT\\News 705 Italic BT.ttf', 15)"
   ]
  },
  {
   "cell_type": "code",
<<<<<<< HEAD
   "execution_count": 68,
=======
   "execution_count": 285,
>>>>>>> 915c1f9ffd34c56ecb65c1ec0908638157effb80
   "id": "fb871d74",
   "metadata": {},
   "outputs": [],
   "source": [
    "for index, frame in enumerate(ImageSequence.Iterator(ximage)):\n",
    "    frame = frame.convert(\"RGB\")\n",
    "    draw = ImageDraw.Draw(frame)\n",
<<<<<<< HEAD
    "    draw.text(xy1, text[index],fill =\"blue\",font = font1)\n",
    "    draw.text(xy2, copywrite,fill =\"blue\",font = font2)\n",
=======
    "    draw.text(xy1, text[index],fill =\"blue\",font = font)\n",
    "    draw.text(xy2, copywrite,fill =\"blue\",font = font)\n",
>>>>>>> 915c1f9ffd34c56ecb65c1ec0908638157effb80
    "    b = io.BytesIO()\n",
    "    frame.save(b, format=\"GIF\")\n",
    "    frame = Image.open(b)\n",
    "    frames.append(frame)\n",
    "    "
   ]
  },
  {
   "cell_type": "markdown",
   "id": "abf796de",
   "metadata": {},
   "source": [
    "### Saving the gif file "
   ]
  },
  {
   "cell_type": "code",
<<<<<<< HEAD
   "execution_count": 69,
=======
   "execution_count": 286,
>>>>>>> 915c1f9ffd34c56ecb65c1ec0908638157effb80
   "id": "cd7a41bf",
   "metadata": {},
   "outputs": [],
   "source": [
    "frames[0].save(\n",
    "            out_gif,\n",
    "            save_all=True,\n",
    "            append_images=frames[1:],\n",
    "            duration=int(1000/videoArgs['framesPerSecond']),\n",
    "            loop=0,\n",
    "            optimize=True,\n",
    "        )"
   ]
  },
  {
   "cell_type": "markdown",
   "id": "bb94e4e7",
   "metadata": {},
   "source": [
    "### Finally display the results "
   ]
  },
  {
   "cell_type": "code",
<<<<<<< HEAD
   "execution_count": 70,
=======
   "execution_count": 287,
>>>>>>> 915c1f9ffd34c56ecb65c1ec0908638157effb80
   "id": "979acb3c",
   "metadata": {},
   "outputs": [
    {
     "data": {
      "application/vnd.jupyter.widget-view+json": {
<<<<<<< HEAD
       "model_id": "3eb80e0ef2284f5fbab6fc32e5b2a991",
=======
       "model_id": "b580e5b0114e418f93913d51ffec1169",
>>>>>>> 915c1f9ffd34c56ecb65c1ec0908638157effb80
       "version_major": 2,
       "version_minor": 0
      },
      "text/plain": [
       "Output()"
      ]
     },
     "metadata": {},
     "output_type": "display_data"
    }
   ],
   "source": [
    "out = Output()\n",
    "out.clear_output(wait=True)\n",
    "display(out)\n",
    "with out:\n",
    "    with open(out_gif,'rb') as file:\n",
    "        image = file.read()\n",
    "    display(ipywidgets.Image(value=image))    "
   ]
  },
  {
   "cell_type": "code",
   "execution_count": null,
   "id": "7cbdb7c0",
   "metadata": {},
   "outputs": [],
   "source": []
  }
 ],
 "metadata": {
  "hide_input": false,
  "kernelspec": {
   "display_name": "Python 3 (ipykernel)",
   "language": "python",
   "name": "python3"
  },
  "language_info": {
   "codemirror_mode": {
    "name": "ipython",
    "version": 3
   },
   "file_extension": ".py",
   "mimetype": "text/x-python",
   "name": "python",
   "nbconvert_exporter": "python",
   "pygments_lexer": "ipython3",
   "version": "3.9.7"
  },
  "toc": {
   "base_numbering": 1,
   "nav_menu": {},
   "number_sections": true,
   "sideBar": true,
   "skip_h1_title": false,
   "title_cell": "Table of Contents",
   "title_sidebar": "Contents",
   "toc_cell": false,
   "toc_position": {},
   "toc_section_display": true,
   "toc_window_display": false
  }
 },
 "nbformat": 4,
 "nbformat_minor": 5
}
