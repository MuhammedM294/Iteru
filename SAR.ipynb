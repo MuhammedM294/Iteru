{
 "cells": [
  {
   "cell_type": "code",
   "execution_count": 1,
   "id": "ed6c67d9",
   "metadata": {},
   "outputs": [],
   "source": [
    "import ee\n",
    "ee.Initialize ()"
   ]
  },
  {
   "cell_type": "code",
   "execution_count": 2,
   "id": "28ab0d59",
   "metadata": {},
   "outputs": [],
   "source": [
    "from iteru import *\n",
    "from IPython.display import display\n",
    "import ipywidgets\n",
    "import datetime"
   ]
  },
  {
   "cell_type": "code",
   "execution_count": 3,
   "id": "cbdca43a",
   "metadata": {},
   "outputs": [
    {
     "data": {
      "application/vnd.jupyter.widget-view+json": {
       "model_id": "b57995184e054ed89356fbb84d360652",
       "version_major": 2,
       "version_minor": 0
      },
      "text/plain": [
       "Map(center=[27, 31], controls=(AttributionControl(options=['position', 'prefix'], position='bottomright'), Sea…"
      ]
     },
     "metadata": {},
     "output_type": "display_data"
    }
   ],
   "source": [
    "Map = Map()\n",
    "Map"
   ]
  },
  {
   "cell_type": "code",
   "execution_count": 100,
   "id": "135d2776",
   "metadata": {},
   "outputs": [],
   "source": [
    "aoi = Map.aoi"
   ]
  },
  {
   "cell_type": "code",
   "execution_count": 101,
   "id": "d6b070d0",
   "metadata": {},
   "outputs": [],
   "source": [
    "start_year = 2020\n",
    "start_month = 6\n",
    "start_day = 1\n",
    "end_year = 2022\n",
    "end_month = 2\n",
    "end_day = 23\n",
    "time_delta = 20\n",
    "water_threshold = -16"
   ]
  },
  {
   "cell_type": "code",
   "execution_count": 102,
   "id": "74e6457a",
   "metadata": {},
   "outputs": [],
   "source": [
    "start_date = datetime.date(start_year,start_month,start_day)\n",
    "end_date = datetime.date(end_year,end_month,end_day)\n",
    "ee_start_date = f'{start_year}-{start_month}-{start_day}'\n",
    "ee_end_date = f'{end_year}-{end_month}-{end_day}'"
   ]
  },
  {
   "cell_type": "code",
   "execution_count": 103,
   "id": "32a5cce4",
   "metadata": {},
   "outputs": [],
   "source": [
    "dates_list = get_dates_list(start_date ,end_date, time_delta)"
   ]
  },
  {
   "cell_type": "code",
   "execution_count": 104,
   "id": "64b786ac",
   "metadata": {},
   "outputs": [],
   "source": [
    "SAR = ee.ImageCollection('COPERNICUS/S1_GRD')\\\n",
    "    .filter(ee.Filter.eq('instrumentMode', 'IW'))\\\n",
    "    .filter(ee.Filter.eq('orbitProperties_pass', 'DESCENDING'))\\\n",
    "    .filter(ee.Filter.listContains('transmitterReceiverPolarisation', 'VH'))\\\n",
    "    .filter(ee.Filter.listContains('transmitterReceiverPolarisation', 'VV'))\\\n",
    "    .filter(ee.Filter.eq('resolution_meters',10))\\\n",
    "    .filterBounds(aoi)\\\n",
    "    .filterDate(ee_start_date,ee_end_date)\\\n",
    "    .select(['VV','VH'])"
   ]
  },
  {
   "cell_type": "code",
   "execution_count": 105,
   "id": "728aafbe",
   "metadata": {},
   "outputs": [],
   "source": [
    "SAR = SAR.map(addRatioBand)"
   ]
  },
  {
   "cell_type": "code",
   "execution_count": 106,
   "id": "52c4b64b",
   "metadata": {},
   "outputs": [],
   "source": [
    "def filterSpeckles(img):\n",
    "    \n",
    "    VV_smooth = img.select('VV').focal_median(100,'circle','meters').rename('VV_Filtered')\n",
    "    \n",
    "    return img.addBands(VV_smooth)"
   ]
  },
  {
   "cell_type": "code",
   "execution_count": 107,
   "id": "eb7b2896",
   "metadata": {},
   "outputs": [],
   "source": [
    "SAR = SAR.map(filterSpeckles)"
   ]
  },
  {
   "cell_type": "code",
   "execution_count": 108,
   "id": "4adc8ccd",
   "metadata": {},
   "outputs": [],
   "source": [
    "def water_classify(img):\n",
    "    vv  = img.select('VV_Filtered')\n",
    "    #vv  = img.select('VH')\n",
    "    water = vv.lt(water_threshold).rename('Water')\n",
    "    water = water.updateMask(water)\n",
    " \n",
    "    return img.addBands([water])"
   ]
  },
  {
   "cell_type": "code",
   "execution_count": 109,
   "id": "8033c018",
   "metadata": {},
   "outputs": [],
   "source": [
    "SAR = SAR.map(water_classify)"
   ]
  },
  {
   "cell_type": "code",
   "execution_count": 110,
   "id": "6a9a2fa0",
   "metadata": {},
   "outputs": [],
   "source": [
    "def col_vis(img):\n",
    "    \n",
    "    img_rgb = img.visualize(**{'min':[-25,-25,0],'max':[0,0,2],'bands':['VV','VH','VV/VH']})\n",
    "    \n",
    "    water_vis = img.select('Water').visualize(**{'min': 0.5,'max': 1,'palette': ['00FFFF', '0000FF']})\n",
    "                  \n",
    "    mosaic = ee.ImageCollection([img_rgb,water_vis]).mosaic()\n",
    " \n",
    "    return mosaic.copyProperties(img, img.propertyNames())\n"
   ]
  },
  {
   "cell_type": "code",
   "execution_count": 111,
   "id": "b0618690",
   "metadata": {},
   "outputs": [],
   "source": [
    "SAR = SAR.map(col_vis)"
   ]
  },
  {
   "cell_type": "code",
   "execution_count": 112,
   "id": "5401b862",
   "metadata": {},
   "outputs": [],
   "source": [
    "# Map.add_layer_widgets(SAR,{'bands':'VV_Filtered','min':-25,'max':5},'TEST_SAR')"
   ]
  },
  {
   "cell_type": "code",
   "execution_count": 113,
   "id": "7cd66bcc",
   "metadata": {},
   "outputs": [],
   "source": [
    "#Map.add_layer_widgets(SAR,{'bands':'Water','palette': ['00FFFF', '0000FF']},'TEST_SAR')"
   ]
  },
  {
   "cell_type": "code",
   "execution_count": 114,
   "id": "4d749966",
   "metadata": {},
   "outputs": [],
   "source": [
    "#Map.add_layer_widgets(SAR,{'min':[-25,-25,0],'max':[0,0,2],'bands':['VV','VH','VV/VH']},'SAR')"
   ]
  },
  {
   "cell_type": "code",
   "execution_count": 115,
   "id": "97368e4a",
   "metadata": {},
   "outputs": [],
   "source": [
    "def get_images(day_date):\n",
    "    \n",
    "    start_day = ee.Date(day_date)\n",
    "    end_day = start_day.advance(time_delta,'day')\n",
    "    \n",
    "    return SAR.filterDate(start_day,end_day).reduce(ee.Reducer.median())\\\n",
    "          .set({'start_day':start_day.format('YYYY-MM-dd')})\\\n",
    "          .set({'end_day':end_day.format('YYYY-MM-dd')})"
   ]
  },
  {
   "cell_type": "code",
   "execution_count": 116,
   "id": "03c863fd",
   "metadata": {},
   "outputs": [],
   "source": [
    "images = ee.List(dates_list).map(get_images)"
   ]
  },
  {
   "cell_type": "code",
   "execution_count": 117,
   "id": "f77afd78",
   "metadata": {},
   "outputs": [],
   "source": [
    "collection = ee.ImageCollection.fromImages(images)"
   ]
  },
  {
   "cell_type": "code",
   "execution_count": 118,
   "id": "dbf289f2",
   "metadata": {},
   "outputs": [],
   "source": [
    "videoArgs = {\n",
    "  'dimensions': 900 ,\n",
    "  'region': aoi,\n",
    "  'framesPerSecond':2,\n",
    "  'crs': 'EPSG:3857',\n",
    "#   'min':[-25,-25,0],\n",
    "#   'max':[0,0,5],\n",
    "#   'bands':['VV_median','VH_median','VV/VH_median']\n",
    "  #'bands':['Water_median'],\n",
    "  #'palette': ['00FFFF', '0000FF']\n",
    "  'bands':['vis-red_median','vis-green_median','vis-blue_median'],\n",
    "   'min':0,\n",
    "   'max':255\n",
    "     }"
   ]
  },
  {
   "cell_type": "code",
   "execution_count": 119,
   "id": "e1dbc7cf",
   "metadata": {},
   "outputs": [],
   "source": [
    "url = collection.getVideoThumbURL(videoArgs)"
   ]
  },
  {
   "cell_type": "code",
   "execution_count": 120,
   "id": "e6548dce",
   "metadata": {},
   "outputs": [],
   "source": [
    "out_gif = get_gif(url)"
   ]
  },
  {
   "cell_type": "code",
   "execution_count": 123,
   "id": "18f12bd8",
   "metadata": {},
   "outputs": [],
   "source": [
    "add_text_to_gif(out_gif,dates_list, dates_font_size = 25, dates_font_color = 'black', framesPerSecond = 3 )"
   ]
  },
  {
   "cell_type": "code",
   "execution_count": 124,
   "id": "3980a02f",
   "metadata": {},
   "outputs": [
    {
     "data": {
      "application/vnd.jupyter.widget-view+json": {
       "model_id": "ad714d06fb064c6ebc1a145384c0f07b",
       "version_major": 2,
       "version_minor": 0
      },
      "text/plain": [
       "Output()"
      ]
     },
     "metadata": {},
     "output_type": "display_data"
    }
   ],
   "source": [
    "display_gif(out_gif)"
   ]
  },
  {
   "cell_type": "code",
   "execution_count": null,
   "id": "13313cb6",
   "metadata": {},
   "outputs": [],
   "source": []
  }
 ],
 "metadata": {
  "hide_input": false,
  "kernelspec": {
   "display_name": "Python 3 (ipykernel)",
   "language": "python",
   "name": "python3"
  },
  "language_info": {
   "codemirror_mode": {
    "name": "ipython",
    "version": 3
   },
   "file_extension": ".py",
   "mimetype": "text/x-python",
   "name": "python",
   "nbconvert_exporter": "python",
   "pygments_lexer": "ipython3",
   "version": "3.9.10"
  },
  "toc": {
   "base_numbering": 1,
   "nav_menu": {},
   "number_sections": true,
   "sideBar": true,
   "skip_h1_title": false,
   "title_cell": "Table of Contents",
   "title_sidebar": "Contents",
   "toc_cell": false,
   "toc_position": {},
   "toc_section_display": true,
   "toc_window_display": false
  }
 },
 "nbformat": 4,
 "nbformat_minor": 5
}
