{
 "cells": [
  {
   "cell_type": "code",
   "execution_count": 1,
   "id": "a1c99641",
   "metadata": {},
   "outputs": [],
   "source": [
    "import ee\n",
    "ee.Initialize()"
   ]
  },
  {
   "cell_type": "code",
   "execution_count": 2,
   "id": "94efba41",
   "metadata": {},
   "outputs": [],
   "source": [
    "from iteru import *\n",
    "from IPython.display import display\n",
    "import ipywidgets\n",
    "import datetime"
   ]
  },
  {
   "cell_type": "code",
   "execution_count": 3,
   "id": "299f4687",
   "metadata": {},
   "outputs": [
    {
     "data": {
      "application/vnd.jupyter.widget-view+json": {
       "model_id": "693ff1973a394f9fa4fdbc48f9e83979",
       "version_major": 2,
       "version_minor": 0
      },
      "text/plain": [
       "Map(center=[27, 31], controls=(AttributionControl(options=['position', 'prefix'], position='bottomright'), Sea…"
      ]
     },
     "metadata": {},
     "output_type": "display_data"
    }
   ],
   "source": [
    "Map = Map()\n",
    "Map"
   ]
  },
  {
   "cell_type": "code",
   "execution_count": 4,
   "id": "89dc34ed",
   "metadata": {},
   "outputs": [],
   "source": [
    "aoi = Map.aoi"
   ]
  },
  {
   "cell_type": "code",
   "execution_count": 5,
   "id": "d6dafd6a",
   "metadata": {},
   "outputs": [],
   "source": [
    "demvis = {'min':488,'max':1863,'palette':['0000ff', '00ffff', 'ffff00', 'ff0000', 'ffffff']\n",
    "}"
   ]
  },
  {
   "cell_type": "code",
   "execution_count": 6,
   "id": "3e038715",
   "metadata": {},
   "outputs": [],
   "source": [
    "dataset = ee.ImageCollection('JAXA/ALOS/AW3D30/V3_2')\\\n",
    "           .filter(ee.Filter.bounds(aoi))\\\n",
    "           .select('DSM')\\\n",
    "           .median()\\\n",
    "           .clip(aoi)"
   ]
  },
  {
   "cell_type": "code",
   "execution_count": 7,
   "id": "3c97eadc",
   "metadata": {},
   "outputs": [],
   "source": [
    "#Map.add_layer_widgets(dataset,demvis,'GRED_DEM')"
   ]
  },
  {
   "cell_type": "code",
   "execution_count": 8,
   "id": "91d1a28e",
   "metadata": {},
   "outputs": [],
   "source": [
    "S2 = ee.ImageCollection(\"COPERNICUS/S2_SR\")\\\n",
    "     .filter(ee.Filter.bounds(aoi))\\\n",
    "     .filter(ee.Filter.date('2022-01-01','2022-02-01'))\\\n",
    "     .filter(ee.Filter.lt('CLOUDY_PIXEL_PERCENTAGE',5))"
   ]
  },
  {
   "cell_type": "code",
   "execution_count": 9,
   "id": "3a27b91c",
   "metadata": {},
   "outputs": [
    {
     "data": {
      "text/plain": [
       "10"
      ]
     },
     "execution_count": 9,
     "metadata": {},
     "output_type": "execute_result"
    }
   ],
   "source": [
    "S2.size().getInfo()"
   ]
  },
  {
   "cell_type": "code",
   "execution_count": 10,
   "id": "31b5a895",
   "metadata": {},
   "outputs": [],
   "source": [
    "vis_param = get_vis_params(S2)"
   ]
  },
  {
   "cell_type": "code",
   "execution_count": 11,
   "id": "1fc9d552",
   "metadata": {},
   "outputs": [],
   "source": [
    "S2_median = S2.median().clip(aoi)"
   ]
  },
  {
   "cell_type": "code",
   "execution_count": 12,
   "id": "6c2cb268",
   "metadata": {},
   "outputs": [],
   "source": [
    "Map.add_layer_widgets(S2_median,vis_param,'S2_Median')"
   ]
  },
  {
   "cell_type": "code",
   "execution_count": 13,
   "id": "733935cf",
   "metadata": {},
   "outputs": [],
   "source": [
    "ndwi = S2_median.normalizedDifference(['B3', 'B8'])"
   ]
  },
  {
   "cell_type": "code",
   "execution_count": 14,
   "id": "f854cb38",
   "metadata": {},
   "outputs": [],
   "source": [
    "ndwiMasked = ndwi.updateMask(ndwi.gte(0))"
   ]
  },
  {
   "cell_type": "code",
   "execution_count": 15,
   "id": "020e090b",
   "metadata": {},
   "outputs": [],
   "source": [
    "#Map.add_layer_widgets(ndwiMasked,{'min':0,'max':0.5,'palette': ['00FFFF', '0000FF']},'NDWI')"
   ]
  },
  {
   "cell_type": "code",
   "execution_count": 16,
   "id": "b6daa216",
   "metadata": {},
   "outputs": [],
   "source": [
    "v = ee.Image(1).updateMask(ndwiMasked).reduceToVectors(\n",
    "           geometry = ndwiMasked.geometry(),\n",
    "           crs =  ndwiMasked.projection(),\n",
    "           scale = 10 , \n",
    "           geometryType = 'polygon',\n",
    "           eightConnected = False,\n",
    "           labelProperty =  'water_cover',\n",
    "           bestEffort = True\n",
    ")"
   ]
  },
  {
   "cell_type": "code",
   "execution_count": 17,
   "id": "eadf00d8",
   "metadata": {},
   "outputs": [],
   "source": [
    "def calc_area(feature):\n",
    "    area = feature.geometry().area(maxError = 1)\n",
    "    \n",
    "    return feature.set({'Area':area})"
   ]
  },
  {
   "cell_type": "code",
   "execution_count": 18,
   "id": "0e920e57",
   "metadata": {},
   "outputs": [],
   "source": [
    "v = v.map(calc_area)"
   ]
  },
  {
   "cell_type": "code",
   "execution_count": 19,
   "id": "7503deca",
   "metadata": {},
   "outputs": [],
   "source": [
    "v = ee.Feature(v.sort('Area', False).first())"
   ]
  },
  {
   "cell_type": "code",
   "execution_count": 20,
   "id": "2e1a4009",
   "metadata": {},
   "outputs": [],
   "source": [
    "Map.add_layer_widgets(v,{'color':'red'},'Vector')"
   ]
  },
  {
   "cell_type": "code",
   "execution_count": 21,
   "id": "990f1d4e",
   "metadata": {},
   "outputs": [],
   "source": [
    "lake_dem = dataset.clip(v)"
   ]
  },
  {
   "cell_type": "code",
   "execution_count": 22,
   "id": "385fdf11",
   "metadata": {},
   "outputs": [],
   "source": [
    "x = lake_dem.updateMask(lake_dem.gte(170))"
   ]
  },
  {
   "cell_type": "code",
   "execution_count": 23,
   "id": "8ed433ca",
   "metadata": {},
   "outputs": [],
   "source": [
    "Map.add_layer_widgets(x,demvis,'X')"
   ]
  },
  {
   "cell_type": "code",
   "execution_count": 24,
   "id": "32e207b5",
   "metadata": {},
   "outputs": [],
   "source": [
    "ele = lake_dem.reduceRegion(\n",
    "                         reducer = ee.Reducer.max(),\n",
    "                         geometry = lake_dem.geometry(), \n",
    "                         scale = 10, \n",
    "                        maxPixels = 1e10)"
   ]
  },
  {
   "cell_type": "code",
   "execution_count": 25,
   "id": "55a85d1e",
   "metadata": {},
   "outputs": [],
   "source": [
    "water_level = ele.getInfo()['DSM']"
   ]
  },
  {
   "cell_type": "code",
   "execution_count": 26,
   "id": "4a44a8c9",
   "metadata": {},
   "outputs": [
    {
     "data": {
      "text/plain": [
       "604"
      ]
     },
     "execution_count": 26,
     "metadata": {},
     "output_type": "execute_result"
    }
   ],
   "source": [
    "water_level"
   ]
  },
  {
   "cell_type": "code",
   "execution_count": 27,
   "id": "97ed1c46",
   "metadata": {},
   "outputs": [],
   "source": [
    "import numpy as np"
   ]
  },
  {
   "cell_type": "code",
   "execution_count": 28,
   "id": "c1852a4a",
   "metadata": {},
   "outputs": [],
   "source": [
    "#latlng = ee.Image.pixelLonLat().addBands(lake_dem)\n",
    "latlng = lake_dem.reduceRegion(reducer=ee.Reducer.toList(), geometry=v.geometry(), maxPixels=1e11, scale=30)"
   ]
  },
  {
   "cell_type": "code",
   "execution_count": 29,
   "id": "174c46b4",
   "metadata": {},
   "outputs": [],
   "source": [
    "elev_values = np.array((ee.Array(latlng.get(\"DSM\")).getInfo()),dtype=np.int64)"
   ]
  },
  {
   "cell_type": "code",
   "execution_count": 30,
   "id": "a855db67",
   "metadata": {},
   "outputs": [
    {
     "data": {
      "text/plain": [
       "430310"
      ]
     },
     "execution_count": 30,
     "metadata": {},
     "output_type": "execute_result"
    }
   ],
   "source": [
    "elev_values.size"
   ]
  },
  {
   "cell_type": "code",
   "execution_count": 40,
   "id": "4cb060ce",
   "metadata": {},
   "outputs": [],
   "source": [
    "volume = water_level - elev_values[elev_values < water_level]"
   ]
  },
  {
   "cell_type": "code",
   "execution_count": 41,
   "id": "ff7737f1",
   "metadata": {},
   "outputs": [
    {
     "data": {
      "text/plain": [
       "18.5347368"
      ]
     },
     "execution_count": 41,
     "metadata": {},
     "output_type": "execute_result"
    }
   ],
   "source": [
    "(volume.sum()*900)/1e9"
   ]
  },
  {
   "cell_type": "code",
   "execution_count": 33,
   "id": "55a6acb8",
   "metadata": {},
   "outputs": [],
   "source": [
    "url = ee.FeatureCollection(v).getDownloadURL('geojson')"
   ]
  },
  {
   "cell_type": "code",
   "execution_count": 34,
   "id": "6d4ba872",
   "metadata": {},
   "outputs": [
    {
     "name": "stdout",
     "output_type": "stream",
     "text": [
      "https://earthengine.googleapis.com/v1alpha/projects/earthengine-legacy/tables/80429ca947e91c7b30c0c28586d4eb69-741312043cd88ebe476a0efdd58b4dae:getFeatures\n"
     ]
    }
   ],
   "source": [
    "print(url)"
   ]
  },
  {
   "cell_type": "code",
   "execution_count": 36,
   "id": "dddf8a6c",
   "metadata": {},
   "outputs": [],
   "source": [
    "url2 = lake_dem.getDownloadURL({'name': 'MyPieceOfDEM', 'crs': 'EPSG:32636', 'scale': 35})"
   ]
  },
  {
   "cell_type": "code",
   "execution_count": 37,
   "id": "692ca6d4",
   "metadata": {},
   "outputs": [
    {
     "name": "stdout",
     "output_type": "stream",
     "text": [
      "https://earthengine.googleapis.com/v1alpha/projects/earthengine-legacy/thumbnails/b7a3dda2af71fc2db9aaebd76721b46f-f610c733db9acda7a2ff862321ca02c9:getPixels\n"
     ]
    }
   ],
   "source": [
    "print(url2)"
   ]
  },
  {
   "cell_type": "code",
   "execution_count": 42,
   "id": "979a7f1b",
   "metadata": {},
   "outputs": [],
   "source": [
    "SAR = ee.ImageCollection('COPERNICUS/S1_GRD')\\\n",
    "    .filter(ee.Filter.eq('instrumentMode', 'IW'))\\\n",
    "    .filter(ee.Filter.eq('orbitProperties_pass', 'DESCENDING'))\\\n",
    "    .filterBounds(aoi)\\\n",
    "    .filterDate('2022-01-01','2022-02-01')\\\n",
    "    .select(['VV','VH'])"
   ]
  },
  {
   "cell_type": "code",
   "execution_count": 47,
   "id": "2545f1cb",
   "metadata": {},
   "outputs": [],
   "source": [
    "sar = SAR.median().clip(aoi)"
   ]
  },
  {
   "cell_type": "code",
   "execution_count": 48,
   "id": "9057f44e",
   "metadata": {},
   "outputs": [],
   "source": [
    "Map.add_layer_widgets(sar.select(['VV']),{'min': -20, 'max': -7},'SAR_TEST_1')"
   ]
  },
  {
   "cell_type": "code",
   "execution_count": null,
   "id": "9ecf14d9",
   "metadata": {},
   "outputs": [],
   "source": []
  }
 ],
 "metadata": {
  "hide_input": false,
  "kernelspec": {
   "display_name": "Python 3 (ipykernel)",
   "language": "python",
   "name": "python3"
  },
  "language_info": {
   "codemirror_mode": {
    "name": "ipython",
    "version": 3
   },
   "file_extension": ".py",
   "mimetype": "text/x-python",
   "name": "python",
   "nbconvert_exporter": "python",
   "pygments_lexer": "ipython3",
   "version": "3.9.10"
  },
  "toc": {
   "base_numbering": 1,
   "nav_menu": {},
   "number_sections": true,
   "sideBar": true,
   "skip_h1_title": false,
   "title_cell": "Table of Contents",
   "title_sidebar": "Contents",
   "toc_cell": false,
   "toc_position": {},
   "toc_section_display": true,
   "toc_window_display": false
  }
 },
 "nbformat": 4,
 "nbformat_minor": 5
}
