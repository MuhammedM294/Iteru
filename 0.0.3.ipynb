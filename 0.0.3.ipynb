{
 "cells": [
  {
   "cell_type": "code",
   "execution_count": 1,
   "id": "e829d462",
   "metadata": {},
   "outputs": [],
   "source": [
    "from iteru import *\n",
    "from ipywidgets import *\n",
    "ee.Initialize()"
   ]
  },
  {
   "cell_type": "code",
   "execution_count": 2,
   "id": "623615f6",
   "metadata": {},
   "outputs": [],
   "source": [
    "map = Map()"
   ]
  },
  {
   "cell_type": "code",
   "execution_count": 3,
   "id": "ecda3baa",
   "metadata": {},
   "outputs": [],
   "source": [
    "basemaps = Dropdown(\n",
    "                     options = basemaps,\n",
    "                     value = None,\n",
    "                     description = '',\n",
    "                     description_tooltip = 'Select Basemap',\n",
    "                     layout=Layout(width='200px'),\n",
    "                     style = {'description_width': 'initial'}\n",
    "               )\n",
    "\n",
    "terrain = Dropdown(\n",
    "                     options = terrain,\n",
    "                     value = None,\n",
    "                     description = '',\n",
    "                     description_tooltip = 'GEE Terrain Dataset',\n",
    "                     layout=Layout(width='200px'),\n",
    "                     style = {'description_width': 'initial'}\n",
    "             )"
   ]
  },
  {
   "cell_type": "code",
   "execution_count": 4,
   "id": "5852286c",
   "metadata": {},
   "outputs": [],
   "source": [
    "basemaps_button = ToggleButton(\n",
    "                               value = False, \n",
    "                               tooltip = 'Basemaps',\n",
    "                               icon = 'map',\n",
    "                               layout = Layout(width = '32px', height = '28px'),\n",
    "        )\n",
    "terrain_dataset_button = ToggleButton(\n",
    "                               value = False, \n",
    "                               tooltip = 'GEE Terrain Dataset',\n",
    "                               icon = 'server',\n",
    "                               layout = Layout(width = '32px', height = '28px'),\n",
    "        )\n",
    "TOC = ToggleButton(\n",
    "                               value = False, \n",
    "                               tooltip = 'Table of Contents',\n",
    "                               icon = 'archive',\n",
    "                               layout = Layout(width = '32px', height = '28px'),\n",
    "       )"
   ]
  },
  {
   "cell_type": "code",
   "execution_count": 5,
   "id": "62421f0e",
   "metadata": {},
   "outputs": [],
   "source": [
    "basemap_tool = HBox([basemaps_button])\n",
    "terrain_dataset_tool = HBox([terrain_dataset_button])\n",
    "TOC_container = VBox([TOC])\n",
    "TOC_out = Output(layout={'border': '1px solid blue'})"
   ]
  },
  {
   "cell_type": "code",
   "execution_count": 6,
   "id": "8da6c0ae",
   "metadata": {},
   "outputs": [],
   "source": [
    "def basemap_tool_click(change):\n",
    "    if change.new:\n",
    "        basemap_tool.children = [basemaps_button,basemaps]\n",
    "    else:\n",
    "        basemap_tool.children = [basemaps_button]\n",
    "        \n",
    "        \n",
    "def terrain_tool_click(change):\n",
    "    if change.new:\n",
    "        terrain_dataset_tool.children = [terrain_dataset_button, terrain]\n",
    "    else:\n",
    "        terrain_dataset_tool.children = [terrain_dataset_button]\n",
    "        \n",
    "        \n",
    "def TOC_container_click(change):\n",
    "    if change.new:\n",
    "        TOC_container.children = [TOC,TOC_out]\n",
    "    else:\n",
    "        TOC_container.children = [TOC]      "
   ]
  },
  {
   "cell_type": "code",
   "execution_count": 7,
   "id": "1dad1026",
   "metadata": {},
   "outputs": [],
   "source": [
    "TOC.observe(TOC_container_click, names = 'value')\n",
    "basemaps_button.observe(basemap_tool_click, names = 'value')\n",
    "terrain_dataset_button.observe(terrain_tool_click, names = 'value')"
   ]
  },
  {
   "cell_type": "code",
   "execution_count": 8,
   "id": "bf622a90",
   "metadata": {},
   "outputs": [],
   "source": [
    "basemap_tool_widget = AddWidget(widget = basemap_tool, position = 'topleft')\n",
    "terrain_dataset_tool_widget = AddWidget(widget = terrain_dataset_tool, position = 'topleft')\n",
    "TOC_widget = AddWidget(widget = TOC_container, position = 'topleft')"
   ]
  },
  {
   "cell_type": "code",
   "execution_count": 9,
   "id": "934c7150",
   "metadata": {},
   "outputs": [],
   "source": [
    "map.add_control(basemap_tool_widget)\n",
    "map.add_control(terrain_dataset_tool_widget)\n",
    "map.add_control(TOC_widget )"
   ]
  },
  {
   "cell_type": "code",
   "execution_count": 10,
   "id": "ee139124",
   "metadata": {},
   "outputs": [],
   "source": [
    "def map_basemaps_widgets(change):\n",
    "    if change.new:\n",
    "            if change.new in map.layers:\n",
    "                pass\n",
    "            else:\n",
    "                layer = change.new\n",
    "                map.add_layer(layer)\n",
    "                \n",
    "                \n",
    "                close_button = Button(  \n",
    "                      value = False, \n",
    "                      tooltip = 'Remove This Layer',\n",
    "                      icon = 'window-close',\n",
    "                      layout = Layout(width = '32px', height = '28px'),   \n",
    "                )\n",
    "\n",
    "                layer_visibility = Checkbox(\n",
    "                      value = True, \n",
    "                      indent=False,\n",
    "                      layout = Layout(width = '15px')\n",
    "                )\n",
    "                \n",
    "                layer_name = Label(\n",
    "                                   value= change.new.name,\n",
    "                                   layout = Layout(width = '110px', height = '28px'),\n",
    "                                   tooltip = change.new.name\n",
    "                              )\n",
    "\n",
    "               \n",
    "                opacity = FloatSlider(\n",
    "                                      value = 1,\n",
    "                                      min = 0,  \n",
    "                                      max = 1,\n",
    "                                      step = 0.1,\n",
    "                                      indent=False,            \n",
    "                               )\n",
    "                def change_layer_visibility(show_hide):\n",
    "                    change.new.visible = show_hide \n",
    "                    \n",
    "                def change_layer_opacity(Opacity):\n",
    "                    change.new.opacity = Opacity\n",
    "                        \n",
    "                def remove_layer(b):\n",
    "                    map.remove_layer(layer)\n",
    "                    close_button.close()\n",
    "                    opacity.close()\n",
    "                    layer_name.close()\n",
    "                    layer_visibility.close()\n",
    "                    \n",
    "                opacity_slider = interactive(change_layer_opacity,Opacity = opacity)\n",
    "                \n",
    "                visibility_checkbox = interactive(change_layer_visibility,show_hide = layer_visibility)\n",
    "                \n",
    "                with TOC_out:\n",
    "                    display(HBox([layer_visibility,layer_name,opacity, close_button]))\n",
    "                \n",
    "                \n",
    "                close_button.on_click(remove_layer)\n",
    "                \n",
    "                           \n",
    "basemaps.observe(map_basemaps_widgets, names = 'value') "
   ]
  },
  {
   "cell_type": "code",
   "execution_count": 11,
   "id": "91840bd0",
   "metadata": {},
   "outputs": [],
   "source": [
    "def add_terrain(change):\n",
    "    \n",
    "    if change.new:\n",
    "        if ee_tilelayer(change.new) in map.layers:\n",
    "            pass\n",
    "        \n",
    "        else:\n",
    "            \n",
    "            layer = ee_tilelayer(change.new, name = change.new.getInfo()['id'])\n",
    "        \n",
    "            map.add_layer(layer)\n",
    "            \n",
    "            close_button = Button(  \n",
    "                                value = False, \n",
    "                                tooltip = 'Remove This Layer',\n",
    "                                icon = 'window-close',\n",
    "                                layout = Layout(width = '32px', height = '28px'),   \n",
    "                               )\n",
    "\n",
    "            layer_visibility = Checkbox(\n",
    "                               value = True, \n",
    "                               indent=False,\n",
    "                               layout = Layout(width = '15px')\n",
    "                )\n",
    "                \n",
    "            layer_name = Label(\n",
    "                                   value= change.new.getInfo()['id'],\n",
    "                                   layout = Layout(width = '110px', height = '28px'),\n",
    "                                   tooltip = change.new.getInfo()['id']\n",
    "                              )\n",
    "                \n",
    "            \n",
    "            opacity = FloatSlider(\n",
    "                                      value = 1,\n",
    "                                      min = 0,  \n",
    "                                      max = 1,\n",
    "                                      step = 0.1,\n",
    "                                      indent=False,\n",
    "                                    \n",
    "                               )\n",
    "            terrain_close_button = close_button\n",
    "            terrain_visibility  = layer_visibility \n",
    "            def change_layer_visibility(show_hide):\n",
    "                \n",
    "                layer.visible = show_hide \n",
    "                    \n",
    "            def change_layer_opacity(Opacity):\n",
    "                layer.opacity = Opacity\n",
    "                        \n",
    "            def remove_layer(b):\n",
    "                map.remove_layer(layer)\n",
    "                close_button.close()\n",
    "                opacity.close()\n",
    "                layer_name.close()\n",
    "                layer_visibility.close()\n",
    "                \n",
    "            opacity_slider = interactive(change_layer_opacity,Opacity = opacity)\n",
    "                \n",
    "            visibility_checkbox = interactive(change_layer_visibility,show_hide = layer_visibility)\n",
    "                \n",
    "            with TOC_out:\n",
    "                \n",
    "                display(HBox([layer_visibility,layer_name,opacity, close_button]))\n",
    "                   \n",
    "            close_button.on_click(remove_layer)\n",
    "terrain.observe(add_terrain , names= 'value')"
   ]
  },
  {
   "cell_type": "code",
   "execution_count": 12,
   "id": "bf7f7b7e",
   "metadata": {},
   "outputs": [
    {
     "data": {
      "application/vnd.jupyter.widget-view+json": {
       "model_id": "41480492a661405aa278c95f4e79b7bc",
       "version_major": 2,
       "version_minor": 0
      },
      "text/plain": [
       "Map(center=[27, 31], controls=(AttributionControl(options=['position', 'prefix'], position='bottomright'), Sea…"
      ]
     },
     "metadata": {},
     "output_type": "display_data"
    }
   ],
   "source": [
    "map"
   ]
  }
 ],
 "metadata": {
  "hide_input": false,
  "kernelspec": {
   "display_name": "Python 3 (ipykernel)",
   "language": "python",
   "name": "python3"
  },
  "language_info": {
   "codemirror_mode": {
    "name": "ipython",
    "version": 3
   },
   "file_extension": ".py",
   "mimetype": "text/x-python",
   "name": "python",
   "nbconvert_exporter": "python",
   "pygments_lexer": "ipython3",
   "version": "3.9.7"
  },
  "toc": {
   "base_numbering": 1,
   "nav_menu": {},
   "number_sections": true,
   "sideBar": true,
   "skip_h1_title": false,
   "title_cell": "Table of Contents",
   "title_sidebar": "Contents",
   "toc_cell": false,
   "toc_position": {},
   "toc_section_display": true,
   "toc_window_display": false
  }
 },
 "nbformat": 4,
 "nbformat_minor": 5
}
