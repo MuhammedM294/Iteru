{
 "cells": [
  {
   "cell_type": "code",
   "execution_count": 1,
   "id": "1403cfd8",
   "metadata": {},
   "outputs": [],
   "source": [
    "import ee\n",
    "ee.Initialize()"
   ]
  },
  {
   "cell_type": "code",
   "execution_count": 2,
   "id": "5ddf620f",
   "metadata": {},
   "outputs": [],
   "source": [
    "from iteru import *"
   ]
  },
  {
   "cell_type": "code",
   "execution_count": 3,
   "id": "6937d29b",
   "metadata": {},
   "outputs": [
    {
     "data": {
      "application/vnd.jupyter.widget-view+json": {
       "model_id": "189a3bfd7dea47bba215c319c2b0c67b",
       "version_major": 2,
       "version_minor": 0
      },
      "text/plain": [
       "Map(center=[27, 31], controls=(AttributionControl(options=['position', 'prefix'], position='bottomright'), Sea…"
      ]
     },
     "metadata": {},
     "output_type": "display_data"
    }
   ],
   "source": [
    "Map = Map()\n",
    "Map"
   ]
  },
  {
   "cell_type": "code",
   "execution_count": 4,
   "id": "1788e317",
   "metadata": {},
   "outputs": [],
   "source": [
    "# startYear = 2020\n",
    "# startMonth =1\n",
    "# startDay = 1\n",
    "# endYear = 2022\n",
    "# endMonth = 3\n",
    "# endDay = 12"
   ]
  },
  {
   "cell_type": "code",
   "execution_count": 5,
   "id": "eaabcc70",
   "metadata": {},
   "outputs": [],
   "source": [
    "# SAR_col= S1_SAR_col(GERD_aoi,startYear,startMonth,startDay,endYear,endMonth,endDay,temp_freq=None)"
   ]
  },
  {
   "cell_type": "code",
   "execution_count": 6,
   "id": "7c5d3355",
   "metadata": {},
   "outputs": [],
   "source": [
    "# SAR=SAR_col[0];dates_sequences = SAR_col[1]"
   ]
  },
  {
   "cell_type": "code",
   "execution_count": 7,
   "id": "fe14c635",
   "metadata": {},
   "outputs": [],
   "source": [
    "# url = SAR_timeseries_url(SAR,GERD_aoi,vis_method='rgb')"
   ]
  },
  {
   "cell_type": "code",
   "execution_count": 8,
   "id": "c498d443",
   "metadata": {},
   "outputs": [],
   "source": [
    "# out_gif = get_gif(url)\n",
    "# add_text_to_gif(out_gif,dates_sequences, dates_font_size = 25, dates_font_color = 'white', framesPerSecond = 2)\n",
    "# display_gif(out_gif)"
   ]
  },
  {
   "cell_type": "code",
   "execution_count": 9,
   "id": "33d6a24a",
   "metadata": {},
   "outputs": [],
   "source": [
    "# water_vectors = SAR.map(filterSpeckles).map(water_classify).map(water_to_vector)"
   ]
  },
  {
   "cell_type": "code",
   "execution_count": 10,
   "id": "ba3c42ed",
   "metadata": {},
   "outputs": [],
   "source": [
    "#water_area = [area /(1e6) for area in water_vectors.aggregate_array('Area').getInfo()]"
   ]
  },
  {
   "cell_type": "code",
   "execution_count": 11,
   "id": "c7142ae9",
   "metadata": {},
   "outputs": [],
   "source": [
    "# dems = water_vectors.map(max_water_ele)"
   ]
  },
  {
   "cell_type": "code",
   "execution_count": 12,
   "id": "35bde773",
   "metadata": {},
   "outputs": [],
   "source": [
    "# max_elev = [elev for elev in dems.aggregate_array('Maximum_water_elevation').getInfo()]"
   ]
  },
  {
   "cell_type": "code",
   "execution_count": 13,
   "id": "1b44dcad",
   "metadata": {},
   "outputs": [],
   "source": [
    "# volume_stats = dems.map(water_vol)"
   ]
  },
  {
   "cell_type": "code",
   "execution_count": 14,
   "id": "a2af8cb2",
   "metadata": {},
   "outputs": [],
   "source": [
    "# ele_sum = volume_stats.aggregate_array('Elevation_sum').getInfo()"
   ]
  },
  {
   "cell_type": "code",
   "execution_count": 15,
   "id": "fd20c594",
   "metadata": {},
   "outputs": [],
   "source": [
    "# pixel_num  = volume_stats.aggregate_array('Pixels_number').getInfo()"
   ]
  },
  {
   "cell_type": "code",
   "execution_count": 16,
   "id": "42a44e0a",
   "metadata": {},
   "outputs": [],
   "source": [
    "# volume = [((water_level*pixles_count-elevations_sum)*900)/(1e9) for water_level,elevations_sum , pixles_count in zip(max_elev,ele_sum,pixel_num)]"
   ]
  },
  {
   "cell_type": "code",
   "execution_count": 17,
   "id": "3daa5c8b",
   "metadata": {},
   "outputs": [],
   "source": [
    "# GERD_SAR_timelaspe(  aoi = GERD_aoi,\n",
    "#                      startYear = 2020,\n",
    "#                      startMonth = 1,\n",
    "#                      startDay = 1,\n",
    "#                      endYear = 2022,\n",
    "#                      endMonth = 3,\n",
    "#                      endDay = 10,\n",
    "#                      temp_freq=None, \n",
    "#                      vis_method = 'single_band_VH',\n",
    "#                      crs='EPSG:3857',\n",
    "#                      dimensions=1080,\n",
    "#                      dates_font_size = 20,\n",
    "#                      copywrite_font_size = 12,\n",
    "#                      dates_font_color = 'black',\n",
    "#                      copywrite_font_color = 'blue',\n",
    "#                      framesPerSecond = 2,                     \n",
    "#                     )"
   ]
  },
  {
   "cell_type": "code",
   "execution_count": 45,
   "id": "68fa6fc6",
   "metadata": {},
   "outputs": [],
   "source": [
    "# stats_dict = GERD_water_stats(  aoi=GERD_aoi,\n",
    "#                      startYear=2020,\n",
    "#                      startMonth=6,\n",
    "#                      startDay=1,\n",
    "#                      endYear=2022,\n",
    "#                      endMonth=3,\n",
    "#                      endDay=10,\n",
    "#                      temp_freq='monthly',\n",
    "#                      water_area=True,\n",
    "#                      water_level=True,\n",
    "#                      water_volume=True )"
   ]
  },
  {
   "cell_type": "code",
   "execution_count": 47,
   "id": "d5676b07",
   "metadata": {},
   "outputs": [
    {
     "data": {
      "text/plain": [
       "['2020-6-1',\n",
       " '2020-7-1',\n",
       " '2020-7-31',\n",
       " '2020-8-30',\n",
       " '2020-9-29',\n",
       " '2020-10-29',\n",
       " '2020-11-28',\n",
       " '2020-12-28',\n",
       " '2021-1-27',\n",
       " '2021-2-26',\n",
       " '2021-3-28',\n",
       " '2021-4-27',\n",
       " '2021-5-27',\n",
       " '2021-6-26',\n",
       " '2021-7-26',\n",
       " '2021-8-25',\n",
       " '2021-9-24',\n",
       " '2021-10-24',\n",
       " '2021-11-23',\n",
       " '2021-12-23',\n",
       " '2022-1-22']"
      ]
     },
     "execution_count": 47,
     "metadata": {},
     "output_type": "execute_result"
    }
   ],
   "source": [
    "stats_dict['Image_date']"
   ]
  },
  {
   "cell_type": "code",
   "execution_count": null,
   "id": "2f81c8e2",
   "metadata": {},
   "outputs": [],
   "source": []
  }
 ],
 "metadata": {
  "hide_input": false,
  "kernelspec": {
   "display_name": "Python 3 (ipykernel)",
   "language": "python",
   "name": "python3"
  },
  "language_info": {
   "codemirror_mode": {
    "name": "ipython",
    "version": 3
   },
   "file_extension": ".py",
   "mimetype": "text/x-python",
   "name": "python",
   "nbconvert_exporter": "python",
   "pygments_lexer": "ipython3",
   "version": "3.9.10"
  },
  "toc": {
   "base_numbering": 1,
   "nav_menu": {},
   "number_sections": true,
   "sideBar": true,
   "skip_h1_title": false,
   "title_cell": "Table of Contents",
   "title_sidebar": "Contents",
   "toc_cell": false,
   "toc_position": {},
   "toc_section_display": true,
   "toc_window_display": false
  }
 },
 "nbformat": 4,
 "nbformat_minor": 5
}
